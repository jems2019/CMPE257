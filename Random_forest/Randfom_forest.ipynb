{
 "cells": [
  {
   "cell_type": "markdown",
   "metadata": {},
   "source": [
    "# Wine clustering with Random Forest "
   ]
  },
  {
   "cell_type": "code",
   "execution_count": 1,
   "metadata": {},
   "outputs": [],
   "source": [
    "import pandas as pd\n",
    "import numpy as np\n",
    "import pylab as pl\n",
    "\n",
    "from sklearn import tree\n",
    "from sklearn.cluster import KMeans\n",
    "from sklearn.model_selection import train_test_split\n",
    "from sklearn.metrics import accuracy_score\n",
    "from sklearn.ensemble import RandomForestRegressor\n",
    "from sklearn.ensemble import RandomForestClassifier\n",
    "import seaborn as sns\n",
    "from sklearn import metrics\n",
    "import matplotlib.pyplot as plt\n",
    "from scipy.spatial.distance import cdist\n",
    "import warnings\n",
    "%matplotlib inline"
   ]
  },
  {
   "cell_type": "code",
   "execution_count": 2,
   "metadata": {},
   "outputs": [],
   "source": [
    "data = pd.read_csv('../data/final_wine_and_fire_data.csv')"
   ]
  },
  {
   "cell_type": "code",
   "execution_count": 3,
   "metadata": {},
   "outputs": [
    {
     "data": {
      "text/html": [
       "<div>\n",
       "<style scoped>\n",
       "    .dataframe tbody tr th:only-of-type {\n",
       "        vertical-align: middle;\n",
       "    }\n",
       "\n",
       "    .dataframe tbody tr th {\n",
       "        vertical-align: top;\n",
       "    }\n",
       "\n",
       "    .dataframe thead th {\n",
       "        text-align: right;\n",
       "    }\n",
       "</style>\n",
       "<table border=\"1\" class=\"dataframe\">\n",
       "  <thead>\n",
       "    <tr style=\"text-align: right;\">\n",
       "      <th></th>\n",
       "      <th>Unnamed: 0</th>\n",
       "      <th>Unnamed: 0.1</th>\n",
       "      <th>Unnamed: 0.1.1</th>\n",
       "      <th>Unnamed: 0.1.1.1</th>\n",
       "      <th>Unnamed: 0.1.1.1.1</th>\n",
       "      <th>points</th>\n",
       "      <th>price</th>\n",
       "      <th>province_id</th>\n",
       "      <th>variety_numerical</th>\n",
       "      <th>vintage</th>\n",
       "      <th>...</th>\n",
       "      <th>total_fires_current</th>\n",
       "      <th>sum_fire_size_current</th>\n",
       "      <th>norm_vintage</th>\n",
       "      <th>norm_variety_numerical</th>\n",
       "      <th>norm_price</th>\n",
       "      <th>norm_points</th>\n",
       "      <th>norm_total_fires</th>\n",
       "      <th>norm_sum_fire_size</th>\n",
       "      <th>norm_total_fires_current</th>\n",
       "      <th>norm_sum_fire_size_current</th>\n",
       "    </tr>\n",
       "  </thead>\n",
       "  <tbody>\n",
       "    <tr>\n",
       "      <th>count</th>\n",
       "      <td>9757.000000</td>\n",
       "      <td>9757.000000</td>\n",
       "      <td>9757.000000</td>\n",
       "      <td>9757.000000</td>\n",
       "      <td>9757.000000</td>\n",
       "      <td>9757.00000</td>\n",
       "      <td>9757.000000</td>\n",
       "      <td>9757.0</td>\n",
       "      <td>9757.000000</td>\n",
       "      <td>9757.000000</td>\n",
       "      <td>...</td>\n",
       "      <td>9757.000000</td>\n",
       "      <td>9757.00000</td>\n",
       "      <td>9757.000000</td>\n",
       "      <td>9757.000000</td>\n",
       "      <td>9757.000000</td>\n",
       "      <td>9757.000000</td>\n",
       "      <td>9757.000000</td>\n",
       "      <td>9757.000000</td>\n",
       "      <td>9757.000000</td>\n",
       "      <td>9757.000000</td>\n",
       "    </tr>\n",
       "    <tr>\n",
       "      <th>mean</th>\n",
       "      <td>4878.000000</td>\n",
       "      <td>17632.816542</td>\n",
       "      <td>17632.816542</td>\n",
       "      <td>62619.848929</td>\n",
       "      <td>65092.036487</td>\n",
       "      <td>89.97407</td>\n",
       "      <td>46.297018</td>\n",
       "      <td>7.0</td>\n",
       "      <td>360.879779</td>\n",
       "      <td>2012.819309</td>\n",
       "      <td>...</td>\n",
       "      <td>146.665983</td>\n",
       "      <td>3585.34697</td>\n",
       "      <td>0.010823</td>\n",
       "      <td>0.514074</td>\n",
       "      <td>0.020515</td>\n",
       "      <td>0.100748</td>\n",
       "      <td>0.331704</td>\n",
       "      <td>0.013330</td>\n",
       "      <td>0.327379</td>\n",
       "      <td>0.014038</td>\n",
       "    </tr>\n",
       "    <tr>\n",
       "      <th>std</th>\n",
       "      <td>2816.747622</td>\n",
       "      <td>10272.211048</td>\n",
       "      <td>10272.211048</td>\n",
       "      <td>36429.036487</td>\n",
       "      <td>37855.802096</td>\n",
       "      <td>2.73060</td>\n",
       "      <td>35.655901</td>\n",
       "      <td>0.0</td>\n",
       "      <td>203.704069</td>\n",
       "      <td>2.027649</td>\n",
       "      <td>...</td>\n",
       "      <td>72.144221</td>\n",
       "      <td>13675.78481</td>\n",
       "      <td>0.001006</td>\n",
       "      <td>0.290177</td>\n",
       "      <td>0.017713</td>\n",
       "      <td>0.027582</td>\n",
       "      <td>0.178448</td>\n",
       "      <td>0.053523</td>\n",
       "      <td>0.161036</td>\n",
       "      <td>0.053544</td>\n",
       "    </tr>\n",
       "    <tr>\n",
       "      <th>min</th>\n",
       "      <td>0.000000</td>\n",
       "      <td>0.000000</td>\n",
       "      <td>0.000000</td>\n",
       "      <td>10.000000</td>\n",
       "      <td>10.000000</td>\n",
       "      <td>80.00000</td>\n",
       "      <td>5.000000</td>\n",
       "      <td>7.0</td>\n",
       "      <td>0.000000</td>\n",
       "      <td>1991.000000</td>\n",
       "      <td>...</td>\n",
       "      <td>0.000000</td>\n",
       "      <td>0.00000</td>\n",
       "      <td>0.000000</td>\n",
       "      <td>0.000000</td>\n",
       "      <td>0.000000</td>\n",
       "      <td>0.000000</td>\n",
       "      <td>0.000000</td>\n",
       "      <td>0.000000</td>\n",
       "      <td>0.000000</td>\n",
       "      <td>0.000000</td>\n",
       "    </tr>\n",
       "    <tr>\n",
       "      <th>25%</th>\n",
       "      <td>2439.000000</td>\n",
       "      <td>8764.000000</td>\n",
       "      <td>8764.000000</td>\n",
       "      <td>31202.000000</td>\n",
       "      <td>32432.000000</td>\n",
       "      <td>88.00000</td>\n",
       "      <td>28.000000</td>\n",
       "      <td>7.0</td>\n",
       "      <td>125.000000</td>\n",
       "      <td>2012.000000</td>\n",
       "      <td>...</td>\n",
       "      <td>120.000000</td>\n",
       "      <td>472.82000</td>\n",
       "      <td>0.010417</td>\n",
       "      <td>0.178063</td>\n",
       "      <td>0.011426</td>\n",
       "      <td>0.080808</td>\n",
       "      <td>0.256696</td>\n",
       "      <td>0.001539</td>\n",
       "      <td>0.267857</td>\n",
       "      <td>0.001851</td>\n",
       "    </tr>\n",
       "    <tr>\n",
       "      <th>50%</th>\n",
       "      <td>4878.000000</td>\n",
       "      <td>17856.000000</td>\n",
       "      <td>17856.000000</td>\n",
       "      <td>63393.000000</td>\n",
       "      <td>65904.000000</td>\n",
       "      <td>90.00000</td>\n",
       "      <td>40.000000</td>\n",
       "      <td>7.0</td>\n",
       "      <td>440.000000</td>\n",
       "      <td>2013.000000</td>\n",
       "      <td>...</td>\n",
       "      <td>136.000000</td>\n",
       "      <td>968.81000</td>\n",
       "      <td>0.010913</td>\n",
       "      <td>0.626781</td>\n",
       "      <td>0.017387</td>\n",
       "      <td>0.101010</td>\n",
       "      <td>0.325893</td>\n",
       "      <td>0.005246</td>\n",
       "      <td>0.303571</td>\n",
       "      <td>0.003793</td>\n",
       "    </tr>\n",
       "    <tr>\n",
       "      <th>75%</th>\n",
       "      <td>7317.000000</td>\n",
       "      <td>26569.000000</td>\n",
       "      <td>26569.000000</td>\n",
       "      <td>94586.000000</td>\n",
       "      <td>98307.000000</td>\n",
       "      <td>92.00000</td>\n",
       "      <td>55.000000</td>\n",
       "      <td>7.0</td>\n",
       "      <td>475.000000</td>\n",
       "      <td>2014.000000</td>\n",
       "      <td>...</td>\n",
       "      <td>196.000000</td>\n",
       "      <td>1453.08000</td>\n",
       "      <td>0.011409</td>\n",
       "      <td>0.676638</td>\n",
       "      <td>0.024839</td>\n",
       "      <td>0.121212</td>\n",
       "      <td>0.450893</td>\n",
       "      <td>0.006877</td>\n",
       "      <td>0.437500</td>\n",
       "      <td>0.005689</td>\n",
       "    </tr>\n",
       "    <tr>\n",
       "      <th>max</th>\n",
       "      <td>9756.000000</td>\n",
       "      <td>35419.000000</td>\n",
       "      <td>35419.000000</td>\n",
       "      <td>125084.000000</td>\n",
       "      <td>129950.000000</td>\n",
       "      <td>99.00000</td>\n",
       "      <td>2013.000000</td>\n",
       "      <td>7.0</td>\n",
       "      <td>702.000000</td>\n",
       "      <td>2016.000000</td>\n",
       "      <td>...</td>\n",
       "      <td>448.000000</td>\n",
       "      <td>255410.40000</td>\n",
       "      <td>0.012401</td>\n",
       "      <td>1.000000</td>\n",
       "      <td>0.997516</td>\n",
       "      <td>0.191919</td>\n",
       "      <td>1.000000</td>\n",
       "      <td>1.000000</td>\n",
       "      <td>1.000000</td>\n",
       "      <td>1.000000</td>\n",
       "    </tr>\n",
       "  </tbody>\n",
       "</table>\n",
       "<p>8 rows × 24 columns</p>\n",
       "</div>"
      ],
      "text/plain": [
       "        Unnamed: 0  Unnamed: 0.1  Unnamed: 0.1.1  Unnamed: 0.1.1.1  \\\n",
       "count  9757.000000   9757.000000     9757.000000       9757.000000   \n",
       "mean   4878.000000  17632.816542    17632.816542      62619.848929   \n",
       "std    2816.747622  10272.211048    10272.211048      36429.036487   \n",
       "min       0.000000      0.000000        0.000000         10.000000   \n",
       "25%    2439.000000   8764.000000     8764.000000      31202.000000   \n",
       "50%    4878.000000  17856.000000    17856.000000      63393.000000   \n",
       "75%    7317.000000  26569.000000    26569.000000      94586.000000   \n",
       "max    9756.000000  35419.000000    35419.000000     125084.000000   \n",
       "\n",
       "       Unnamed: 0.1.1.1.1      points        price  province_id  \\\n",
       "count         9757.000000  9757.00000  9757.000000       9757.0   \n",
       "mean         65092.036487    89.97407    46.297018          7.0   \n",
       "std          37855.802096     2.73060    35.655901          0.0   \n",
       "min             10.000000    80.00000     5.000000          7.0   \n",
       "25%          32432.000000    88.00000    28.000000          7.0   \n",
       "50%          65904.000000    90.00000    40.000000          7.0   \n",
       "75%          98307.000000    92.00000    55.000000          7.0   \n",
       "max         129950.000000    99.00000  2013.000000          7.0   \n",
       "\n",
       "       variety_numerical      vintage             ...              \\\n",
       "count        9757.000000  9757.000000             ...               \n",
       "mean          360.879779  2012.819309             ...               \n",
       "std           203.704069     2.027649             ...               \n",
       "min             0.000000  1991.000000             ...               \n",
       "25%           125.000000  2012.000000             ...               \n",
       "50%           440.000000  2013.000000             ...               \n",
       "75%           475.000000  2014.000000             ...               \n",
       "max           702.000000  2016.000000             ...               \n",
       "\n",
       "       total_fires_current  sum_fire_size_current  norm_vintage  \\\n",
       "count          9757.000000             9757.00000   9757.000000   \n",
       "mean            146.665983             3585.34697      0.010823   \n",
       "std              72.144221            13675.78481      0.001006   \n",
       "min               0.000000                0.00000      0.000000   \n",
       "25%             120.000000              472.82000      0.010417   \n",
       "50%             136.000000              968.81000      0.010913   \n",
       "75%             196.000000             1453.08000      0.011409   \n",
       "max             448.000000           255410.40000      0.012401   \n",
       "\n",
       "       norm_variety_numerical   norm_price  norm_points  norm_total_fires  \\\n",
       "count             9757.000000  9757.000000  9757.000000       9757.000000   \n",
       "mean                 0.514074     0.020515     0.100748          0.331704   \n",
       "std                  0.290177     0.017713     0.027582          0.178448   \n",
       "min                  0.000000     0.000000     0.000000          0.000000   \n",
       "25%                  0.178063     0.011426     0.080808          0.256696   \n",
       "50%                  0.626781     0.017387     0.101010          0.325893   \n",
       "75%                  0.676638     0.024839     0.121212          0.450893   \n",
       "max                  1.000000     0.997516     0.191919          1.000000   \n",
       "\n",
       "       norm_sum_fire_size  norm_total_fires_current  \\\n",
       "count         9757.000000               9757.000000   \n",
       "mean             0.013330                  0.327379   \n",
       "std              0.053523                  0.161036   \n",
       "min              0.000000                  0.000000   \n",
       "25%              0.001539                  0.267857   \n",
       "50%              0.005246                  0.303571   \n",
       "75%              0.006877                  0.437500   \n",
       "max              1.000000                  1.000000   \n",
       "\n",
       "       norm_sum_fire_size_current  \n",
       "count                 9757.000000  \n",
       "mean                     0.014038  \n",
       "std                      0.053544  \n",
       "min                      0.000000  \n",
       "25%                      0.001851  \n",
       "50%                      0.003793  \n",
       "75%                      0.005689  \n",
       "max                      1.000000  \n",
       "\n",
       "[8 rows x 24 columns]"
      ]
     },
     "execution_count": 3,
     "metadata": {},
     "output_type": "execute_result"
    }
   ],
   "source": [
    "data.describe()"
   ]
  },
  {
   "cell_type": "code",
   "execution_count": 22,
   "metadata": {},
   "outputs": [
    {
     "name": "stdout",
     "output_type": "stream",
     "text": [
      "Index([u'Unnamed: 0', u'Unnamed: 0.1', u'Unnamed: 0.1.1', u'Unnamed: 0.1.1.1',\n",
      "       u'Unnamed: 0.1.1.1.1', u'country', u'description', u'designation',\n",
      "       u'points', u'price', u'province', u'region_1', u'region_2',\n",
      "       u'taster_name', u'taster_twitter_handle', u'title', u'variety',\n",
      "       u'winery', u'province_id', u'variety_numerical', u'vintage', u'lat',\n",
      "       u'lon', u'total_fires', u'sum_fire_size', u'total_fires_current',\n",
      "       u'sum_fire_size_current', u'norm_vintage', u'norm_variety_numerical',\n",
      "       u'norm_price', u'norm_points', u'norm_total_fires',\n",
      "       u'norm_sum_fire_size', u'norm_total_fires_current',\n",
      "       u'norm_sum_fire_size_current', u'point_bin'],\n",
      "      dtype='object')\n"
     ]
    }
   ],
   "source": [
    "names_col = [data.columns]\n",
    "for i in range(len(names_col)):\n",
    "    print names_col[i]"
   ]
  },
  {
   "cell_type": "code",
   "execution_count": 55,
   "metadata": {},
   "outputs": [
    {
     "data": {
      "text/plain": [
       "75"
      ]
     },
     "execution_count": 55,
     "metadata": {},
     "output_type": "execute_result"
    }
   ],
   "source": [
    "len(data.taster_twitter_handle.unique().sum())\n"
   ]
  },
  {
   "cell_type": "code",
   "execution_count": 56,
   "metadata": {},
   "outputs": [
    {
     "name": "stdout",
     "output_type": "stream",
     "text": [
      "@vboone 0\n",
      "@mattkettmann 1\n",
      "@vossroger 2\n",
      "@gordone_cellars 3\n",
      "@JoeCz 4\n",
      "@paulgwine  5\n",
      "@wineschach 6\n"
     ]
    }
   ],
   "source": [
    "ref_dict = {}\n",
    "for i, x in enumerate(data.taster_twitter_handle.unique()):\n",
    "    print x, i\n",
    "    ref_dict.update({x: i})\n",
    "data['taster_twitter_handle_id'] = data['taster_twitter_handle'].replace(to_replace=ref_dict,)"
   ]
  },
  {
   "cell_type": "code",
   "execution_count": 21,
   "metadata": {},
   "outputs": [],
   "source": [
    "points = data.loc[:,'points']\n",
    "points = np.array(points, dtype=pd.Series)\n",
    "points = points.reshape(-1, 1)\n",
    "cluster = KMeans(n_clusters = 3, random_state = 0).fit(points)\n",
    "point_bins = cluster.labels_\n",
    "\n",
    "data['point_bin'] = point_bins"
   ]
  },
  {
   "cell_type": "code",
   "execution_count": 6,
   "metadata": {},
   "outputs": [
    {
     "data": {
      "text/plain": [
       "(array([5.000e+00, 0.000e+00, 6.000e+00, 0.000e+00, 0.000e+00, 3.800e+01,\n",
       "        0.000e+00, 0.000e+00, 7.100e+01, 0.000e+00, 1.550e+02, 0.000e+00,\n",
       "        0.000e+00, 2.890e+02, 0.000e+00, 0.000e+00, 5.410e+02, 0.000e+00,\n",
       "        7.540e+02, 0.000e+00, 0.000e+00, 1.204e+03, 0.000e+00, 0.000e+00,\n",
       "        6.690e+02, 0.000e+00, 1.595e+03, 0.000e+00, 0.000e+00, 1.370e+03,\n",
       "        0.000e+00, 0.000e+00, 1.200e+03, 0.000e+00, 1.024e+03, 0.000e+00,\n",
       "        0.000e+00, 5.830e+02, 0.000e+00, 0.000e+00, 1.920e+02, 0.000e+00,\n",
       "        4.000e+01, 0.000e+00, 0.000e+00, 1.300e+01, 0.000e+00, 0.000e+00,\n",
       "        7.000e+00, 0.000e+00, 1.000e+00]),\n",
       " array([80.        , 80.37254902, 80.74509804, 81.11764706, 81.49019608,\n",
       "        81.8627451 , 82.23529412, 82.60784314, 82.98039216, 83.35294118,\n",
       "        83.7254902 , 84.09803922, 84.47058824, 84.84313725, 85.21568627,\n",
       "        85.58823529, 85.96078431, 86.33333333, 86.70588235, 87.07843137,\n",
       "        87.45098039, 87.82352941, 88.19607843, 88.56862745, 88.94117647,\n",
       "        89.31372549, 89.68627451, 90.05882353, 90.43137255, 90.80392157,\n",
       "        91.17647059, 91.54901961, 91.92156863, 92.29411765, 92.66666667,\n",
       "        93.03921569, 93.41176471, 93.78431373, 94.15686275, 94.52941176,\n",
       "        94.90196078, 95.2745098 , 95.64705882, 96.01960784, 96.39215686,\n",
       "        96.76470588, 97.1372549 , 97.50980392, 97.88235294, 98.25490196,\n",
       "        98.62745098, 99.        ]),\n",
       " <a list of 51 Patch objects>)"
      ]
     },
     "execution_count": 6,
     "metadata": {},
     "output_type": "execute_result"
    },
    {
     "data": {
      "image/png": "[encoded data removed]",
      "text/plain": [
       "<Figure size 432x288 with 1 Axes>"
      ]
     },
     "metadata": {
      "needs_background": "light"
     },
     "output_type": "display_data"
    }
   ],
   "source": [
    "plt.hist(data['points'], bins='auto') "
   ]
  },
  {
   "cell_type": "code",
   "execution_count": 112,
   "metadata": {},
   "outputs": [],
   "source": [
    "X=data[['variety_numerical', 'norm_price', 'norm_vintage', 'norm_total_fires_current', 'norm_sum_fire_size_current','lat', 'lon', 'taster_twitter_handle_id', 'norm_total_fires', 'norm_sum_fire_size']]  # Features\n",
    "y=data['point_bin']  # Labels\n",
    "x_name = (['variety_numerical', 'norm_price', 'norm_vintage', 'norm_total_fires_current', 'norm_sum_fire_size_current', 'lat', 'lon', 'taster_twitter_handle_id', 'norm_total_fires', 'norm_sum_fire_size'])\n"
   ]
  },
  {
   "cell_type": "code",
   "execution_count": 113,
   "metadata": {},
   "outputs": [],
   "source": [
    "X_train, X_test, y_train, y_test = train_test_split(X, y, test_size=0.3)"
   ]
  },
  {
   "cell_type": "code",
   "execution_count": 114,
   "metadata": {},
   "outputs": [],
   "source": [
    "clf=RandomForestClassifier(n_estimators=100)\n",
    "clf.fit(X_train,y_train)\n",
    "y_pred=clf.predict(X_test)"
   ]
  },
  {
   "cell_type": "code",
   "execution_count": 115,
   "metadata": {},
   "outputs": [
    {
     "name": "stdout",
     "output_type": "stream",
     "text": [
      "('Accuracy:', 0.5416666666666666)\n"
     ]
    }
   ],
   "source": [
    "print(\"Accuracy:\",metrics.accuracy_score(y_test, y_pred))"
   ]
  },
  {
   "cell_type": "code",
   "execution_count": 117,
   "metadata": {},
   "outputs": [
    {
     "data": {
      "text/plain": [
       "norm_price                    0.448609\n",
       "variety_numerical             0.207157\n",
       "lon                           0.064835\n",
       "lat                           0.063788\n",
       "norm_total_fires              0.041760\n",
       "norm_sum_fire_size_current    0.039249\n",
       "norm_total_fires_current      0.039154\n",
       "norm_sum_fire_size            0.038489\n",
       "norm_vintage                  0.029880\n",
       "taster_twitter_handle_id      0.027079\n",
       "dtype: float64"
      ]
     },
     "execution_count": 117,
     "metadata": {},
     "output_type": "execute_result"
    }
   ],
   "source": [
    "feature_imp = pd.Series(clf.feature_importances_,index=x_name).sort_values(ascending=False)\n",
    "feature_imp"
   ]
  },
  {
   "cell_type": "code",
   "execution_count": 119,
   "metadata": {
    "scrolled": true
   },
   "outputs": [
    {
     "data": {
      "image/png": "[encoded data removed]",
      "text/plain": [
       "<Figure size 432x288 with 1 Axes>"
      ]
     },
     "metadata": {
      "needs_background": "light"
     },
     "output_type": "display_data"
    }
   ],
   "source": [
    "sns.barplot(x=feature_imp, y=feature_imp.index)\n",
    "# Add labels to your graph\n",
    "plt.xlabel('Feature Importance Score')\n",
    "plt.ylabel('Features')\n",
    "plt.title(\"Visualizing Important Features\")\n",
    "plt.legend()\n",
    "plt.show()"
   ]
  },
  {
   "cell_type": "raw",
   "metadata": {},
   "source": [
    "Here we are looking to take the most important features that have been determined by the random forest algorithm and remove the ones that are less important to see if that helps with the accuracy of our model. "
   ]
  },
  {
   "cell_type": "code",
   "execution_count": 120,
   "metadata": {},
   "outputs": [],
   "source": [
    "data['correlation_coeff'] = ((data.norm_price*.4568)**4 + (data.variety_numerical*.207)**3 + (data.lon*.0642)**2 + data.lat*.0622)"
   ]
  },
  {
   "cell_type": "code",
   "execution_count": 121,
   "metadata": {},
   "outputs": [],
   "source": [
    "# Import train_test_split function\n",
    "from sklearn.cross_validation import train_test_split\n",
    "# Split dataset into features and labels\n",
    "X=data[['norm_price', 'variety_numerical','correlation_coeff']]  # Removed feature \"sepal length\"\n",
    "y=data['point_bin']  \n",
    "x_name = (['norm_price', 'variety_numerical','correlation_coeff'])\n",
    "# Split dataset into training set and test set\n",
    "X_train, X_test, y_train, y_test = train_test_split(X, y, test_size=0.70, random_state=5) # 70% training and 30% test"
   ]
  },
  {
   "cell_type": "code",
   "execution_count": 122,
   "metadata": {},
   "outputs": [
    {
     "name": "stdout",
     "output_type": "stream",
     "text": [
      "('Accuracy:', 0.4767203513909224)\n"
     ]
    }
   ],
   "source": [
    "clf=RandomForestClassifier(n_estimators=100)\n",
    "\n",
    "#Train the model using the training sets y_pred=clf.predict(X_test)\n",
    "clf.fit(X_train,y_train)\n",
    "\n",
    "# prediction on test set\n",
    "y_pred=clf.predict(X_test)\n",
    "\n",
    "#Import scikit-learn metrics module for accuracy calculation\n",
    "from sklearn import metrics\n",
    "# Model Accuracy, how often is the classifier correct?\n",
    "print(\"Accuracy:\",metrics.accuracy_score(y_test, y_pred))"
   ]
  },
  {
   "cell_type": "code",
   "execution_count": 123,
   "metadata": {},
   "outputs": [
    {
     "data": {
      "text/plain": [
       "norm_price           0.522385\n",
       "correlation_coeff    0.380367\n",
       "variety_numerical    0.097248\n",
       "dtype: float64"
      ]
     },
     "execution_count": 123,
     "metadata": {},
     "output_type": "execute_result"
    }
   ],
   "source": [
    "feature_imp = pd.Series(clf.feature_importances_,index=x_name).sort_values(ascending=False)\n",
    "feature_imp"
   ]
  },
  {
   "cell_type": "code",
   "execution_count": 124,
   "metadata": {},
   "outputs": [
    {
     "name": "stdout",
     "output_type": "stream",
     "text": [
      "('Accuracy:', 0.4796486090775988)\n"
     ]
    }
   ],
   "source": [
    "clf=RandomForestClassifier(n_estimators=100)\n",
    "\n",
    "#Train the model using the training sets y_pred=clf.predict(X_test)\n",
    "clf.fit(X_train,y_train)\n",
    "\n",
    "# prediction on test set\n",
    "y_pred=clf.predict(X_test)\n",
    "\n",
    "#Import scikit-learn metrics module for accuracy calculation\n",
    "from sklearn import metrics\n",
    "# Model Accuracy, how often is the classifier correct?\n",
    "print(\"Accuracy:\",metrics.accuracy_score(y_test, y_pred))"
   ]
  },
  {
   "cell_type": "code",
   "execution_count": 125,
   "metadata": {},
   "outputs": [
    {
     "data": {
      "image/png": "[encoded data removed]",
      "text/plain": [
       "<Figure size 432x288 with 1 Axes>"
      ]
     },
     "metadata": {
      "needs_background": "light"
     },
     "output_type": "display_data"
    }
   ],
   "source": [
    "sns.barplot(x=feature_imp, y=feature_imp.index)\n",
    "# Add labels to your graph\n",
    "plt.xlabel('Feature Importance Score')\n",
    "plt.ylabel('Features')\n",
    "plt.title(\"Visualizing Important Features\")\n",
    "plt.legend()\n",
    "plt.show()"
   ]
  },
  {
   "cell_type": "code",
   "execution_count": 129,
   "metadata": {},
   "outputs": [
    {
     "name": "stdout",
     "output_type": "stream",
     "text": [
      "('Accuracy:', 0.5058565153733529)\n",
      "('Accuracy:', 0.5101024890190337)\n"
     ]
    },
    {
     "data": {
      "image/png": "[encoded data removed]",
      "text/plain": [
       "<Figure size 432x288 with 1 Axes>"
      ]
     },
     "metadata": {
      "needs_background": "light"
     },
     "output_type": "display_data"
    }
   ],
   "source": [
    "# Import train_test_split function\n",
    "from sklearn.cross_validation import train_test_split\n",
    "# Split dataset into features and labels\n",
    "X=data[['correlation_coeff', 'variety_numerical', 'norm_price', 'norm_vintage', 'norm_total_fires_current', 'norm_sum_fire_size_current','lat', 'lon', 'taster_twitter_handle_id', 'norm_total_fires', 'norm_sum_fire_size']]  # Features\n",
    "y=data['point_bin']  # Labels\n",
    "x_name = (['correlation_coeff', 'variety_numerical', 'norm_price', 'norm_vintage', 'norm_total_fires_current', 'norm_sum_fire_size_current', 'lat', 'lon', 'taster_twitter_handle_id', 'norm_total_fires', 'norm_sum_fire_size'])\n",
    "\n",
    "# Split dataset into training set and test set\n",
    "X_train, X_test, y_train, y_test = train_test_split(X, y, test_size=0.70, random_state=5) # 70% training and 30% test\n",
    "\n",
    "clf=RandomForestClassifier(n_estimators=100)\n",
    "\n",
    "#Train the model using the training sets y_pred=clf.predict(X_test)\n",
    "clf.fit(X_train,y_train)\n",
    "\n",
    "# prediction on test set\n",
    "y_pred=clf.predict(X_test)\n",
    "\n",
    "#Import scikit-learn metrics module for accuracy calculation\n",
    "from sklearn import metrics\n",
    "# Model Accuracy, how often is the classifier correct?\n",
    "print(\"Accuracy:\",metrics.accuracy_score(y_test, y_pred))\n",
    "\n",
    "feature_imp = pd.Series(clf.feature_importances_,index=x_name).sort_values(ascending=False)\n",
    "feature_imp\n",
    "\n",
    "clf=RandomForestClassifier(n_estimators=100)\n",
    "\n",
    "#Train the model using the training sets y_pred=clf.predict(X_test)\n",
    "clf.fit(X_train,y_train)\n",
    "\n",
    "# prediction on test set\n",
    "y_pred=clf.predict(X_test)\n",
    "\n",
    "#Import scikit-learn metrics module for accuracy calculation\n",
    "from sklearn import metrics\n",
    "# Model Accuracy, how often is the classifier correct?\n",
    "print(\"Accuracy:\",metrics.accuracy_score(y_test, y_pred))\n",
    "\n",
    "sns.barplot(x=feature_imp, y=feature_imp.index)\n",
    "# Add labels to your graph\n",
    "plt.xlabel('Feature Importance Score')\n",
    "plt.ylabel('Features')\n",
    "plt.title(\"Visualizing Important Features\")\n",
    "plt.legend()\n",
    "plt.show()"
   ]
  },
  {
   "cell_type": "code",
   "execution_count": 130,
   "metadata": {},
   "outputs": [],
   "source": [
    "data.to_csv('../data/final_wine_and_fire_tiwitter_id.csv')"
   ]
  },
  {
   "cell_type": "code",
   "execution_count": null,
   "metadata": {},
   "outputs": [],
   "source": []
  }
 ],
 "metadata": {
  "kernelspec": {
   "display_name": "Python 2",
   "language": "python",
   "name": "python2"
  },
  "language_info": {
   "codemirror_mode": {
    "name": "ipython",
    "version": 2
   },
   "file_extension": ".py",
   "mimetype": "text/x-python",
   "name": "python",
   "nbconvert_exporter": "python",
   "pygments_lexer": "ipython2",
   "version": "2.7.15"
  }
 },
 "nbformat": 4,
 "nbformat_minor": 2
}
