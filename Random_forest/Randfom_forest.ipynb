{
 "cells": [
  {
   "cell_type": "markdown",
   "metadata": {},
   "source": [
    "# Wine clustering with Random Forest "
   ]
  },
  {
   "cell_type": "code",
   "execution_count": 1,
   "metadata": {},
   "outputs": [],
   "source": [
    "import pandas as pd\n",
    "import numpy as np\n",
    "import pylab as pl\n",
    "\n",
    "from sklearn import tree\n",
    "from sklearn.cluster import KMeans\n",
    "from sklearn.model_selection import train_test_split\n",
    "from sklearn.metrics import accuracy_score\n",
    "from sklearn.ensemble import RandomForestRegressor\n",
    "from sklearn.ensemble import RandomForestClassifier\n",
    "import seaborn as sns\n",
    "from sklearn import metrics\n",
    "import matplotlib.pyplot as plt\n",
    "from scipy.spatial.distance import cdist\n",
    "import warnings\n",
    "%matplotlib inline"
   ]
  },
  {
   "cell_type": "code",
   "execution_count": 2,
   "metadata": {},
   "outputs": [],
   "source": [
    "data = pd.read_csv('../data/California_merged_data.csv')"
   ]
  },
  {
   "cell_type": "code",
   "execution_count": 3,
   "metadata": {},
   "outputs": [
    {
     "data": {
      "text/html": [
       "<div>\n",
       "<style scoped>\n",
       "    .dataframe tbody tr th:only-of-type {\n",
       "        vertical-align: middle;\n",
       "    }\n",
       "\n",
       "    .dataframe tbody tr th {\n",
       "        vertical-align: top;\n",
       "    }\n",
       "\n",
       "    .dataframe thead th {\n",
       "        text-align: right;\n",
       "    }\n",
       "</style>\n",
       "<table border=\"1\" class=\"dataframe\">\n",
       "  <thead>\n",
       "    <tr style=\"text-align: right;\">\n",
       "      <th></th>\n",
       "      <th>Unnamed: 0</th>\n",
       "      <th>Unnamed: 0.1</th>\n",
       "      <th>Unnamed: 0.1.1</th>\n",
       "      <th>points</th>\n",
       "      <th>price</th>\n",
       "      <th>province_id</th>\n",
       "      <th>variety_numerical</th>\n",
       "      <th>vintage</th>\n",
       "      <th>norm_vintage</th>\n",
       "      <th>norm_price</th>\n",
       "      <th>norm_points</th>\n",
       "      <th>total_fires</th>\n",
       "      <th>sum_fire_size</th>\n",
       "    </tr>\n",
       "  </thead>\n",
       "  <tbody>\n",
       "    <tr>\n",
       "      <th>count</th>\n",
       "      <td>12638.000000</td>\n",
       "      <td>12638.000000</td>\n",
       "      <td>12638.000000</td>\n",
       "      <td>12638.000000</td>\n",
       "      <td>12638.000000</td>\n",
       "      <td>12638.0</td>\n",
       "      <td>12638.000000</td>\n",
       "      <td>12638.000000</td>\n",
       "      <td>12638.000000</td>\n",
       "      <td>12638.000000</td>\n",
       "      <td>12638.000000</td>\n",
       "      <td>12638.000000</td>\n",
       "      <td>12638.000000</td>\n",
       "    </tr>\n",
       "    <tr>\n",
       "      <th>mean</th>\n",
       "      <td>17733.716569</td>\n",
       "      <td>62979.126128</td>\n",
       "      <td>65465.362083</td>\n",
       "      <td>89.807011</td>\n",
       "      <td>45.081342</td>\n",
       "      <td>7.0</td>\n",
       "      <td>365.913910</td>\n",
       "      <td>2012.680329</td>\n",
       "      <td>0.010754</td>\n",
       "      <td>0.019911</td>\n",
       "      <td>0.099061</td>\n",
       "      <td>27.408055</td>\n",
       "      <td>743.886172</td>\n",
       "    </tr>\n",
       "    <tr>\n",
       "      <th>std</th>\n",
       "      <td>10253.967859</td>\n",
       "      <td>36362.825618</td>\n",
       "      <td>37786.853715</td>\n",
       "      <td>2.811032</td>\n",
       "      <td>34.402675</td>\n",
       "      <td>0.0</td>\n",
       "      <td>207.408986</td>\n",
       "      <td>2.063994</td>\n",
       "      <td>0.001024</td>\n",
       "      <td>0.017090</td>\n",
       "      <td>0.028394</td>\n",
       "      <td>54.483173</td>\n",
       "      <td>7035.053366</td>\n",
       "    </tr>\n",
       "    <tr>\n",
       "      <th>min</th>\n",
       "      <td>0.000000</td>\n",
       "      <td>10.000000</td>\n",
       "      <td>10.000000</td>\n",
       "      <td>80.000000</td>\n",
       "      <td>5.000000</td>\n",
       "      <td>7.0</td>\n",
       "      <td>0.000000</td>\n",
       "      <td>1991.000000</td>\n",
       "      <td>0.000000</td>\n",
       "      <td>0.000000</td>\n",
       "      <td>0.000000</td>\n",
       "      <td>0.000000</td>\n",
       "      <td>0.000000</td>\n",
       "    </tr>\n",
       "    <tr>\n",
       "      <th>25%</th>\n",
       "      <td>8878.250000</td>\n",
       "      <td>31569.250000</td>\n",
       "      <td>32809.250000</td>\n",
       "      <td>88.000000</td>\n",
       "      <td>26.000000</td>\n",
       "      <td>7.0</td>\n",
       "      <td>125.000000</td>\n",
       "      <td>2012.000000</td>\n",
       "      <td>0.010417</td>\n",
       "      <td>0.010432</td>\n",
       "      <td>0.080808</td>\n",
       "      <td>0.000000</td>\n",
       "      <td>0.000000</td>\n",
       "    </tr>\n",
       "    <tr>\n",
       "      <th>50%</th>\n",
       "      <td>17945.000000</td>\n",
       "      <td>63717.000000</td>\n",
       "      <td>66241.000000</td>\n",
       "      <td>90.000000</td>\n",
       "      <td>40.000000</td>\n",
       "      <td>7.0</td>\n",
       "      <td>440.000000</td>\n",
       "      <td>2013.000000</td>\n",
       "      <td>0.010913</td>\n",
       "      <td>0.017387</td>\n",
       "      <td>0.101010</td>\n",
       "      <td>0.000000</td>\n",
       "      <td>0.000000</td>\n",
       "    </tr>\n",
       "    <tr>\n",
       "      <th>75%</th>\n",
       "      <td>26663.500000</td>\n",
       "      <td>94876.750000</td>\n",
       "      <td>98610.250000</td>\n",
       "      <td>92.000000</td>\n",
       "      <td>55.000000</td>\n",
       "      <td>7.0</td>\n",
       "      <td>492.000000</td>\n",
       "      <td>2014.000000</td>\n",
       "      <td>0.011409</td>\n",
       "      <td>0.024839</td>\n",
       "      <td>0.121212</td>\n",
       "      <td>37.000000</td>\n",
       "      <td>89.660000</td>\n",
       "    </tr>\n",
       "    <tr>\n",
       "      <th>max</th>\n",
       "      <td>35419.000000</td>\n",
       "      <td>125084.000000</td>\n",
       "      <td>129950.000000</td>\n",
       "      <td>99.000000</td>\n",
       "      <td>2013.000000</td>\n",
       "      <td>7.0</td>\n",
       "      <td>702.000000</td>\n",
       "      <td>2016.000000</td>\n",
       "      <td>0.012401</td>\n",
       "      <td>0.997516</td>\n",
       "      <td>0.191919</td>\n",
       "      <td>415.000000</td>\n",
       "      <td>241890.150000</td>\n",
       "    </tr>\n",
       "  </tbody>\n",
       "</table>\n",
       "</div>"
      ],
      "text/plain": [
       "         Unnamed: 0   Unnamed: 0.1  Unnamed: 0.1.1        points  \\\n",
       "count  12638.000000   12638.000000    12638.000000  12638.000000   \n",
       "mean   17733.716569   62979.126128    65465.362083     89.807011   \n",
       "std    10253.967859   36362.825618    37786.853715      2.811032   \n",
       "min        0.000000      10.000000       10.000000     80.000000   \n",
       "25%     8878.250000   31569.250000    32809.250000     88.000000   \n",
       "50%    17945.000000   63717.000000    66241.000000     90.000000   \n",
       "75%    26663.500000   94876.750000    98610.250000     92.000000   \n",
       "max    35419.000000  125084.000000   129950.000000     99.000000   \n",
       "\n",
       "              price  province_id  variety_numerical       vintage  \\\n",
       "count  12638.000000      12638.0       12638.000000  12638.000000   \n",
       "mean      45.081342          7.0         365.913910   2012.680329   \n",
       "std       34.402675          0.0         207.408986      2.063994   \n",
       "min        5.000000          7.0           0.000000   1991.000000   \n",
       "25%       26.000000          7.0         125.000000   2012.000000   \n",
       "50%       40.000000          7.0         440.000000   2013.000000   \n",
       "75%       55.000000          7.0         492.000000   2014.000000   \n",
       "max     2013.000000          7.0         702.000000   2016.000000   \n",
       "\n",
       "       norm_vintage    norm_price   norm_points   total_fires  sum_fire_size  \n",
       "count  12638.000000  12638.000000  12638.000000  12638.000000   12638.000000  \n",
       "mean       0.010754      0.019911      0.099061     27.408055     743.886172  \n",
       "std        0.001024      0.017090      0.028394     54.483173    7035.053366  \n",
       "min        0.000000      0.000000      0.000000      0.000000       0.000000  \n",
       "25%        0.010417      0.010432      0.080808      0.000000       0.000000  \n",
       "50%        0.010913      0.017387      0.101010      0.000000       0.000000  \n",
       "75%        0.011409      0.024839      0.121212     37.000000      89.660000  \n",
       "max        0.012401      0.997516      0.191919    415.000000  241890.150000  "
      ]
     },
     "execution_count": 3,
     "metadata": {},
     "output_type": "execute_result"
    }
   ],
   "source": [
    "data.head()\n",
    "data.describe()"
   ]
  },
  {
   "cell_type": "code",
   "execution_count": 15,
   "metadata": {},
   "outputs": [],
   "source": [
    "points = data.loc[:,'points']\n",
    "points = np.array(points, dtype=pd.Series)\n",
    "points = points.reshape(-1, 1)\n",
    "cluster = KMeans(n_clusters = 3, random_state = 0).fit(points)\n",
    "point_bins = cluster.labels_\n",
    "\n",
    "data['point_bin'] = point_bins"
   ]
  },
  {
   "cell_type": "code",
   "execution_count": 14,
   "metadata": {},
   "outputs": [
    {
     "data": {
      "text/plain": [
       "(array([  20.,    0.,   19.,    0.,    0.,   70.,    0.,    0.,  118.,\n",
       "           0.,    0.,  235.,    0.,    0.,  417.,    0.,    0.,  735.,\n",
       "           0.,    0., 1032.,    0.,    0., 1560.,    0.,    0.,  962.,\n",
       "           0.,    0., 1990.,    0.,    0., 1720.,    0.,    0., 1518.,\n",
       "           0.,    0., 1234.,    0.,    0.,  700.,    0.,    0.,  222.,\n",
       "           0.,    0.,   55.,    0.,    0.,   17.,    0.,    0.,   12.,\n",
       "           0.,    2.]),\n",
       " array([80.        , 80.33928571, 80.67857143, 81.01785714, 81.35714286,\n",
       "        81.69642857, 82.03571429, 82.375     , 82.71428571, 83.05357143,\n",
       "        83.39285714, 83.73214286, 84.07142857, 84.41071429, 84.75      ,\n",
       "        85.08928571, 85.42857143, 85.76785714, 86.10714286, 86.44642857,\n",
       "        86.78571429, 87.125     , 87.46428571, 87.80357143, 88.14285714,\n",
       "        88.48214286, 88.82142857, 89.16071429, 89.5       , 89.83928571,\n",
       "        90.17857143, 90.51785714, 90.85714286, 91.19642857, 91.53571429,\n",
       "        91.875     , 92.21428571, 92.55357143, 92.89285714, 93.23214286,\n",
       "        93.57142857, 93.91071429, 94.25      , 94.58928571, 94.92857143,\n",
       "        95.26785714, 95.60714286, 95.94642857, 96.28571429, 96.625     ,\n",
       "        96.96428571, 97.30357143, 97.64285714, 97.98214286, 98.32142857,\n",
       "        98.66071429, 99.        ]),\n",
       " <a list of 56 Patch objects>)"
      ]
     },
     "execution_count": 14,
     "metadata": {},
     "output_type": "execute_result"
    },
    {
     "data": {
      "image/png": "[encoded data removed]",
      "text/plain": [
       "<Figure size 432x288 with 1 Axes>"
      ]
     },
     "metadata": {
      "needs_background": "light"
     },
     "output_type": "display_data"
    }
   ],
   "source": [
    "plt.hist(data['points'], bins='auto') "
   ]
  },
  {
   "cell_type": "code",
   "execution_count": 16,
   "metadata": {},
   "outputs": [],
   "source": [
    "X=data[['variety_numerical', 'price', 'vintage', 'total_fires', 'sum_fire_size', ]]  # Features\n",
    "y=data['point_bin']  # Labels\n",
    "x_name = (['variety_numerical', 'price', 'vintage', 'total_fires', 'sum_fire_size'])"
   ]
  },
  {
   "cell_type": "code",
   "execution_count": 17,
   "metadata": {},
   "outputs": [],
   "source": [
    "X_train, X_test, y_train, y_test = train_test_split(X, y, test_size=0.2)"
   ]
  },
  {
   "cell_type": "code",
   "execution_count": 18,
   "metadata": {},
   "outputs": [],
   "source": [
    "clf=RandomForestClassifier(n_estimators=100)\n",
    "clf.fit(X_train,y_train)\n",
    "y_pred=clf.predict(X_test)"
   ]
  },
  {
   "cell_type": "code",
   "execution_count": 19,
   "metadata": {},
   "outputs": [
    {
     "name": "stdout",
     "output_type": "stream",
     "text": [
      "('Accuracy:', 0.5075158227848101)\n"
     ]
    }
   ],
   "source": [
    "print(\"Accuracy:\",metrics.accuracy_score(y_test, y_pred))"
   ]
  },
  {
   "cell_type": "code",
   "execution_count": 20,
   "metadata": {},
   "outputs": [
    {
     "data": {
      "text/plain": [
       "price                0.492345\n",
       "variety_numerical    0.253526\n",
       "vintage              0.122775\n",
       "total_fires          0.066056\n",
       "sum_fire_size        0.065298\n",
       "dtype: float64"
      ]
     },
     "execution_count": 20,
     "metadata": {},
     "output_type": "execute_result"
    }
   ],
   "source": [
    "feature_imp = pd.Series(clf.feature_importances_,index=x_name).sort_values(ascending=False)\n",
    "feature_imp"
   ]
  },
  {
   "cell_type": "code",
   "execution_count": 26,
   "metadata": {
    "scrolled": true
   },
   "outputs": [
    {
     "data": {
      "image/png": "[encoded data removed]",
      "text/plain": [
       "<Figure size 432x288 with 1 Axes>"
      ]
     },
     "metadata": {
      "needs_background": "light"
     },
     "output_type": "display_data"
    }
   ],
   "source": [
    "sns.barplot(x=feature_imp, y=feature_imp.index)\n",
    "# Add labels to your graph\n",
    "plt.xlabel('Feature Importance Score')\n",
    "plt.ylabel('Features')\n",
    "plt.title(\"Visualizing Important Features\")\n",
    "plt.legend()\n",
    "plt.show()"
   ]
  },
  {
   "cell_type": "raw",
   "metadata": {},
   "source": [
    "Here we are looking to take the most important features that have been determined by the random forest algorithm and remove the ones that are less important to see if that helps with the accuracy of our model. "
   ]
  },
  {
   "cell_type": "code",
   "execution_count": 24,
   "metadata": {},
   "outputs": [],
   "source": [
    "\n",
    "# Import train_test_split function\n",
    "from sklearn.cross_validation import train_test_split\n",
    "# Split dataset into features and labels\n",
    "X=data[['price', 'variety_numerical']]  # Removed feature \"sepal length\"\n",
    "y=data['point_bin']                                       \n",
    "# Split dataset into training set and test set\n",
    "X_train, X_test, y_train, y_test = train_test_split(X, y, test_size=0.70, random_state=5) # 70% training and 30% test"
   ]
  },
  {
   "cell_type": "code",
   "execution_count": 25,
   "metadata": {},
   "outputs": [
    {
     "name": "stdout",
     "output_type": "stream",
     "text": [
      "('Accuracy:', 0.48502317169662035)\n"
     ]
    }
   ],
   "source": [
    "clf=RandomForestClassifier(n_estimators=100)\n",
    "\n",
    "#Train the model using the training sets y_pred=clf.predict(X_test)\n",
    "clf.fit(X_train,y_train)\n",
    "\n",
    "# prediction on test set\n",
    "y_pred=clf.predict(X_test)\n",
    "\n",
    "#Import scikit-learn metrics module for accuracy calculation\n",
    "from sklearn import metrics\n",
    "# Model Accuracy, how often is the classifier correct?\n",
    "print(\"Accuracy:\",metrics.accuracy_score(y_test, y_pred))"
   ]
  },
  {
   "cell_type": "code",
   "execution_count": null,
   "metadata": {},
   "outputs": [],
   "source": []
  }
 ],
 "metadata": {
  "kernelspec": {
   "display_name": "Python 2",
   "language": "python",
   "name": "python2"
  },
  "language_info": {
   "codemirror_mode": {
    "name": "ipython",
    "version": 2
   },
   "file_extension": ".py",
   "mimetype": "text/x-python",
   "name": "python",
   "nbconvert_exporter": "python",
   "pygments_lexer": "ipython2",
   "version": "2.7.15"
  }
 },
 "nbformat": 4,
 "nbformat_minor": 2
}
