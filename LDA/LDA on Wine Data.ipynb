{
 "cells": [
  {
   "cell_type": "markdown",
   "metadata": {},
   "source": [
    "Jonathan Gee\n",
    "\n",
    "Running LDA on our wine dataset"
   ]
  },
  {
   "cell_type": "code",
   "execution_count": 2,
   "metadata": {},
   "outputs": [
    {
     "name": "stdout",
     "output_type": "stream",
     "text": [
      "[nltk_data] Downloading package wordnet to\n",
      "[nltk_data]     /Users/jonathan/nltk_data...\n",
      "[nltk_data]   Unzipping corpora/wordnet.zip.\n",
      "[nltk_data] Downloading package punkt to /Users/jonathan/nltk_data...\n",
      "[nltk_data]   Unzipping tokenizers/punkt.zip.\n",
      "[nltk_data] Downloading package stopwords to\n",
      "[nltk_data]     /Users/jonathan/nltk_data...\n",
      "[nltk_data]   Unzipping corpora/stopwords.zip.\n"
     ]
    },
    {
     "data": {
      "text/plain": [
       "True"
      ]
     },
     "execution_count": 2,
     "metadata": {},
     "output_type": "execute_result"
    }
   ],
   "source": [
    "import pandas as pd\n",
    "import numpy as np\n",
    "from sklearn.model_selection import train_test_split\n",
    "from sklearn.preprocessing import StandardScaler\n",
    "from sklearn.discriminant_analysis import LinearDiscriminantAnalysis as LDA\n",
    "from nltk.stem.porter import *\n",
    "stemmer = PorterStemmer()\n",
    "from nltk.corpus import stopwords \n",
    "from nltk.tokenize import word_tokenize\n",
    "from nltk.stem import WordNetLemmatizer\n",
    "lemmatizer = WordNetLemmatizer()\n",
    "import string\n",
    "import nltk\n",
    "import gensim\n",
    "from gensim import corpora\n",
    "nltk.download('wordnet')\n",
    "nltk.download('punkt')\n",
    "nltk.download('stopwords')"
   ]
  },
  {
   "cell_type": "code",
   "execution_count": 5,
   "metadata": {},
   "outputs": [
    {
     "name": "stdout",
     "output_type": "stream",
     "text": [
      "[nltk_data] Downloading package wordnet to\n",
      "[nltk_data]     /Users/jonathan/nltk_data...\n",
      "[nltk_data]   Package wordnet is already up-to-date!\n"
     ]
    },
    {
     "data": {
      "text/plain": [
       "True"
      ]
     },
     "execution_count": 5,
     "metadata": {},
     "output_type": "execute_result"
    }
   ],
   "source": [
    "import gensim\n",
    "from gensim.utils import simple_preprocess\n",
    "from gensim.parsing.preprocessing import STOPWORDS\n",
    "from nltk.stem import WordNetLemmatizer, SnowballStemmer\n",
    "from nltk.stem.porter import *\n",
    "import numpy as np\n",
    "np.random.seed(2018)\n",
    "import nltk\n",
    "nltk.download('wordnet')"
   ]
  },
  {
   "cell_type": "code",
   "execution_count": 6,
   "metadata": {},
   "outputs": [
    {
     "name": "stdout",
     "output_type": "stream",
     "text": [
      "(22387, 14)\n"
     ]
    },
    {
     "data": {
      "text/html": [
       "<div>\n",
       "<style scoped>\n",
       "    .dataframe tbody tr th:only-of-type {\n",
       "        vertical-align: middle;\n",
       "    }\n",
       "\n",
       "    .dataframe tbody tr th {\n",
       "        vertical-align: top;\n",
       "    }\n",
       "\n",
       "    .dataframe thead th {\n",
       "        text-align: right;\n",
       "    }\n",
       "</style>\n",
       "<table border=\"1\" class=\"dataframe\">\n",
       "  <thead>\n",
       "    <tr style=\"text-align: right;\">\n",
       "      <th></th>\n",
       "      <th>Unnamed: 0</th>\n",
       "      <th>country</th>\n",
       "      <th>description</th>\n",
       "      <th>designation</th>\n",
       "      <th>points</th>\n",
       "      <th>price</th>\n",
       "      <th>province</th>\n",
       "      <th>region_1</th>\n",
       "      <th>region_2</th>\n",
       "      <th>taster_name</th>\n",
       "      <th>taster_twitter_handle</th>\n",
       "      <th>title</th>\n",
       "      <th>variety</th>\n",
       "      <th>winery</th>\n",
       "    </tr>\n",
       "  </thead>\n",
       "  <tbody>\n",
       "    <tr>\n",
       "      <th>4</th>\n",
       "      <td>4</td>\n",
       "      <td>US</td>\n",
       "      <td>Much like the regular bottling from 2012, this...</td>\n",
       "      <td>Vintner's Reserve Wild Child Block</td>\n",
       "      <td>87</td>\n",
       "      <td>65.0</td>\n",
       "      <td>Oregon</td>\n",
       "      <td>Willamette Valley</td>\n",
       "      <td>Willamette Valley</td>\n",
       "      <td>Paul Gregutt</td>\n",
       "      <td>@paulgwine</td>\n",
       "      <td>Sweet Cheeks 2012 Vintner's Reserve Wild Child...</td>\n",
       "      <td>Pinot Noir</td>\n",
       "      <td>Sweet Cheeks</td>\n",
       "    </tr>\n",
       "    <tr>\n",
       "      <th>10</th>\n",
       "      <td>10</td>\n",
       "      <td>US</td>\n",
       "      <td>Soft, supple plum envelopes an oaky structure ...</td>\n",
       "      <td>Mountain Cuvée</td>\n",
       "      <td>87</td>\n",
       "      <td>19.0</td>\n",
       "      <td>California</td>\n",
       "      <td>Napa Valley</td>\n",
       "      <td>Napa</td>\n",
       "      <td>Virginie Boone</td>\n",
       "      <td>@vboone</td>\n",
       "      <td>Kirkland Signature 2011 Mountain Cuvée Caberne...</td>\n",
       "      <td>Cabernet Sauvignon</td>\n",
       "      <td>Kirkland Signature</td>\n",
       "    </tr>\n",
       "    <tr>\n",
       "      <th>23</th>\n",
       "      <td>23</td>\n",
       "      <td>US</td>\n",
       "      <td>This wine from the Geneseo district offers aro...</td>\n",
       "      <td>Signature Selection</td>\n",
       "      <td>87</td>\n",
       "      <td>22.0</td>\n",
       "      <td>California</td>\n",
       "      <td>Paso Robles</td>\n",
       "      <td>Central Coast</td>\n",
       "      <td>Matt Kettmann</td>\n",
       "      <td>@mattkettmann</td>\n",
       "      <td>Bianchi 2011 Signature Selection Merlot (Paso ...</td>\n",
       "      <td>Merlot</td>\n",
       "      <td>Bianchi</td>\n",
       "    </tr>\n",
       "    <tr>\n",
       "      <th>25</th>\n",
       "      <td>25</td>\n",
       "      <td>US</td>\n",
       "      <td>Oak and earth intermingle around robust aromas...</td>\n",
       "      <td>King Ridge Vineyard</td>\n",
       "      <td>87</td>\n",
       "      <td>69.0</td>\n",
       "      <td>California</td>\n",
       "      <td>Sonoma Coast</td>\n",
       "      <td>Sonoma</td>\n",
       "      <td>Virginie Boone</td>\n",
       "      <td>@vboone</td>\n",
       "      <td>Castello di Amorosa 2011 King Ridge Vineyard P...</td>\n",
       "      <td>Pinot Noir</td>\n",
       "      <td>Castello di Amorosa</td>\n",
       "    </tr>\n",
       "    <tr>\n",
       "      <th>35</th>\n",
       "      <td>35</td>\n",
       "      <td>US</td>\n",
       "      <td>As with many of the Erath 2010 vineyard design...</td>\n",
       "      <td>Hyland</td>\n",
       "      <td>86</td>\n",
       "      <td>50.0</td>\n",
       "      <td>Oregon</td>\n",
       "      <td>McMinnville</td>\n",
       "      <td>Willamette Valley</td>\n",
       "      <td>Paul Gregutt</td>\n",
       "      <td>@paulgwine</td>\n",
       "      <td>Erath 2010 Hyland Pinot Noir (McMinnville)</td>\n",
       "      <td>Pinot Noir</td>\n",
       "      <td>Erath</td>\n",
       "    </tr>\n",
       "  </tbody>\n",
       "</table>\n",
       "</div>"
      ],
      "text/plain": [
       "    Unnamed: 0 country                                        description  \\\n",
       "4            4      US  Much like the regular bottling from 2012, this...   \n",
       "10          10      US  Soft, supple plum envelopes an oaky structure ...   \n",
       "23          23      US  This wine from the Geneseo district offers aro...   \n",
       "25          25      US  Oak and earth intermingle around robust aromas...   \n",
       "35          35      US  As with many of the Erath 2010 vineyard design...   \n",
       "\n",
       "                           designation  points  price    province  \\\n",
       "4   Vintner's Reserve Wild Child Block      87   65.0      Oregon   \n",
       "10                      Mountain Cuvée      87   19.0  California   \n",
       "23                 Signature Selection      87   22.0  California   \n",
       "25                 King Ridge Vineyard      87   69.0  California   \n",
       "35                              Hyland      86   50.0      Oregon   \n",
       "\n",
       "             region_1           region_2     taster_name  \\\n",
       "4   Willamette Valley  Willamette Valley    Paul Gregutt   \n",
       "10        Napa Valley               Napa  Virginie Boone   \n",
       "23        Paso Robles      Central Coast   Matt Kettmann   \n",
       "25       Sonoma Coast             Sonoma  Virginie Boone   \n",
       "35        McMinnville  Willamette Valley    Paul Gregutt   \n",
       "\n",
       "   taster_twitter_handle                                              title  \\\n",
       "4            @paulgwine   Sweet Cheeks 2012 Vintner's Reserve Wild Child...   \n",
       "10               @vboone  Kirkland Signature 2011 Mountain Cuvée Caberne...   \n",
       "23         @mattkettmann  Bianchi 2011 Signature Selection Merlot (Paso ...   \n",
       "25               @vboone  Castello di Amorosa 2011 King Ridge Vineyard P...   \n",
       "35           @paulgwine          Erath 2010 Hyland Pinot Noir (McMinnville)   \n",
       "\n",
       "               variety               winery  \n",
       "4           Pinot Noir         Sweet Cheeks  \n",
       "10  Cabernet Sauvignon   Kirkland Signature  \n",
       "23              Merlot              Bianchi  \n",
       "25          Pinot Noir  Castello di Amorosa  \n",
       "35          Pinot Noir                Erath  "
      ]
     },
     "execution_count": 6,
     "metadata": {},
     "output_type": "execute_result"
    }
   ],
   "source": [
    "\n",
    "data = pd.read_csv(\"../data/winemag-data-130k-v2.csv\")\n",
    "data.dropna(inplace = True)\n",
    "print(data.shape)\n",
    "data.head()"
   ]
  },
  {
   "cell_type": "code",
   "execution_count": 7,
   "metadata": {},
   "outputs": [],
   "source": [
    "def lemmatize_stemming(text):\n",
    "    return stemmer.stem(WordNetLemmatizer().lemmatize(text, pos='v'))\n",
    "def preprocess(text):\n",
    "    result = []\n",
    "    for token in gensim.utils.simple_preprocess(text):\n",
    "        if token not in gensim.parsing.preprocessing.STOPWORDS and len(token) > 3:\n",
    "            result.append(lemmatize_stemming(token))\n",
    "    return result"
   ]
  },
  {
   "cell_type": "code",
   "execution_count": 14,
   "metadata": {},
   "outputs": [
    {
     "name": "stdout",
     "output_type": "stream",
     "text": [
      "original document: \n",
      "['Much', 'like', 'the', 'regular', 'bottling', 'from', '2012,', 'this', 'comes', 'across', 'as', 'rather', 'rough', 'and', 'tannic,', 'with', 'rustic,', 'earthy,', 'herbal', 'characteristics.', 'Nonetheless,', 'if', 'you', 'think', 'of', 'it', 'as', 'a', 'pleasantly', 'unfussy', 'country', 'wine,', \"it's\", 'a', 'good', 'companion', 'to', 'a', 'hearty', 'winter', 'stew.']\n",
      "\n",
      "\n",
      " tokenized and lemmatized document: \n",
      "['like', 'regular', 'bottl', 'come', 'rough', 'tannic', 'rustic', 'earthi', 'herbal', 'characterist', 'nonetheless', 'think', 'pleasantli', 'unfussi', 'countri', 'wine', 'good', 'companion', 'hearti', 'winter', 'stew']\n"
     ]
    }
   ],
   "source": [
    "sample = data.iloc[0]['description']\n",
    "\n",
    "print('original document: ')\n",
    "words = []\n",
    "for word in sample.split(' '):\n",
    "    words.append(word)\n",
    "print(words)\n",
    "print('\\n\\n tokenized and lemmatized document: ')\n",
    "print(preprocess(sample))"
   ]
  },
  {
   "cell_type": "code",
   "execution_count": 21,
   "metadata": {},
   "outputs": [
    {
     "data": {
      "text/plain": [
       "4     [like, regular, bottl, come, rough, tannic, ru...\n",
       "10    [soft, suppl, plum, envelop, oaki, structur, c...\n",
       "23    [wine, geneseo, district, offer, aroma, sour, ...\n",
       "25    [earth, intermingl, robust, aroma, forest, flo...\n",
       "35    [erath, vineyard, design, strongli, herbal, no...\n",
       "Name: description, dtype: object"
      ]
     },
     "execution_count": 21,
     "metadata": {},
     "output_type": "execute_result"
    }
   ],
   "source": [
    "#processed_desc = data.loc[0:100,['description']].applymap(preprocess)\n",
    "#processed_desc.head()\n",
    "\n",
    "#processed_desc = processed_desc.values\n",
    "\n",
    "processed_desc = data['description'].map(preprocess)\n",
    "processed_desc.head()"
   ]
  },
  {
   "cell_type": "code",
   "execution_count": 22,
   "metadata": {},
   "outputs": [
    {
     "name": "stdout",
     "output_type": "stream",
     "text": [
      "0 bottl\n",
      "1 characterist\n",
      "2 come\n",
      "3 companion\n",
      "4 countri\n",
      "5 earthi\n",
      "6 good\n",
      "7 hearti\n",
      "8 herbal\n",
      "9 like\n",
      "10 nonetheless\n"
     ]
    }
   ],
   "source": [
    "dictionary = gensim.corpora.Dictionary(processed_desc)\n",
    "count = 0\n",
    "for k, v in dictionary.iteritems():\n",
    "    print(k, v)\n",
    "    count += 1\n",
    "    if count > 10:\n",
    "        break"
   ]
  },
  {
   "cell_type": "code",
   "execution_count": 23,
   "metadata": {},
   "outputs": [],
   "source": [
    "dictionary.filter_extremes(no_below=15, no_above=0.5, keep_n=100000)"
   ]
  },
  {
   "cell_type": "code",
   "execution_count": 24,
   "metadata": {},
   "outputs": [
    {
     "data": {
      "text/plain": [
       "[(0, 1),\n",
       " (1, 1),\n",
       " (2, 1),\n",
       " (3, 1),\n",
       " (4, 1),\n",
       " (5, 1),\n",
       " (6, 1),\n",
       " (7, 1),\n",
       " (8, 1),\n",
       " (9, 1),\n",
       " (10, 1),\n",
       " (11, 1),\n",
       " (12, 1),\n",
       " (13, 1),\n",
       " (14, 1),\n",
       " (15, 1),\n",
       " (16, 1),\n",
       " (17, 1),\n",
       " (18, 1)]"
      ]
     },
     "execution_count": 24,
     "metadata": {},
     "output_type": "execute_result"
    }
   ],
   "source": [
    "bow_corpus = [dictionary.doc2bow(desc) for desc in processed_desc]\n",
    "bow_corpus[0]"
   ]
  },
  {
   "cell_type": "code",
   "execution_count": 25,
   "metadata": {},
   "outputs": [
    {
     "name": "stdout",
     "output_type": "stream",
     "text": [
      "Word 0 (\"bottl\") appears 1 time.\n",
      "Word 1 (\"characterist\") appears 1 time.\n",
      "Word 2 (\"come\") appears 1 time.\n",
      "Word 3 (\"companion\") appears 1 time.\n",
      "Word 4 (\"countri\") appears 1 time.\n",
      "Word 5 (\"earthi\") appears 1 time.\n",
      "Word 6 (\"good\") appears 1 time.\n",
      "Word 7 (\"hearti\") appears 1 time.\n",
      "Word 8 (\"herbal\") appears 1 time.\n",
      "Word 9 (\"like\") appears 1 time.\n",
      "Word 10 (\"nonetheless\") appears 1 time.\n",
      "Word 11 (\"pleasantli\") appears 1 time.\n",
      "Word 12 (\"regular\") appears 1 time.\n",
      "Word 13 (\"rough\") appears 1 time.\n",
      "Word 14 (\"rustic\") appears 1 time.\n",
      "Word 15 (\"stew\") appears 1 time.\n",
      "Word 16 (\"tannic\") appears 1 time.\n",
      "Word 17 (\"think\") appears 1 time.\n",
      "Word 18 (\"unfussi\") appears 1 time.\n"
     ]
    }
   ],
   "source": [
    "bow_doc_4310 = bow_corpus[0]\n",
    "for i in range(len(bow_doc_4310)):\n",
    "    print(\"Word {} (\\\"{}\\\") appears {} time.\".format(bow_doc_4310[i][0], \n",
    "                                               dictionary[bow_doc_4310[i][0]], \n",
    "bow_doc_4310[i][1]))"
   ]
  },
  {
   "cell_type": "code",
   "execution_count": 26,
   "metadata": {},
   "outputs": [
    {
     "name": "stdout",
     "output_type": "stream",
     "text": [
      "[(0, 0.09966859660975297),\n",
      " (1, 0.22647119663306559),\n",
      " (2, 0.1297317054310132),\n",
      " (3, 0.27146076727364016),\n",
      " (4, 0.3098664608133152),\n",
      " (5, 0.14124919658276547),\n",
      " (6, 0.14079933673089798),\n",
      " (7, 0.21328960936752547),\n",
      " (8, 0.15836129686412348),\n",
      " (9, 0.1272778066794725),\n",
      " (10, 0.2796659529458348),\n",
      " (11, 0.2696122989249046),\n",
      " (12, 0.2819582076357378),\n",
      " (13, 0.2588373331204153),\n",
      " (14, 0.22431687021128732),\n",
      " (15, 0.245830588670773),\n",
      " (16, 0.15122010109191425),\n",
      " (17, 0.28690187493381614),\n",
      " (18, 0.3352019092481413)]\n"
     ]
    }
   ],
   "source": [
    "from gensim import corpora, models\n",
    "tfidf = models.TfidfModel(bow_corpus)\n",
    "corpus_tfidf = tfidf[bow_corpus]\n",
    "from pprint import pprint\n",
    "for doc in corpus_tfidf:\n",
    "    pprint(doc)\n",
    "    break"
   ]
  },
  {
   "cell_type": "code",
   "execution_count": 27,
   "metadata": {},
   "outputs": [],
   "source": [
    "lda_model = gensim.models.LdaMulticore(bow_corpus, num_topics=10, id2word=dictionary, passes=2, workers=2)"
   ]
  },
  {
   "cell_type": "code",
   "execution_count": 28,
   "metadata": {},
   "outputs": [
    {
     "name": "stdout",
     "output_type": "stream",
     "text": [
      "Topic: 0 \n",
      "Words: 0.043*\"fruit\" + 0.026*\"aroma\" + 0.021*\"cherri\" + 0.019*\"spice\" + 0.018*\"finish\" + 0.017*\"herb\" + 0.013*\"palat\" + 0.013*\"tannin\" + 0.011*\"barrel\" + 0.011*\"note\"\n",
      "Topic: 1 \n",
      "Words: 0.018*\"aroma\" + 0.018*\"fruit\" + 0.017*\"lemon\" + 0.016*\"light\" + 0.015*\"blend\" + 0.014*\"palat\" + 0.014*\"fresh\" + 0.013*\"acid\" + 0.012*\"appl\" + 0.012*\"finish\"\n",
      "Topic: 2 \n",
      "Words: 0.022*\"fruit\" + 0.012*\"vineyard\" + 0.009*\"rich\" + 0.009*\"acid\" + 0.009*\"sugar\" + 0.009*\"cherri\" + 0.008*\"finish\" + 0.008*\"soft\" + 0.007*\"barrel\" + 0.007*\"drink\"\n",
      "Topic: 3 \n",
      "Words: 0.052*\"cabernet\" + 0.031*\"sauvignon\" + 0.031*\"blend\" + 0.027*\"merlot\" + 0.024*\"fruit\" + 0.019*\"franc\" + 0.019*\"petit\" + 0.019*\"tannin\" + 0.015*\"finish\" + 0.014*\"verdot\"\n",
      "Topic: 4 \n",
      "Words: 0.022*\"finish\" + 0.020*\"tannin\" + 0.019*\"fruit\" + 0.019*\"black\" + 0.015*\"cherri\" + 0.011*\"soft\" + 0.011*\"palat\" + 0.010*\"vineyard\" + 0.009*\"bodi\" + 0.009*\"ripe\"\n",
      "Topic: 5 \n",
      "Words: 0.028*\"fruit\" + 0.027*\"black\" + 0.020*\"dark\" + 0.018*\"cherri\" + 0.015*\"tannin\" + 0.014*\"chocol\" + 0.011*\"time\" + 0.011*\"bottl\" + 0.010*\"vineyard\" + 0.009*\"age\"\n",
      "Topic: 6 \n",
      "Words: 0.035*\"bodi\" + 0.022*\"textur\" + 0.018*\"fruit\" + 0.017*\"medium\" + 0.017*\"finish\" + 0.017*\"cherri\" + 0.016*\"aroma\" + 0.015*\"like\" + 0.014*\"tannin\" + 0.014*\"light\"\n",
      "Topic: 7 \n",
      "Words: 0.030*\"black\" + 0.027*\"palat\" + 0.026*\"nose\" + 0.021*\"cherri\" + 0.019*\"fruit\" + 0.016*\"aroma\" + 0.013*\"bottl\" + 0.013*\"plum\" + 0.012*\"dri\" + 0.012*\"pepper\"\n",
      "Topic: 8 \n",
      "Words: 0.021*\"finish\" + 0.018*\"acid\" + 0.016*\"appl\" + 0.014*\"pinot\" + 0.014*\"fruit\" + 0.011*\"offer\" + 0.010*\"crisp\" + 0.010*\"white\" + 0.010*\"textur\" + 0.009*\"bodi\"\n",
      "Topic: 9 \n",
      "Words: 0.022*\"palat\" + 0.019*\"aroma\" + 0.018*\"fruit\" + 0.018*\"nose\" + 0.018*\"appl\" + 0.014*\"lemon\" + 0.013*\"lime\" + 0.012*\"pear\" + 0.012*\"bottl\" + 0.012*\"orang\"\n"
     ]
    }
   ],
   "source": [
    "for idx, topic in lda_model.print_topics(-1):\n",
    "    print('Topic: {} \\nWords: {}'.format(idx, topic))"
   ]
  },
  {
   "cell_type": "code",
   "execution_count": 29,
   "metadata": {},
   "outputs": [
    {
     "name": "stdout",
     "output_type": "stream",
     "text": [
      "Topic: 0 Word: 0.007*\"appl\" + 0.006*\"bodi\" + 0.006*\"aroma\" + 0.006*\"pear\" + 0.006*\"light\" + 0.005*\"fruit\" + 0.005*\"acid\" + 0.005*\"finish\" + 0.005*\"note\" + 0.005*\"lemon\"\n",
      "Topic: 1 Word: 0.006*\"fruit\" + 0.006*\"finish\" + 0.005*\"cherri\" + 0.005*\"strawberri\" + 0.005*\"light\" + 0.005*\"acid\" + 0.005*\"bodi\" + 0.005*\"drink\" + 0.005*\"vineyard\" + 0.005*\"tannin\"\n",
      "Topic: 2 Word: 0.006*\"cherri\" + 0.006*\"fruit\" + 0.006*\"black\" + 0.005*\"vineyard\" + 0.005*\"finish\" + 0.005*\"tannin\" + 0.005*\"acid\" + 0.004*\"dark\" + 0.004*\"spice\" + 0.004*\"palat\"\n",
      "Topic: 3 Word: 0.009*\"black\" + 0.007*\"cherri\" + 0.006*\"tannin\" + 0.005*\"pepper\" + 0.005*\"bodi\" + 0.005*\"fruit\" + 0.005*\"blackberri\" + 0.005*\"nose\" + 0.005*\"palat\" + 0.005*\"dri\"\n",
      "Topic: 4 Word: 0.008*\"black\" + 0.007*\"fruit\" + 0.006*\"aroma\" + 0.006*\"cherri\" + 0.006*\"dark\" + 0.006*\"palat\" + 0.006*\"note\" + 0.005*\"spice\" + 0.005*\"blend\" + 0.005*\"nose\"\n",
      "Topic: 5 Word: 0.018*\"cabernet\" + 0.012*\"merlot\" + 0.011*\"sauvignon\" + 0.010*\"franc\" + 0.009*\"blend\" + 0.009*\"herb\" + 0.008*\"tannin\" + 0.008*\"aroma\" + 0.008*\"petit\" + 0.008*\"fruit\"\n",
      "Topic: 6 Word: 0.007*\"fruit\" + 0.006*\"aroma\" + 0.006*\"herb\" + 0.006*\"finish\" + 0.005*\"blend\" + 0.005*\"cabernet\" + 0.005*\"note\" + 0.005*\"vineyard\" + 0.005*\"black\" + 0.005*\"spice\"\n",
      "Topic: 7 Word: 0.007*\"nose\" + 0.006*\"palat\" + 0.006*\"cherri\" + 0.005*\"black\" + 0.005*\"bottl\" + 0.005*\"fruit\" + 0.004*\"light\" + 0.004*\"show\" + 0.004*\"aroma\" + 0.004*\"appl\"\n",
      "Topic: 8 Word: 0.010*\"appl\" + 0.008*\"lemon\" + 0.006*\"pear\" + 0.006*\"acid\" + 0.006*\"white\" + 0.006*\"lime\" + 0.006*\"peach\" + 0.005*\"finish\" + 0.005*\"palat\" + 0.005*\"bodi\"\n",
      "Topic: 9 Word: 0.006*\"appl\" + 0.006*\"light\" + 0.006*\"fresh\" + 0.006*\"aroma\" + 0.006*\"textur\" + 0.005*\"finish\" + 0.005*\"fruit\" + 0.005*\"like\" + 0.005*\"acid\" + 0.005*\"bodi\"\n"
     ]
    }
   ],
   "source": [
    "lda_model_tfidf = gensim.models.LdaMulticore(corpus_tfidf, num_topics=10, id2word=dictionary, passes=2, workers=4)\n",
    "for idx, topic in lda_model_tfidf.print_topics(-1):\n",
    "    print('Topic: {} Word: {}'.format(idx, topic))\n"
   ]
  },
  {
   "cell_type": "code",
   "execution_count": 30,
   "metadata": {},
   "outputs": [
    {
     "name": "stdout",
     "output_type": "stream",
     "text": [
      "\n",
      "Score: 0.6563329100608826\t \n",
      "Topic: 0.028*\"fruit\" + 0.027*\"black\" + 0.020*\"dark\" + 0.018*\"cherri\" + 0.015*\"tannin\" + 0.014*\"chocol\" + 0.011*\"time\" + 0.011*\"bottl\" + 0.010*\"vineyard\" + 0.009*\"age\"\n",
      "\n",
      "Score: 0.3036459982395172\t \n",
      "Topic: 0.022*\"finish\" + 0.020*\"tannin\" + 0.019*\"fruit\" + 0.019*\"black\" + 0.015*\"cherri\" + 0.011*\"soft\" + 0.011*\"palat\" + 0.010*\"vineyard\" + 0.009*\"bodi\" + 0.009*\"ripe\"\n"
     ]
    }
   ],
   "source": [
    "for index, score in sorted(lda_model[bow_corpus[0]], key=lambda tup: -1*tup[1]):\n",
    "    print(\"\\nScore: {}\\t \\nTopic: {}\".format(score, lda_model.print_topic(index, 10)))"
   ]
  },
  {
   "cell_type": "code",
   "execution_count": 31,
   "metadata": {},
   "outputs": [
    {
     "name": "stdout",
     "output_type": "stream",
     "text": [
      "\n",
      "Score: 0.7075772285461426\t \n",
      "Topic: 0.008*\"black\" + 0.007*\"fruit\" + 0.006*\"aroma\" + 0.006*\"cherri\" + 0.006*\"dark\" + 0.006*\"palat\" + 0.006*\"note\" + 0.005*\"spice\" + 0.005*\"blend\" + 0.005*\"nose\"\n",
      "\n",
      "Score: 0.2523968815803528\t \n",
      "Topic: 0.006*\"fruit\" + 0.006*\"finish\" + 0.005*\"cherri\" + 0.005*\"strawberri\" + 0.005*\"light\" + 0.005*\"acid\" + 0.005*\"bodi\" + 0.005*\"drink\" + 0.005*\"vineyard\" + 0.005*\"tannin\"\n"
     ]
    }
   ],
   "source": [
    "for index, score in sorted(lda_model_tfidf[bow_corpus[0]], key=lambda tup: -1*tup[1]):\n",
    "    print(\"\\nScore: {}\\t \\nTopic: {}\".format(score, lda_model_tfidf.print_topic(index, 10)))"
   ]
  },
  {
   "cell_type": "code",
   "execution_count": 32,
   "metadata": {},
   "outputs": [
    {
     "name": "stdout",
     "output_type": "stream",
     "text": [
      "Score: 0.5124780535697937\t Topic: 0.022*\"fruit\" + 0.012*\"vineyard\" + 0.009*\"rich\" + 0.009*\"acid\" + 0.009*\"sugar\"\n",
      "Score: 0.43749716877937317\t Topic: 0.030*\"black\" + 0.027*\"palat\" + 0.026*\"nose\" + 0.021*\"cherri\" + 0.019*\"fruit\"\n"
     ]
    }
   ],
   "source": [
    "unseen_document = 'This wine comes from the northernmost of the Grand Crus in Gevrey-Chambertin. Immense red fruits are as immense as the tannins, both laced with intense, juicy acidity. The wines richness will be enhanced as it ages. Drink from 2027'\n",
    "bow_vector = dictionary.doc2bow(preprocess(unseen_document))\n",
    "for index, score in sorted(lda_model[bow_vector], key=lambda tup: -1*tup[1]):\n",
    "    print(\"Score: {}\\t Topic: {}\".format(score, lda_model.print_topic(index, 5)))"
   ]
  },
  {
   "cell_type": "code",
   "execution_count": null,
   "metadata": {},
   "outputs": [],
   "source": []
  }
 ],
 "metadata": {
  "kernelspec": {
   "display_name": "Python 3",
   "language": "python",
   "name": "python3"
  },
  "language_info": {
   "codemirror_mode": {
    "name": "ipython",
    "version": 3
   },
   "file_extension": ".py",
   "mimetype": "text/x-python",
   "name": "python",
   "nbconvert_exporter": "python",
   "pygments_lexer": "ipython3",
   "version": "3.6.5"
  }
 },
 "nbformat": 4,
 "nbformat_minor": 2
}
