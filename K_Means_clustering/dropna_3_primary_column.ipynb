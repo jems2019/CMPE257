{
 "cells": [
  {
   "cell_type": "heading",
   "metadata": {},
   "level": 1,
   "source": [
    "Data Cleaning process"
   ]
  },
  {
   "cell_type": "markdown",
   "metadata": {},
   "source": [
    "Data Cleaning for Wine Review dataset found at: https://www.kaggle.com/zynicide/wine-reviews#winemag-data-130k-v2.csv\n"
   ]
  },
  {
   "cell_type": "code",
   "execution_count": 1,
   "metadata": {},
   "outputs": [],
   "source": [
    "import pandas as pd\n",
    "import re"
   ]
  },
  {
   "cell_type": "code",
   "execution_count": 2,
   "metadata": {},
   "outputs": [],
   "source": [
    "# Read in winemag-data-130k-v2.csv file\n",
    "df = pd.read_csv('winemag-data-130k-v2.csv', sep=',')"
   ]
  },
  {
   "cell_type": "code",
   "execution_count": 3,
   "metadata": {},
   "outputs": [
    {
     "data": {
      "text/plain": [
       "426"
      ]
     },
     "execution_count": 3,
     "metadata": {},
     "output_type": "execute_result"
    }
   ],
   "source": [
    "# Gets the length of unique provinces within the dataset\n",
    "len(df.province.unique())"
   ]
  },
  {
   "cell_type": "code",
   "execution_count": 4,
   "metadata": {},
   "outputs": [
    {
     "data": {
      "text/plain": [
       "63"
      ]
     },
     "execution_count": 4,
     "metadata": {},
     "output_type": "execute_result"
    }
   ],
   "source": [
    "# Gets the rows that have null provinces from the dataset\n",
    "df.province.isna().sum()\n",
    "df.province.isnull().sum()"
   ]
  },
  {
   "cell_type": "code",
   "execution_count": 5,
   "metadata": {},
   "outputs": [
    {
     "data": {
      "text/plain": [
       "array(['Sicily & Sardinia', 'Douro', 'Oregon', 'Michigan',\n",
       "       'Northern Spain', 'Alsace', 'Rheinhessen', 'California', 'Mosel',\n",
       "       'Other', 'Mendoza Province', 'Virginia', 'Beaujolais',\n",
       "       'Colchagua Valley', 'Southern Italy', 'Maule Valley', 'Bordeaux',\n",
       "       'Maipo Valley', 'Washington', 'Central Italy', 'Champagne',\n",
       "       'Burgundy', 'South Australia', 'Tejo', 'Rapel Valley', 'Galicia',\n",
       "       'France Other', 'Tuscany', 'Burgenland', 'New York',\n",
       "       'Leyda Valley', 'Piedmont', 'Stellenbosch',\n",
       "       'Simonsberg-Stellenbosch', 'Walker Bay', 'Alentejano',\n",
       "       'Central Spain', 'Southwest France', 'Aconcagua Valley',\n",
       "       'Loncomilla Valley', 'Marlborough', 'Northeastern Italy',\n",
       "       'Casablanca Valley', 'Veneto', 'Western Cape', 'Judean Hills',\n",
       "       'Alentejo', 'Coastal Region', 'Rhône Valley', 'Galilee',\n",
       "       'Beira Atlantico', 'Tokaj', 'Leithaberg', 'Santorini', 'Kremstal',\n",
       "       'Catalonia', 'Recas', \"Hawke's Bay\", 'Curicó Valley',\n",
       "       'Limarí Valley', 'Colchagua Costa', 'Languedoc-Roussillon',\n",
       "       'Provence', 'Victoria', 'Rheingau', 'Tokaji', 'Naoussa',\n",
       "       'Valle de Guadalupe', 'Central Valley', 'Lontué Valley',\n",
       "       'Italy Other', 'Weinviertel', 'Thermenregion', 'Niederösterreich',\n",
       "       'Wagram', 'Loire Valley', 'Lombardy', 'Ontario',\n",
       "       'Österreichischer Sekt', 'Kamptal', 'Steiermark', 'Südsteiermark',\n",
       "       'Crete', 'Vinho Verde', 'Idaho', 'Western Australia', 'Levante',\n",
       "       'Martinborough', 'Central Otago', 'Lisboa', 'Texas',\n",
       "       'Península de Setúbal', 'Australia Other', 'Tasmania', 'Franken',\n",
       "       'Ahr', 'Nahe', nan, 'Dealu Mare', 'Port', 'Darling', 'Chile',\n",
       "       'Südoststeiermark', 'Corinth', 'Halkidiki', 'Thrace', 'Pfalz',\n",
       "       'Robertson', 'Dan', 'Northwestern Italy', 'Andalucia',\n",
       "       'Awatere Valley', 'Wiener Gemischter Satz', 'Wachau',\n",
       "       'Pennsylvania', 'Swartland', 'Dão', 'Wagram-Donauland',\n",
       "       'Rio Claro', 'Villány', 'Cachapoal Valley', 'Jidvei', 'America',\n",
       "       'Traisental', 'Bairrada', 'Negev Hills', 'Ribatejano', 'Duriense',\n",
       "       'New Jersey', 'Beiras', 'Spanish Islands', 'Upper Galilee',\n",
       "       'Vinho Espumante', 'Epanomi', 'Nemea', 'Peloponnese',\n",
       "       'Aconcagua Costa', 'Moravia', 'Slovenia', 'Terras do Dão',\n",
       "       'Beira Interior', 'Panciu', 'Bío Bío Valley', 'Romania',\n",
       "       'Portuguese Table Wine', 'Minho', 'Missouri', 'New Mexico',\n",
       "       'Nevada', 'Bucelas', 'Peumo', 'San Antonio', 'Carnuntum',\n",
       "       'Estremadura', 'Canterbury', 'Spain Other', 'Drama', 'Ella Valley',\n",
       "       'Moselle Luxembourgeoise', 'Württemberg', 'Baden', 'Pangeon',\n",
       "       'Elqui Valley', 'Wairau Valley', 'Istria', 'Peljesac', 'Kakheti',\n",
       "       'Canelones', 'England', 'Marchigue', 'Paarl', 'Durbanville',\n",
       "       'Weinland Österreich', 'Mantinia', 'Chalkidiki', 'Lebanon',\n",
       "       'Setubal', 'Mosel-Saar-Ruwer', 'Colorado', 'Pocerina',\n",
       "       'British Columbia', 'Puente Alto', 'Kumeu', 'Trás-os-Montes',\n",
       "       'Shomron', 'Rapsani', 'Vienna', 'New South Wales', 'Nelson',\n",
       "       'Waipara Valley', 'Constantia', 'Arizona', 'Pinto Bandeira',\n",
       "       'Primorska', 'Moldova', 'Uruguay', 'Zenata', 'South Africa',\n",
       "       'Massachusetts', 'Ohio', 'Ica', 'San Vicente', 'Nashik',\n",
       "       'Franschhoek', 'South Island', 'Atlantida', 'Thracian Valley',\n",
       "       'Tarnave', 'Vipavska Dolina', 'Bekaa Valley', 'Elgin',\n",
       "       'Itata Valley', 'Table wine', 'Samson', 'Madeira', 'Cyprus',\n",
       "       'Pageon', 'Vinho Espumante de Qualidade', 'Wellington',\n",
       "       'Danube River Plains', 'Gisborne', 'Obidos', 'Wairarapa',\n",
       "       'Armenia', 'Santa Cruz', 'Korčula', 'Viile Timisului', 'Illinois',\n",
       "       'Aegean', 'Simonsberg-Paarl', 'Juanico', 'Black Sea Coastal',\n",
       "       'Santa Catarina', 'Overberg', 'Atalanti Valley', 'Sebes',\n",
       "       'Moscatel de Setúbal', 'Macedonia', 'Ribatejo', 'Germany',\n",
       "       'Palmela', 'Galil', 'Kras', 'Croatia', 'Waipara', 'Olifants River',\n",
       "       'Montevideo', 'Campanha', 'Israel', 'Neusiedlersee', 'Hungary',\n",
       "       'Lolol Valley', 'Cauquenes Valley', 'Groenekloof', 'Alenquer',\n",
       "       'Goriska Brda', 'Murfatlar', 'Moscatel do Douro',\n",
       "       'Washington-Oregon', 'New Zealand', 'Serra Gaúcha', 'San Jose',\n",
       "       'Vale dos Vinhedos', 'Mittelburgenland', 'Lutzville Valley',\n",
       "       'North Carolina', 'Apalta', 'Malleco', 'Guerrouane', 'Valais',\n",
       "       'Choapa Valley', 'Georgia', 'Ankara', 'Samos', 'Mittelrhein',\n",
       "       'Eisenberg', 'Sagrada Familia', 'Austria', 'Mostar', 'Iowa',\n",
       "       'Tulbagh', 'Cederberg', 'Hemel en Aarde', 'Ceres Plateau',\n",
       "       'Bot River', 'Patras', 'Korinthia', 'Greece', 'San Clemente',\n",
       "       'Podunavlje', 'Florina', 'Buin', 'Haut-Judeé', 'Ukraine',\n",
       "       'Terras do Sado', 'Maipo Valley-Colchagua Valley', 'Brazil',\n",
       "       'Breedekloof', 'Leyda Valley-Maipo Valley', 'Vermont',\n",
       "       'Switzerland', 'Waitaki Valley', 'Eger', 'Golan Heights',\n",
       "       'Fruška Gora', 'Philadelphia', 'Muzla', 'Mátra', 'Pirque', 'Negev',\n",
       "       'Pitsilia Mountains', 'East Coast', 'Mavrodaphne of Patras',\n",
       "       'Attica', 'Progreso', 'Elazığ-Diyarbakir', 'Jonkershoek Valley',\n",
       "       'Tikves', 'Vale Trentino', 'Turkey', 'Waiheke Island', 'Molina',\n",
       "       'Serra do Sudeste', 'Dalmatian Coast', 'Eilandia',\n",
       "       'Dealurile Munteniei', 'Thraki', 'Curicó and Maipo Valleys',\n",
       "       'Štajerska', 'Middle and South Dalmatia', 'Kentucky', 'Župa',\n",
       "       'Pafos', 'Monemvasia', 'Szekszárd', 'Elazığ', 'Cappadocia',\n",
       "       'Kutjevo', 'Ismarikos', 'Connecticut', 'Sithonia',\n",
       "       'Curicó and Leyda Valleys', 'Agioritikos',\n",
       "       'Casablanca-Curicó Valley', 'Piekenierskloof', 'Elim', 'Malgas',\n",
       "       'Beotia', 'Algarve', 'Retsina', 'Amindeo', 'Coelemu',\n",
       "       'Cape South Coast', 'Sopron', 'Bulgaria', 'North Dalmatia',\n",
       "       'Northern Cape', 'Vinho da Mesa', 'Hvar', 'Cephalonia', 'Lemesos',\n",
       "       'Cahul', 'Cyclades', 'Breede River Valley', 'Ticino',\n",
       "       'Vlootenburg', 'Brda', 'Dingač', 'Morocco', 'Achaia',\n",
       "       'Polkadraai Hills', 'Rhode Island', 'Amyndeon', 'Vânju Mare',\n",
       "       'Hrvatsko Primorje', 'Central Greece', 'Dolenjska',\n",
       "       'Österreichischer Perlwein', 'Requinoa',\n",
       "       'Mavrodaphne de Cephalonie', 'Goumenissa', 'Portugal', 'Messinia',\n",
       "       'Lakonia', 'Markopoulo', 'Vinho Licoroso', 'Paardeberg',\n",
       "       'San Antonio de las Minas Valley', 'Krania Olympus', 'Corinthia',\n",
       "       'Slovenska Istra', 'Commandaria', 'Gladstone', 'Jerusalem Hills',\n",
       "       'Mount Athos', 'Colares', 'Helderberg',\n",
       "       'Casablanca & Leyda Valleys', 'Dealurile Hușilor', 'Urla-Thrace',\n",
       "       'Südburgenland', 'Cape Peninsula', 'Codru Region', 'Sterea Ellada',\n",
       "       'Muscat of Patras', 'Imathia', 'Alenteo', 'Canada Other',\n",
       "       'Letrinon', 'Muscat of Kefallonian', 'Thessalikos', 'Hawaii',\n",
       "       'China', 'Limnos', 'Egypt', 'Viile Timis', 'Devon Valley', 'Krk',\n",
       "       'Arcadia', 'Cape Agulhas', 'Kathikas', 'Vin de Pays de Velvendo',\n",
       "       'Landwein Rhein', 'Lesbos', 'Távora-Varosa', 'Neuchâtel'],\n",
       "      dtype=object)"
      ]
     },
     "execution_count": 5,
     "metadata": {},
     "output_type": "execute_result"
    }
   ],
   "source": [
    "# Gets the unique provinces within the dataset\n",
    "df.province.unique()"
   ]
  },
  {
   "cell_type": "code",
   "execution_count": 6,
   "metadata": {},
   "outputs": [
    {
     "name": "stdout",
     "output_type": "stream",
     "text": [
      "California\n"
     ]
    }
   ],
   "source": [
    "# Create reference dictionary that can be used to find the original values prior to the conversion from categorical \n",
    "# to numerical. \n",
    "ref_dict = {}\n",
    "for i, x in enumerate(df.province.unique()):\n",
    "    ref_dict.update({i: x})\n",
    "print(ref_dict[7])"
   ]
  },
  {
   "cell_type": "code",
   "execution_count": 16,
   "metadata": {},
   "outputs": [
    {
     "name": "stdout",
     "output_type": "stream",
     "text": [
      "36247\n"
     ]
    }
   ],
   "source": [
    "count_dict = dict()\n",
    "\n",
    "for index, row in df.iterrows():\n",
    "    if row['province'] in count_dict:\n",
    "        count_dict[row['province']] += 1\n",
    "    else:\n",
    "        count_dict[row['province']] = 1\n",
    "        \n",
    "print(count_dict['California'])\n",
    "print(count_dict['California']/125000)"
   ]
  },
  {
   "cell_type": "code",
   "execution_count": 17,
   "metadata": {},
   "outputs": [
    {
     "name": "stdout",
     "output_type": "stream",
     "text": [
      "0.289976\n"
     ]
    }
   ],
   "source": [
    "print(count_dict['California']/125000)"
   ]
  },
  {
   "cell_type": "code",
   "execution_count": 7,
   "metadata": {},
   "outputs": [],
   "source": [
    "# Creating new column that contains the conversion from categorical to numerical data using the ref_dict\n",
    "df['province_id'] = df['province'].replace(to_replace=ref_dict,)"
   ]
  },
  {
   "cell_type": "code",
   "execution_count": 8,
   "metadata": {},
   "outputs": [
    {
     "data": {
      "text/plain": [
       "708"
      ]
     },
     "execution_count": 8,
     "metadata": {},
     "output_type": "execute_result"
    }
   ],
   "source": [
    "# How many unique values there are \n",
    "\n",
    "df['variety'].unique().size"
   ]
  },
  {
   "cell_type": "code",
   "execution_count": 9,
   "metadata": {},
   "outputs": [
    {
     "data": {
      "text/plain": [
       "Unnamed: 0                  int64\n",
       "country                    object\n",
       "description                object\n",
       "designation                object\n",
       "points                      int64\n",
       "price                     float64\n",
       "province                   object\n",
       "region_1                   object\n",
       "region_2                   object\n",
       "taster_name                object\n",
       "taster_twitter_handle      object\n",
       "title                      object\n",
       "variety                  category\n",
       "winery                     object\n",
       "province_id                object\n",
       "dtype: object"
      ]
     },
     "execution_count": 9,
     "metadata": {},
     "output_type": "execute_result"
    }
   ],
   "source": [
    "# Convert the variety column into category column\n",
    "\n",
    "df['variety'] = df['variety'].astype('category')\n",
    "df.dtypes\n"
   ]
  },
  {
   "cell_type": "code",
   "execution_count": 10,
   "metadata": {},
   "outputs": [
    {
     "data": {
      "text/html": [
       "<div>\n",
       "<style scoped>\n",
       "    .dataframe tbody tr th:only-of-type {\n",
       "        vertical-align: middle;\n",
       "    }\n",
       "\n",
       "    .dataframe tbody tr th {\n",
       "        vertical-align: top;\n",
       "    }\n",
       "\n",
       "    .dataframe thead th {\n",
       "        text-align: right;\n",
       "    }\n",
       "</style>\n",
       "<table border=\"1\" class=\"dataframe\">\n",
       "  <thead>\n",
       "    <tr style=\"text-align: right;\">\n",
       "      <th></th>\n",
       "      <th>Unnamed: 0</th>\n",
       "      <th>country</th>\n",
       "      <th>description</th>\n",
       "      <th>designation</th>\n",
       "      <th>points</th>\n",
       "      <th>price</th>\n",
       "      <th>province</th>\n",
       "      <th>region_1</th>\n",
       "      <th>region_2</th>\n",
       "      <th>taster_name</th>\n",
       "      <th>taster_twitter_handle</th>\n",
       "      <th>title</th>\n",
       "      <th>variety</th>\n",
       "      <th>winery</th>\n",
       "      <th>province_id</th>\n",
       "      <th>variety_numerical</th>\n",
       "    </tr>\n",
       "  </thead>\n",
       "  <tbody>\n",
       "    <tr>\n",
       "      <th>0</th>\n",
       "      <td>0</td>\n",
       "      <td>Italy</td>\n",
       "      <td>Aromas include tropical fruit, broom, brimston...</td>\n",
       "      <td>Vulkà Bianco</td>\n",
       "      <td>87</td>\n",
       "      <td>NaN</td>\n",
       "      <td>Sicily &amp; Sardinia</td>\n",
       "      <td>Etna</td>\n",
       "      <td>NaN</td>\n",
       "      <td>Kerin O’Keefe</td>\n",
       "      <td>@kerinokeefe</td>\n",
       "      <td>Nicosia 2013 Vulkà Bianco  (Etna)</td>\n",
       "      <td>White Blend</td>\n",
       "      <td>Nicosia</td>\n",
       "      <td>Sicily &amp; Sardinia</td>\n",
       "      <td>690</td>\n",
       "    </tr>\n",
       "    <tr>\n",
       "      <th>1</th>\n",
       "      <td>1</td>\n",
       "      <td>Portugal</td>\n",
       "      <td>This is ripe and fruity, a wine that is smooth...</td>\n",
       "      <td>Avidagos</td>\n",
       "      <td>87</td>\n",
       "      <td>15.0</td>\n",
       "      <td>Douro</td>\n",
       "      <td>NaN</td>\n",
       "      <td>NaN</td>\n",
       "      <td>Roger Voss</td>\n",
       "      <td>@vossroger</td>\n",
       "      <td>Quinta dos Avidagos 2011 Avidagos Red (Douro)</td>\n",
       "      <td>Portuguese Red</td>\n",
       "      <td>Quinta dos Avidagos</td>\n",
       "      <td>Douro</td>\n",
       "      <td>450</td>\n",
       "    </tr>\n",
       "    <tr>\n",
       "      <th>2</th>\n",
       "      <td>2</td>\n",
       "      <td>US</td>\n",
       "      <td>Tart and snappy, the flavors of lime flesh and...</td>\n",
       "      <td>NaN</td>\n",
       "      <td>87</td>\n",
       "      <td>14.0</td>\n",
       "      <td>Oregon</td>\n",
       "      <td>Willamette Valley</td>\n",
       "      <td>Willamette Valley</td>\n",
       "      <td>Paul Gregutt</td>\n",
       "      <td>@paulgwine</td>\n",
       "      <td>Rainstorm 2013 Pinot Gris (Willamette Valley)</td>\n",
       "      <td>Pinot Gris</td>\n",
       "      <td>Rainstorm</td>\n",
       "      <td>Oregon</td>\n",
       "      <td>436</td>\n",
       "    </tr>\n",
       "    <tr>\n",
       "      <th>3</th>\n",
       "      <td>3</td>\n",
       "      <td>US</td>\n",
       "      <td>Pineapple rind, lemon pith and orange blossom ...</td>\n",
       "      <td>Reserve Late Harvest</td>\n",
       "      <td>87</td>\n",
       "      <td>13.0</td>\n",
       "      <td>Michigan</td>\n",
       "      <td>Lake Michigan Shore</td>\n",
       "      <td>NaN</td>\n",
       "      <td>Alexander Peartree</td>\n",
       "      <td>NaN</td>\n",
       "      <td>St. Julian 2013 Reserve Late Harvest Riesling ...</td>\n",
       "      <td>Riesling</td>\n",
       "      <td>St. Julian</td>\n",
       "      <td>Michigan</td>\n",
       "      <td>479</td>\n",
       "    </tr>\n",
       "    <tr>\n",
       "      <th>4</th>\n",
       "      <td>4</td>\n",
       "      <td>US</td>\n",
       "      <td>Much like the regular bottling from 2012, this...</td>\n",
       "      <td>Vintner's Reserve Wild Child Block</td>\n",
       "      <td>87</td>\n",
       "      <td>65.0</td>\n",
       "      <td>Oregon</td>\n",
       "      <td>Willamette Valley</td>\n",
       "      <td>Willamette Valley</td>\n",
       "      <td>Paul Gregutt</td>\n",
       "      <td>@paulgwine</td>\n",
       "      <td>Sweet Cheeks 2012 Vintner's Reserve Wild Child...</td>\n",
       "      <td>Pinot Noir</td>\n",
       "      <td>Sweet Cheeks</td>\n",
       "      <td>Oregon</td>\n",
       "      <td>440</td>\n",
       "    </tr>\n",
       "  </tbody>\n",
       "</table>\n",
       "</div>"
      ],
      "text/plain": [
       "   Unnamed: 0   country                                        description  \\\n",
       "0           0     Italy  Aromas include tropical fruit, broom, brimston...   \n",
       "1           1  Portugal  This is ripe and fruity, a wine that is smooth...   \n",
       "2           2        US  Tart and snappy, the flavors of lime flesh and...   \n",
       "3           3        US  Pineapple rind, lemon pith and orange blossom ...   \n",
       "4           4        US  Much like the regular bottling from 2012, this...   \n",
       "\n",
       "                          designation  points  price           province  \\\n",
       "0                        Vulkà Bianco      87    NaN  Sicily & Sardinia   \n",
       "1                            Avidagos      87   15.0              Douro   \n",
       "2                                 NaN      87   14.0             Oregon   \n",
       "3                Reserve Late Harvest      87   13.0           Michigan   \n",
       "4  Vintner's Reserve Wild Child Block      87   65.0             Oregon   \n",
       "\n",
       "              region_1           region_2         taster_name  \\\n",
       "0                 Etna                NaN       Kerin O’Keefe   \n",
       "1                  NaN                NaN          Roger Voss   \n",
       "2    Willamette Valley  Willamette Valley        Paul Gregutt   \n",
       "3  Lake Michigan Shore                NaN  Alexander Peartree   \n",
       "4    Willamette Valley  Willamette Valley        Paul Gregutt   \n",
       "\n",
       "  taster_twitter_handle                                              title  \\\n",
       "0          @kerinokeefe                  Nicosia 2013 Vulkà Bianco  (Etna)   \n",
       "1            @vossroger      Quinta dos Avidagos 2011 Avidagos Red (Douro)   \n",
       "2           @paulgwine       Rainstorm 2013 Pinot Gris (Willamette Valley)   \n",
       "3                   NaN  St. Julian 2013 Reserve Late Harvest Riesling ...   \n",
       "4           @paulgwine   Sweet Cheeks 2012 Vintner's Reserve Wild Child...   \n",
       "\n",
       "          variety               winery        province_id  variety_numerical  \n",
       "0     White Blend              Nicosia  Sicily & Sardinia                690  \n",
       "1  Portuguese Red  Quinta dos Avidagos              Douro                450  \n",
       "2      Pinot Gris            Rainstorm             Oregon                436  \n",
       "3        Riesling           St. Julian           Michigan                479  \n",
       "4      Pinot Noir         Sweet Cheeks             Oregon                440  "
      ]
     },
     "execution_count": 10,
     "metadata": {},
     "output_type": "execute_result"
    }
   ],
   "source": [
    "# create a column with Label encoding for \n",
    "\n",
    "df['variety_numerical'] = df['variety'].cat.codes\n",
    "df.head()\n"
   ]
  },
  {
   "cell_type": "code",
   "execution_count": 11,
   "metadata": {},
   "outputs": [],
   "source": [
    "# Method to extract the date from text\n",
    "# Method takes in a specific row value\n",
    "import re\n",
    "lst = []\n",
    "\n",
    "def getVintage(row):\n",
    "    num = filter(str.isdigit, row)\n",
    "    \n",
    "    # given a particular title, find the date (assumes has 4 digits)\n",
    "    lst = re.findall(r\"\\D(\\d{4})\\D\", row) \n",
    "    \n",
    "    # if there's 4 digit number to the title, write into csv file\n",
    "    if len(lst) == 1: \n",
    "        return (lst[0])\n",
    "    \n",
    "    else:\n",
    "        return "
   ]
  },
  {
   "cell_type": "code",
   "execution_count": 12,
   "metadata": {},
   "outputs": [
    {
     "data": {
      "text/plain": [
       "0    2013\n",
       "1    2011\n",
       "2    2013\n",
       "3    2013\n",
       "4    2012\n",
       "Name: title, dtype: object"
      ]
     },
     "execution_count": 12,
     "metadata": {},
     "output_type": "execute_result"
    }
   ],
   "source": [
    "year = df['title'].apply(getVintage)\n",
    "year.head()"
   ]
  },
  {
   "cell_type": "code",
   "execution_count": 13,
   "metadata": {},
   "outputs": [
    {
     "data": {
      "text/html": [
       "<div>\n",
       "<style scoped>\n",
       "    .dataframe tbody tr th:only-of-type {\n",
       "        vertical-align: middle;\n",
       "    }\n",
       "\n",
       "    .dataframe tbody tr th {\n",
       "        vertical-align: top;\n",
       "    }\n",
       "\n",
       "    .dataframe thead th {\n",
       "        text-align: right;\n",
       "    }\n",
       "</style>\n",
       "<table border=\"1\" class=\"dataframe\">\n",
       "  <thead>\n",
       "    <tr style=\"text-align: right;\">\n",
       "      <th></th>\n",
       "      <th>Unnamed: 0</th>\n",
       "      <th>country</th>\n",
       "      <th>description</th>\n",
       "      <th>designation</th>\n",
       "      <th>points</th>\n",
       "      <th>price</th>\n",
       "      <th>province</th>\n",
       "      <th>region_1</th>\n",
       "      <th>region_2</th>\n",
       "      <th>taster_name</th>\n",
       "      <th>taster_twitter_handle</th>\n",
       "      <th>title</th>\n",
       "      <th>variety</th>\n",
       "      <th>winery</th>\n",
       "      <th>province_id</th>\n",
       "      <th>variety_numerical</th>\n",
       "      <th>vintage</th>\n",
       "    </tr>\n",
       "  </thead>\n",
       "  <tbody>\n",
       "    <tr>\n",
       "      <th>0</th>\n",
       "      <td>0</td>\n",
       "      <td>Italy</td>\n",
       "      <td>Aromas include tropical fruit, broom, brimston...</td>\n",
       "      <td>Vulkà Bianco</td>\n",
       "      <td>87</td>\n",
       "      <td>NaN</td>\n",
       "      <td>Sicily &amp; Sardinia</td>\n",
       "      <td>Etna</td>\n",
       "      <td>NaN</td>\n",
       "      <td>Kerin O’Keefe</td>\n",
       "      <td>@kerinokeefe</td>\n",
       "      <td>Nicosia 2013 Vulkà Bianco  (Etna)</td>\n",
       "      <td>White Blend</td>\n",
       "      <td>Nicosia</td>\n",
       "      <td>Sicily &amp; Sardinia</td>\n",
       "      <td>690</td>\n",
       "      <td>2013</td>\n",
       "    </tr>\n",
       "    <tr>\n",
       "      <th>1</th>\n",
       "      <td>1</td>\n",
       "      <td>Portugal</td>\n",
       "      <td>This is ripe and fruity, a wine that is smooth...</td>\n",
       "      <td>Avidagos</td>\n",
       "      <td>87</td>\n",
       "      <td>15.0</td>\n",
       "      <td>Douro</td>\n",
       "      <td>NaN</td>\n",
       "      <td>NaN</td>\n",
       "      <td>Roger Voss</td>\n",
       "      <td>@vossroger</td>\n",
       "      <td>Quinta dos Avidagos 2011 Avidagos Red (Douro)</td>\n",
       "      <td>Portuguese Red</td>\n",
       "      <td>Quinta dos Avidagos</td>\n",
       "      <td>Douro</td>\n",
       "      <td>450</td>\n",
       "      <td>2011</td>\n",
       "    </tr>\n",
       "    <tr>\n",
       "      <th>2</th>\n",
       "      <td>2</td>\n",
       "      <td>US</td>\n",
       "      <td>Tart and snappy, the flavors of lime flesh and...</td>\n",
       "      <td>NaN</td>\n",
       "      <td>87</td>\n",
       "      <td>14.0</td>\n",
       "      <td>Oregon</td>\n",
       "      <td>Willamette Valley</td>\n",
       "      <td>Willamette Valley</td>\n",
       "      <td>Paul Gregutt</td>\n",
       "      <td>@paulgwine</td>\n",
       "      <td>Rainstorm 2013 Pinot Gris (Willamette Valley)</td>\n",
       "      <td>Pinot Gris</td>\n",
       "      <td>Rainstorm</td>\n",
       "      <td>Oregon</td>\n",
       "      <td>436</td>\n",
       "      <td>2013</td>\n",
       "    </tr>\n",
       "    <tr>\n",
       "      <th>3</th>\n",
       "      <td>3</td>\n",
       "      <td>US</td>\n",
       "      <td>Pineapple rind, lemon pith and orange blossom ...</td>\n",
       "      <td>Reserve Late Harvest</td>\n",
       "      <td>87</td>\n",
       "      <td>13.0</td>\n",
       "      <td>Michigan</td>\n",
       "      <td>Lake Michigan Shore</td>\n",
       "      <td>NaN</td>\n",
       "      <td>Alexander Peartree</td>\n",
       "      <td>NaN</td>\n",
       "      <td>St. Julian 2013 Reserve Late Harvest Riesling ...</td>\n",
       "      <td>Riesling</td>\n",
       "      <td>St. Julian</td>\n",
       "      <td>Michigan</td>\n",
       "      <td>479</td>\n",
       "      <td>2013</td>\n",
       "    </tr>\n",
       "    <tr>\n",
       "      <th>4</th>\n",
       "      <td>4</td>\n",
       "      <td>US</td>\n",
       "      <td>Much like the regular bottling from 2012, this...</td>\n",
       "      <td>Vintner's Reserve Wild Child Block</td>\n",
       "      <td>87</td>\n",
       "      <td>65.0</td>\n",
       "      <td>Oregon</td>\n",
       "      <td>Willamette Valley</td>\n",
       "      <td>Willamette Valley</td>\n",
       "      <td>Paul Gregutt</td>\n",
       "      <td>@paulgwine</td>\n",
       "      <td>Sweet Cheeks 2012 Vintner's Reserve Wild Child...</td>\n",
       "      <td>Pinot Noir</td>\n",
       "      <td>Sweet Cheeks</td>\n",
       "      <td>Oregon</td>\n",
       "      <td>440</td>\n",
       "      <td>2012</td>\n",
       "    </tr>\n",
       "  </tbody>\n",
       "</table>\n",
       "</div>"
      ],
      "text/plain": [
       "   Unnamed: 0   country                                        description  \\\n",
       "0           0     Italy  Aromas include tropical fruit, broom, brimston...   \n",
       "1           1  Portugal  This is ripe and fruity, a wine that is smooth...   \n",
       "2           2        US  Tart and snappy, the flavors of lime flesh and...   \n",
       "3           3        US  Pineapple rind, lemon pith and orange blossom ...   \n",
       "4           4        US  Much like the regular bottling from 2012, this...   \n",
       "\n",
       "                          designation  points  price           province  \\\n",
       "0                        Vulkà Bianco      87    NaN  Sicily & Sardinia   \n",
       "1                            Avidagos      87   15.0              Douro   \n",
       "2                                 NaN      87   14.0             Oregon   \n",
       "3                Reserve Late Harvest      87   13.0           Michigan   \n",
       "4  Vintner's Reserve Wild Child Block      87   65.0             Oregon   \n",
       "\n",
       "              region_1           region_2         taster_name  \\\n",
       "0                 Etna                NaN       Kerin O’Keefe   \n",
       "1                  NaN                NaN          Roger Voss   \n",
       "2    Willamette Valley  Willamette Valley        Paul Gregutt   \n",
       "3  Lake Michigan Shore                NaN  Alexander Peartree   \n",
       "4    Willamette Valley  Willamette Valley        Paul Gregutt   \n",
       "\n",
       "  taster_twitter_handle                                              title  \\\n",
       "0          @kerinokeefe                  Nicosia 2013 Vulkà Bianco  (Etna)   \n",
       "1            @vossroger      Quinta dos Avidagos 2011 Avidagos Red (Douro)   \n",
       "2           @paulgwine       Rainstorm 2013 Pinot Gris (Willamette Valley)   \n",
       "3                   NaN  St. Julian 2013 Reserve Late Harvest Riesling ...   \n",
       "4           @paulgwine   Sweet Cheeks 2012 Vintner's Reserve Wild Child...   \n",
       "\n",
       "          variety               winery        province_id  variety_numerical  \\\n",
       "0     White Blend              Nicosia  Sicily & Sardinia                690   \n",
       "1  Portuguese Red  Quinta dos Avidagos              Douro                450   \n",
       "2      Pinot Gris            Rainstorm             Oregon                436   \n",
       "3        Riesling           St. Julian           Michigan                479   \n",
       "4      Pinot Noir         Sweet Cheeks             Oregon                440   \n",
       "\n",
       "  vintage  \n",
       "0    2013  \n",
       "1    2011  \n",
       "2    2013  \n",
       "3    2013  \n",
       "4    2012  "
      ]
     },
     "execution_count": 13,
     "metadata": {},
     "output_type": "execute_result"
    }
   ],
   "source": [
    "df['vintage'] = year\n",
    "df.head()"
   ]
  },
  {
   "cell_type": "code",
   "execution_count": 14,
   "metadata": {},
   "outputs": [],
   "source": [
    "# drop unused column\n",
    "df.drop(columns='Unnamed: 0',inplace=True)"
   ]
  },
  {
   "cell_type": "code",
   "execution_count": 15,
   "metadata": {},
   "outputs": [],
   "source": [
    "# Remove rows from dataset that have null values in the 'vintage', 'province', and 'variety_numerical' column\n",
    "df_clean = df.dropna(subset=['vintage','province','variety_numerical'])"
   ]
  },
  {
   "cell_type": "raw",
   "metadata": {},
   "source": [
    "# Export cleaned dataset \n",
    "df.to_csv('3column_clean.csv')\n"
   ]
  }
 ],
 "metadata": {
  "kernelspec": {
   "display_name": "Python 3",
   "language": "python",
   "name": "python3"
  },
  "language_info": {
   "codemirror_mode": {
    "name": "ipython",
    "version": 3
   },
   "file_extension": ".py",
   "mimetype": "text/x-python",
   "name": "python",
   "nbconvert_exporter": "python",
   "pygments_lexer": "ipython3",
   "version": "3.6.5"
  }
 },
 "nbformat": 4,
 "nbformat_minor": 1
}
