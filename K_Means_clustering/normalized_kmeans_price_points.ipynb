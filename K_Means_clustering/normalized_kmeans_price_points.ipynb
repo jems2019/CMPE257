{
 "cells": [
  {
   "cell_type": "markdown",
   "metadata": {},
   "source": [
    "# Wine Clustering"
   ]
  },
  {
   "cell_type": "markdown",
   "metadata": {},
   "source": [
    "As a new business, we only have a certain amount of grapes to produce new wine. Using this data set, we would like to know what types of wines were rated best (and with a good price) in specific areas. From the new information we gather, we want to predict the cost of the new wine that would be on the market based on the price of similar types of wine.\n",
    "\n",
    "\n",
    "As a consumer new to drinking wine, we want to know what types of wine were rated best for a given province and year. That way, when we are looking at bottles of wines in stores, we would know whether a specific bottle had high ratings. \n"
   ]
  },
  {
   "cell_type": "code",
   "execution_count": 1,
   "metadata": {},
   "outputs": [],
   "source": [
    "import pandas as pd\n",
    "import numpy as np\n",
    "import pylab as pl\n",
    "\n",
    "from sklearn.cluster import KMeans\n",
    "from sklearn.cluster import AgglomerativeClustering\n",
    "from sklearn import mixture\n",
    "\n",
    "import matplotlib.pyplot as plt\n",
    "from scipy.spatial.distance import cdist\n",
    "import warnings\n",
    "%matplotlib inline"
   ]
  },
  {
   "cell_type": "code",
   "execution_count": 2,
   "metadata": {},
   "outputs": [
    {
     "name": "stdout",
     "output_type": "stream",
     "text": [
      "(116591, 17)\n"
     ]
    },
    {
     "data": {
      "text/html": [
       "<div>\n",
       "<style scoped>\n",
       "    .dataframe tbody tr th:only-of-type {\n",
       "        vertical-align: middle;\n",
       "    }\n",
       "\n",
       "    .dataframe tbody tr th {\n",
       "        vertical-align: top;\n",
       "    }\n",
       "\n",
       "    .dataframe thead th {\n",
       "        text-align: right;\n",
       "    }\n",
       "</style>\n",
       "<table border=\"1\" class=\"dataframe\">\n",
       "  <thead>\n",
       "    <tr style=\"text-align: right;\">\n",
       "      <th></th>\n",
       "      <th>Unnamed: 0</th>\n",
       "      <th>country</th>\n",
       "      <th>description</th>\n",
       "      <th>designation</th>\n",
       "      <th>points</th>\n",
       "      <th>price</th>\n",
       "      <th>province</th>\n",
       "      <th>region_1</th>\n",
       "      <th>region_2</th>\n",
       "      <th>taster_name</th>\n",
       "      <th>taster_twitter_handle</th>\n",
       "      <th>title</th>\n",
       "      <th>variety</th>\n",
       "      <th>winery</th>\n",
       "      <th>province_id</th>\n",
       "      <th>variety_numerical</th>\n",
       "      <th>vintage</th>\n",
       "    </tr>\n",
       "  </thead>\n",
       "  <tbody>\n",
       "    <tr>\n",
       "      <th>1</th>\n",
       "      <td>1</td>\n",
       "      <td>Portugal</td>\n",
       "      <td>This is ripe and fruity, a wine that is smooth...</td>\n",
       "      <td>Avidagos</td>\n",
       "      <td>87</td>\n",
       "      <td>15.0</td>\n",
       "      <td>Douro</td>\n",
       "      <td>NaN</td>\n",
       "      <td>NaN</td>\n",
       "      <td>Roger Voss</td>\n",
       "      <td>@vossroger</td>\n",
       "      <td>Quinta dos Avidagos 2011 Avidagos Red (Douro)</td>\n",
       "      <td>Portuguese Red</td>\n",
       "      <td>Quinta dos Avidagos</td>\n",
       "      <td>1</td>\n",
       "      <td>450</td>\n",
       "      <td>2011</td>\n",
       "    </tr>\n",
       "    <tr>\n",
       "      <th>2</th>\n",
       "      <td>2</td>\n",
       "      <td>US</td>\n",
       "      <td>Tart and snappy, the flavors of lime flesh and...</td>\n",
       "      <td>NaN</td>\n",
       "      <td>87</td>\n",
       "      <td>14.0</td>\n",
       "      <td>Oregon</td>\n",
       "      <td>Willamette Valley</td>\n",
       "      <td>Willamette Valley</td>\n",
       "      <td>Paul Gregutt</td>\n",
       "      <td>@paulgwine</td>\n",
       "      <td>Rainstorm 2013 Pinot Gris (Willamette Valley)</td>\n",
       "      <td>Pinot Gris</td>\n",
       "      <td>Rainstorm</td>\n",
       "      <td>2</td>\n",
       "      <td>436</td>\n",
       "      <td>2013</td>\n",
       "    </tr>\n",
       "    <tr>\n",
       "      <th>3</th>\n",
       "      <td>3</td>\n",
       "      <td>US</td>\n",
       "      <td>Pineapple rind, lemon pith and orange blossom ...</td>\n",
       "      <td>Reserve Late Harvest</td>\n",
       "      <td>87</td>\n",
       "      <td>13.0</td>\n",
       "      <td>Michigan</td>\n",
       "      <td>Lake Michigan Shore</td>\n",
       "      <td>NaN</td>\n",
       "      <td>Alexander Peartree</td>\n",
       "      <td>NaN</td>\n",
       "      <td>St. Julian 2013 Reserve Late Harvest Riesling ...</td>\n",
       "      <td>Riesling</td>\n",
       "      <td>St. Julian</td>\n",
       "      <td>3</td>\n",
       "      <td>479</td>\n",
       "      <td>2013</td>\n",
       "    </tr>\n",
       "    <tr>\n",
       "      <th>4</th>\n",
       "      <td>4</td>\n",
       "      <td>US</td>\n",
       "      <td>Much like the regular bottling from 2012, this...</td>\n",
       "      <td>Vintner's Reserve Wild Child Block</td>\n",
       "      <td>87</td>\n",
       "      <td>65.0</td>\n",
       "      <td>Oregon</td>\n",
       "      <td>Willamette Valley</td>\n",
       "      <td>Willamette Valley</td>\n",
       "      <td>Paul Gregutt</td>\n",
       "      <td>@paulgwine</td>\n",
       "      <td>Sweet Cheeks 2012 Vintner's Reserve Wild Child...</td>\n",
       "      <td>Pinot Noir</td>\n",
       "      <td>Sweet Cheeks</td>\n",
       "      <td>2</td>\n",
       "      <td>440</td>\n",
       "      <td>2012</td>\n",
       "    </tr>\n",
       "    <tr>\n",
       "      <th>5</th>\n",
       "      <td>5</td>\n",
       "      <td>Spain</td>\n",
       "      <td>Blackberry and raspberry aromas show a typical...</td>\n",
       "      <td>Ars In Vitro</td>\n",
       "      <td>87</td>\n",
       "      <td>15.0</td>\n",
       "      <td>Northern Spain</td>\n",
       "      <td>Navarra</td>\n",
       "      <td>NaN</td>\n",
       "      <td>Michael Schachner</td>\n",
       "      <td>@wineschach</td>\n",
       "      <td>Tandem 2011 Ars In Vitro Tempranillo-Merlot (N...</td>\n",
       "      <td>Tempranillo-Merlot</td>\n",
       "      <td>Tandem</td>\n",
       "      <td>4</td>\n",
       "      <td>590</td>\n",
       "      <td>2011</td>\n",
       "    </tr>\n",
       "  </tbody>\n",
       "</table>\n",
       "</div>"
      ],
      "text/plain": [
       "   Unnamed: 0   country                                        description  \\\n",
       "1           1  Portugal  This is ripe and fruity, a wine that is smooth...   \n",
       "2           2        US  Tart and snappy, the flavors of lime flesh and...   \n",
       "3           3        US  Pineapple rind, lemon pith and orange blossom ...   \n",
       "4           4        US  Much like the regular bottling from 2012, this...   \n",
       "5           5     Spain  Blackberry and raspberry aromas show a typical...   \n",
       "\n",
       "                          designation  points  price        province  \\\n",
       "1                            Avidagos      87   15.0           Douro   \n",
       "2                                 NaN      87   14.0          Oregon   \n",
       "3                Reserve Late Harvest      87   13.0        Michigan   \n",
       "4  Vintner's Reserve Wild Child Block      87   65.0          Oregon   \n",
       "5                        Ars In Vitro      87   15.0  Northern Spain   \n",
       "\n",
       "              region_1           region_2         taster_name  \\\n",
       "1                  NaN                NaN          Roger Voss   \n",
       "2    Willamette Valley  Willamette Valley        Paul Gregutt   \n",
       "3  Lake Michigan Shore                NaN  Alexander Peartree   \n",
       "4    Willamette Valley  Willamette Valley        Paul Gregutt   \n",
       "5              Navarra                NaN   Michael Schachner   \n",
       "\n",
       "  taster_twitter_handle                                              title  \\\n",
       "1            @vossroger      Quinta dos Avidagos 2011 Avidagos Red (Douro)   \n",
       "2           @paulgwine       Rainstorm 2013 Pinot Gris (Willamette Valley)   \n",
       "3                   NaN  St. Julian 2013 Reserve Late Harvest Riesling ...   \n",
       "4           @paulgwine   Sweet Cheeks 2012 Vintner's Reserve Wild Child...   \n",
       "5           @wineschach  Tandem 2011 Ars In Vitro Tempranillo-Merlot (N...   \n",
       "\n",
       "              variety               winery  province_id  variety_numerical  \\\n",
       "1      Portuguese Red  Quinta dos Avidagos            1                450   \n",
       "2          Pinot Gris            Rainstorm            2                436   \n",
       "3            Riesling           St. Julian            3                479   \n",
       "4          Pinot Noir         Sweet Cheeks            2                440   \n",
       "5  Tempranillo-Merlot               Tandem            4                590   \n",
       "\n",
       "   vintage  \n",
       "1     2011  \n",
       "2     2013  \n",
       "3     2013  \n",
       "4     2012  \n",
       "5     2011  "
      ]
     },
     "execution_count": 2,
     "metadata": {},
     "output_type": "execute_result"
    }
   ],
   "source": [
    "# Load the cleaned data into dataframe\n",
    "\n",
    "\"\"\" \n",
    "    Information of cleaned dataset:\n",
    "    \n",
    "    - Province and Variety of wine is transfomed from a categorical attribute to numerical attribute\n",
    "    - Vintage of wine is extracted from the title of each wine\n",
    "    - Rows were removed if there were null values present within each of the three attributes (Province, Variety, Vintage)\n",
    "    - Dataset size was reduced from 125,000 rows to 22,000 rows\n",
    "    \n",
    "\"\"\"\n",
    "\n",
    "data = pd.read_csv(\"3column_clean.csv\")\n",
    "data.dropna(subset = ['points', 'price'], inplace = True)\n",
    "print(data.shape)\n",
    "data.head()"
   ]
  },
  {
   "cell_type": "code",
   "execution_count": 3,
   "metadata": {},
   "outputs": [],
   "source": [
    "variety_dict = dict()\n",
    "\n",
    "for index, row in data.iterrows():\n",
    "    if row['variety_numerical'] not in variety_dict:\n",
    "        variety_dict[row['variety_numerical']] = row['variety']       "
   ]
  },
  {
   "cell_type": "code",
   "execution_count": 4,
   "metadata": {},
   "outputs": [],
   "source": [
    "province_dict = dict()\n",
    "\n",
    "for index, row in data.iterrows():\n",
    "    if row['province_id'] not in province_dict:\n",
    "        province_dict[row['province_id']] = row['province'] "
   ]
  },
  {
   "cell_type": "code",
   "execution_count": 5,
   "metadata": {},
   "outputs": [
    {
     "data": {
      "text/html": [
       "<div>\n",
       "<style scoped>\n",
       "    .dataframe tbody tr th:only-of-type {\n",
       "        vertical-align: middle;\n",
       "    }\n",
       "\n",
       "    .dataframe tbody tr th {\n",
       "        vertical-align: top;\n",
       "    }\n",
       "\n",
       "    .dataframe thead th {\n",
       "        text-align: right;\n",
       "    }\n",
       "</style>\n",
       "<table border=\"1\" class=\"dataframe\">\n",
       "  <thead>\n",
       "    <tr style=\"text-align: right;\">\n",
       "      <th></th>\n",
       "      <th>province_id</th>\n",
       "      <th>variety_numerical</th>\n",
       "      <th>vintage</th>\n",
       "    </tr>\n",
       "  </thead>\n",
       "  <tbody>\n",
       "    <tr>\n",
       "      <th>1</th>\n",
       "      <td>1</td>\n",
       "      <td>450</td>\n",
       "      <td>2011</td>\n",
       "    </tr>\n",
       "    <tr>\n",
       "      <th>2</th>\n",
       "      <td>2</td>\n",
       "      <td>436</td>\n",
       "      <td>2013</td>\n",
       "    </tr>\n",
       "    <tr>\n",
       "      <th>3</th>\n",
       "      <td>3</td>\n",
       "      <td>479</td>\n",
       "      <td>2013</td>\n",
       "    </tr>\n",
       "    <tr>\n",
       "      <th>4</th>\n",
       "      <td>2</td>\n",
       "      <td>440</td>\n",
       "      <td>2012</td>\n",
       "    </tr>\n",
       "    <tr>\n",
       "      <th>5</th>\n",
       "      <td>4</td>\n",
       "      <td>590</td>\n",
       "      <td>2011</td>\n",
       "    </tr>\n",
       "  </tbody>\n",
       "</table>\n",
       "</div>"
      ],
      "text/plain": [
       "   province_id  variety_numerical  vintage\n",
       "1            1                450     2011\n",
       "2            2                436     2013\n",
       "3            3                479     2013\n",
       "4            2                440     2012\n",
       "5            4                590     2011"
      ]
     },
     "execution_count": 5,
     "metadata": {},
     "output_type": "execute_result"
    }
   ],
   "source": [
    "# Extract data for clustering and analysis \n",
    "\n",
    "clustering_data = data.loc[:,['province_id','variety_numerical','vintage']]\n",
    "clustering_data.head()"
   ]
  },
  {
   "cell_type": "code",
   "execution_count": 6,
   "metadata": {},
   "outputs": [],
   "source": [
    "# Helper function to count the number of samples in each cluster\n",
    "\n",
    "def label_count(labels):\n",
    "\n",
    "\tlab_count = dict()\n",
    "\n",
    "\tfor x in labels:\n",
    "\t\tif x in lab_count:\n",
    "\t\t\tlab_count[x] += 1\n",
    "\t\telse:\n",
    "\t\t\tlab_count[x] = 1\n",
    "\n",
    "\tprint(lab_count)\n",
    "\n",
    "\treturn"
   ]
  },
  {
   "cell_type": "code",
   "execution_count": 7,
   "metadata": {},
   "outputs": [],
   "source": [
    "# Helper function to get the top x in col from data from each cluster\n",
    "\n",
    "# example usage: get_top_x_per_cluster(x, 'points', data, labels, n)\n",
    "# x = the top number 'x' from each cluster\n",
    "# col = the column with an attribute about the dataset\n",
    "# data = the dataframe with the entire datset\n",
    "# clusters = the clusters of each point\n",
    "# n = the number of clusters formed using for k-means\n",
    "\n",
    "def get_top_x_per_cluster(x, col, data, clusters, n):\n",
    "    top_lists = [dict() for i in range(n)]\n",
    "    c = 0\n",
    "    \n",
    "    for index, row in data.iterrows():\n",
    "        i = clusters[c]\n",
    "        c += 1\n",
    "        if row[col] in top_lists[i]:\n",
    "            top_lists[i][row[col]] += 1\n",
    "        else:\n",
    "             top_lists[i][row[col]] = 1\n",
    "    \n",
    "    print('\\nTop', x, col, 'in each cluster')\n",
    "    for i in range(n):\n",
    "        print('\\nCluster ', i)\n",
    "        sorted_list = sorted(top_lists[i].items(), key=lambda kv: kv[1])\n",
    "        sorted_list = list(reversed(sorted_list))\n",
    "        for y in range(x):\n",
    "            if(y < len(sorted_list)):\n",
    "                print(sorted_list[y])\n",
    "    return\n",
    "    "
   ]
  },
  {
   "cell_type": "code",
   "execution_count": 8,
   "metadata": {},
   "outputs": [],
   "source": [
    "#helper function to find values after being normalized\n",
    "def unnormalize(x, col, data):\n",
    "    return int(x * data.loc[:,col].max() + data.loc[:,col].min())"
   ]
  },
  {
   "cell_type": "code",
   "execution_count": 9,
   "metadata": {},
   "outputs": [],
   "source": [
    "# Normalizing province id between 1 and 0 \n",
    "data['norm_province_id'] = abs((data.province_id - data.province_id.min()) / (data.province_id.max()))"
   ]
  },
  {
   "cell_type": "code",
   "execution_count": 10,
   "metadata": {},
   "outputs": [],
   "source": [
    "# Normalizing variety (numerical) between 1 and 0 \n",
    "data['norm_variety_numerical'] = abs((data.variety_numerical - data.variety_numerical.min()) / (data.variety_numerical.max()))"
   ]
  },
  {
   "cell_type": "code",
   "execution_count": 11,
   "metadata": {},
   "outputs": [
    {
     "data": {
      "image/png": "[encoded data removed]",
      "text/plain": [
       "<Figure size 432x288 with 1 Axes>"
      ]
     },
     "metadata": {},
     "output_type": "display_data"
    }
   ],
   "source": [
    "# Determine k using elbow method\n",
    "\n",
    "X = np.array(list(zip(data.loc[:,'norm_province_id'], data.loc[:,'norm_variety_numerical']))).reshape(len(data.loc[:,'norm_province_id']),2)\n",
    "\n",
    "# k means determine k\n",
    "distortions=[]\n",
    "K = range(1,20)\n",
    "for k in K:\n",
    "    kmeanModel = KMeans(n_clusters=k).fit(X)\n",
    "    kmeanModel.fit(X)\n",
    "    distortions.append(sum(np.min(cdist(X, kmeanModel.cluster_centers_, 'euclidean'), axis=1)) / X.shape[0])\n",
    "\n",
    "# Plot the elbow\n",
    "plt.plot(K, distortions, 'bx-')\n",
    "plt.xlabel('k')\n",
    "plt.ylabel('Distortion')\n",
    "plt.title('The Elbow Method showing the optimal k')\n",
    "plt.show()"
   ]
  },
  {
   "cell_type": "code",
   "execution_count": 12,
   "metadata": {},
   "outputs": [
    {
     "data": {
      "image/png": "[encoded data removed]",
      "text/plain": [
       "<Figure size 432x288 with 1 Axes>"
      ]
     },
     "metadata": {},
     "output_type": "display_data"
    }
   ],
   "source": [
    "# Create an elbow curve using the pylab library \n",
    "# Elbow curve will be for province and variety\n",
    "\n",
    "Y = data[['norm_province_id']]\n",
    "X = data[['norm_variety_numerical']]\n",
    "\n",
    "# Setting a range between 1 to 20 \n",
    "Nc = range(1, 20)\n",
    "\n",
    "kmeans = [KMeans(n_clusters=i) for i in Nc]\n",
    "\n",
    "# Score variable denotes the percentage of variance explained by the number of clusters\n",
    "score = [kmeans[i].fit(Y).score(Y) for i in range(len(kmeans))]\n",
    "\n",
    "pl.plot(Nc,score)\n",
    "pl.xlabel('Number of Clusters')\n",
    "pl.ylabel('Score')\n",
    "pl.title('Elbow Curve')\n",
    "pl.show()"
   ]
  },
  {
   "cell_type": "code",
   "execution_count": 13,
   "metadata": {},
   "outputs": [
    {
     "data": {
      "text/html": [
       "<div>\n",
       "<style scoped>\n",
       "    .dataframe tbody tr th:only-of-type {\n",
       "        vertical-align: middle;\n",
       "    }\n",
       "\n",
       "    .dataframe tbody tr th {\n",
       "        vertical-align: top;\n",
       "    }\n",
       "\n",
       "    .dataframe thead th {\n",
       "        text-align: right;\n",
       "    }\n",
       "</style>\n",
       "<table border=\"1\" class=\"dataframe\">\n",
       "  <thead>\n",
       "    <tr style=\"text-align: right;\">\n",
       "      <th></th>\n",
       "      <th>norm_province_id</th>\n",
       "      <th>norm_variety_numerical</th>\n",
       "    </tr>\n",
       "  </thead>\n",
       "  <tbody>\n",
       "    <tr>\n",
       "      <th>1</th>\n",
       "      <td>0.002353</td>\n",
       "      <td>0.638810</td>\n",
       "    </tr>\n",
       "    <tr>\n",
       "      <th>2</th>\n",
       "      <td>0.004706</td>\n",
       "      <td>0.618980</td>\n",
       "    </tr>\n",
       "    <tr>\n",
       "      <th>3</th>\n",
       "      <td>0.007059</td>\n",
       "      <td>0.679887</td>\n",
       "    </tr>\n",
       "    <tr>\n",
       "      <th>4</th>\n",
       "      <td>0.004706</td>\n",
       "      <td>0.624646</td>\n",
       "    </tr>\n",
       "    <tr>\n",
       "      <th>5</th>\n",
       "      <td>0.009412</td>\n",
       "      <td>0.837110</td>\n",
       "    </tr>\n",
       "  </tbody>\n",
       "</table>\n",
       "</div>"
      ],
      "text/plain": [
       "   norm_province_id  norm_variety_numerical\n",
       "1          0.002353                0.638810\n",
       "2          0.004706                0.618980\n",
       "3          0.007059                0.679887\n",
       "4          0.004706                0.624646\n",
       "5          0.009412                0.837110"
      ]
     },
     "execution_count": 13,
     "metadata": {},
     "output_type": "execute_result"
    }
   ],
   "source": [
    "# Gathering normalized data to prepare for clustering\n",
    "clustering_norm_data = data.loc[:,['norm_province_id','norm_variety_numerical']]\n",
    "clustering_norm_data.head()"
   ]
  },
  {
   "cell_type": "code",
   "execution_count": 14,
   "metadata": {},
   "outputs": [
    {
     "name": "stdout",
     "output_type": "stream",
     "text": [
      "\n",
      "\n",
      "Clusters:\n",
      "{2: 54979, 0: 16109, 1: 42033, 3: 3470}\n"
     ]
    }
   ],
   "source": [
    "# generating the K-Means clusters\n",
    "n = 4\n",
    "\n",
    "cluster = KMeans(n_clusters = n, random_state = 0).fit(clustering_norm_data)\n",
    "\n",
    "labels = cluster.labels_\n",
    "print(\"\\n\\nClusters:\")\n",
    "label_count(labels)\n",
    "#data.loc[:,['province_id','variety_numerical','vintage']]"
   ]
  },
  {
   "cell_type": "code",
   "execution_count": 15,
   "metadata": {
    "scrolled": true
   },
   "outputs": [
    {
     "data": {
      "image/png": "[encoded data removed]",
      "text/plain": [
       "<Figure size 432x288 with 1 Axes>"
      ]
     },
     "metadata": {},
     "output_type": "display_data"
    }
   ],
   "source": [
    "# Scatter plot of the normalized k-means clustering of points and price\n",
    "plt.scatter(data.loc[:,'norm_province_id'], data.loc[:,'norm_variety_numerical'], c=labels, cmap='rainbow')    \n",
    "plt.show()"
   ]
  },
  {
   "cell_type": "code",
   "execution_count": 16,
   "metadata": {},
   "outputs": [
    {
     "name": "stdout",
     "output_type": "stream",
     "text": [
      "\n",
      "Top 3 province in each cluster\n",
      "\n",
      "Cluster  0\n",
      "('California', 5931)\n",
      "('Northern Spain', 2642)\n",
      "('Washington', 1641)\n",
      "\n",
      "Cluster  1\n",
      "('California', 13834)\n",
      "('Washington', 3707)\n",
      "('Bordeaux', 3684)\n",
      "\n",
      "Cluster  2\n",
      "('California', 15670)\n",
      "('Tuscany', 4601)\n",
      "('Oregon', 3969)\n",
      "\n",
      "Cluster  3\n",
      "('Dão', 215)\n",
      "('Wachau', 138)\n",
      "('Cachapoal Valley', 104)\n",
      "\n",
      "Top 3 variety in each cluster\n",
      "\n",
      "Cluster  0\n",
      "('Syrah', 3920)\n",
      "('Zinfandel', 2680)\n",
      "('White Blend', 1944)\n",
      "\n",
      "Cluster  1\n",
      "('Chardonnay', 10755)\n",
      "('Cabernet Sauvignon', 9292)\n",
      "('Bordeaux-style Red Blend', 5307)\n",
      "\n",
      "Cluster  2\n",
      "('Pinot Noir', 12392)\n",
      "('Red Blend', 7842)\n",
      "('Riesling', 4600)\n",
      "\n",
      "Cluster  3\n",
      "('Red Blend', 390)\n",
      "('Riesling', 337)\n",
      "('Portuguese Red', 329)\n",
      "\n",
      "Top 3 vintage in each cluster\n",
      "\n",
      "Cluster  0\n",
      "(2013, 2049)\n",
      "(2012, 1985)\n",
      "(2011, 1683)\n",
      "\n",
      "Cluster  1\n",
      "(2013, 5460)\n",
      "(2014, 5452)\n",
      "(2012, 5199)\n",
      "\n",
      "Cluster  2\n",
      "(2014, 7338)\n",
      "(2013, 7241)\n",
      "(2012, 7165)\n",
      "\n",
      "Cluster  3\n",
      "(2014, 399)\n",
      "(2013, 396)\n",
      "(2012, 349)\n"
     ]
    }
   ],
   "source": [
    "# Get top 3 province ids from each cluster formed\n",
    "get_top_x_per_cluster(3, 'province', data, labels, n)\n",
    "\n",
    "# Get top 3 varieties from each cluster formed\n",
    "get_top_x_per_cluster(3, 'variety', data, labels, n)\n",
    "\n",
    "# Get top 3 vintage from each cluster formed\n",
    "get_top_x_per_cluster(3, 'vintage', data, labels, n)"
   ]
  },
  {
   "cell_type": "code",
   "execution_count": null,
   "metadata": {},
   "outputs": [],
   "source": []
  },
  {
   "cell_type": "markdown",
   "metadata": {},
   "source": [
    "## Analysis \n",
    "\n",
    "Here, we use K-means clustering to cluster our data based on the province, variety and vintage of each wine. We converted the categorical data to numerical data by applying numberical labels to the provinces and varieties, and extracted the vintage of each wine from the wine's title. We then normalized these values to run K-means clustering on our data. To find the optimal number of clusters, we used the elbow method and found 4 to be the best. \n",
    "\n",
    "From our resulting clusters, we can see that for the province, 3 out of the 4 clusters have California as the top province. This is because California is the most popular province in this dataset with 36247 entries, approximately 28% of our dataset. \n",
    "\n",
    "The clustering did split the varieties though. The vintage of the wine also does not seem to break into clusters very well because there are only a few different vintages compared to the amount of samples we have. \n",
    "\n",
    "Clustering this way does not seem to have an effect on the ratings of the wine though, as each cluster has the same top 3 scores. Same with the price of the wine. This is due to the majority of the wine having a score of ~88 and a price of $20. "
   ]
  },
  {
   "cell_type": "code",
   "execution_count": 17,
   "metadata": {},
   "outputs": [
    {
     "data": {
      "text/plain": [
       "'\\ncluster = AgglomerativeClustering(n_clusters=n, affinity=\\'euclidean\\', linkage=\\'average\\').fit(clustering_data)\\n\\nlabels = cluster.labels_\\nprint(\"\\n\\nClusters:\")\\nlabel_count(labels)\\n'"
      ]
     },
     "execution_count": 17,
     "metadata": {},
     "output_type": "execute_result"
    }
   ],
   "source": [
    "# Agglomerative Clustering was attempted. However, the dataset was too large to successfully run the algorithm \n",
    "\n",
    "'''\n",
    "cluster = AgglomerativeClustering(n_clusters=n, affinity='euclidean', linkage='average').fit(clustering_data)\n",
    "\n",
    "labels = cluster.labels_\n",
    "print(\"\\n\\nClusters:\")\n",
    "label_count(labels)\n",
    "'''"
   ]
  },
  {
   "cell_type": "code",
   "execution_count": 18,
   "metadata": {},
   "outputs": [
    {
     "data": {
      "text/plain": [
       "\"\\nplt.scatter(data.loc[:,'province_id'], data.loc[:,'variety_numerical'], c=labels, cmap='rainbow')    \\nplt.show()\\n\""
      ]
     },
     "execution_count": 18,
     "metadata": {},
     "output_type": "execute_result"
    }
   ],
   "source": [
    "# Plot for agglomerative clustering\n",
    "\n",
    "'''\n",
    "plt.scatter(data.loc[:,'province_id'], data.loc[:,'variety_numerical'], c=labels, cmap='rainbow')    \n",
    "plt.show()\n",
    "'''"
   ]
  },
  {
   "cell_type": "code",
   "execution_count": 19,
   "metadata": {},
   "outputs": [
    {
     "data": {
      "text/html": [
       "<div>\n",
       "<style scoped>\n",
       "    .dataframe tbody tr th:only-of-type {\n",
       "        vertical-align: middle;\n",
       "    }\n",
       "\n",
       "    .dataframe tbody tr th {\n",
       "        vertical-align: top;\n",
       "    }\n",
       "\n",
       "    .dataframe thead th {\n",
       "        text-align: right;\n",
       "    }\n",
       "</style>\n",
       "<table border=\"1\" class=\"dataframe\">\n",
       "  <thead>\n",
       "    <tr style=\"text-align: right;\">\n",
       "      <th></th>\n",
       "      <th>points</th>\n",
       "      <th>price</th>\n",
       "    </tr>\n",
       "  </thead>\n",
       "  <tbody>\n",
       "    <tr>\n",
       "      <th>1</th>\n",
       "      <td>87</td>\n",
       "      <td>15.0</td>\n",
       "    </tr>\n",
       "    <tr>\n",
       "      <th>2</th>\n",
       "      <td>87</td>\n",
       "      <td>14.0</td>\n",
       "    </tr>\n",
       "    <tr>\n",
       "      <th>3</th>\n",
       "      <td>87</td>\n",
       "      <td>13.0</td>\n",
       "    </tr>\n",
       "    <tr>\n",
       "      <th>4</th>\n",
       "      <td>87</td>\n",
       "      <td>65.0</td>\n",
       "    </tr>\n",
       "    <tr>\n",
       "      <th>5</th>\n",
       "      <td>87</td>\n",
       "      <td>15.0</td>\n",
       "    </tr>\n",
       "  </tbody>\n",
       "</table>\n",
       "</div>"
      ],
      "text/plain": [
       "   points  price\n",
       "1      87   15.0\n",
       "2      87   14.0\n",
       "3      87   13.0\n",
       "4      87   65.0\n",
       "5      87   15.0"
      ]
     },
     "execution_count": 19,
     "metadata": {},
     "output_type": "execute_result"
    }
   ],
   "source": [
    "# Retrieve Wine Enthusiast Point Rating and Price column from dataset\n",
    "\n",
    "data.dropna(subset=['points','price'],inplace=True)\n",
    "clustering_data = data.loc[:,['points','price']]\n",
    "clustering_data.head()"
   ]
  },
  {
   "cell_type": "code",
   "execution_count": 20,
   "metadata": {},
   "outputs": [],
   "source": [
    "# Normalizing points(rating) between 1 and 0 \n",
    "data['norm_points'] = abs((data.points - data.points.min()) / (data.points.max()))"
   ]
  },
  {
   "cell_type": "code",
   "execution_count": 21,
   "metadata": {},
   "outputs": [],
   "source": [
    "# Normalizing price between 1 and 0 \n",
    "data['norm_price'] = abs((data.price - data.price.min()) / (data.price.max()))"
   ]
  },
  {
   "cell_type": "code",
   "execution_count": 22,
   "metadata": {},
   "outputs": [
    {
     "data": {
      "text/html": [
       "<div>\n",
       "<style scoped>\n",
       "    .dataframe tbody tr th:only-of-type {\n",
       "        vertical-align: middle;\n",
       "    }\n",
       "\n",
       "    .dataframe tbody tr th {\n",
       "        vertical-align: top;\n",
       "    }\n",
       "\n",
       "    .dataframe thead th {\n",
       "        text-align: right;\n",
       "    }\n",
       "</style>\n",
       "<table border=\"1\" class=\"dataframe\">\n",
       "  <thead>\n",
       "    <tr style=\"text-align: right;\">\n",
       "      <th></th>\n",
       "      <th>norm_price</th>\n",
       "      <th>norm_points</th>\n",
       "    </tr>\n",
       "  </thead>\n",
       "  <tbody>\n",
       "    <tr>\n",
       "      <th>1</th>\n",
       "      <td>0.003333</td>\n",
       "      <td>0.07</td>\n",
       "    </tr>\n",
       "    <tr>\n",
       "      <th>2</th>\n",
       "      <td>0.003030</td>\n",
       "      <td>0.07</td>\n",
       "    </tr>\n",
       "    <tr>\n",
       "      <th>3</th>\n",
       "      <td>0.002727</td>\n",
       "      <td>0.07</td>\n",
       "    </tr>\n",
       "    <tr>\n",
       "      <th>4</th>\n",
       "      <td>0.018485</td>\n",
       "      <td>0.07</td>\n",
       "    </tr>\n",
       "    <tr>\n",
       "      <th>5</th>\n",
       "      <td>0.003333</td>\n",
       "      <td>0.07</td>\n",
       "    </tr>\n",
       "  </tbody>\n",
       "</table>\n",
       "</div>"
      ],
      "text/plain": [
       "   norm_price  norm_points\n",
       "1    0.003333         0.07\n",
       "2    0.003030         0.07\n",
       "3    0.002727         0.07\n",
       "4    0.018485         0.07\n",
       "5    0.003333         0.07"
      ]
     },
     "execution_count": 22,
     "metadata": {},
     "output_type": "execute_result"
    }
   ],
   "source": [
    "# Gathering normalized data to prepare for clustering\n",
    "clustering_norm_data = data.loc[:,['norm_price','norm_points']]\n",
    "clustering_norm_data.head()"
   ]
  },
  {
   "cell_type": "code",
   "execution_count": 23,
   "metadata": {
    "scrolled": true
   },
   "outputs": [
    {
     "data": {
      "image/png": "[encoded data removed]",
      "text/plain": [
       "<Figure size 432x288 with 1 Axes>"
      ]
     },
     "metadata": {},
     "output_type": "display_data"
    }
   ],
   "source": [
    "# Determine k using elbow method\n",
    "\n",
    "X = np.array(list(zip(data.loc[:,'norm_price'], data.loc[:,'norm_points']))).reshape(len(data.loc[:,'norm_price']),2)\n",
    "\n",
    "# k means determine k\n",
    "distortions=[]\n",
    "K = range(1,20)\n",
    "for k in K:\n",
    "    kmeanModel = KMeans(n_clusters=k).fit(X)\n",
    "    kmeanModel.fit(X)\n",
    "    distortions.append(sum(np.min(cdist(X, kmeanModel.cluster_centers_, 'euclidean'), axis=1)) / X.shape[0])\n",
    "\n",
    "# Plot the elbow\n",
    "plt.plot(K, distortions, 'bx-')\n",
    "plt.xlabel('k')\n",
    "plt.ylabel('Distortion')\n",
    "plt.title('The Elbow Method showing the optimal k')\n",
    "plt.show()\n"
   ]
  },
  {
   "cell_type": "code",
   "execution_count": 24,
   "metadata": {},
   "outputs": [
    {
     "data": {
      "image/png": "[encoded data removed]",
      "text/plain": [
       "<Figure size 432x288 with 1 Axes>"
      ]
     },
     "metadata": {},
     "output_type": "display_data"
    }
   ],
   "source": [
    "# Create an elbow curve using the pylab library \n",
    "# Elbow curve will be for price and points\n",
    "\n",
    "Y = data[['norm_price']]\n",
    "X = data[['norm_points']]\n",
    "\n",
    "# Setting a range between 1 to 20 \n",
    "Nc = range(1, 20)\n",
    "\n",
    "kmeans = [KMeans(n_clusters=i) for i in Nc]\n",
    "\n",
    "# Score variable denotes the percentage of variance explained by the number of clusters\n",
    "score = [kmeans[i].fit(Y).score(Y) for i in range(len(kmeans))]\n",
    "\n",
    "pl.plot(Nc,score)\n",
    "pl.xlabel('Number of Clusters')\n",
    "pl.ylabel('Score')\n",
    "pl.title('Elbow Curve')\n",
    "pl.show()"
   ]
  },
  {
   "cell_type": "code",
   "execution_count": 25,
   "metadata": {},
   "outputs": [
    {
     "name": "stdout",
     "output_type": "stream",
     "text": [
      "\n",
      "\n",
      "Clusters:\n",
      "{1: 41670, 2: 19697, 0: 20451, 3: 34773}\n"
     ]
    }
   ],
   "source": [
    "# Through both graphs from the elbow curve, k=4 appears to be the elbow of the curve\n",
    "# Using k-means clustering on dataset based on points and price for each wine.\n",
    "\n",
    "n = 4\n",
    "\n",
    "cluster = KMeans(n_clusters = n, random_state = 0).fit(clustering_norm_data)\n",
    "\n",
    "labels = cluster.labels_\n",
    "print(\"\\n\\nClusters:\")\n",
    "label_count(labels)"
   ]
  },
  {
   "cell_type": "code",
   "execution_count": 26,
   "metadata": {},
   "outputs": [
    {
     "data": {
      "image/png": "[encoded data removed]",
      "text/plain": [
       "<Figure size 432x288 with 1 Axes>"
      ]
     },
     "metadata": {},
     "output_type": "display_data"
    }
   ],
   "source": [
    "# Plotting results from k-means clustering based on points and price\n",
    "\n",
    "plt.scatter(data.loc[:,'norm_points'], data.loc[:,'norm_price'], c=labels, cmap='rainbow')    \n",
    "plt.show()"
   ]
  },
  {
   "cell_type": "code",
   "execution_count": 27,
   "metadata": {},
   "outputs": [
    {
     "name": "stdout",
     "output_type": "stream",
     "text": [
      "\n",
      "Top 3 points in each cluster\n",
      "\n",
      "Cluster  0\n",
      "(92, 8678)\n",
      "(93, 5826)\n",
      "(94, 3398)\n",
      "\n",
      "Cluster  1\n",
      "(88, 15378)\n",
      "(87, 15069)\n",
      "(86, 11223)\n",
      "\n",
      "Cluster  2\n",
      "(85, 8496)\n",
      "(84, 5820)\n",
      "(83, 2716)\n",
      "\n",
      "Cluster  3\n",
      "(90, 13895)\n",
      "(89, 10886)\n",
      "(91, 9984)\n",
      "\n",
      "Top 3 price in each cluster\n",
      "\n",
      "Cluster  0\n",
      "(50.0, 1167)\n",
      "(40.0, 924)\n",
      "(60.0, 920)\n",
      "\n",
      "Cluster  1\n",
      "(20.0, 3105)\n",
      "(15.0, 3095)\n",
      "(18.0, 2305)\n",
      "\n",
      "Cluster  2\n",
      "(10.0, 1822)\n",
      "(15.0, 1599)\n",
      "(12.0, 1566)\n",
      "\n",
      "Cluster  3\n",
      "(20.0, 2107)\n",
      "(25.0, 2087)\n",
      "(30.0, 1897)\n"
     ]
    }
   ],
   "source": [
    "# Get top 3 points from each cluster formed\n",
    "get_top_x_per_cluster(3, 'points', data, labels, n)\n",
    "\n",
    "# Get top 3 price from each cluster formed\n",
    "get_top_x_per_cluster(3, 'price', data, labels, n)"
   ]
  },
  {
   "cell_type": "code",
   "execution_count": null,
   "metadata": {},
   "outputs": [],
   "source": []
  },
  {
   "cell_type": "markdown",
   "metadata": {},
   "source": [
    "## Analysis\n",
    "\n",
    "Here, we cluster based on the normalized points and price of the wine. Here the clusters are relatively well defined. There is a relationship between the price of the wine and the rating, as shown by the clusters. More expensive wines generally have a higher rating than the cheaper wines. "
   ]
  },
  {
   "cell_type": "markdown",
   "metadata": {},
   "source": [
    "# Conclusion"
   ]
  },
  {
   "cell_type": "markdown",
   "metadata": {},
   "source": [
    "We ran our dataset using the k-means algorithm and attempted to cluster using agglomerative clustering. We were able to run KMeans clustering on our data without any issues. However, due to the size of our dataset ~125K entries, we were unable to successfuly run Agglomerative on our data. \n",
    "\n",
    "We used these clustering methods to explore and visulize our data, and were looking for valuble insights. \n",
    "\n",
    "We have clusters that are both densly populated and a wide distribution of points scattered across the visualization plot. "
   ]
  }
 ],
 "metadata": {
  "kernelspec": {
   "display_name": "Python 3",
   "language": "python",
   "name": "python3"
  },
  "language_info": {
   "codemirror_mode": {
    "name": "ipython",
    "version": 3
   },
   "file_extension": ".py",
   "mimetype": "text/x-python",
   "name": "python",
   "nbconvert_exporter": "python",
   "pygments_lexer": "ipython3",
   "version": "3.6.5"
  }
 },
 "nbformat": 4,
 "nbformat_minor": 2
}
