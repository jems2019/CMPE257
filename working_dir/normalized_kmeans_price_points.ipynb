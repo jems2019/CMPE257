{
 "cells": [
  {
   "cell_type": "markdown",
   "metadata": {},
   "source": [
    "# Wine Clustering"
   ]
  },
  {
   "cell_type": "markdown",
   "metadata": {},
   "source": [
    "As a new business, we only have a certain amount of grapes to produce new wine. Using this data set, we would like to know what types of wines were rated best (and with a good price) in specific areas. From the new information we gather, we want to predict the cost of the new wine that would be on the market based on the price of similar types of wine.\n",
    "\n",
    "\n",
    "As a consumer new to drinking wine, we want to know what types of wine were rated best for a given province and year. That way, when we are looking at bottles of wines in stores, we would know whether a specific bottle had high ratings. \n"
   ]
  },
  {
   "cell_type": "code",
   "execution_count": 1,
   "metadata": {},
   "outputs": [],
   "source": [
    "import pandas as pd\n",
    "import numpy as np\n",
    "\n",
    "from sklearn.cluster import KMeans\n",
    "from sklearn.cluster import AgglomerativeClustering\n",
    "from sklearn import mixture\n",
    "\n",
    "import matplotlib.pyplot as plt\n",
    "from scipy.spatial.distance import cdist\n",
    "import warnings\n",
    "%matplotlib inline"
   ]
  },
  {
   "cell_type": "code",
   "execution_count": 2,
   "metadata": {},
   "outputs": [
    {
     "name": "stdout",
     "output_type": "stream",
     "text": [
      "(116591, 17)\n"
     ]
    },
    {
     "data": {
      "text/html": [
       "<div>\n",
       "<style scoped>\n",
       "    .dataframe tbody tr th:only-of-type {\n",
       "        vertical-align: middle;\n",
       "    }\n",
       "\n",
       "    .dataframe tbody tr th {\n",
       "        vertical-align: top;\n",
       "    }\n",
       "\n",
       "    .dataframe thead th {\n",
       "        text-align: right;\n",
       "    }\n",
       "</style>\n",
       "<table border=\"1\" class=\"dataframe\">\n",
       "  <thead>\n",
       "    <tr style=\"text-align: right;\">\n",
       "      <th></th>\n",
       "      <th>Unnamed: 0</th>\n",
       "      <th>country</th>\n",
       "      <th>description</th>\n",
       "      <th>designation</th>\n",
       "      <th>points</th>\n",
       "      <th>price</th>\n",
       "      <th>province</th>\n",
       "      <th>region_1</th>\n",
       "      <th>region_2</th>\n",
       "      <th>taster_name</th>\n",
       "      <th>taster_twitter_handle</th>\n",
       "      <th>title</th>\n",
       "      <th>variety</th>\n",
       "      <th>winery</th>\n",
       "      <th>province_id</th>\n",
       "      <th>variety_numerical</th>\n",
       "      <th>vintage</th>\n",
       "    </tr>\n",
       "  </thead>\n",
       "  <tbody>\n",
       "    <tr>\n",
       "      <th>1</th>\n",
       "      <td>1</td>\n",
       "      <td>Portugal</td>\n",
       "      <td>This is ripe and fruity, a wine that is smooth...</td>\n",
       "      <td>Avidagos</td>\n",
       "      <td>87</td>\n",
       "      <td>15.0</td>\n",
       "      <td>Douro</td>\n",
       "      <td>NaN</td>\n",
       "      <td>NaN</td>\n",
       "      <td>Roger Voss</td>\n",
       "      <td>@vossroger</td>\n",
       "      <td>Quinta dos Avidagos 2011 Avidagos Red (Douro)</td>\n",
       "      <td>Portuguese Red</td>\n",
       "      <td>Quinta dos Avidagos</td>\n",
       "      <td>1</td>\n",
       "      <td>450</td>\n",
       "      <td>2011</td>\n",
       "    </tr>\n",
       "    <tr>\n",
       "      <th>2</th>\n",
       "      <td>2</td>\n",
       "      <td>US</td>\n",
       "      <td>Tart and snappy, the flavors of lime flesh and...</td>\n",
       "      <td>NaN</td>\n",
       "      <td>87</td>\n",
       "      <td>14.0</td>\n",
       "      <td>Oregon</td>\n",
       "      <td>Willamette Valley</td>\n",
       "      <td>Willamette Valley</td>\n",
       "      <td>Paul Gregutt</td>\n",
       "      <td>@paulgwine</td>\n",
       "      <td>Rainstorm 2013 Pinot Gris (Willamette Valley)</td>\n",
       "      <td>Pinot Gris</td>\n",
       "      <td>Rainstorm</td>\n",
       "      <td>2</td>\n",
       "      <td>436</td>\n",
       "      <td>2013</td>\n",
       "    </tr>\n",
       "    <tr>\n",
       "      <th>3</th>\n",
       "      <td>3</td>\n",
       "      <td>US</td>\n",
       "      <td>Pineapple rind, lemon pith and orange blossom ...</td>\n",
       "      <td>Reserve Late Harvest</td>\n",
       "      <td>87</td>\n",
       "      <td>13.0</td>\n",
       "      <td>Michigan</td>\n",
       "      <td>Lake Michigan Shore</td>\n",
       "      <td>NaN</td>\n",
       "      <td>Alexander Peartree</td>\n",
       "      <td>NaN</td>\n",
       "      <td>St. Julian 2013 Reserve Late Harvest Riesling ...</td>\n",
       "      <td>Riesling</td>\n",
       "      <td>St. Julian</td>\n",
       "      <td>3</td>\n",
       "      <td>479</td>\n",
       "      <td>2013</td>\n",
       "    </tr>\n",
       "    <tr>\n",
       "      <th>4</th>\n",
       "      <td>4</td>\n",
       "      <td>US</td>\n",
       "      <td>Much like the regular bottling from 2012, this...</td>\n",
       "      <td>Vintner's Reserve Wild Child Block</td>\n",
       "      <td>87</td>\n",
       "      <td>65.0</td>\n",
       "      <td>Oregon</td>\n",
       "      <td>Willamette Valley</td>\n",
       "      <td>Willamette Valley</td>\n",
       "      <td>Paul Gregutt</td>\n",
       "      <td>@paulgwine</td>\n",
       "      <td>Sweet Cheeks 2012 Vintner's Reserve Wild Child...</td>\n",
       "      <td>Pinot Noir</td>\n",
       "      <td>Sweet Cheeks</td>\n",
       "      <td>2</td>\n",
       "      <td>440</td>\n",
       "      <td>2012</td>\n",
       "    </tr>\n",
       "    <tr>\n",
       "      <th>5</th>\n",
       "      <td>5</td>\n",
       "      <td>Spain</td>\n",
       "      <td>Blackberry and raspberry aromas show a typical...</td>\n",
       "      <td>Ars In Vitro</td>\n",
       "      <td>87</td>\n",
       "      <td>15.0</td>\n",
       "      <td>Northern Spain</td>\n",
       "      <td>Navarra</td>\n",
       "      <td>NaN</td>\n",
       "      <td>Michael Schachner</td>\n",
       "      <td>@wineschach</td>\n",
       "      <td>Tandem 2011 Ars In Vitro Tempranillo-Merlot (N...</td>\n",
       "      <td>Tempranillo-Merlot</td>\n",
       "      <td>Tandem</td>\n",
       "      <td>4</td>\n",
       "      <td>590</td>\n",
       "      <td>2011</td>\n",
       "    </tr>\n",
       "  </tbody>\n",
       "</table>\n",
       "</div>"
      ],
      "text/plain": [
       "   Unnamed: 0   country                                        description  \\\n",
       "1           1  Portugal  This is ripe and fruity, a wine that is smooth...   \n",
       "2           2        US  Tart and snappy, the flavors of lime flesh and...   \n",
       "3           3        US  Pineapple rind, lemon pith and orange blossom ...   \n",
       "4           4        US  Much like the regular bottling from 2012, this...   \n",
       "5           5     Spain  Blackberry and raspberry aromas show a typical...   \n",
       "\n",
       "                          designation  points  price        province  \\\n",
       "1                            Avidagos      87   15.0           Douro   \n",
       "2                                 NaN      87   14.0          Oregon   \n",
       "3                Reserve Late Harvest      87   13.0        Michigan   \n",
       "4  Vintner's Reserve Wild Child Block      87   65.0          Oregon   \n",
       "5                        Ars In Vitro      87   15.0  Northern Spain   \n",
       "\n",
       "              region_1           region_2         taster_name  \\\n",
       "1                  NaN                NaN          Roger Voss   \n",
       "2    Willamette Valley  Willamette Valley        Paul Gregutt   \n",
       "3  Lake Michigan Shore                NaN  Alexander Peartree   \n",
       "4    Willamette Valley  Willamette Valley        Paul Gregutt   \n",
       "5              Navarra                NaN   Michael Schachner   \n",
       "\n",
       "  taster_twitter_handle                                              title  \\\n",
       "1            @vossroger      Quinta dos Avidagos 2011 Avidagos Red (Douro)   \n",
       "2           @paulgwine       Rainstorm 2013 Pinot Gris (Willamette Valley)   \n",
       "3                   NaN  St. Julian 2013 Reserve Late Harvest Riesling ...   \n",
       "4           @paulgwine   Sweet Cheeks 2012 Vintner's Reserve Wild Child...   \n",
       "5           @wineschach  Tandem 2011 Ars In Vitro Tempranillo-Merlot (N...   \n",
       "\n",
       "              variety               winery  province_id  variety_numerical  \\\n",
       "1      Portuguese Red  Quinta dos Avidagos            1                450   \n",
       "2          Pinot Gris            Rainstorm            2                436   \n",
       "3            Riesling           St. Julian            3                479   \n",
       "4          Pinot Noir         Sweet Cheeks            2                440   \n",
       "5  Tempranillo-Merlot               Tandem            4                590   \n",
       "\n",
       "   vintage  \n",
       "1     2011  \n",
       "2     2013  \n",
       "3     2013  \n",
       "4     2012  \n",
       "5     2011  "
      ]
     },
     "execution_count": 2,
     "metadata": {},
     "output_type": "execute_result"
    }
   ],
   "source": [
    "# Load the cleaned data into dataframe\n",
    "\n",
    "\"\"\" \n",
    "    Information of cleaned dataset:\n",
    "    \n",
    "    - Province and Variety of wine is transfomed from a categorical attribute to numerical attribute\n",
    "    - Vintage of wine is extracted from the title of each wine\n",
    "    - Rows were removed if there were null values present within each of the three attributes (Province, Variety, Vintage)\n",
    "    - Dataset size was reduced from 125,000 rows to 22,000 rows\n",
    "    \n",
    "\"\"\"\n",
    "\n",
    "data = pd.read_csv(\"3column_clean.csv\")\n",
    "data.dropna(subset = ['points', 'price'], inplace = True)\n",
    "print(data.shape)\n",
    "data.head()"
   ]
  },
  {
   "cell_type": "code",
   "execution_count": 3,
   "metadata": {},
   "outputs": [
    {
     "data": {
      "text/html": [
       "<div>\n",
       "<style scoped>\n",
       "    .dataframe tbody tr th:only-of-type {\n",
       "        vertical-align: middle;\n",
       "    }\n",
       "\n",
       "    .dataframe tbody tr th {\n",
       "        vertical-align: top;\n",
       "    }\n",
       "\n",
       "    .dataframe thead th {\n",
       "        text-align: right;\n",
       "    }\n",
       "</style>\n",
       "<table border=\"1\" class=\"dataframe\">\n",
       "  <thead>\n",
       "    <tr style=\"text-align: right;\">\n",
       "      <th></th>\n",
       "      <th>province_id</th>\n",
       "      <th>variety_numerical</th>\n",
       "      <th>vintage</th>\n",
       "    </tr>\n",
       "  </thead>\n",
       "  <tbody>\n",
       "    <tr>\n",
       "      <th>1</th>\n",
       "      <td>1</td>\n",
       "      <td>450</td>\n",
       "      <td>2011</td>\n",
       "    </tr>\n",
       "    <tr>\n",
       "      <th>2</th>\n",
       "      <td>2</td>\n",
       "      <td>436</td>\n",
       "      <td>2013</td>\n",
       "    </tr>\n",
       "    <tr>\n",
       "      <th>3</th>\n",
       "      <td>3</td>\n",
       "      <td>479</td>\n",
       "      <td>2013</td>\n",
       "    </tr>\n",
       "    <tr>\n",
       "      <th>4</th>\n",
       "      <td>2</td>\n",
       "      <td>440</td>\n",
       "      <td>2012</td>\n",
       "    </tr>\n",
       "    <tr>\n",
       "      <th>5</th>\n",
       "      <td>4</td>\n",
       "      <td>590</td>\n",
       "      <td>2011</td>\n",
       "    </tr>\n",
       "  </tbody>\n",
       "</table>\n",
       "</div>"
      ],
      "text/plain": [
       "   province_id  variety_numerical  vintage\n",
       "1            1                450     2011\n",
       "2            2                436     2013\n",
       "3            3                479     2013\n",
       "4            2                440     2012\n",
       "5            4                590     2011"
      ]
     },
     "execution_count": 3,
     "metadata": {},
     "output_type": "execute_result"
    }
   ],
   "source": [
    "# Extract data for clustering and analysis \n",
    "\n",
    "clustering_data = data.loc[:,['province_id','variety_numerical','vintage']]\n",
    "clustering_data.head()"
   ]
  },
  {
   "cell_type": "code",
   "execution_count": 4,
   "metadata": {},
   "outputs": [],
   "source": [
    "# Helper function to count the number of samples in each cluster\n",
    "\n",
    "def label_count(labels):\n",
    "\n",
    "\tlab_count = dict()\n",
    "\n",
    "\tfor x in labels:\n",
    "\t\tif x in lab_count:\n",
    "\t\t\tlab_count[x] += 1\n",
    "\t\telse:\n",
    "\t\t\tlab_count[x] = 1\n",
    "\n",
    "\tprint(lab_count)\n",
    "\n",
    "\treturn"
   ]
  },
  {
   "cell_type": "code",
   "execution_count": 5,
   "metadata": {},
   "outputs": [],
   "source": [
    "# Helper function to get the top x in col from data from each cluster\n",
    "\n",
    "# example usage: get_top_x_per_cluster(x, 'points', data, labels, n)\n",
    "# x = the top number 'x' from each cluster\n",
    "# col = the column with an attribute about the dataset\n",
    "# data = the dataframe with the entire datset\n",
    "# clusters = the clusters of each point\n",
    "# n = the number of clusters formed using for k-means\n",
    "\n",
    "def get_top_x_per_cluster(x, col, data, clusters, n):\n",
    "    top_lists = [dict() for i in range(n)]\n",
    "    c = 0\n",
    "    \n",
    "    for index, row in data.iterrows():\n",
    "        i = clusters[c]\n",
    "        c += 1\n",
    "        if row[col] in top_lists[i]:\n",
    "            top_lists[i][row[col]] += 1\n",
    "        else:\n",
    "             top_lists[i][row[col]] = 1\n",
    "    \n",
    "    print('\\nTop', x, col, 'in each cluster')\n",
    "    for i in range(n):\n",
    "        print('\\nCluster ', i)\n",
    "        sorted_list = sorted(top_lists[i].items(), key=lambda kv: kv[1])\n",
    "        sorted_list = list(reversed(sorted_list))\n",
    "        for y in range(x):\n",
    "            if(y < len(sorted_list)):\n",
    "                print(sorted_list[y])\n",
    "    return\n",
    "    "
   ]
  },
  {
   "cell_type": "code",
   "execution_count": 6,
   "metadata": {},
   "outputs": [
    {
     "data": {
      "image/png": "[encoded data removed]",
      "text/plain": [
       "<Figure size 432x288 with 1 Axes>"
      ]
     },
     "metadata": {
      "needs_background": "light"
     },
     "output_type": "display_data"
    }
   ],
   "source": [
    "# Determine k using elbow method\n",
    "\n",
    "X = np.array(list(zip(data.loc[:,'province_id'], data.loc[:,'variety_numerical']))).reshape(len(data.loc[:,'province_id']),2)\n",
    "\n",
    "# k means determine k\n",
    "distortions=[]\n",
    "K = range(1,8)\n",
    "for k in K:\n",
    "    kmeanModel = KMeans(n_clusters=k).fit(X)\n",
    "    kmeanModel.fit(X)\n",
    "    distortions.append(sum(np.min(cdist(X, kmeanModel.cluster_centers_, 'euclidean'), axis=1)) / X.shape[0])\n",
    "\n",
    "# Plot the elbow\n",
    "plt.plot(K, distortions, 'bx-')\n",
    "plt.xlabel('k')\n",
    "plt.ylabel('Distortion')\n",
    "plt.title('The Elbow Method showing the optimal k')\n",
    "plt.show()"
   ]
  },
  {
   "cell_type": "code",
   "execution_count": 20,
   "metadata": {},
   "outputs": [],
   "source": [
    "# Normalizing points(rating) between 1 and 0 \n",
    "data['norm_points'] = abs((data.points - data.points.min()) / (data.points.max()))"
   ]
  },
  {
   "cell_type": "code",
   "execution_count": 28,
   "metadata": {},
   "outputs": [],
   "source": [
    "# Normalizing price between 1 and 0 \n",
    "data['norm_price'] = abs((data.price - data.price.min()) / (data.price.max()))"
   ]
  },
  {
   "cell_type": "code",
   "execution_count": 30,
   "metadata": {},
   "outputs": [
    {
     "data": {
      "text/html": [
       "<div>\n",
       "<style scoped>\n",
       "    .dataframe tbody tr th:only-of-type {\n",
       "        vertical-align: middle;\n",
       "    }\n",
       "\n",
       "    .dataframe tbody tr th {\n",
       "        vertical-align: top;\n",
       "    }\n",
       "\n",
       "    .dataframe thead th {\n",
       "        text-align: right;\n",
       "    }\n",
       "</style>\n",
       "<table border=\"1\" class=\"dataframe\">\n",
       "  <thead>\n",
       "    <tr style=\"text-align: right;\">\n",
       "      <th></th>\n",
       "      <th>norm_price</th>\n",
       "      <th>norm_points</th>\n",
       "    </tr>\n",
       "  </thead>\n",
       "  <tbody>\n",
       "    <tr>\n",
       "      <th>1</th>\n",
       "      <td>0.003333</td>\n",
       "      <td>0.07</td>\n",
       "    </tr>\n",
       "    <tr>\n",
       "      <th>2</th>\n",
       "      <td>0.003030</td>\n",
       "      <td>0.07</td>\n",
       "    </tr>\n",
       "    <tr>\n",
       "      <th>3</th>\n",
       "      <td>0.002727</td>\n",
       "      <td>0.07</td>\n",
       "    </tr>\n",
       "    <tr>\n",
       "      <th>4</th>\n",
       "      <td>0.018485</td>\n",
       "      <td>0.07</td>\n",
       "    </tr>\n",
       "    <tr>\n",
       "      <th>5</th>\n",
       "      <td>0.003333</td>\n",
       "      <td>0.07</td>\n",
       "    </tr>\n",
       "  </tbody>\n",
       "</table>\n",
       "</div>"
      ],
      "text/plain": [
       "   norm_price  norm_points\n",
       "1    0.003333         0.07\n",
       "2    0.003030         0.07\n",
       "3    0.002727         0.07\n",
       "4    0.018485         0.07\n",
       "5    0.003333         0.07"
      ]
     },
     "execution_count": 30,
     "metadata": {},
     "output_type": "execute_result"
    }
   ],
   "source": [
    "# Gathering normalized data to prepare for clustering\n",
    "clustering_norm_data = data.loc[:,['norm_price','norm_points']]\n",
    "clustering_norm_data.head()"
   ]
  },
  {
   "cell_type": "code",
   "execution_count": 31,
   "metadata": {},
   "outputs": [
    {
     "name": "stdout",
     "output_type": "stream",
     "text": [
      "\n",
      "\n",
      "Clusters:\n",
      "{0: 31481, 1: 26280, 2: 26264, 3: 12266, 4: 5381, 5: 592, 6: 14316, 7: 11}\n"
     ]
    }
   ],
   "source": [
    "# generating the K-Means clusters\n",
    "n = 8\n",
    "\n",
    "cluster = KMeans(n_clusters = n, random_state = 0).fit(clustering_norm_data)\n",
    "\n",
    "labels = cluster.labels_\n",
    "print(\"\\n\\nClusters:\")\n",
    "label_count(labels)\n",
    "#data.loc[:,['province_id','variety_numerical','vintage']]"
   ]
  },
  {
   "cell_type": "code",
   "execution_count": 32,
   "metadata": {
    "scrolled": true
   },
   "outputs": [
    {
     "data": {
      "image/png": "[encoded data removed]",
      "text/plain": [
       "<Figure size 432x288 with 1 Axes>"
      ]
     },
     "metadata": {
      "needs_background": "light"
     },
     "output_type": "display_data"
    }
   ],
   "source": [
    "# Scatter plot of the normalized k-means clustering of points and price\n",
    "plt.scatter(data.loc[:,'norm_points'], data.loc[:,'norm_price'], c=labels, cmap='rainbow')    \n",
    "plt.show()"
   ]
  },
  {
   "cell_type": "code",
   "execution_count": 9,
   "metadata": {},
   "outputs": [
    {
     "name": "stdout",
     "output_type": "stream",
     "text": [
      "('\\nTop', 3, 'province_id', 'in each cluster')\n",
      "('\\nCluster ', 0)\n",
      "(7, 12708)\n",
      "(16, 3678)\n",
      "(18, 3143)\n",
      "('\\nCluster ', 1)\n",
      "(7, 11562)\n",
      "(2, 3829)\n",
      "(27, 2067)\n",
      "('\\nCluster ', 2)\n",
      "(7, 3482)\n",
      "(4, 641)\n",
      "(18, 350)\n",
      "('\\nCluster ', 3)\n",
      "(7, 10)\n",
      "('\\nCluster ', 4)\n",
      "(31, 2295)\n",
      "(7, 2155)\n",
      "(10, 1515)\n",
      "('\\nCluster ', 5)\n",
      "(7, 4600)\n",
      "(27, 2517)\n",
      "(4, 2025)\n",
      "('\\nCluster ', 6)\n",
      "(116, 215)\n",
      "(113, 138)\n",
      "(106, 110)\n",
      "('\\nCluster ', 7)\n",
      "(43, 991)\n",
      "(7, 918)\n",
      "(12, 788)\n",
      "('\\nTop', 3, 'variety_numerical', 'in each cluster')\n",
      "('\\nCluster ', 0)\n",
      "(125, 10539)\n",
      "(80, 9321)\n",
      "(62, 5318)\n",
      "('\\nCluster ', 1)\n",
      "(440, 12391)\n",
      "(473, 7830)\n",
      "(479, 4499)\n",
      "('\\nCluster ', 2)\n",
      "(702, 2680)\n",
      "(690, 2019)\n",
      "(673, 981)\n",
      "('\\nCluster ', 3)\n",
      "(80, 6)\n",
      "(62, 3)\n",
      "(514, 1)\n",
      "('\\nCluster ', 4)\n",
      "(326, 2986)\n",
      "(280, 2553)\n",
      "(383, 2328)\n",
      "('\\nCluster ', 5)\n",
      "(514, 4478)\n",
      "(560, 3958)\n",
      "(506, 2371)\n",
      "('\\nCluster ', 6)\n",
      "(479, 438)\n",
      "(473, 402)\n",
      "(450, 329)\n",
      "('\\nCluster ', 7)\n",
      "(238, 1139)\n",
      "(209, 948)\n",
      "(194, 817)\n",
      "('\\nTop', 3, 'vintage', 'in each cluster')\n",
      "('\\nCluster ', 0)\n",
      "(2013, 4173)\n",
      "(2014, 4150)\n",
      "(2012, 4006)\n",
      "('\\nCluster ', 1)\n",
      "(2014, 5653)\n",
      "(2013, 5323)\n",
      "(2012, 5020)\n",
      "('\\nCluster ', 2)\n",
      "(2013, 1099)\n",
      "(2014, 988)\n",
      "(2012, 961)\n",
      "('\\nCluster ', 3)\n",
      "(7200, 10)\n",
      "('\\nCluster ', 4)\n",
      "(2012, 1544)\n",
      "(2013, 1369)\n",
      "(2011, 1284)\n",
      "('\\nCluster ', 5)\n",
      "(2012, 2041)\n",
      "(2013, 1869)\n",
      "(2014, 1735)\n",
      "('\\nCluster ', 6)\n",
      "(2013, 330)\n",
      "(2014, 322)\n",
      "(2012, 311)\n",
      "('\\nCluster ', 7)\n",
      "(2015, 1174)\n",
      "(2014, 1046)\n",
      "(2013, 983)\n"
     ]
    }
   ],
   "source": [
    "# Get top 3 province ids from each cluster formed\n",
    "get_top_x_per_cluster(3, 'province_id', data, labels, n)\n",
    "\n",
    "# Get top 3 varieties from each cluster formed\n",
    "get_top_x_per_cluster(3, 'variety_numerical', data, labels, n)\n",
    "\n",
    "# Get top 3 vintage from each cluster formed\n",
    "get_top_x_per_cluster(3, 'vintage', data, labels, n)"
   ]
  },
  {
   "cell_type": "code",
   "execution_count": 10,
   "metadata": {},
   "outputs": [
    {
     "name": "stdout",
     "output_type": "stream",
     "text": [
      "('\\nTop', 3, 'points', 'in each cluster')\n",
      "('\\nCluster ', 0)\n",
      "(87, 4052)\n",
      "(88, 3967)\n",
      "(90, 3745)\n",
      "('\\nCluster ', 1)\n",
      "(88, 5000)\n",
      "(87, 4701)\n",
      "(90, 4582)\n",
      "('\\nCluster ', 2)\n",
      "(87, 1292)\n",
      "(88, 1137)\n",
      "(86, 949)\n",
      "('\\nCluster ', 3)\n",
      "(89, 4)\n",
      "(90, 2)\n",
      "(88, 2)\n",
      "('\\nCluster ', 4)\n",
      "(88, 1469)\n",
      "(87, 1394)\n",
      "(90, 1238)\n",
      "('\\nCluster ', 5)\n",
      "(88, 2225)\n",
      "(87, 2174)\n",
      "(90, 2096)\n",
      "('\\nCluster ', 6)\n",
      "(88, 400)\n",
      "(87, 389)\n",
      "(90, 370)\n",
      "('\\nCluster ', 7)\n",
      "(88, 1187)\n",
      "(87, 1069)\n",
      "(90, 1005)\n",
      "('\\nTop', 3, 'price', 'in each cluster')\n",
      "('\\nCluster ', 0)\n",
      "(20.0, 1778)\n",
      "(25.0, 1602)\n",
      "(15.0, 1515)\n",
      "('\\nCluster ', 1)\n",
      "(20.0, 2101)\n",
      "(15.0, 1804)\n",
      "(25.0, 1743)\n",
      "('\\nCluster ', 2)\n",
      "(20.0, 514)\n",
      "(15.0, 507)\n",
      "(25.0, 419)\n",
      "('\\nCluster ', 3)\n",
      "(42.0, 2)\n",
      "(36.0, 2)\n",
      "(28.0, 1)\n",
      "('\\nCluster ', 4)\n",
      "(20.0, 516)\n",
      "(15.0, 502)\n",
      "(30.0, 474)\n",
      "('\\nCluster ', 5)\n",
      "(20.0, 910)\n",
      "(25.0, 811)\n",
      "(15.0, 782)\n",
      "('\\nCluster ', 6)\n",
      "(20.0, 213)\n",
      "(15.0, 188)\n",
      "(25.0, 148)\n",
      "('\\nCluster ', 7)\n",
      "(20.0, 622)\n",
      "(15.0, 500)\n",
      "(18.0, 467)\n"
     ]
    }
   ],
   "source": [
    "# Get top 3 points from each cluster formed\n",
    "get_top_x_per_cluster(3, 'points', data, labels, n)\n",
    "\n",
    "# Get top 3 price from each cluster formed\n",
    "get_top_x_per_cluster(3, 'price', data, labels, n)"
   ]
  },
  {
   "cell_type": "markdown",
   "metadata": {},
   "source": [
    "## Analysis \n",
    "\n",
    "K-means clustering here seems like it has a hard time separating the province between the clusters, possibly because there are so many wines in our dataset with the province with id 7. K-means does do a good job of separating the wine varieties though. The vintage of the wine also does not seem to break into clusters very well because there are only a few different vintages compared to the amount of samples we have. \n",
    "\n",
    "Clustering this way does not seem to have an effect on the ratings of the wine though, as each cluster has the same top 3 scores. Same with the price of the wine. This is due to the majority of the wine having a score of ~88 and a price of $20. "
   ]
  },
  {
   "cell_type": "code",
   "execution_count": 11,
   "metadata": {},
   "outputs": [
    {
     "data": {
      "text/plain": [
       "'\\ncluster = AgglomerativeClustering(n_clusters=n, affinity=\\'euclidean\\', linkage=\\'average\\').fit(clustering_data)\\n\\nlabels = cluster.labels_\\nprint(\"\\n\\nClusters:\")\\nlabel_count(labels)\\n'"
      ]
     },
     "execution_count": 11,
     "metadata": {},
     "output_type": "execute_result"
    }
   ],
   "source": [
    "# Agglomerative Clustering was attempted. However, the dataset was too large to successfully run the algorithm \n",
    "\n",
    "'''\n",
    "cluster = AgglomerativeClustering(n_clusters=n, affinity='euclidean', linkage='average').fit(clustering_data)\n",
    "\n",
    "labels = cluster.labels_\n",
    "print(\"\\n\\nClusters:\")\n",
    "label_count(labels)\n",
    "'''"
   ]
  },
  {
   "cell_type": "code",
   "execution_count": 12,
   "metadata": {},
   "outputs": [
    {
     "data": {
      "text/plain": [
       "\"\\nplt.scatter(data.loc[:,'province_id'], data.loc[:,'variety_numerical'], c=labels, cmap='rainbow')    \\nplt.show()\\n\""
      ]
     },
     "execution_count": 12,
     "metadata": {},
     "output_type": "execute_result"
    }
   ],
   "source": [
    "# Plot for agglomerative clustering\n",
    "\n",
    "'''\n",
    "plt.scatter(data.loc[:,'province_id'], data.loc[:,'variety_numerical'], c=labels, cmap='rainbow')    \n",
    "plt.show()\n",
    "'''"
   ]
  },
  {
   "cell_type": "code",
   "execution_count": 13,
   "metadata": {},
   "outputs": [
    {
     "data": {
      "text/html": [
       "<div>\n",
       "<style scoped>\n",
       "    .dataframe tbody tr th:only-of-type {\n",
       "        vertical-align: middle;\n",
       "    }\n",
       "\n",
       "    .dataframe tbody tr th {\n",
       "        vertical-align: top;\n",
       "    }\n",
       "\n",
       "    .dataframe thead th {\n",
       "        text-align: right;\n",
       "    }\n",
       "</style>\n",
       "<table border=\"1\" class=\"dataframe\">\n",
       "  <thead>\n",
       "    <tr style=\"text-align: right;\">\n",
       "      <th></th>\n",
       "      <th>points</th>\n",
       "      <th>price</th>\n",
       "    </tr>\n",
       "  </thead>\n",
       "  <tbody>\n",
       "    <tr>\n",
       "      <th>1</th>\n",
       "      <td>87</td>\n",
       "      <td>15.0</td>\n",
       "    </tr>\n",
       "    <tr>\n",
       "      <th>2</th>\n",
       "      <td>87</td>\n",
       "      <td>14.0</td>\n",
       "    </tr>\n",
       "    <tr>\n",
       "      <th>3</th>\n",
       "      <td>87</td>\n",
       "      <td>13.0</td>\n",
       "    </tr>\n",
       "    <tr>\n",
       "      <th>4</th>\n",
       "      <td>87</td>\n",
       "      <td>65.0</td>\n",
       "    </tr>\n",
       "    <tr>\n",
       "      <th>5</th>\n",
       "      <td>87</td>\n",
       "      <td>15.0</td>\n",
       "    </tr>\n",
       "  </tbody>\n",
       "</table>\n",
       "</div>"
      ],
      "text/plain": [
       "   points  price\n",
       "1      87   15.0\n",
       "2      87   14.0\n",
       "3      87   13.0\n",
       "4      87   65.0\n",
       "5      87   15.0"
      ]
     },
     "execution_count": 13,
     "metadata": {},
     "output_type": "execute_result"
    }
   ],
   "source": [
    "# Retrieve Wine Enthusiast Point Rating and Price column from dataset\n",
    "\n",
    "data.dropna(subset=['points','price'],inplace=True)\n",
    "clustering_data = data.loc[:,['points','price']]\n",
    "clustering_data.head()"
   ]
  },
  {
   "cell_type": "code",
   "execution_count": 14,
   "metadata": {
    "scrolled": true
   },
   "outputs": [
    {
     "data": {
      "image/png": "[encoded data removed]",
      "text/plain": [
       "<Figure size 432x288 with 1 Axes>"
      ]
     },
     "metadata": {
      "needs_background": "light"
     },
     "output_type": "display_data"
    }
   ],
   "source": [
    "# Determine k using elbow method\n",
    "\n",
    "X = np.array(list(zip(data.loc[:,'price'], data.loc[:,'points']))).reshape(len(data.loc[:,'price']),2)\n",
    "\n",
    "# k means determine k\n",
    "distortions=[]\n",
    "K = range(1,1)\n",
    "for k in K:\n",
    "    kmeanModel = KMeans(n_clusters=k).fit(X)\n",
    "    kmeanModel.fit(X)\n",
    "    distortions.append(sum(np.min(cdist(X, kmeanModel.cluster_centers_, 'euclidean'), axis=1)) / X.shape[0])\n",
    "\n",
    "# Plot the elbow\n",
    "plt.plot(K, distortions, 'bx-')\n",
    "plt.xlabel('k')\n",
    "plt.ylabel('Distortion')\n",
    "plt.title('The Elbow Method showing the optimal k')\n",
    "plt.show()\n"
   ]
  },
  {
   "cell_type": "code",
   "execution_count": 15,
   "metadata": {},
   "outputs": [],
   "source": [
    "import pylab as pl\n",
    "Y = data[['price']]\n",
    "X = data[['points']]"
   ]
  },
  {
   "cell_type": "code",
   "execution_count": 16,
   "metadata": {},
   "outputs": [
    {
     "data": {
      "image/png": "[encoded data removed]",
      "text/plain": [
       "<Figure size 432x288 with 1 Axes>"
      ]
     },
     "metadata": {
      "needs_background": "light"
     },
     "output_type": "display_data"
    }
   ],
   "source": [
    "Nc = range(1, 20)\n",
    "\n",
    "kmeans = [KMeans(n_clusters=i) for i in Nc]\n",
    "\n",
    "# Score variable denotes the percentage of variance explained by the number of clusters\n",
    "score = [kmeans[i].fit(Y).score(Y) for i in range(len(kmeans))]\n",
    "\n",
    "pl.plot(Nc,score)\n",
    "pl.xlabel('Number of Clusters')\n",
    "pl.ylabel('Score')\n",
    "pl.title('Elbow Curve')\n",
    "pl.show()"
   ]
  },
  {
   "cell_type": "code",
   "execution_count": 17,
   "metadata": {},
   "outputs": [
    {
     "name": "stdout",
     "output_type": "stream",
     "text": [
      "\n",
      "\n",
      "Clusters:\n",
      "{0: 33503, 1: 778, 2: 7, 3: 17198, 4: 203, 5: 60552, 6: 4310, 7: 40}\n"
     ]
    }
   ],
   "source": [
    "# Using k-means clustering on dataset based on points and price for each wine.\n",
    "\n",
    "k = 4\n",
    "\n",
    "cluster = KMeans(n_clusters = n, random_state = 0).fit(clustering_data)\n",
    "\n",
    "labels = cluster.labels_\n",
    "print(\"\\n\\nClusters:\")\n",
    "label_count(labels)"
   ]
  },
  {
   "cell_type": "code",
   "execution_count": 18,
   "metadata": {
    "scrolled": true
   },
   "outputs": [
    {
     "data": {
      "image/png": "[encoded data removed]",
      "text/plain": [
       "<Figure size 432x288 with 1 Axes>"
      ]
     },
     "metadata": {
      "needs_background": "light"
     },
     "output_type": "display_data"
    }
   ],
   "source": [
    "# Plotting results from k-means clustering based on points and price\n",
    "\n",
    "plt.scatter(data.loc[:,'points'], data.loc[:,'price'], c=labels, cmap='rainbow')    \n",
    "plt.scatter(cluster.cluster_centers_[:,0] ,cluster.cluster_centers_[:,1], color='black') \n",
    "plt.show()"
   ]
  },
  {
   "cell_type": "code",
   "execution_count": 19,
   "metadata": {},
   "outputs": [
    {
     "name": "stdout",
     "output_type": "stream",
     "text": [
      "('\\nTop', 3, 'points', 'in each cluster')\n",
      "('\\nCluster ', 0)\n",
      "(90, 5492)\n",
      "(91, 4590)\n",
      "(88, 4448)\n",
      "('\\nCluster ', 1)\n",
      "(94, 179)\n",
      "(95, 138)\n",
      "(93, 115)\n",
      "('\\nCluster ', 2)\n",
      "(96, 3)\n",
      "(88, 1)\n",
      "(91, 1)\n",
      "('\\nCluster ', 3)\n",
      "(92, 3003)\n",
      "(91, 2522)\n",
      "(93, 2401)\n",
      "('\\nCluster ', 4)\n",
      "(95, 56)\n",
      "(96, 37)\n",
      "(94, 27)\n",
      "('\\nCluster ', 5)\n",
      "(87, 10554)\n",
      "(88, 9360)\n",
      "(86, 8592)\n",
      "('\\nCluster ', 6)\n",
      "(93, 816)\n",
      "(94, 719)\n",
      "(92, 658)\n",
      "('\\nCluster ', 7)\n",
      "(94, 7)\n",
      "(96, 7)\n",
      "(95, 6)\n",
      "('\\nTop', 3, 'price', 'in each cluster')\n",
      "('\\nCluster ', 0)\n",
      "(30.0, 4793)\n",
      "(40.0, 3762)\n",
      "(35.0, 3706)\n",
      "('\\nCluster ', 1)\n",
      "(200.0, 93)\n",
      "(175.0, 80)\n",
      "(250.0, 51)\n",
      "('\\nCluster ', 2)\n",
      "(2500.0, 2)\n",
      "(2000.0, 2)\n",
      "(2013.0, 1)\n",
      "('\\nCluster ', 3)\n",
      "(50.0, 3218)\n",
      "(60.0, 2193)\n",
      "(55.0, 1921)\n",
      "('\\nCluster ', 4)\n",
      "(450.0, 24)\n",
      "(350.0, 19)\n",
      "(400.0, 16)\n",
      "('\\nCluster ', 5)\n",
      "(20.0, 6654)\n",
      "(15.0, 5798)\n",
      "(25.0, 5622)\n",
      "('\\nCluster ', 6)\n",
      "(90.0, 650)\n",
      "(100.0, 565)\n",
      "(95.0, 384)\n",
      "('\\nCluster ', 7)\n",
      "(800.0, 5)\n",
      "(775.0, 4)\n",
      "(850.0, 3)\n"
     ]
    }
   ],
   "source": [
    "# Get top 3 points from each cluster formed\n",
    "get_top_x_per_cluster(3, 'points', data, labels, n)\n",
    "\n",
    "# Get top 3 price from each cluster formed\n",
    "get_top_x_per_cluster(3, 'price', data, labels, n)"
   ]
  },
  {
   "cell_type": "markdown",
   "metadata": {},
   "source": [
    "# Conclusion"
   ]
  },
  {
   "cell_type": "markdown",
   "metadata": {},
   "source": [
    "We ran our dataset using the k-means algorithm and attempted to cluster using agglomerative clustering. We were able to run KMeans clustering on our data without any issues. However, due to the size of our dataset ~125K entries, we were unable to successfuly run Agglomerative on our data. \n",
    "\n",
    "We used these clustering methods to explore and visulize our data, and were looking for valuble insights. \n",
    "\n",
    "We have clusters that are both densly populated and a wide distribution of points scattered across the visualization plot. "
   ]
  }
 ],
 "metadata": {
  "kernelspec": {
   "display_name": "Python 2",
   "language": "python",
   "name": "python2"
  },
  "language_info": {
   "codemirror_mode": {
    "name": "ipython",
    "version": 2
   },
   "file_extension": ".py",
   "mimetype": "text/x-python",
   "name": "python",
   "nbconvert_exporter": "python",
   "pygments_lexer": "ipython2",
   "version": "2.7.10"
  }
 },
 "nbformat": 4,
 "nbformat_minor": 2
}
