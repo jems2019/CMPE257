{
 "cells": [
  {
   "cell_type": "markdown",
   "metadata": {},
   "source": [
    "# Applying Logistic Regression on Wine and Fire Data"
   ]
  },
  {
   "cell_type": "markdown",
   "metadata": {},
   "source": [
    "## change me pls\n",
    "\n",
    "As a consumer, we want to find high quality wines from California. We would like to see if there are specific factors that impact the ratings of these wines. By running linear regression on our dataset, we can find out if there is a correlation between features of the wine and its rating. \n",
    "\n",
    "Within our dataset, we can only run linear regression on the vintage and price of the wines, so we plan to enrich our data with potential latent variables. Since one of California's major natural disasters are wildfires, we plan to see if these fires effect the ratings of the wines. To join these datasets, we will join by the county and the year the fire happened and the vintage of the wine. \n"
   ]
  },
  {
   "cell_type": "code",
   "execution_count": 34,
   "metadata": {},
   "outputs": [],
   "source": [
    "import pandas as pd\n",
    "import numpy as np\n",
    "import pylab as pl\n",
    "\n",
    "from sklearn.linear_model import LinearRegression\n",
    "from sklearn.linear_model import LogisticRegression\n",
    "\n",
    "from sklearn.model_selection import train_test_split\n",
    "from sklearn.metrics import confusion_matrix\n",
    "from sklearn.metrics import precision_recall_fscore_support\n",
    "from sklearn.utils.multiclass import unique_labels\n",
    "\n",
    "import matplotlib.pyplot as plt\n",
    "from scipy.spatial.distance import cdist\n",
    "import warnings\n",
    "%matplotlib inline"
   ]
  },
  {
   "cell_type": "code",
   "execution_count": 2,
   "metadata": {},
   "outputs": [
    {
     "name": "stdout",
     "output_type": "stream",
     "text": [
      "(9757, 26)\n"
     ]
    },
    {
     "data": {
      "text/html": [
       "<div>\n",
       "<style scoped>\n",
       "    .dataframe tbody tr th:only-of-type {\n",
       "        vertical-align: middle;\n",
       "    }\n",
       "\n",
       "    .dataframe tbody tr th {\n",
       "        vertical-align: top;\n",
       "    }\n",
       "\n",
       "    .dataframe thead th {\n",
       "        text-align: right;\n",
       "    }\n",
       "</style>\n",
       "<table border=\"1\" class=\"dataframe\">\n",
       "  <thead>\n",
       "    <tr style=\"text-align: right;\">\n",
       "      <th></th>\n",
       "      <th>Unnamed: 0</th>\n",
       "      <th>Unnamed: 0.1</th>\n",
       "      <th>Unnamed: 0.1.1</th>\n",
       "      <th>Unnamed: 0.1.1.1</th>\n",
       "      <th>country</th>\n",
       "      <th>description</th>\n",
       "      <th>designation</th>\n",
       "      <th>points</th>\n",
       "      <th>price</th>\n",
       "      <th>province</th>\n",
       "      <th>...</th>\n",
       "      <th>winery</th>\n",
       "      <th>province_id</th>\n",
       "      <th>variety_numerical</th>\n",
       "      <th>vintage</th>\n",
       "      <th>lat</th>\n",
       "      <th>lon</th>\n",
       "      <th>total_fires</th>\n",
       "      <th>sum_fire_size</th>\n",
       "      <th>total_fires_current</th>\n",
       "      <th>sum_fire_size_current</th>\n",
       "    </tr>\n",
       "  </thead>\n",
       "  <tbody>\n",
       "    <tr>\n",
       "      <th>0</th>\n",
       "      <td>0</td>\n",
       "      <td>0</td>\n",
       "      <td>10</td>\n",
       "      <td>10</td>\n",
       "      <td>US</td>\n",
       "      <td>Soft, supple plum envelopes an oaky structure ...</td>\n",
       "      <td>Mountain Cuvée</td>\n",
       "      <td>87</td>\n",
       "      <td>19.0</td>\n",
       "      <td>California</td>\n",
       "      <td>...</td>\n",
       "      <td>Kirkland Signature</td>\n",
       "      <td>7</td>\n",
       "      <td>80</td>\n",
       "      <td>2011</td>\n",
       "      <td>38.297137</td>\n",
       "      <td>-122.285529</td>\n",
       "      <td>0</td>\n",
       "      <td>0.00</td>\n",
       "      <td>202</td>\n",
       "      <td>1756.38</td>\n",
       "    </tr>\n",
       "    <tr>\n",
       "      <th>1</th>\n",
       "      <td>3</td>\n",
       "      <td>3</td>\n",
       "      <td>23</td>\n",
       "      <td>23</td>\n",
       "      <td>US</td>\n",
       "      <td>This wine from the Geneseo district offers aro...</td>\n",
       "      <td>Signature Selection</td>\n",
       "      <td>87</td>\n",
       "      <td>22.0</td>\n",
       "      <td>California</td>\n",
       "      <td>...</td>\n",
       "      <td>Bianchi</td>\n",
       "      <td>7</td>\n",
       "      <td>326</td>\n",
       "      <td>2011</td>\n",
       "      <td>37.050096</td>\n",
       "      <td>-121.990591</td>\n",
       "      <td>4</td>\n",
       "      <td>79.10</td>\n",
       "      <td>192</td>\n",
       "      <td>639.14</td>\n",
       "    </tr>\n",
       "    <tr>\n",
       "      <th>2</th>\n",
       "      <td>4</td>\n",
       "      <td>4</td>\n",
       "      <td>25</td>\n",
       "      <td>25</td>\n",
       "      <td>US</td>\n",
       "      <td>Oak and earth intermingle around robust aromas...</td>\n",
       "      <td>King Ridge Vineyard</td>\n",
       "      <td>87</td>\n",
       "      <td>69.0</td>\n",
       "      <td>California</td>\n",
       "      <td>...</td>\n",
       "      <td>Castello di Amorosa</td>\n",
       "      <td>7</td>\n",
       "      <td>440</td>\n",
       "      <td>2011</td>\n",
       "      <td>38.293313</td>\n",
       "      <td>-122.469386</td>\n",
       "      <td>0</td>\n",
       "      <td>0.00</td>\n",
       "      <td>202</td>\n",
       "      <td>1756.38</td>\n",
       "    </tr>\n",
       "    <tr>\n",
       "      <th>3</th>\n",
       "      <td>12</td>\n",
       "      <td>12</td>\n",
       "      <td>60</td>\n",
       "      <td>60</td>\n",
       "      <td>US</td>\n",
       "      <td>Syrupy and dense, this wine is jammy in plum a...</td>\n",
       "      <td>Estate</td>\n",
       "      <td>86</td>\n",
       "      <td>100.0</td>\n",
       "      <td>California</td>\n",
       "      <td>...</td>\n",
       "      <td>Okapi</td>\n",
       "      <td>7</td>\n",
       "      <td>80</td>\n",
       "      <td>2013</td>\n",
       "      <td>38.297137</td>\n",
       "      <td>-122.285529</td>\n",
       "      <td>122</td>\n",
       "      <td>1339.78</td>\n",
       "      <td>247</td>\n",
       "      <td>1453.08</td>\n",
       "    </tr>\n",
       "    <tr>\n",
       "      <th>4</th>\n",
       "      <td>13</td>\n",
       "      <td>13</td>\n",
       "      <td>63</td>\n",
       "      <td>64</td>\n",
       "      <td>US</td>\n",
       "      <td>There are intriguing touches to the nose of th...</td>\n",
       "      <td>Golden Horn</td>\n",
       "      <td>86</td>\n",
       "      <td>26.0</td>\n",
       "      <td>California</td>\n",
       "      <td>...</td>\n",
       "      <td>Sevtap</td>\n",
       "      <td>7</td>\n",
       "      <td>514</td>\n",
       "      <td>2015</td>\n",
       "      <td>35.282753</td>\n",
       "      <td>-120.659616</td>\n",
       "      <td>82</td>\n",
       "      <td>719.08</td>\n",
       "      <td>109</td>\n",
       "      <td>2711.55</td>\n",
       "    </tr>\n",
       "  </tbody>\n",
       "</table>\n",
       "<p>5 rows × 26 columns</p>\n",
       "</div>"
      ],
      "text/plain": [
       "   Unnamed: 0  Unnamed: 0.1  Unnamed: 0.1.1  Unnamed: 0.1.1.1 country  \\\n",
       "0           0             0              10                10      US   \n",
       "1           3             3              23                23      US   \n",
       "2           4             4              25                25      US   \n",
       "3          12            12              60                60      US   \n",
       "4          13            13              63                64      US   \n",
       "\n",
       "                                         description          designation  \\\n",
       "0  Soft, supple plum envelopes an oaky structure ...       Mountain Cuvée   \n",
       "1  This wine from the Geneseo district offers aro...  Signature Selection   \n",
       "2  Oak and earth intermingle around robust aromas...  King Ridge Vineyard   \n",
       "3  Syrupy and dense, this wine is jammy in plum a...               Estate   \n",
       "4  There are intriguing touches to the nose of th...          Golden Horn   \n",
       "\n",
       "   points  price    province          ...                         winery  \\\n",
       "0      87   19.0  California          ...             Kirkland Signature   \n",
       "1      87   22.0  California          ...                        Bianchi   \n",
       "2      87   69.0  California          ...            Castello di Amorosa   \n",
       "3      86  100.0  California          ...                          Okapi   \n",
       "4      86   26.0  California          ...                         Sevtap   \n",
       "\n",
       "  province_id variety_numerical vintage        lat         lon total_fires  \\\n",
       "0           7                80    2011  38.297137 -122.285529           0   \n",
       "1           7               326    2011  37.050096 -121.990591           4   \n",
       "2           7               440    2011  38.293313 -122.469386           0   \n",
       "3           7                80    2013  38.297137 -122.285529         122   \n",
       "4           7               514    2015  35.282753 -120.659616          82   \n",
       "\n",
       "   sum_fire_size  total_fires_current  sum_fire_size_current  \n",
       "0           0.00                  202                1756.38  \n",
       "1          79.10                  192                 639.14  \n",
       "2           0.00                  202                1756.38  \n",
       "3        1339.78                  247                1453.08  \n",
       "4         719.08                  109                2711.55  \n",
       "\n",
       "[5 rows x 26 columns]"
      ]
     },
     "execution_count": 2,
     "metadata": {},
     "output_type": "execute_result"
    }
   ],
   "source": [
    "# Load the cleaned data into dataframe\n",
    "\n",
    "\"\"\" \n",
    "    Information of cleaned dataset:\n",
    "    \n",
    "    - Province and Variety of wine is transfomed from a categorical attribute to numerical attribute\n",
    "    - Vintage of wine is extracted from the title of each wine\n",
    "    - Rows were removed if there were null values present within each of the three attributes (Province, Variety, Vintage)\n",
    "    \n",
    "\"\"\"\n",
    "warnings.simplefilter('ignore')\n",
    "data = pd.read_csv(\"../data/final_wine_and_fire_data.csv\")\n",
    "data.dropna(inplace = True)\n",
    "print(data.shape)\n",
    "data.head()"
   ]
  },
  {
   "cell_type": "code",
   "execution_count": 18,
   "metadata": {},
   "outputs": [],
   "source": [
    "# Normalizing province id between 1 and 0 \n",
    "data['norm_vintage'] = abs((data.vintage - data.vintage.min()) / (data.vintage.max()))\n",
    "\n",
    "# Normalizing variety (numerical) between 1 and 0 \n",
    "data['norm_variety_numerical'] = abs((data.variety_numerical - data.variety_numerical.min()) / (data.variety_numerical.max()))\n",
    "\n",
    "# Normalizing price between 1 and 0 \n",
    "data['norm_price'] = abs((data.price - data.price.min()) / (data.price.max()))\n",
    "\n",
    "# Normalizing points(rating) between 1 and 0 \n",
    "data['norm_points'] = abs((data.points - data.points.min()) / (data.points.max()))\n",
    "\n",
    "# Normalizing points(rating) between 1 and 0 \n",
    "data['norm_total_fires'] = abs((data.total_fires - data.total_fires.min()) / (data.total_fires.max()))\n",
    "\n",
    "# Normalizing points(rating) between 1 and 0 \n",
    "data['norm_sum_fire_size'] = abs((data.sum_fire_size - data.sum_fire_size.min()) / (data.sum_fire_size.max()))\n",
    "\n",
    "# Normalizing points(rating) between 1 and 0 \n",
    "data['norm_total_fires_current'] = abs((data.total_fires_current - data.total_fires_current.min()) / (data.total_fires_current.max()))\n",
    "\n",
    "# Normalizing points(rating) between 1 and 0 \n",
    "data['norm_sum_fire_size_current'] = abs((data.sum_fire_size_current - data.sum_fire_size_current.min()) / (data.sum_fire_size_current.max()))"
   ]
  },
  {
   "cell_type": "markdown",
   "metadata": {},
   "source": [
    "Here, we apply logistic regression with multiclass to try to predict the price and the points of a wine. The results are not very good, since there are so many y 'classes' to predict. "
   ]
  },
  {
   "cell_type": "code",
   "execution_count": 4,
   "metadata": {},
   "outputs": [
    {
     "name": "stdout",
     "output_type": "stream",
     "text": [
      "0.05134775033309419\n"
     ]
    },
    {
     "data": {
      "image/png": "[encoded data removed]",
      "text/plain": [
       "<Figure size 432x288 with 1 Axes>"
      ]
     },
     "metadata": {},
     "output_type": "display_data"
    }
   ],
   "source": [
    "x = data.loc[:, ['vintage']]\n",
    "y = data.loc[:, ['price']]\n",
    "\n",
    "reg = LogisticRegression(random_state=0, solver='lbfgs', multi_class='multinomial').fit(x, y)\n",
    "print(reg.score(x,y))\n",
    "\n",
    "predict = reg.predict(x)\n",
    "\n",
    "plt.scatter(x, y)  \n",
    "\n",
    "plt.plot(x,predict,color = 'red')\n",
    "plt.show()"
   ]
  },
  {
   "cell_type": "code",
   "execution_count": 40,
   "metadata": {},
   "outputs": [
    {
     "name": "stdout",
     "output_type": "stream",
     "text": [
      "0.16347237880496054\n"
     ]
    },
    {
     "data": {
      "image/png": "[encoded data removed]",
      "text/plain": [
       "<Figure size 432x288 with 1 Axes>"
      ]
     },
     "metadata": {},
     "output_type": "display_data"
    },
    {
     "name": "stdout",
     "output_type": "stream",
     "text": [
      "confusion matrix\n",
      "[[   0    0    0    0    0    0    0    0    0    0    5    0    0    0\n",
      "     0    0    0    0    0    0]\n",
      " [   0    0    0    0    0    0    0    0    0    0    6    0    0    0\n",
      "     0    0    0    0    0    0]\n",
      " [   0    0    0    0    0    0    0    0    0    0   38    0    0    0\n",
      "     0    0    0    0    0    0]\n",
      " [   0    0    0    0    0    0    0    0    0    0   71    0    0    0\n",
      "     0    0    0    0    0    0]\n",
      " [   0    0    0    0    0    0    0    0    0    0  155    0    0    0\n",
      "     0    0    0    0    0    0]\n",
      " [   0    0    0    0    0    0    0    0    0    0  289    0    0    0\n",
      "     0    0    0    0    0    0]\n",
      " [   0    0    0    0    0    0    0    0    0    0  541    0    0    0\n",
      "     0    0    0    0    0    0]\n",
      " [   0    0    0    0    0    0    0    0    0    0  754    0    0    0\n",
      "     0    0    0    0    0    0]\n",
      " [   0    0    0    0    0    0    0    0    0    0 1204    0    0    0\n",
      "     0    0    0    0    0    0]\n",
      " [   0    0    0    0    0    0    0    0    0    0  669    0    0    0\n",
      "     0    0    0    0    0    0]\n",
      " [   0    0    0    0    0    0    0    0    0    0 1595    0    0    0\n",
      "     0    0    0    0    0    0]\n",
      " [   0    0    0    0    0    0    0    0    0    0 1370    0    0    0\n",
      "     0    0    0    0    0    0]\n",
      " [   0    0    0    0    0    0    0    0    0    0 1200    0    0    0\n",
      "     0    0    0    0    0    0]\n",
      " [   0    0    0    0    0    0    0    0    0    0 1024    0    0    0\n",
      "     0    0    0    0    0    0]\n",
      " [   0    0    0    0    0    0    0    0    0    0  583    0    0    0\n",
      "     0    0    0    0    0    0]\n",
      " [   0    0    0    0    0    0    0    0    0    0  192    0    0    0\n",
      "     0    0    0    0    0    0]\n",
      " [   0    0    0    0    0    0    0    0    0    0   40    0    0    0\n",
      "     0    0    0    0    0    0]\n",
      " [   0    0    0    0    0    0    0    0    0    0   13    0    0    0\n",
      "     0    0    0    0    0    0]\n",
      " [   0    0    0    0    0    0    0    0    0    0    7    0    0    0\n",
      "     0    0    0    0    0    0]\n",
      " [   0    0    0    0    0    0    0    0    0    0    1    0    0    0\n",
      "     0    0    0    0    0    0]]\n",
      "\n",
      "precision\n",
      "0.026723218632152514\n",
      "recall\n",
      "0.16347237880496054\n",
      "f1 score\n",
      "0.045937005671936586\n"
     ]
    }
   ],
   "source": [
    "x = data.loc[:, ['vintage']]\n",
    "y = data.loc[:, ['points']]\n",
    "\n",
    "reg = LogisticRegression(random_state=0, solver='lbfgs', multi_class='multinomial').fit(x, y)\n",
    "print(reg.score(x,y))\n",
    "\n",
    "predict = reg.predict(x)\n",
    "\n",
    "plt.scatter(x, y)  \n",
    "\n",
    "plt.plot(x,predict,color = 'red')\n",
    "plt.show()\n",
    "\n",
    "model_stats(y, predict)"
   ]
  },
  {
   "cell_type": "code",
   "execution_count": 6,
   "metadata": {},
   "outputs": [
    {
     "name": "stdout",
     "output_type": "stream",
     "text": [
      "0.16357486932458748\n"
     ]
    },
    {
     "data": {
      "image/png": "[encoded data removed]",
      "text/plain": [
       "<Figure size 432x288 with 1 Axes>"
      ]
     },
     "metadata": {},
     "output_type": "display_data"
    }
   ],
   "source": [
    "x = data.loc[:, ['total_fires']]\n",
    "y = data.loc[:, ['points']]\n",
    "\n",
    "reg = LogisticRegression(random_state=0, solver='lbfgs', multi_class='multinomial').fit(x, y)\n",
    "print(reg.score(x,y))\n",
    "\n",
    "predict = reg.predict(x)\n",
    "\n",
    "plt.scatter(x, y)  \n",
    "plt.plot(x,predict,color = 'red')\n",
    "plt.show()"
   ]
  },
  {
   "cell_type": "code",
   "execution_count": 7,
   "metadata": {},
   "outputs": [
    {
     "name": "stdout",
     "output_type": "stream",
     "text": [
      "0.12411601926821769\n"
     ]
    },
    {
     "data": {
      "image/png": "[encoded data removed]",
      "text/plain": [
       "<Figure size 432x288 with 1 Axes>"
      ]
     },
     "metadata": {},
     "output_type": "display_data"
    }
   ],
   "source": [
    "x = data.loc[:, ['sum_fire_size']]\n",
    "y = data.loc[:, ['points']]\n",
    "\n",
    "reg = LogisticRegression(random_state=0, solver='lbfgs', multi_class='multinomial').fit(x, y)\n",
    "print(reg.score(x,y))\n",
    "\n",
    "predict = reg.predict(x)\n",
    "\n",
    "plt.scatter(x, y)  \n",
    "plt.plot(x,predict,color = 'red')\n",
    "plt.show()"
   ]
  },
  {
   "cell_type": "code",
   "execution_count": 8,
   "metadata": {},
   "outputs": [
    {
     "name": "stdout",
     "output_type": "stream",
     "text": [
      "0.16459977452085683\n"
     ]
    },
    {
     "data": {
      "image/png": "[encoded data removed]",
      "text/plain": [
       "<Figure size 432x288 with 1 Axes>"
      ]
     },
     "metadata": {},
     "output_type": "display_data"
    }
   ],
   "source": [
    "x = data.loc[:, ['vintage', 'price','total_fires','sum_fire_size', 'variety_numerical']]\n",
    "y = data.loc[:, ['points']]\n",
    "\n",
    "reg = LogisticRegression(random_state=0, solver='lbfgs', multi_class='multinomial').fit(x, y)\n",
    "print(reg.score(x,y))\n",
    "\n",
    "predict = reg.predict(x)\n",
    "\n",
    "plt.scatter(x.iloc[:,1], y)  \n",
    "\n",
    "plt.plot(x.iloc[:,1],predict,color = 'red')\n",
    "plt.show()"
   ]
  },
  {
   "cell_type": "markdown",
   "metadata": {},
   "source": [
    "Here, we convert the points into a binary value, 1 being good wines with a rating over 90, and 0 being bad wines with a score less than 90. We can then run logistic regression on the data with a binary output."
   ]
  },
  {
   "cell_type": "code",
   "execution_count": 9,
   "metadata": {},
   "outputs": [
    {
     "name": "stdout",
     "output_type": "stream",
     "text": [
      "4430, 0.5459669980526801\n"
     ]
    },
    {
     "data": {
      "text/html": [
       "<div>\n",
       "<style scoped>\n",
       "    .dataframe tbody tr th:only-of-type {\n",
       "        vertical-align: middle;\n",
       "    }\n",
       "\n",
       "    .dataframe tbody tr th {\n",
       "        vertical-align: top;\n",
       "    }\n",
       "\n",
       "    .dataframe thead th {\n",
       "        text-align: right;\n",
       "    }\n",
       "</style>\n",
       "<table border=\"1\" class=\"dataframe\">\n",
       "  <thead>\n",
       "    <tr style=\"text-align: right;\">\n",
       "      <th></th>\n",
       "      <th>Unnamed: 0</th>\n",
       "      <th>Unnamed: 0.1</th>\n",
       "      <th>Unnamed: 0.1.1</th>\n",
       "      <th>Unnamed: 0.1.1.1</th>\n",
       "      <th>country</th>\n",
       "      <th>description</th>\n",
       "      <th>designation</th>\n",
       "      <th>points</th>\n",
       "      <th>price</th>\n",
       "      <th>province</th>\n",
       "      <th>...</th>\n",
       "      <th>sum_fire_size</th>\n",
       "      <th>total_fires_current</th>\n",
       "      <th>sum_fire_size_current</th>\n",
       "      <th>norm_vintage</th>\n",
       "      <th>norm_variety_numerical</th>\n",
       "      <th>norm_price</th>\n",
       "      <th>norm_points</th>\n",
       "      <th>norm_total_fires</th>\n",
       "      <th>norm_sum_fire_size</th>\n",
       "      <th>good_wine</th>\n",
       "    </tr>\n",
       "  </thead>\n",
       "  <tbody>\n",
       "    <tr>\n",
       "      <th>0</th>\n",
       "      <td>0</td>\n",
       "      <td>0</td>\n",
       "      <td>10</td>\n",
       "      <td>10</td>\n",
       "      <td>US</td>\n",
       "      <td>Soft, supple plum envelopes an oaky structure ...</td>\n",
       "      <td>Mountain Cuvée</td>\n",
       "      <td>87</td>\n",
       "      <td>19.0</td>\n",
       "      <td>California</td>\n",
       "      <td>...</td>\n",
       "      <td>0.00</td>\n",
       "      <td>202</td>\n",
       "      <td>1756.38</td>\n",
       "      <td>0.009921</td>\n",
       "      <td>0.113960</td>\n",
       "      <td>0.006955</td>\n",
       "      <td>0.070707</td>\n",
       "      <td>0.000000</td>\n",
       "      <td>0.000000</td>\n",
       "      <td>0</td>\n",
       "    </tr>\n",
       "    <tr>\n",
       "      <th>1</th>\n",
       "      <td>3</td>\n",
       "      <td>3</td>\n",
       "      <td>23</td>\n",
       "      <td>23</td>\n",
       "      <td>US</td>\n",
       "      <td>This wine from the Geneseo district offers aro...</td>\n",
       "      <td>Signature Selection</td>\n",
       "      <td>87</td>\n",
       "      <td>22.0</td>\n",
       "      <td>California</td>\n",
       "      <td>...</td>\n",
       "      <td>79.10</td>\n",
       "      <td>192</td>\n",
       "      <td>639.14</td>\n",
       "      <td>0.009921</td>\n",
       "      <td>0.464387</td>\n",
       "      <td>0.008445</td>\n",
       "      <td>0.070707</td>\n",
       "      <td>0.008929</td>\n",
       "      <td>0.000310</td>\n",
       "      <td>0</td>\n",
       "    </tr>\n",
       "    <tr>\n",
       "      <th>2</th>\n",
       "      <td>4</td>\n",
       "      <td>4</td>\n",
       "      <td>25</td>\n",
       "      <td>25</td>\n",
       "      <td>US</td>\n",
       "      <td>Oak and earth intermingle around robust aromas...</td>\n",
       "      <td>King Ridge Vineyard</td>\n",
       "      <td>87</td>\n",
       "      <td>69.0</td>\n",
       "      <td>California</td>\n",
       "      <td>...</td>\n",
       "      <td>0.00</td>\n",
       "      <td>202</td>\n",
       "      <td>1756.38</td>\n",
       "      <td>0.009921</td>\n",
       "      <td>0.626781</td>\n",
       "      <td>0.031793</td>\n",
       "      <td>0.070707</td>\n",
       "      <td>0.000000</td>\n",
       "      <td>0.000000</td>\n",
       "      <td>0</td>\n",
       "    </tr>\n",
       "    <tr>\n",
       "      <th>3</th>\n",
       "      <td>12</td>\n",
       "      <td>12</td>\n",
       "      <td>60</td>\n",
       "      <td>60</td>\n",
       "      <td>US</td>\n",
       "      <td>Syrupy and dense, this wine is jammy in plum a...</td>\n",
       "      <td>Estate</td>\n",
       "      <td>86</td>\n",
       "      <td>100.0</td>\n",
       "      <td>California</td>\n",
       "      <td>...</td>\n",
       "      <td>1339.78</td>\n",
       "      <td>247</td>\n",
       "      <td>1453.08</td>\n",
       "      <td>0.010913</td>\n",
       "      <td>0.113960</td>\n",
       "      <td>0.047193</td>\n",
       "      <td>0.060606</td>\n",
       "      <td>0.272321</td>\n",
       "      <td>0.005246</td>\n",
       "      <td>0</td>\n",
       "    </tr>\n",
       "    <tr>\n",
       "      <th>4</th>\n",
       "      <td>13</td>\n",
       "      <td>13</td>\n",
       "      <td>63</td>\n",
       "      <td>64</td>\n",
       "      <td>US</td>\n",
       "      <td>There are intriguing touches to the nose of th...</td>\n",
       "      <td>Golden Horn</td>\n",
       "      <td>86</td>\n",
       "      <td>26.0</td>\n",
       "      <td>California</td>\n",
       "      <td>...</td>\n",
       "      <td>719.08</td>\n",
       "      <td>109</td>\n",
       "      <td>2711.55</td>\n",
       "      <td>0.011905</td>\n",
       "      <td>0.732194</td>\n",
       "      <td>0.010432</td>\n",
       "      <td>0.060606</td>\n",
       "      <td>0.183036</td>\n",
       "      <td>0.002815</td>\n",
       "      <td>0</td>\n",
       "    </tr>\n",
       "  </tbody>\n",
       "</table>\n",
       "<p>5 rows × 33 columns</p>\n",
       "</div>"
      ],
      "text/plain": [
       "   Unnamed: 0  Unnamed: 0.1  Unnamed: 0.1.1  Unnamed: 0.1.1.1 country  \\\n",
       "0           0             0              10                10      US   \n",
       "1           3             3              23                23      US   \n",
       "2           4             4              25                25      US   \n",
       "3          12            12              60                60      US   \n",
       "4          13            13              63                64      US   \n",
       "\n",
       "                                         description          designation  \\\n",
       "0  Soft, supple plum envelopes an oaky structure ...       Mountain Cuvée   \n",
       "1  This wine from the Geneseo district offers aro...  Signature Selection   \n",
       "2  Oak and earth intermingle around robust aromas...  King Ridge Vineyard   \n",
       "3  Syrupy and dense, this wine is jammy in plum a...               Estate   \n",
       "4  There are intriguing touches to the nose of th...          Golden Horn   \n",
       "\n",
       "   points  price    province    ...     sum_fire_size total_fires_current  \\\n",
       "0      87   19.0  California    ...              0.00                 202   \n",
       "1      87   22.0  California    ...             79.10                 192   \n",
       "2      87   69.0  California    ...              0.00                 202   \n",
       "3      86  100.0  California    ...           1339.78                 247   \n",
       "4      86   26.0  California    ...            719.08                 109   \n",
       "\n",
       "  sum_fire_size_current norm_vintage norm_variety_numerical norm_price  \\\n",
       "0               1756.38     0.009921               0.113960   0.006955   \n",
       "1                639.14     0.009921               0.464387   0.008445   \n",
       "2               1756.38     0.009921               0.626781   0.031793   \n",
       "3               1453.08     0.010913               0.113960   0.047193   \n",
       "4               2711.55     0.011905               0.732194   0.010432   \n",
       "\n",
       "  norm_points  norm_total_fires  norm_sum_fire_size  good_wine  \n",
       "0    0.070707          0.000000            0.000000          0  \n",
       "1    0.070707          0.008929            0.000310          0  \n",
       "2    0.070707          0.000000            0.000000          0  \n",
       "3    0.060606          0.272321            0.005246          0  \n",
       "4    0.060606          0.183036            0.002815          0  \n",
       "\n",
       "[5 rows x 33 columns]"
      ]
     },
     "execution_count": 9,
     "metadata": {},
     "output_type": "execute_result"
    }
   ],
   "source": [
    "data['good_wine'] = 0\n",
    "good_count= 0\n",
    "for index, row in data.iterrows():\n",
    "    if(row['points'] > 90):\n",
    "        data.loc[index,'good_wine'] = 1\n",
    "        good_count += 1\n",
    "print(str(good_count) + ', ' + str(1-(good_count/data.shape[0])))\n",
    "data.head()"
   ]
  },
  {
   "cell_type": "markdown",
   "metadata": {},
   "source": [
    "Here we can see that the price and the combination of all our features do have an effect on our regression, increasing the accuracy beyond randomly guessing. "
   ]
  },
  {
   "cell_type": "code",
   "execution_count": 10,
   "metadata": {},
   "outputs": [
    {
     "name": "stdout",
     "output_type": "stream",
     "text": [
      "0.5459669980526801\n"
     ]
    },
    {
     "data": {
      "image/png": "[encoded data removed]",
      "text/plain": [
       "<Figure size 432x288 with 1 Axes>"
      ]
     },
     "metadata": {},
     "output_type": "display_data"
    }
   ],
   "source": [
    "x = data.loc[:, ['norm_vintage']]\n",
    "y = data.loc[:, ['good_wine']]\n",
    "\n",
    "reg = LogisticRegression(random_state=0, solver='saga', multi_class='ovr').fit(x, y)\n",
    "print(reg.score(x,y))\n",
    "\n",
    "predict = reg.predict(x)\n",
    "\n",
    "plt.scatter(x, y)  \n",
    "x = x.sort_values(by = 'norm_vintage')\n",
    "plt.plot(x,reg.predict_proba(x)[:,1],color = 'red')\n",
    "plt.show()"
   ]
  },
  {
   "cell_type": "code",
   "execution_count": 11,
   "metadata": {},
   "outputs": [
    {
     "name": "stdout",
     "output_type": "stream",
     "text": [
      "0.5878856205800963\n"
     ]
    },
    {
     "data": {
      "image/png": "[encoded data removed]",
      "text/plain": [
       "<Figure size 432x288 with 1 Axes>"
      ]
     },
     "metadata": {},
     "output_type": "display_data"
    }
   ],
   "source": [
    "x = data.loc[:, ['norm_price']]\n",
    "y = data.loc[:, ['good_wine']]\n",
    "\n",
    "reg = LogisticRegression(random_state=0, solver='sag', multi_class='ovr').fit(x, y)\n",
    "print(reg.score(x,y))\n",
    "\n",
    "predict = reg.predict(x)\n",
    "\n",
    "plt.scatter(x, y)  \n",
    "x = x.sort_values(by = 'norm_price')\n",
    "plt.plot(x,reg.predict_proba(x)[:,1],color = 'red')\n",
    "plt.show()"
   ]
  },
  {
   "cell_type": "code",
   "execution_count": 12,
   "metadata": {},
   "outputs": [
    {
     "name": "stdout",
     "output_type": "stream",
     "text": [
      "0.5577534078097776\n"
     ]
    },
    {
     "data": {
      "image/png": "[encoded data removed]",
      "text/plain": [
       "<Figure size 432x288 with 1 Axes>"
      ]
     },
     "metadata": {},
     "output_type": "display_data"
    }
   ],
   "source": [
    "x = data.loc[:, ['norm_total_fires']]\n",
    "y = data.loc[:, ['good_wine']]\n",
    "\n",
    "reg = LogisticRegression(random_state=0, solver='saga', multi_class='ovr').fit(x, y)\n",
    "print(reg.score(x,y))\n",
    "\n",
    "predict = reg.predict(x)\n",
    "\n",
    "\n",
    "plt.scatter(x, y)  \n",
    "x = x.sort_values(by = 'norm_total_fires')\n",
    "plt.plot(x,reg.predict_proba(x)[:,1],color = 'red')\n",
    "plt.show()"
   ]
  },
  {
   "cell_type": "code",
   "execution_count": 20,
   "metadata": {},
   "outputs": [
    {
     "name": "stdout",
     "output_type": "stream",
     "text": [
      "0.5459669980526801\n"
     ]
    },
    {
     "data": {
      "image/png": "[encoded data removed]",
      "text/plain": [
       "<Figure size 432x288 with 1 Axes>"
      ]
     },
     "metadata": {},
     "output_type": "display_data"
    }
   ],
   "source": [
    "x = data.loc[:, ['norm_sum_fire_size_current']]\n",
    "y = data.loc[:, ['good_wine']]\n",
    "\n",
    "reg = LogisticRegression(random_state=0, solver='saga', multi_class='ovr').fit(x, y)\n",
    "print(reg.score(x,y))\n",
    "\n",
    "predict = reg.predict(x)\n",
    "\n",
    "plt.scatter(x, y)  \n",
    "x = x.sort_values(by = 'norm_sum_fire_size_current')\n",
    "plt.plot(x,reg.predict_proba(x)[:,1],color = 'red')\n",
    "plt.show()"
   ]
  },
  {
   "cell_type": "code",
   "execution_count": 14,
   "metadata": {},
   "outputs": [
    {
     "name": "stdout",
     "output_type": "stream",
     "text": [
      "0.6156605513989956\n"
     ]
    },
    {
     "data": {
      "image/png": "[encoded data removed]",
      "text/plain": [
       "<Figure size 432x288 with 1 Axes>"
      ]
     },
     "metadata": {},
     "output_type": "display_data"
    }
   ],
   "source": [
    "x = data.loc[:, ['norm_vintage', 'norm_price','norm_total_fires','norm_sum_fire_size', 'norm_variety_numerical']]\n",
    "y = data.loc[:, ['good_wine']]\n",
    "\n",
    "reg = LogisticRegression(random_state=0, solver='saga', multi_class='ovr').fit(x, y)\n",
    "print(reg.score(x,y))\n",
    "\n",
    "predict = reg.predict(x)\n",
    "\n",
    "plt.scatter(x.iloc[:,2], y) \n",
    "x = x.sort_values(by = 'norm_total_fires')\n",
    "plt.plot(x.iloc[:,2],reg.predict_proba(x)[:,1],color = 'red')\n",
    "plt.show()\n"
   ]
  },
  {
   "cell_type": "code",
   "execution_count": null,
   "metadata": {},
   "outputs": [],
   "source": []
  },
  {
   "cell_type": "code",
   "execution_count": 15,
   "metadata": {},
   "outputs": [
    {
     "name": "stdout",
     "output_type": "stream",
     "text": [
      "2898, 0.7029824741211438\n"
     ]
    },
    {
     "data": {
      "text/html": [
       "<div>\n",
       "<style scoped>\n",
       "    .dataframe tbody tr th:only-of-type {\n",
       "        vertical-align: middle;\n",
       "    }\n",
       "\n",
       "    .dataframe tbody tr th {\n",
       "        vertical-align: top;\n",
       "    }\n",
       "\n",
       "    .dataframe thead th {\n",
       "        text-align: right;\n",
       "    }\n",
       "</style>\n",
       "<table border=\"1\" class=\"dataframe\">\n",
       "  <thead>\n",
       "    <tr style=\"text-align: right;\">\n",
       "      <th></th>\n",
       "      <th>Unnamed: 0</th>\n",
       "      <th>Unnamed: 0.1</th>\n",
       "      <th>Unnamed: 0.1.1</th>\n",
       "      <th>Unnamed: 0.1.1.1</th>\n",
       "      <th>country</th>\n",
       "      <th>description</th>\n",
       "      <th>designation</th>\n",
       "      <th>points</th>\n",
       "      <th>price</th>\n",
       "      <th>province</th>\n",
       "      <th>...</th>\n",
       "      <th>total_fires_current</th>\n",
       "      <th>sum_fire_size_current</th>\n",
       "      <th>norm_vintage</th>\n",
       "      <th>norm_variety_numerical</th>\n",
       "      <th>norm_price</th>\n",
       "      <th>norm_points</th>\n",
       "      <th>norm_total_fires</th>\n",
       "      <th>norm_sum_fire_size</th>\n",
       "      <th>good_wine</th>\n",
       "      <th>expensive_wine</th>\n",
       "    </tr>\n",
       "  </thead>\n",
       "  <tbody>\n",
       "    <tr>\n",
       "      <th>0</th>\n",
       "      <td>0</td>\n",
       "      <td>0</td>\n",
       "      <td>10</td>\n",
       "      <td>10</td>\n",
       "      <td>US</td>\n",
       "      <td>Soft, supple plum envelopes an oaky structure ...</td>\n",
       "      <td>Mountain Cuvée</td>\n",
       "      <td>87</td>\n",
       "      <td>19.0</td>\n",
       "      <td>California</td>\n",
       "      <td>...</td>\n",
       "      <td>202</td>\n",
       "      <td>1756.38</td>\n",
       "      <td>0.009921</td>\n",
       "      <td>0.113960</td>\n",
       "      <td>0.006955</td>\n",
       "      <td>0.070707</td>\n",
       "      <td>0.000000</td>\n",
       "      <td>0.000000</td>\n",
       "      <td>0</td>\n",
       "      <td>0</td>\n",
       "    </tr>\n",
       "    <tr>\n",
       "      <th>1</th>\n",
       "      <td>3</td>\n",
       "      <td>3</td>\n",
       "      <td>23</td>\n",
       "      <td>23</td>\n",
       "      <td>US</td>\n",
       "      <td>This wine from the Geneseo district offers aro...</td>\n",
       "      <td>Signature Selection</td>\n",
       "      <td>87</td>\n",
       "      <td>22.0</td>\n",
       "      <td>California</td>\n",
       "      <td>...</td>\n",
       "      <td>192</td>\n",
       "      <td>639.14</td>\n",
       "      <td>0.009921</td>\n",
       "      <td>0.464387</td>\n",
       "      <td>0.008445</td>\n",
       "      <td>0.070707</td>\n",
       "      <td>0.008929</td>\n",
       "      <td>0.000310</td>\n",
       "      <td>0</td>\n",
       "      <td>0</td>\n",
       "    </tr>\n",
       "    <tr>\n",
       "      <th>2</th>\n",
       "      <td>4</td>\n",
       "      <td>4</td>\n",
       "      <td>25</td>\n",
       "      <td>25</td>\n",
       "      <td>US</td>\n",
       "      <td>Oak and earth intermingle around robust aromas...</td>\n",
       "      <td>King Ridge Vineyard</td>\n",
       "      <td>87</td>\n",
       "      <td>69.0</td>\n",
       "      <td>California</td>\n",
       "      <td>...</td>\n",
       "      <td>202</td>\n",
       "      <td>1756.38</td>\n",
       "      <td>0.009921</td>\n",
       "      <td>0.626781</td>\n",
       "      <td>0.031793</td>\n",
       "      <td>0.070707</td>\n",
       "      <td>0.000000</td>\n",
       "      <td>0.000000</td>\n",
       "      <td>0</td>\n",
       "      <td>1</td>\n",
       "    </tr>\n",
       "    <tr>\n",
       "      <th>3</th>\n",
       "      <td>12</td>\n",
       "      <td>12</td>\n",
       "      <td>60</td>\n",
       "      <td>60</td>\n",
       "      <td>US</td>\n",
       "      <td>Syrupy and dense, this wine is jammy in plum a...</td>\n",
       "      <td>Estate</td>\n",
       "      <td>86</td>\n",
       "      <td>100.0</td>\n",
       "      <td>California</td>\n",
       "      <td>...</td>\n",
       "      <td>247</td>\n",
       "      <td>1453.08</td>\n",
       "      <td>0.010913</td>\n",
       "      <td>0.113960</td>\n",
       "      <td>0.047193</td>\n",
       "      <td>0.060606</td>\n",
       "      <td>0.272321</td>\n",
       "      <td>0.005246</td>\n",
       "      <td>0</td>\n",
       "      <td>1</td>\n",
       "    </tr>\n",
       "    <tr>\n",
       "      <th>4</th>\n",
       "      <td>13</td>\n",
       "      <td>13</td>\n",
       "      <td>63</td>\n",
       "      <td>64</td>\n",
       "      <td>US</td>\n",
       "      <td>There are intriguing touches to the nose of th...</td>\n",
       "      <td>Golden Horn</td>\n",
       "      <td>86</td>\n",
       "      <td>26.0</td>\n",
       "      <td>California</td>\n",
       "      <td>...</td>\n",
       "      <td>109</td>\n",
       "      <td>2711.55</td>\n",
       "      <td>0.011905</td>\n",
       "      <td>0.732194</td>\n",
       "      <td>0.010432</td>\n",
       "      <td>0.060606</td>\n",
       "      <td>0.183036</td>\n",
       "      <td>0.002815</td>\n",
       "      <td>0</td>\n",
       "      <td>0</td>\n",
       "    </tr>\n",
       "  </tbody>\n",
       "</table>\n",
       "<p>5 rows × 34 columns</p>\n",
       "</div>"
      ],
      "text/plain": [
       "   Unnamed: 0  Unnamed: 0.1  Unnamed: 0.1.1  Unnamed: 0.1.1.1 country  \\\n",
       "0           0             0              10                10      US   \n",
       "1           3             3              23                23      US   \n",
       "2           4             4              25                25      US   \n",
       "3          12            12              60                60      US   \n",
       "4          13            13              63                64      US   \n",
       "\n",
       "                                         description          designation  \\\n",
       "0  Soft, supple plum envelopes an oaky structure ...       Mountain Cuvée   \n",
       "1  This wine from the Geneseo district offers aro...  Signature Selection   \n",
       "2  Oak and earth intermingle around robust aromas...  King Ridge Vineyard   \n",
       "3  Syrupy and dense, this wine is jammy in plum a...               Estate   \n",
       "4  There are intriguing touches to the nose of th...          Golden Horn   \n",
       "\n",
       "   points  price    province       ...       total_fires_current  \\\n",
       "0      87   19.0  California       ...                       202   \n",
       "1      87   22.0  California       ...                       192   \n",
       "2      87   69.0  California       ...                       202   \n",
       "3      86  100.0  California       ...                       247   \n",
       "4      86   26.0  California       ...                       109   \n",
       "\n",
       "  sum_fire_size_current norm_vintage norm_variety_numerical norm_price  \\\n",
       "0               1756.38     0.009921               0.113960   0.006955   \n",
       "1                639.14     0.009921               0.464387   0.008445   \n",
       "2               1756.38     0.009921               0.626781   0.031793   \n",
       "3               1453.08     0.010913               0.113960   0.047193   \n",
       "4               2711.55     0.011905               0.732194   0.010432   \n",
       "\n",
       "  norm_points norm_total_fires  norm_sum_fire_size  good_wine  expensive_wine  \n",
       "0    0.070707         0.000000            0.000000          0               0  \n",
       "1    0.070707         0.008929            0.000310          0               0  \n",
       "2    0.070707         0.000000            0.000000          0               1  \n",
       "3    0.060606         0.272321            0.005246          0               1  \n",
       "4    0.060606         0.183036            0.002815          0               0  \n",
       "\n",
       "[5 rows x 34 columns]"
      ]
     },
     "execution_count": 15,
     "metadata": {},
     "output_type": "execute_result"
    }
   ],
   "source": [
    "data['expensive_wine'] = 0\n",
    "expensive= 0\n",
    "for index, row in data.iterrows():\n",
    "    if(row['price'] > 50):\n",
    "        data.loc[index,'expensive_wine'] = 1\n",
    "        expensive += 1\n",
    "print(str(expensive) + ', ' + str(1 - (expensive/data.shape[0])))\n",
    "data.head()"
   ]
  },
  {
   "cell_type": "code",
   "execution_count": 37,
   "metadata": {},
   "outputs": [
    {
     "name": "stdout",
     "output_type": "stream",
     "text": [
      "0.7029824741211438\n"
     ]
    },
    {
     "data": {
      "image/png": "[encoded data removed]",
      "text/plain": [
       "<Figure size 432x288 with 1 Axes>"
      ]
     },
     "metadata": {},
     "output_type": "display_data"
    },
    {
     "name": "stdout",
     "output_type": "stream",
     "text": [
      "Confusion matrix, without normalization\n",
      "[[6859    0]\n",
      " [2898    0]]\n"
     ]
    },
    {
     "data": {
      "image/png": "[encoded data removed]",
      "text/plain": [
       "<Figure size 432x288 with 2 Axes>"
      ]
     },
     "metadata": {},
     "output_type": "display_data"
    },
    {
     "name": "stdout",
     "output_type": "stream",
     "text": [
      "\n",
      "precision\n",
      "0.4941843589214846\n",
      "recall\n",
      "0.7029824741211438\n",
      "f1 score\n",
      "0.5803751552716568\n"
     ]
    }
   ],
   "source": [
    "x = data.loc[:, ['norm_total_fires']]\n",
    "y = data.loc[:, ['expensive_wine']]\n",
    "\n",
    "reg = LogisticRegression(random_state=0, solver='saga', multi_class='ovr').fit(x, y)\n",
    "print(reg.score(x,y))\n",
    "\n",
    "predict = reg.predict(x)\n",
    "\n",
    "plt.scatter(x, y)  \n",
    "x = x.sort_values(by = 'norm_total_fires')\n",
    "plt.plot(x,reg.predict_proba(x)[:,1],color = 'red')\n",
    "\n",
    "plt.show()\n",
    "\n",
    "model_stats(y, predict)"
   ]
  },
  {
   "cell_type": "code",
   "execution_count": 29,
   "metadata": {},
   "outputs": [],
   "source": [
    "#from  https://scikit-learn.org/stable/auto_examples/model_selection/plot_confusion_matrix.html\n",
    "#used to plot the confusion matrix nicely\n",
    "\n",
    "def plot_confusion_matrix(y_true, y_pred, classes,\n",
    "                          normalize=False,\n",
    "                          title=None,\n",
    "                          cmap=plt.cm.Blues):\n",
    "    \"\"\"\n",
    "    This function prints and plots the confusion matrix.\n",
    "    Normalization can be applied by setting `normalize=True`.\n",
    "    \"\"\"\n",
    "    if not title:\n",
    "        if normalize:\n",
    "            title = 'Normalized confusion matrix'\n",
    "        else:\n",
    "            title = 'Confusion matrix, without normalization'\n",
    "\n",
    "    # Compute confusion matrix\n",
    "    cm = confusion_matrix(y_true, y_pred)\n",
    "    # Only use the labels that appear in the data\n",
    "    classes = classes[unique_labels(y_true, y_pred)]\n",
    "    if normalize:\n",
    "        cm = cm.astype('float') / cm.sum(axis=1)[:, np.newaxis]\n",
    "        print(\"Normalized confusion matrix\")\n",
    "    else:\n",
    "        print('Confusion matrix, without normalization')\n",
    "\n",
    "    print(cm)\n",
    "\n",
    "    fig, ax = plt.subplots()\n",
    "    im = ax.imshow(cm, interpolation='nearest', cmap=cmap)\n",
    "    ax.figure.colorbar(im, ax=ax)\n",
    "    # We want to show all ticks...\n",
    "    ax.set(xticks=np.arange(cm.shape[1]),\n",
    "           yticks=np.arange(cm.shape[0]),\n",
    "           # ... and label them with the respective list entries\n",
    "           xticklabels=classes, yticklabels=classes,\n",
    "           title=title,\n",
    "           ylabel='True label',\n",
    "           xlabel='Predicted label')\n",
    "\n",
    "    # Rotate the tick labels and set their alignment.\n",
    "    plt.setp(ax.get_xticklabels(), rotation=45, ha=\"right\",\n",
    "             rotation_mode=\"anchor\")\n",
    "\n",
    "    # Loop over data dimensions and create text annotations.\n",
    "    fmt = '.2f' if normalize else 'd'\n",
    "    thresh = cm.max() / 2.\n",
    "    for i in range(cm.shape[0]):\n",
    "        for j in range(cm.shape[1]):\n",
    "            ax.text(j, i, format(cm[i, j], fmt),\n",
    "                    ha=\"center\", va=\"center\",\n",
    "                    color=\"white\" if cm[i, j] > thresh else \"black\")\n",
    "    fig.tight_layout()\n",
    "    plt.show()\n",
    "    return ax\n"
   ]
  },
  {
   "cell_type": "code",
   "execution_count": 39,
   "metadata": {},
   "outputs": [],
   "source": [
    "def model_stats(y_true, y_pred):\n",
    "    try:\n",
    "        plot_confusion_matrix(y_true, y_pred, unique_labels(y_true))\n",
    "    except:\n",
    "        conf_mat = confusion_matrix(y_true, y_pred)\n",
    "        print('confusion matrix')\n",
    "        print(conf_mat)\n",
    "    \n",
    "    stats = precision_recall_fscore_support(y_true, y_pred, average = 'weighted')\n",
    "    print('\\nprecision')\n",
    "    print(stats[0])\n",
    "    print('recall')\n",
    "    print(stats[1])\n",
    "    print('f1 score')\n",
    "    print(stats[2])"
   ]
  },
  {
   "cell_type": "markdown",
   "metadata": {},
   "source": [
    "# add some analysis here\n",
    "\n",
    "From these logistical regressions, we can see that they don't do a really good job at predicting our output of the points of the wine. "
   ]
  }
 ],
 "metadata": {
  "kernelspec": {
   "display_name": "Python 3",
   "language": "python",
   "name": "python3"
  },
  "language_info": {
   "codemirror_mode": {
    "name": "ipython",
    "version": 3
   },
   "file_extension": ".py",
   "mimetype": "text/x-python",
   "name": "python",
   "nbconvert_exporter": "python",
   "pygments_lexer": "ipython3",
   "version": "3.6.5"
  }
 },
 "nbformat": 4,
 "nbformat_minor": 2
}
