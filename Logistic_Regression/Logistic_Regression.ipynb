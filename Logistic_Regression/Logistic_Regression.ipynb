{
 "cells": [
  {
   "cell_type": "markdown",
   "metadata": {},
   "source": [
    "# Applying Logistic Regression on Wine and Fire Data"
   ]
  },
  {
   "cell_type": "markdown",
   "metadata": {},
   "source": [
    "## change me pls\n",
    "\n",
    "As a consumer, we want to find high quality wines from California. We would like to see if there are specific factors that impact the ratings of these wines. By running linear regression on our dataset, we can find out if there is a correlation between features of the wine and its rating. \n",
    "\n",
    "Within our dataset, we can only run linear regression on the vintage and price of the wines, so we plan to enrich our data with potential latent variables. Since one of California's major natural disasters are wildfires, we plan to see if these fires effect the ratings of the wines. To join these datasets, we will join by the county and the year the fire happened and the vintage of the wine. \n"
   ]
  },
  {
   "cell_type": "code",
   "execution_count": 1,
   "metadata": {},
   "outputs": [],
   "source": [
    "import pandas as pd\n",
    "import numpy as np\n",
    "import pylab as pl\n",
    "\n",
    "from sklearn.linear_model import LinearRegression\n",
    "from sklearn.linear_model import LogisticRegression\n",
    "from sklearn.model_selection import train_test_split\n",
    "\n",
    "import matplotlib.pyplot as plt\n",
    "from scipy.spatial.distance import cdist\n",
    "import warnings\n",
    "%matplotlib inline"
   ]
  },
  {
   "cell_type": "code",
   "execution_count": 2,
   "metadata": {},
   "outputs": [
    {
     "name": "stdout",
     "output_type": "stream",
     "text": [
      "(9757, 24)\n"
     ]
    },
    {
     "data": {
      "text/html": [
       "<div>\n",
       "<style scoped>\n",
       "    .dataframe tbody tr th:only-of-type {\n",
       "        vertical-align: middle;\n",
       "    }\n",
       "\n",
       "    .dataframe tbody tr th {\n",
       "        vertical-align: top;\n",
       "    }\n",
       "\n",
       "    .dataframe thead th {\n",
       "        text-align: right;\n",
       "    }\n",
       "</style>\n",
       "<table border=\"1\" class=\"dataframe\">\n",
       "  <thead>\n",
       "    <tr style=\"text-align: right;\">\n",
       "      <th></th>\n",
       "      <th>Unnamed: 0</th>\n",
       "      <th>Unnamed: 0.1</th>\n",
       "      <th>Unnamed: 0.1.1</th>\n",
       "      <th>Unnamed: 0.1.1.1</th>\n",
       "      <th>country</th>\n",
       "      <th>description</th>\n",
       "      <th>designation</th>\n",
       "      <th>points</th>\n",
       "      <th>price</th>\n",
       "      <th>province</th>\n",
       "      <th>...</th>\n",
       "      <th>title</th>\n",
       "      <th>variety</th>\n",
       "      <th>winery</th>\n",
       "      <th>province_id</th>\n",
       "      <th>variety_numerical</th>\n",
       "      <th>vintage</th>\n",
       "      <th>lat</th>\n",
       "      <th>lon</th>\n",
       "      <th>total_fires</th>\n",
       "      <th>sum_fire_size</th>\n",
       "    </tr>\n",
       "  </thead>\n",
       "  <tbody>\n",
       "    <tr>\n",
       "      <th>0</th>\n",
       "      <td>0</td>\n",
       "      <td>0</td>\n",
       "      <td>10</td>\n",
       "      <td>10</td>\n",
       "      <td>US</td>\n",
       "      <td>Soft, supple plum envelopes an oaky structure ...</td>\n",
       "      <td>Mountain Cuvée</td>\n",
       "      <td>87</td>\n",
       "      <td>19.0</td>\n",
       "      <td>California</td>\n",
       "      <td>...</td>\n",
       "      <td>Kirkland Signature 2011 Mountain Cuvée Caberne...</td>\n",
       "      <td>Cabernet Sauvignon</td>\n",
       "      <td>Kirkland Signature</td>\n",
       "      <td>7</td>\n",
       "      <td>80</td>\n",
       "      <td>2011</td>\n",
       "      <td>38.297137</td>\n",
       "      <td>-122.285529</td>\n",
       "      <td>0</td>\n",
       "      <td>0.00</td>\n",
       "    </tr>\n",
       "    <tr>\n",
       "      <th>1</th>\n",
       "      <td>3</td>\n",
       "      <td>3</td>\n",
       "      <td>23</td>\n",
       "      <td>23</td>\n",
       "      <td>US</td>\n",
       "      <td>This wine from the Geneseo district offers aro...</td>\n",
       "      <td>Signature Selection</td>\n",
       "      <td>87</td>\n",
       "      <td>22.0</td>\n",
       "      <td>California</td>\n",
       "      <td>...</td>\n",
       "      <td>Bianchi 2011 Signature Selection Merlot (Paso ...</td>\n",
       "      <td>Merlot</td>\n",
       "      <td>Bianchi</td>\n",
       "      <td>7</td>\n",
       "      <td>326</td>\n",
       "      <td>2011</td>\n",
       "      <td>37.050096</td>\n",
       "      <td>-121.990591</td>\n",
       "      <td>4</td>\n",
       "      <td>79.10</td>\n",
       "    </tr>\n",
       "    <tr>\n",
       "      <th>2</th>\n",
       "      <td>4</td>\n",
       "      <td>4</td>\n",
       "      <td>25</td>\n",
       "      <td>25</td>\n",
       "      <td>US</td>\n",
       "      <td>Oak and earth intermingle around robust aromas...</td>\n",
       "      <td>King Ridge Vineyard</td>\n",
       "      <td>87</td>\n",
       "      <td>69.0</td>\n",
       "      <td>California</td>\n",
       "      <td>...</td>\n",
       "      <td>Castello di Amorosa 2011 King Ridge Vineyard P...</td>\n",
       "      <td>Pinot Noir</td>\n",
       "      <td>Castello di Amorosa</td>\n",
       "      <td>7</td>\n",
       "      <td>440</td>\n",
       "      <td>2011</td>\n",
       "      <td>38.293313</td>\n",
       "      <td>-122.469386</td>\n",
       "      <td>0</td>\n",
       "      <td>0.00</td>\n",
       "    </tr>\n",
       "    <tr>\n",
       "      <th>3</th>\n",
       "      <td>12</td>\n",
       "      <td>12</td>\n",
       "      <td>60</td>\n",
       "      <td>60</td>\n",
       "      <td>US</td>\n",
       "      <td>Syrupy and dense, this wine is jammy in plum a...</td>\n",
       "      <td>Estate</td>\n",
       "      <td>86</td>\n",
       "      <td>100.0</td>\n",
       "      <td>California</td>\n",
       "      <td>...</td>\n",
       "      <td>Okapi 2013 Estate Cabernet Sauvignon (Napa Val...</td>\n",
       "      <td>Cabernet Sauvignon</td>\n",
       "      <td>Okapi</td>\n",
       "      <td>7</td>\n",
       "      <td>80</td>\n",
       "      <td>2013</td>\n",
       "      <td>38.297137</td>\n",
       "      <td>-122.285529</td>\n",
       "      <td>122</td>\n",
       "      <td>1339.78</td>\n",
       "    </tr>\n",
       "    <tr>\n",
       "      <th>4</th>\n",
       "      <td>13</td>\n",
       "      <td>13</td>\n",
       "      <td>63</td>\n",
       "      <td>64</td>\n",
       "      <td>US</td>\n",
       "      <td>There are intriguing touches to the nose of th...</td>\n",
       "      <td>Golden Horn</td>\n",
       "      <td>86</td>\n",
       "      <td>26.0</td>\n",
       "      <td>California</td>\n",
       "      <td>...</td>\n",
       "      <td>Sevtap 2015 Golden Horn Sauvignon Blanc (Santa...</td>\n",
       "      <td>Sauvignon Blanc</td>\n",
       "      <td>Sevtap</td>\n",
       "      <td>7</td>\n",
       "      <td>514</td>\n",
       "      <td>2015</td>\n",
       "      <td>35.282753</td>\n",
       "      <td>-120.659616</td>\n",
       "      <td>82</td>\n",
       "      <td>719.08</td>\n",
       "    </tr>\n",
       "  </tbody>\n",
       "</table>\n",
       "<p>5 rows × 24 columns</p>\n",
       "</div>"
      ],
      "text/plain": [
       "   Unnamed: 0  Unnamed: 0.1  Unnamed: 0.1.1  Unnamed: 0.1.1.1 country  \\\n",
       "0           0             0              10                10      US   \n",
       "1           3             3              23                23      US   \n",
       "2           4             4              25                25      US   \n",
       "3          12            12              60                60      US   \n",
       "4          13            13              63                64      US   \n",
       "\n",
       "                                         description          designation  \\\n",
       "0  Soft, supple plum envelopes an oaky structure ...       Mountain Cuvée   \n",
       "1  This wine from the Geneseo district offers aro...  Signature Selection   \n",
       "2  Oak and earth intermingle around robust aromas...  King Ridge Vineyard   \n",
       "3  Syrupy and dense, this wine is jammy in plum a...               Estate   \n",
       "4  There are intriguing touches to the nose of th...          Golden Horn   \n",
       "\n",
       "   points  price    province      ...        \\\n",
       "0      87   19.0  California      ...         \n",
       "1      87   22.0  California      ...         \n",
       "2      87   69.0  California      ...         \n",
       "3      86  100.0  California      ...         \n",
       "4      86   26.0  California      ...         \n",
       "\n",
       "                                               title             variety  \\\n",
       "0  Kirkland Signature 2011 Mountain Cuvée Caberne...  Cabernet Sauvignon   \n",
       "1  Bianchi 2011 Signature Selection Merlot (Paso ...              Merlot   \n",
       "2  Castello di Amorosa 2011 King Ridge Vineyard P...          Pinot Noir   \n",
       "3  Okapi 2013 Estate Cabernet Sauvignon (Napa Val...  Cabernet Sauvignon   \n",
       "4  Sevtap 2015 Golden Horn Sauvignon Blanc (Santa...     Sauvignon Blanc   \n",
       "\n",
       "                winery province_id variety_numerical vintage        lat  \\\n",
       "0   Kirkland Signature           7                80    2011  38.297137   \n",
       "1              Bianchi           7               326    2011  37.050096   \n",
       "2  Castello di Amorosa           7               440    2011  38.293313   \n",
       "3                Okapi           7                80    2013  38.297137   \n",
       "4               Sevtap           7               514    2015  35.282753   \n",
       "\n",
       "          lon  total_fires  sum_fire_size  \n",
       "0 -122.285529            0           0.00  \n",
       "1 -121.990591            4          79.10  \n",
       "2 -122.469386            0           0.00  \n",
       "3 -122.285529          122        1339.78  \n",
       "4 -120.659616           82         719.08  \n",
       "\n",
       "[5 rows x 24 columns]"
      ]
     },
     "execution_count": 2,
     "metadata": {},
     "output_type": "execute_result"
    }
   ],
   "source": [
    "# Load the cleaned data into dataframe\n",
    "\n",
    "\"\"\" \n",
    "    Information of cleaned dataset:\n",
    "    \n",
    "    - Province and Variety of wine is transfomed from a categorical attribute to numerical attribute\n",
    "    - Vintage of wine is extracted from the title of each wine\n",
    "    - Rows were removed if there were null values present within each of the three attributes (Province, Variety, Vintage)\n",
    "    \n",
    "\"\"\"\n",
    "warnings.simplefilter('ignore')\n",
    "data = pd.read_csv(\"../data/California_latlng_merged.csv\")\n",
    "data.dropna(inplace = True)\n",
    "print(data.shape)\n",
    "data.head()"
   ]
  },
  {
   "cell_type": "code",
   "execution_count": 3,
   "metadata": {},
   "outputs": [],
   "source": [
    "# Normalizing province id between 1 and 0 \n",
    "data['norm_vintage'] = abs((data.vintage - data.vintage.min()) / (data.vintage.max()))\n",
    "\n",
    "# Normalizing variety (numerical) between 1 and 0 \n",
    "data['norm_variety_numerical'] = abs((data.variety_numerical - data.variety_numerical.min()) / (data.variety_numerical.max()))\n",
    "\n",
    "# Normalizing price between 1 and 0 \n",
    "data['norm_price'] = abs((data.price - data.price.min()) / (data.price.max()))\n",
    "\n",
    "# Normalizing points(rating) between 1 and 0 \n",
    "data['norm_points'] = abs((data.points - data.points.min()) / (data.points.max()))\n",
    "\n",
    "# Normalizing points(rating) between 1 and 0 \n",
    "data['norm_total_fires'] = abs((data.total_fires - data.total_fires.min()) / (data.total_fires.max()))\n",
    "\n",
    "# Normalizing points(rating) between 1 and 0 \n",
    "data['norm_sum_fire_size'] = abs((data.sum_fire_size - data.sum_fire_size.min()) / (data.sum_fire_size.max()))"
   ]
  },
  {
   "cell_type": "markdown",
   "metadata": {},
   "source": [
    "Here, we apply logistic regression with multiclass to try to predict the price and the points of a wine. The results are not very good, since there are so many y 'classes' to predict. "
   ]
  },
  {
   "cell_type": "code",
   "execution_count": 4,
   "metadata": {},
   "outputs": [
    {
     "name": "stdout",
     "output_type": "stream",
     "text": [
      "0.05134775033309419\n"
     ]
    },
    {
     "data": {
      "image/png": "[encoded data removed]",
      "text/plain": [
       "<Figure size 432x288 with 1 Axes>"
      ]
     },
     "metadata": {},
     "output_type": "display_data"
    }
   ],
   "source": [
    "x = data.loc[:, ['vintage']]\n",
    "y = data.loc[:, ['price']]\n",
    "\n",
    "reg = LogisticRegression(random_state=0, solver='lbfgs', multi_class='multinomial').fit(x, y)\n",
    "print(reg.score(x,y))\n",
    "\n",
    "predict = reg.predict(x)\n",
    "\n",
    "plt.scatter(x, y)  \n",
    "\n",
    "plt.plot(x,predict,color = 'red')\n",
    "plt.show()"
   ]
  },
  {
   "cell_type": "code",
   "execution_count": 5,
   "metadata": {},
   "outputs": [
    {
     "name": "stdout",
     "output_type": "stream",
     "text": [
      "0.16347237880496054\n"
     ]
    },
    {
     "data": {
      "image/png": "[encoded data removed]",
      "text/plain": [
       "<Figure size 432x288 with 1 Axes>"
      ]
     },
     "metadata": {},
     "output_type": "display_data"
    }
   ],
   "source": [
    "x = data.loc[:, ['vintage']]\n",
    "y = data.loc[:, ['points']]\n",
    "\n",
    "reg = LogisticRegression(random_state=0, solver='lbfgs', multi_class='multinomial').fit(x, y)\n",
    "print(reg.score(x,y))\n",
    "\n",
    "predict = reg.predict(x)\n",
    "\n",
    "plt.scatter(x, y)  \n",
    "\n",
    "plt.plot(x,predict,color = 'red')\n",
    "plt.show()"
   ]
  },
  {
   "cell_type": "code",
   "execution_count": 6,
   "metadata": {},
   "outputs": [
    {
     "name": "stdout",
     "output_type": "stream",
     "text": [
      "0.16357486932458748\n"
     ]
    },
    {
     "data": {
      "image/png": "[encoded data removed]",
      "text/plain": [
       "<Figure size 432x288 with 1 Axes>"
      ]
     },
     "metadata": {},
     "output_type": "display_data"
    }
   ],
   "source": [
    "x = data.loc[:, ['total_fires']]\n",
    "y = data.loc[:, ['points']]\n",
    "\n",
    "reg = LogisticRegression(random_state=0, solver='lbfgs', multi_class='multinomial').fit(x, y)\n",
    "print(reg.score(x,y))\n",
    "\n",
    "predict = reg.predict(x)\n",
    "\n",
    "plt.scatter(x, y)  \n",
    "plt.plot(x,predict,color = 'red')\n",
    "plt.show()"
   ]
  },
  {
   "cell_type": "code",
   "execution_count": 7,
   "metadata": {},
   "outputs": [
    {
     "name": "stdout",
     "output_type": "stream",
     "text": [
      "0.12411601926821769\n"
     ]
    },
    {
     "data": {
      "image/png": "[encoded data removed]",
      "text/plain": [
       "<Figure size 432x288 with 1 Axes>"
      ]
     },
     "metadata": {},
     "output_type": "display_data"
    }
   ],
   "source": [
    "x = data.loc[:, ['sum_fire_size']]\n",
    "y = data.loc[:, ['points']]\n",
    "\n",
    "reg = LogisticRegression(random_state=0, solver='lbfgs', multi_class='multinomial').fit(x, y)\n",
    "print(reg.score(x,y))\n",
    "\n",
    "predict = reg.predict(x)\n",
    "\n",
    "plt.scatter(x, y)  \n",
    "plt.plot(x,predict,color = 'red')\n",
    "plt.show()"
   ]
  },
  {
   "cell_type": "code",
   "execution_count": 17,
   "metadata": {},
   "outputs": [
    {
     "name": "stdout",
     "output_type": "stream",
     "text": [
      "0.16459977452085683\n"
     ]
    },
    {
     "data": {
      "image/png": "[encoded data removed]",
      "text/plain": [
       "<Figure size 432x288 with 1 Axes>"
      ]
     },
     "metadata": {},
     "output_type": "display_data"
    }
   ],
   "source": [
    "x = data.loc[:, ['vintage', 'price','total_fires','sum_fire_size', 'variety_numerical']]\n",
    "y = data.loc[:, ['points']]\n",
    "\n",
    "reg = LogisticRegression(random_state=0, solver='lbfgs', multi_class='multinomial').fit(x, y)\n",
    "print(reg.score(x,y))\n",
    "\n",
    "predict = reg.predict(x)\n",
    "\n",
    "plt.scatter(x.iloc[:,1], y)  \n",
    "\n",
    "plt.plot(x.iloc[:,1],predict,color = 'red')\n",
    "plt.show()"
   ]
  },
  {
   "cell_type": "markdown",
   "metadata": {},
   "source": [
    "Here, we convert the points into a binary value, 1 being good wines with a rating over 90, and 0 being bad wines with a score less than 90. We can then run logistic regression on the data with a binary output."
   ]
  },
  {
   "cell_type": "code",
   "execution_count": 27,
   "metadata": {},
   "outputs": [
    {
     "name": "stdout",
     "output_type": "stream",
     "text": [
      "4430, 0.5459669980526801\n"
     ]
    },
    {
     "data": {
      "text/html": [
       "<div>\n",
       "<style scoped>\n",
       "    .dataframe tbody tr th:only-of-type {\n",
       "        vertical-align: middle;\n",
       "    }\n",
       "\n",
       "    .dataframe tbody tr th {\n",
       "        vertical-align: top;\n",
       "    }\n",
       "\n",
       "    .dataframe thead th {\n",
       "        text-align: right;\n",
       "    }\n",
       "</style>\n",
       "<table border=\"1\" class=\"dataframe\">\n",
       "  <thead>\n",
       "    <tr style=\"text-align: right;\">\n",
       "      <th></th>\n",
       "      <th>Unnamed: 0</th>\n",
       "      <th>Unnamed: 0.1</th>\n",
       "      <th>Unnamed: 0.1.1</th>\n",
       "      <th>Unnamed: 0.1.1.1</th>\n",
       "      <th>country</th>\n",
       "      <th>description</th>\n",
       "      <th>designation</th>\n",
       "      <th>points</th>\n",
       "      <th>price</th>\n",
       "      <th>province</th>\n",
       "      <th>...</th>\n",
       "      <th>total_fires</th>\n",
       "      <th>sum_fire_size</th>\n",
       "      <th>norm_vintage</th>\n",
       "      <th>norm_variety_numerical</th>\n",
       "      <th>norm_price</th>\n",
       "      <th>norm_points</th>\n",
       "      <th>norm_total_fires</th>\n",
       "      <th>norm_sum_fire_size</th>\n",
       "      <th>good_wine</th>\n",
       "      <th>expensive_wine</th>\n",
       "    </tr>\n",
       "  </thead>\n",
       "  <tbody>\n",
       "    <tr>\n",
       "      <th>0</th>\n",
       "      <td>0</td>\n",
       "      <td>0</td>\n",
       "      <td>10</td>\n",
       "      <td>10</td>\n",
       "      <td>US</td>\n",
       "      <td>Soft, supple plum envelopes an oaky structure ...</td>\n",
       "      <td>Mountain Cuvée</td>\n",
       "      <td>87</td>\n",
       "      <td>19.0</td>\n",
       "      <td>California</td>\n",
       "      <td>...</td>\n",
       "      <td>0</td>\n",
       "      <td>0.00</td>\n",
       "      <td>0.009921</td>\n",
       "      <td>0.113960</td>\n",
       "      <td>0.006955</td>\n",
       "      <td>0.070707</td>\n",
       "      <td>0.000000</td>\n",
       "      <td>0.000000</td>\n",
       "      <td>0</td>\n",
       "      <td>0</td>\n",
       "    </tr>\n",
       "    <tr>\n",
       "      <th>1</th>\n",
       "      <td>3</td>\n",
       "      <td>3</td>\n",
       "      <td>23</td>\n",
       "      <td>23</td>\n",
       "      <td>US</td>\n",
       "      <td>This wine from the Geneseo district offers aro...</td>\n",
       "      <td>Signature Selection</td>\n",
       "      <td>87</td>\n",
       "      <td>22.0</td>\n",
       "      <td>California</td>\n",
       "      <td>...</td>\n",
       "      <td>4</td>\n",
       "      <td>79.10</td>\n",
       "      <td>0.009921</td>\n",
       "      <td>0.464387</td>\n",
       "      <td>0.008445</td>\n",
       "      <td>0.070707</td>\n",
       "      <td>0.008929</td>\n",
       "      <td>0.000310</td>\n",
       "      <td>0</td>\n",
       "      <td>0</td>\n",
       "    </tr>\n",
       "    <tr>\n",
       "      <th>2</th>\n",
       "      <td>4</td>\n",
       "      <td>4</td>\n",
       "      <td>25</td>\n",
       "      <td>25</td>\n",
       "      <td>US</td>\n",
       "      <td>Oak and earth intermingle around robust aromas...</td>\n",
       "      <td>King Ridge Vineyard</td>\n",
       "      <td>87</td>\n",
       "      <td>69.0</td>\n",
       "      <td>California</td>\n",
       "      <td>...</td>\n",
       "      <td>0</td>\n",
       "      <td>0.00</td>\n",
       "      <td>0.009921</td>\n",
       "      <td>0.626781</td>\n",
       "      <td>0.031793</td>\n",
       "      <td>0.070707</td>\n",
       "      <td>0.000000</td>\n",
       "      <td>0.000000</td>\n",
       "      <td>0</td>\n",
       "      <td>1</td>\n",
       "    </tr>\n",
       "    <tr>\n",
       "      <th>3</th>\n",
       "      <td>12</td>\n",
       "      <td>12</td>\n",
       "      <td>60</td>\n",
       "      <td>60</td>\n",
       "      <td>US</td>\n",
       "      <td>Syrupy and dense, this wine is jammy in plum a...</td>\n",
       "      <td>Estate</td>\n",
       "      <td>86</td>\n",
       "      <td>100.0</td>\n",
       "      <td>California</td>\n",
       "      <td>...</td>\n",
       "      <td>122</td>\n",
       "      <td>1339.78</td>\n",
       "      <td>0.010913</td>\n",
       "      <td>0.113960</td>\n",
       "      <td>0.047193</td>\n",
       "      <td>0.060606</td>\n",
       "      <td>0.272321</td>\n",
       "      <td>0.005246</td>\n",
       "      <td>0</td>\n",
       "      <td>1</td>\n",
       "    </tr>\n",
       "    <tr>\n",
       "      <th>4</th>\n",
       "      <td>13</td>\n",
       "      <td>13</td>\n",
       "      <td>63</td>\n",
       "      <td>64</td>\n",
       "      <td>US</td>\n",
       "      <td>There are intriguing touches to the nose of th...</td>\n",
       "      <td>Golden Horn</td>\n",
       "      <td>86</td>\n",
       "      <td>26.0</td>\n",
       "      <td>California</td>\n",
       "      <td>...</td>\n",
       "      <td>82</td>\n",
       "      <td>719.08</td>\n",
       "      <td>0.011905</td>\n",
       "      <td>0.732194</td>\n",
       "      <td>0.010432</td>\n",
       "      <td>0.060606</td>\n",
       "      <td>0.183036</td>\n",
       "      <td>0.002815</td>\n",
       "      <td>0</td>\n",
       "      <td>0</td>\n",
       "    </tr>\n",
       "  </tbody>\n",
       "</table>\n",
       "<p>5 rows × 32 columns</p>\n",
       "</div>"
      ],
      "text/plain": [
       "   Unnamed: 0  Unnamed: 0.1  Unnamed: 0.1.1  Unnamed: 0.1.1.1 country  \\\n",
       "0           0             0              10                10      US   \n",
       "1           3             3              23                23      US   \n",
       "2           4             4              25                25      US   \n",
       "3          12            12              60                60      US   \n",
       "4          13            13              63                64      US   \n",
       "\n",
       "                                         description          designation  \\\n",
       "0  Soft, supple plum envelopes an oaky structure ...       Mountain Cuvée   \n",
       "1  This wine from the Geneseo district offers aro...  Signature Selection   \n",
       "2  Oak and earth intermingle around robust aromas...  King Ridge Vineyard   \n",
       "3  Syrupy and dense, this wine is jammy in plum a...               Estate   \n",
       "4  There are intriguing touches to the nose of th...          Golden Horn   \n",
       "\n",
       "   points  price    province       ...       total_fires sum_fire_size  \\\n",
       "0      87   19.0  California       ...                 0          0.00   \n",
       "1      87   22.0  California       ...                 4         79.10   \n",
       "2      87   69.0  California       ...                 0          0.00   \n",
       "3      86  100.0  California       ...               122       1339.78   \n",
       "4      86   26.0  California       ...                82        719.08   \n",
       "\n",
       "  norm_vintage norm_variety_numerical norm_price norm_points norm_total_fires  \\\n",
       "0     0.009921               0.113960   0.006955    0.070707         0.000000   \n",
       "1     0.009921               0.464387   0.008445    0.070707         0.008929   \n",
       "2     0.009921               0.626781   0.031793    0.070707         0.000000   \n",
       "3     0.010913               0.113960   0.047193    0.060606         0.272321   \n",
       "4     0.011905               0.732194   0.010432    0.060606         0.183036   \n",
       "\n",
       "   norm_sum_fire_size  good_wine  expensive_wine  \n",
       "0            0.000000          0               0  \n",
       "1            0.000310          0               0  \n",
       "2            0.000000          0               1  \n",
       "3            0.005246          0               1  \n",
       "4            0.002815          0               0  \n",
       "\n",
       "[5 rows x 32 columns]"
      ]
     },
     "execution_count": 27,
     "metadata": {},
     "output_type": "execute_result"
    }
   ],
   "source": [
    "data['good_wine'] = 0\n",
    "good_count= 0\n",
    "for index, row in data.iterrows():\n",
    "    if(row['points'] > 90):\n",
    "        data.loc[index,'good_wine'] = 1\n",
    "        good_count += 1\n",
    "print(str(good_count) + ', ' + str(1-(good_count/data.shape[0])))\n",
    "data.head()"
   ]
  },
  {
   "cell_type": "markdown",
   "metadata": {},
   "source": [
    "Here we can see that the price and the combination of all our features do have an effect on our regression, increasing the accuracy beyond randomly guessing. "
   ]
  },
  {
   "cell_type": "code",
   "execution_count": 10,
   "metadata": {},
   "outputs": [
    {
     "name": "stdout",
     "output_type": "stream",
     "text": [
      "0.5459669980526801\n"
     ]
    },
    {
     "data": {
      "image/png": "[encoded data removed]",
      "text/plain": [
       "<Figure size 432x288 with 1 Axes>"
      ]
     },
     "metadata": {},
     "output_type": "display_data"
    }
   ],
   "source": [
    "x = data.loc[:, ['norm_vintage']]\n",
    "y = data.loc[:, ['good_wine']]\n",
    "\n",
    "reg = LogisticRegression(random_state=0, solver='saga', multi_class='ovr').fit(x, y)\n",
    "print(reg.score(x,y))\n",
    "\n",
    "predict = reg.predict(x)\n",
    "\n",
    "plt.scatter(x, y)  \n",
    "x = x.sort_values(by = 'norm_vintage')\n",
    "plt.plot(x,reg.predict_proba(x)[:,1],color = 'red')\n",
    "plt.show()"
   ]
  },
  {
   "cell_type": "code",
   "execution_count": 11,
   "metadata": {},
   "outputs": [
    {
     "name": "stdout",
     "output_type": "stream",
     "text": [
      "0.5878856205800963\n"
     ]
    },
    {
     "data": {
      "image/png": "[encoded data removed]",
      "text/plain": [
       "<Figure size 432x288 with 1 Axes>"
      ]
     },
     "metadata": {},
     "output_type": "display_data"
    }
   ],
   "source": [
    "x = data.loc[:, ['norm_price']]\n",
    "y = data.loc[:, ['good_wine']]\n",
    "\n",
    "reg = LogisticRegression(random_state=0, solver='sag', multi_class='ovr').fit(x, y)\n",
    "print(reg.score(x,y))\n",
    "\n",
    "predict = reg.predict(x)\n",
    "\n",
    "plt.scatter(x, y)  \n",
    "x = x.sort_values(by = 'norm_price')\n",
    "plt.plot(x,reg.predict_proba(x)[:,1],color = 'red')\n",
    "plt.show()"
   ]
  },
  {
   "cell_type": "code",
   "execution_count": 12,
   "metadata": {},
   "outputs": [
    {
     "name": "stdout",
     "output_type": "stream",
     "text": [
      "0.5577534078097776\n"
     ]
    },
    {
     "data": {
      "image/png": "[encoded data removed]",
      "text/plain": [
       "<Figure size 432x288 with 1 Axes>"
      ]
     },
     "metadata": {},
     "output_type": "display_data"
    }
   ],
   "source": [
    "x = data.loc[:, ['norm_total_fires']]\n",
    "y = data.loc[:, ['good_wine']]\n",
    "\n",
    "reg = LogisticRegression(random_state=0, solver='saga', multi_class='ovr').fit(x, y)\n",
    "print(reg.score(x,y))\n",
    "\n",
    "predict = reg.predict(x)\n",
    "\n",
    "\n",
    "plt.scatter(x, y)  \n",
    "x = x.sort_values(by = 'norm_total_fires')\n",
    "plt.plot(x,reg.predict_proba(x)[:,1],color = 'red')\n",
    "plt.show()"
   ]
  },
  {
   "cell_type": "code",
   "execution_count": 13,
   "metadata": {},
   "outputs": [
    {
     "name": "stdout",
     "output_type": "stream",
     "text": [
      "0.5459669980526801\n"
     ]
    },
    {
     "data": {
      "image/png": "[encoded data removed]",
      "text/plain": [
       "<Figure size 432x288 with 1 Axes>"
      ]
     },
     "metadata": {},
     "output_type": "display_data"
    }
   ],
   "source": [
    "x = data.loc[:, ['norm_sum_fire_size']]\n",
    "y = data.loc[:, ['good_wine']]\n",
    "\n",
    "reg = LogisticRegression(random_state=0, solver='saga', multi_class='ovr').fit(x, y)\n",
    "print(reg.score(x,y))\n",
    "\n",
    "predict = reg.predict(x)\n",
    "\n",
    "plt.scatter(x, y)  \n",
    "x = x.sort_values(by = 'norm_sum_fire_size')\n",
    "plt.plot(x,reg.predict_proba(x)[:,1],color = 'red')\n",
    "plt.show()"
   ]
  },
  {
   "cell_type": "code",
   "execution_count": 14,
   "metadata": {},
   "outputs": [
    {
     "name": "stdout",
     "output_type": "stream",
     "text": [
      "0.6156605513989956\n"
     ]
    },
    {
     "data": {
      "image/png": "[encoded data removed]",
      "text/plain": [
       "<Figure size 432x288 with 1 Axes>"
      ]
     },
     "metadata": {},
     "output_type": "display_data"
    }
   ],
   "source": [
    "x = data.loc[:, ['norm_vintage', 'norm_price','norm_total_fires','norm_sum_fire_size', 'norm_variety_numerical']]\n",
    "y = data.loc[:, ['good_wine']]\n",
    "\n",
    "reg = LogisticRegression(random_state=0, solver='saga', multi_class='ovr').fit(x, y)\n",
    "print(reg.score(x,y))\n",
    "\n",
    "predict = reg.predict(x)\n",
    "\n",
    "plt.scatter(x.iloc[:,2], y) \n",
    "x = x.sort_values(by = 'norm_total_fires')\n",
    "plt.plot(x.iloc[:,2],reg.predict_proba(x)[:,1],color = 'red')\n",
    "plt.show()\n"
   ]
  },
  {
   "cell_type": "code",
   "execution_count": null,
   "metadata": {},
   "outputs": [],
   "source": []
  },
  {
   "cell_type": "code",
   "execution_count": 25,
   "metadata": {},
   "outputs": [
    {
     "name": "stdout",
     "output_type": "stream",
     "text": [
      "2898, 0.7029824741211438\n"
     ]
    },
    {
     "data": {
      "text/html": [
       "<div>\n",
       "<style scoped>\n",
       "    .dataframe tbody tr th:only-of-type {\n",
       "        vertical-align: middle;\n",
       "    }\n",
       "\n",
       "    .dataframe tbody tr th {\n",
       "        vertical-align: top;\n",
       "    }\n",
       "\n",
       "    .dataframe thead th {\n",
       "        text-align: right;\n",
       "    }\n",
       "</style>\n",
       "<table border=\"1\" class=\"dataframe\">\n",
       "  <thead>\n",
       "    <tr style=\"text-align: right;\">\n",
       "      <th></th>\n",
       "      <th>Unnamed: 0</th>\n",
       "      <th>Unnamed: 0.1</th>\n",
       "      <th>Unnamed: 0.1.1</th>\n",
       "      <th>Unnamed: 0.1.1.1</th>\n",
       "      <th>country</th>\n",
       "      <th>description</th>\n",
       "      <th>designation</th>\n",
       "      <th>points</th>\n",
       "      <th>price</th>\n",
       "      <th>province</th>\n",
       "      <th>...</th>\n",
       "      <th>total_fires</th>\n",
       "      <th>sum_fire_size</th>\n",
       "      <th>norm_vintage</th>\n",
       "      <th>norm_variety_numerical</th>\n",
       "      <th>norm_price</th>\n",
       "      <th>norm_points</th>\n",
       "      <th>norm_total_fires</th>\n",
       "      <th>norm_sum_fire_size</th>\n",
       "      <th>good_wine</th>\n",
       "      <th>expensive_wine</th>\n",
       "    </tr>\n",
       "  </thead>\n",
       "  <tbody>\n",
       "    <tr>\n",
       "      <th>0</th>\n",
       "      <td>0</td>\n",
       "      <td>0</td>\n",
       "      <td>10</td>\n",
       "      <td>10</td>\n",
       "      <td>US</td>\n",
       "      <td>Soft, supple plum envelopes an oaky structure ...</td>\n",
       "      <td>Mountain Cuvée</td>\n",
       "      <td>87</td>\n",
       "      <td>19.0</td>\n",
       "      <td>California</td>\n",
       "      <td>...</td>\n",
       "      <td>0</td>\n",
       "      <td>0.00</td>\n",
       "      <td>0.009921</td>\n",
       "      <td>0.113960</td>\n",
       "      <td>0.006955</td>\n",
       "      <td>0.070707</td>\n",
       "      <td>0.000000</td>\n",
       "      <td>0.000000</td>\n",
       "      <td>0</td>\n",
       "      <td>0</td>\n",
       "    </tr>\n",
       "    <tr>\n",
       "      <th>1</th>\n",
       "      <td>3</td>\n",
       "      <td>3</td>\n",
       "      <td>23</td>\n",
       "      <td>23</td>\n",
       "      <td>US</td>\n",
       "      <td>This wine from the Geneseo district offers aro...</td>\n",
       "      <td>Signature Selection</td>\n",
       "      <td>87</td>\n",
       "      <td>22.0</td>\n",
       "      <td>California</td>\n",
       "      <td>...</td>\n",
       "      <td>4</td>\n",
       "      <td>79.10</td>\n",
       "      <td>0.009921</td>\n",
       "      <td>0.464387</td>\n",
       "      <td>0.008445</td>\n",
       "      <td>0.070707</td>\n",
       "      <td>0.008929</td>\n",
       "      <td>0.000310</td>\n",
       "      <td>0</td>\n",
       "      <td>0</td>\n",
       "    </tr>\n",
       "    <tr>\n",
       "      <th>2</th>\n",
       "      <td>4</td>\n",
       "      <td>4</td>\n",
       "      <td>25</td>\n",
       "      <td>25</td>\n",
       "      <td>US</td>\n",
       "      <td>Oak and earth intermingle around robust aromas...</td>\n",
       "      <td>King Ridge Vineyard</td>\n",
       "      <td>87</td>\n",
       "      <td>69.0</td>\n",
       "      <td>California</td>\n",
       "      <td>...</td>\n",
       "      <td>0</td>\n",
       "      <td>0.00</td>\n",
       "      <td>0.009921</td>\n",
       "      <td>0.626781</td>\n",
       "      <td>0.031793</td>\n",
       "      <td>0.070707</td>\n",
       "      <td>0.000000</td>\n",
       "      <td>0.000000</td>\n",
       "      <td>0</td>\n",
       "      <td>1</td>\n",
       "    </tr>\n",
       "    <tr>\n",
       "      <th>3</th>\n",
       "      <td>12</td>\n",
       "      <td>12</td>\n",
       "      <td>60</td>\n",
       "      <td>60</td>\n",
       "      <td>US</td>\n",
       "      <td>Syrupy and dense, this wine is jammy in plum a...</td>\n",
       "      <td>Estate</td>\n",
       "      <td>86</td>\n",
       "      <td>100.0</td>\n",
       "      <td>California</td>\n",
       "      <td>...</td>\n",
       "      <td>122</td>\n",
       "      <td>1339.78</td>\n",
       "      <td>0.010913</td>\n",
       "      <td>0.113960</td>\n",
       "      <td>0.047193</td>\n",
       "      <td>0.060606</td>\n",
       "      <td>0.272321</td>\n",
       "      <td>0.005246</td>\n",
       "      <td>0</td>\n",
       "      <td>1</td>\n",
       "    </tr>\n",
       "    <tr>\n",
       "      <th>4</th>\n",
       "      <td>13</td>\n",
       "      <td>13</td>\n",
       "      <td>63</td>\n",
       "      <td>64</td>\n",
       "      <td>US</td>\n",
       "      <td>There are intriguing touches to the nose of th...</td>\n",
       "      <td>Golden Horn</td>\n",
       "      <td>86</td>\n",
       "      <td>26.0</td>\n",
       "      <td>California</td>\n",
       "      <td>...</td>\n",
       "      <td>82</td>\n",
       "      <td>719.08</td>\n",
       "      <td>0.011905</td>\n",
       "      <td>0.732194</td>\n",
       "      <td>0.010432</td>\n",
       "      <td>0.060606</td>\n",
       "      <td>0.183036</td>\n",
       "      <td>0.002815</td>\n",
       "      <td>0</td>\n",
       "      <td>0</td>\n",
       "    </tr>\n",
       "  </tbody>\n",
       "</table>\n",
       "<p>5 rows × 32 columns</p>\n",
       "</div>"
      ],
      "text/plain": [
       "   Unnamed: 0  Unnamed: 0.1  Unnamed: 0.1.1  Unnamed: 0.1.1.1 country  \\\n",
       "0           0             0              10                10      US   \n",
       "1           3             3              23                23      US   \n",
       "2           4             4              25                25      US   \n",
       "3          12            12              60                60      US   \n",
       "4          13            13              63                64      US   \n",
       "\n",
       "                                         description          designation  \\\n",
       "0  Soft, supple plum envelopes an oaky structure ...       Mountain Cuvée   \n",
       "1  This wine from the Geneseo district offers aro...  Signature Selection   \n",
       "2  Oak and earth intermingle around robust aromas...  King Ridge Vineyard   \n",
       "3  Syrupy and dense, this wine is jammy in plum a...               Estate   \n",
       "4  There are intriguing touches to the nose of th...          Golden Horn   \n",
       "\n",
       "   points  price    province       ...       total_fires sum_fire_size  \\\n",
       "0      87   19.0  California       ...                 0          0.00   \n",
       "1      87   22.0  California       ...                 4         79.10   \n",
       "2      87   69.0  California       ...                 0          0.00   \n",
       "3      86  100.0  California       ...               122       1339.78   \n",
       "4      86   26.0  California       ...                82        719.08   \n",
       "\n",
       "  norm_vintage norm_variety_numerical norm_price norm_points norm_total_fires  \\\n",
       "0     0.009921               0.113960   0.006955    0.070707         0.000000   \n",
       "1     0.009921               0.464387   0.008445    0.070707         0.008929   \n",
       "2     0.009921               0.626781   0.031793    0.070707         0.000000   \n",
       "3     0.010913               0.113960   0.047193    0.060606         0.272321   \n",
       "4     0.011905               0.732194   0.010432    0.060606         0.183036   \n",
       "\n",
       "   norm_sum_fire_size  good_wine  expensive_wine  \n",
       "0            0.000000          0               0  \n",
       "1            0.000310          0               0  \n",
       "2            0.000000          0               1  \n",
       "3            0.005246          0               1  \n",
       "4            0.002815          0               0  \n",
       "\n",
       "[5 rows x 32 columns]"
      ]
     },
     "execution_count": 25,
     "metadata": {},
     "output_type": "execute_result"
    }
   ],
   "source": [
    "data['expensive_wine'] = 0\n",
    "expensive= 0\n",
    "for index, row in data.iterrows():\n",
    "    if(row['price'] > 50):\n",
    "        data.loc[index,'expensive_wine'] = 1\n",
    "        expensive += 1\n",
    "print(str(expensive) + ', ' + str(1 - (expensive/data.shape[0])))\n",
    "data.head()"
   ]
  },
  {
   "cell_type": "code",
   "execution_count": 26,
   "metadata": {},
   "outputs": [
    {
     "name": "stdout",
     "output_type": "stream",
     "text": [
      "0.7029824741211438\n"
     ]
    },
    {
     "data": {
      "image/png": "[encoded data removed]",
      "text/plain": [
       "<Figure size 432x288 with 1 Axes>"
      ]
     },
     "metadata": {},
     "output_type": "display_data"
    }
   ],
   "source": [
    "x = data.loc[:, ['norm_total_fires']]\n",
    "y = data.loc[:, ['expensive_wine']]\n",
    "\n",
    "reg = LogisticRegression(random_state=0, solver='saga', multi_class='ovr').fit(x, y)\n",
    "print(reg.score(x,y))\n",
    "\n",
    "predict = reg.predict(x)\n",
    "\n",
    "plt.scatter(x, y)  \n",
    "x = x.sort_values(by = 'norm_total_fires')\n",
    "plt.plot(x,reg.predict_proba(x)[:,1],color = 'red')\n",
    "\n",
    "plt.show()"
   ]
  },
  {
   "cell_type": "markdown",
   "metadata": {},
   "source": [
    "From these logistical regressions, we can see that they don't do a really good job at predicting our output of the points of the wine. "
   ]
  }
 ],
 "metadata": {
  "kernelspec": {
   "display_name": "Python 3",
   "language": "python",
   "name": "python3"
  },
  "language_info": {
   "codemirror_mode": {
    "name": "ipython",
    "version": 3
   },
   "file_extension": ".py",
   "mimetype": "text/x-python",
   "name": "python",
   "nbconvert_exporter": "python",
   "pygments_lexer": "ipython3",
   "version": "3.6.5"
  }
 },
 "nbformat": 4,
 "nbformat_minor": 2
}
