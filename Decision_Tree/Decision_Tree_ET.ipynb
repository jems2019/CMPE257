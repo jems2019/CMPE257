{
 "cells": [
  {
   "cell_type": "code",
<<<<<<< HEAD
   "execution_count": 34,
=======
   "execution_count": 183,
>>>>>>> a1a1e15741a520d9ff940fc1619f30dc0328adc4
   "metadata": {},
   "outputs": [],
   "source": [
    "import pydotplus\n",
    "from sklearn import tree\n",
    "from sklearn.model_selection import train_test_split\n",
    "#import graphviz\n",
    "import pandas as pd\n",
<<<<<<< HEAD
    "\n",
    "\n",
    "import numpy as np\n",
    "from sklearn.model_selection import train_test_split\n",
    "from sklearn.metrics import accuracy_score"
=======
    "from sklearn.tree import DecisionTreeClassifier, export_graphviz\n",
    "from graphviz import Source\n",
    "from sklearn.metrics import accuracy_score\n",
    "import time\n",
    "%matplotlib inline"
>>>>>>> a1a1e15741a520d9ff940fc1619f30dc0328adc4
   ]
  },
  {
   "cell_type": "code",
   "execution_count": null,
   "metadata": {},
   "outputs": [],
   "source": []
  },
  {
   "cell_type": "code",
   "execution_count": 2,
   "metadata": {},
   "outputs": [],
   "source": [
    "data = pd.read_csv('../data/California_merged_data.csv')"
   ]
  },
  {
   "cell_type": "code",
<<<<<<< HEAD
   "execution_count": 5,
=======
   "execution_count": 170,
>>>>>>> a1a1e15741a520d9ff940fc1619f30dc0328adc4
   "metadata": {},
   "outputs": [
    {
     "data": {
      "text/plain": [
       "0                      Napa Valley\n",
       "1                      Paso Robles\n",
       "2                     Sonoma Coast\n",
       "3                      Napa Valley\n",
       "4                Santa Ynez Valley\n",
       "5                 Alexander Valley\n",
       "6                  Howell Mountain\n",
       "7                        Calistoga\n",
       "8                      Napa Valley\n",
       "9                      Napa Valley\n",
       "10                  Knights Valley\n",
       "11                   Sonoma County\n",
       "12                     Napa Valley\n",
       "13                     Napa Valley\n",
       "14              Santa Clara Valley\n",
       "15                      Yountville\n",
       "16                     Paso Robles\n",
       "17               Santa Ynez Valley\n",
       "18        Spring Mountain District\n",
       "19           Santa Lucia Highlands\n",
       "20               Santa Ynez Valley\n",
       "21               Santa Ynez Valley\n",
       "22                        Monterey\n",
       "23                     Napa Valley\n",
       "24                   Carmel Valley\n",
       "25                     Paso Robles\n",
       "26                     Paso Robles\n",
       "27                     Edna Valley\n",
       "28                     Napa Valley\n",
       "29            Russian River Valley\n",
       "                   ...            \n",
       "12608                  Napa Valley\n",
       "12609                Sonoma County\n",
       "12610              Mokelumne River\n",
       "12611         Russian River Valley\n",
       "12612         Santa Barbara County\n",
       "12613                         Lodi\n",
       "12614                  Napa Valley\n",
       "12615    Sonoma County-Napa County\n",
       "12616                  Napa Valley\n",
       "12617            Santa Ynez Valley\n",
       "12618                  Paso Robles\n",
       "12619            Santa Ynez Valley\n",
       "12620                  Paso Robles\n",
       "12621                  Napa Valley\n",
       "12622                     Carneros\n",
       "12623                     Carneros\n",
       "12624                 Green Valley\n",
       "12625         Russian River Valley\n",
       "12626         Russian River Valley\n",
       "12627                    Calistoga\n",
       "12628                 Green Valley\n",
       "12629             Alexander Valley\n",
       "12630                  Paso Robles\n",
       "12631                  Napa Valley\n",
       "12632                   Chalk Hill\n",
       "12633       San Luis Obispo County\n",
       "12634                 Sonoma Coast\n",
       "12635            Santa Ynez Valley\n",
       "12636                  Napa Valley\n",
       "12637                  Napa Valley\n",
       "Name: region_1, Length: 12638, dtype: object"
      ]
     },
<<<<<<< HEAD
     "execution_count": 5,
=======
     "execution_count": 170,
>>>>>>> a1a1e15741a520d9ff940fc1619f30dc0328adc4
     "metadata": {},
     "output_type": "execute_result"
    }
   ],
   "source": [
    "len(data.region_1.unique())\n",
    "data.region_1.dropna(inplace=True)\n",
    "data.region_1"
   ]
  },
  {
   "cell_type": "code",
   "execution_count": null,
   "metadata": {},
   "outputs": [
    {
     "name": "stdout",
     "output_type": "stream",
     "text": [
      "Napa Valley\n",
      "Paso Robles\n",
      "Sonoma Coast\n",
      "Santa Ynez Valley\n",
      "Alexander Valley\n",
      "Howell Mountain\n",
      "Calistoga\n",
      "Knights Valley\n",
      "Sonoma County\n",
      "Santa Clara Valley\n",
      "Yountville\n",
      "Spring Mountain District\n",
      "Santa Lucia Highlands\n",
      "Monterey\n",
      "Carmel Valley\n",
      "Edna Valley\n",
      "Russian River Valley\n",
      "Nevada County\n",
      "Arroyo Seco\n",
      "Dry Creek Valley\n",
      "Diamond Mountain District\n"
     ]
    }
   ],
   "source": [
    "data.region_1.unique()\n",
    "data1={}\n",
    "from geopy.geocoders import Nominatim\n",
    "for i in range(len(data.region_1.unique())):\n",
    "    print data.region_1.unique()[i]\n",
    "    geolocator = Nominatim(user_agent='myapplication' + str(i))\n",
    "    time.sleep(0.1)\n",
    "    location = geolocator.geocode(str(data.region_1.unique()[i].split(' ')[0] + ' ,California, USA'))\n",
    "    try:\n",
    "        data1.update({data.region_1[i]: {location.raw['lat'], location.raw['lon']}})\n",
    "        #print(location.raw['display_name'], location.raw['lat'] ,location.raw['lon'])\n",
    "    except:\n",
    "        print 'no geo code'\n",
    "    \n",
    "    "
   ]
  },
  {
   "cell_type": "code",
   "execution_count": 190,
   "metadata": {},
   "outputs": [
    {
     "data": {
      "text/plain": [
       "{u'-122.469385870353', u'38.29331315', 'Sonoma Coast'}"
      ]
     },
     "execution_count": 190,
     "metadata": {},
     "output_type": "execute_result"
    }
   ],
   "source": []
  },
  {
   "cell_type": "code",
   "execution_count": 160,
   "metadata": {},
   "outputs": [
    {
     "name": "stdout",
     "output_type": "stream",
     "text": [
      "       points\n",
      "7566       92\n",
      "2934       94\n",
      "4651       92\n",
      "10556      90\n",
      "12205      86\n",
      "6156       90\n",
      "1485       89\n",
      "11656      94\n",
      "5368       91\n",
      "10206      92\n",
      "1411       93\n",
      "6289       94\n",
      "11917      95\n",
      "11469      88\n",
      "8405       91\n",
      "709        90\n",
      "9875       90\n",
      "3603       88\n",
      "985        85\n",
      "3076       89\n",
      "6169       88\n",
      "11319      94\n",
      "7384       92\n",
      "8814       91\n",
      "6713       90\n",
      "5077       90\n",
      "4101       88\n",
      "1083       91\n",
      "2722       92\n",
      "11826      85\n",
      "...       ...\n",
      "8666       93\n",
      "11096      93\n",
      "6396       94\n",
      "12309      88\n",
      "3385       91\n",
      "4555       88\n",
      "1184       90\n",
      "6420       92\n",
      "5051       88\n",
      "5311       91\n",
      "2433       87\n",
      "6949       92\n",
      "10583      88\n",
      "769        86\n",
      "1685       92\n",
      "8322       92\n",
      "11111      94\n",
      "11363      93\n",
      "11636      90\n",
      "5578       89\n",
      "4426       88\n",
      "466        91\n",
      "6265       92\n",
      "5734       93\n",
      "11284      90\n",
      "11964      88\n",
      "5191       93\n",
      "5390       91\n",
      "860        93\n",
      "7270       91\n",
      "\n",
      "[5055 rows x 1 columns]\n"
     ]
    }
   ],
   "source": [
    "x = data.loc[:,['variety_numerical', 'vintage', 'total_fires']]\n",
    "y = data.loc[:, ['points']]\n",
    "x_train, x_test, y_train, y_test = train_test_split(x, y, test_size=0.60, random_state=42)\n",
    "\n",
    "features = ['variety_numerical', 'vintage', 'total_fires']\n",
    "print y_train\n",
    "\n",
    "\n"
   ]
  },
  {
   "cell_type": "code",
   "execution_count": 161,
   "metadata": {},
   "outputs": [
    {
     "name": "stdout",
     "output_type": "stream",
     "text": [
      "Accuracy is  15.429249637346695\n"
     ]
    }
   ],
   "source": [
    "dt = DecisionTreeClassifier(min_samples_split=20, random_state=99)\n",
    "dt.fit(x_train, y_train)\n",
    "\n",
    "y_pred = dt.predict(x_test)\n",
    "print \"Accuracy is \", accuracy_score(y_test,y_pred)*100\n"
   ]
  },
  {
   "cell_type": "code",
   "execution_count": 147,
   "metadata": {},
   "outputs": [
    {
     "data": {
      "text/plain": [
       "array([87])"
      ]
     },
     "execution_count": 147,
     "metadata": {},
     "output_type": "execute_result"
    }
   ],
   "source": [
    "dt.predict([[4,2001,1000]])"
   ]
  },
  {
   "cell_type": "code",
   "execution_count": 71,
   "metadata": {},
   "outputs": [],
   "source": [
    "def visualize_tree(tree, feature_names):\n",
    "    \"\"\"Create tree png using graphviz.\n",
    "\n",
    "    Args\n",
    "    ----\n",
    "    tree -- scikit-learn DecsisionTree.\n",
    "    feature_names -- list of feature names.\n",
    "    \"\"\"\n",
    "    with open(\"dt.dot\", 'w') as f:\n",
    "        export_graphviz(tree, out_file=f,\n",
    "                        feature_names=feature_names)\n",
    "\n",
    "    command = [\"dot\", \"-T png\", \"dt.dot\", \"-o\", \"dt.png\"]\n",
    "    try:\n",
    "        subprocess.check_call(command)\n",
    "    except:\n",
    "        exit(\"Could not run dot, ie graphviz, to \"\n",
    "             \"produce visualization\")"
   ]
  },
  {
   "cell_type": "code",
   "execution_count": null,
   "metadata": {},
   "outputs": [],
   "source": []
  },
  {
   "cell_type": "code",
   "execution_count": 82,
   "metadata": {},
   "outputs": [],
   "source": [
    "visualize_tree(dt, features)"
   ]
  },
  {
   "cell_type": "code",
   "execution_count": null,
   "metadata": {},
   "outputs": [],
   "source": []
  },
  {
   "cell_type": "code",
   "execution_count": 16,
   "metadata": {},
   "outputs": [],
   "source": [
    "x = data.loc[:, ['variety_numerical', 'vintage', 'price']]"
   ]
  },
  {
   "cell_type": "code",
   "execution_count": 19,
   "metadata": {},
   "outputs": [],
   "source": [
    "y=data.loc[:,['points']]"
   ]
  },
  {
   "cell_type": "code",
   "execution_count": 20,
   "metadata": {},
   "outputs": [],
   "source": [
    "clf = tree.DecisionTreeClassifier() \n",
    "clf = clf.fit(x, y) "
   ]
  },
  {
   "cell_type": "code",
   "execution_count": 23,
   "metadata": {},
   "outputs": [],
   "source": [
    "x_train, x_test, y_train, y_test = train_test_split(x, y, test_size=0.20)"
   ]
  },
  {
   "cell_type": "code",
   "execution_count": 30,
   "metadata": {},
   "outputs": [
    {
     "data": {
      "text/html": [
       "<div>\n",
       "<style scoped>\n",
       "    .dataframe tbody tr th:only-of-type {\n",
       "        vertical-align: middle;\n",
       "    }\n",
       "\n",
       "    .dataframe tbody tr th {\n",
       "        vertical-align: top;\n",
       "    }\n",
       "\n",
       "    .dataframe thead th {\n",
       "        text-align: right;\n",
       "    }\n",
       "</style>\n",
       "<table border=\"1\" class=\"dataframe\">\n",
       "  <thead>\n",
       "    <tr style=\"text-align: right;\">\n",
       "      <th></th>\n",
       "      <th>variety_numerical</th>\n",
       "      <th>vintage</th>\n",
       "      <th>price</th>\n",
       "    </tr>\n",
       "  </thead>\n",
       "  <tbody>\n",
       "    <tr>\n",
       "      <th>6266</th>\n",
       "      <td>62</td>\n",
       "      <td>2012</td>\n",
       "      <td>125.0</td>\n",
       "    </tr>\n",
       "    <tr>\n",
       "      <th>12256</th>\n",
       "      <td>514</td>\n",
       "      <td>2015</td>\n",
       "      <td>40.0</td>\n",
       "    </tr>\n",
       "    <tr>\n",
       "      <th>4380</th>\n",
       "      <td>560</td>\n",
       "      <td>2012</td>\n",
       "      <td>40.0</td>\n",
       "    </tr>\n",
       "    <tr>\n",
       "      <th>10379</th>\n",
       "      <td>125</td>\n",
       "      <td>2013</td>\n",
       "      <td>45.0</td>\n",
       "    </tr>\n",
       "    <tr>\n",
       "      <th>3623</th>\n",
       "      <td>479</td>\n",
       "      <td>2013</td>\n",
       "      <td>28.0</td>\n",
       "    </tr>\n",
       "  </tbody>\n",
       "</table>\n",
       "</div>"
      ],
      "text/plain": [
       "       variety_numerical  vintage  price\n",
       "6266                  62     2012  125.0\n",
       "12256                514     2015   40.0\n",
       "4380                 560     2012   40.0\n",
       "10379                125     2013   45.0\n",
       "3623                 479     2013   28.0"
      ]
     },
     "execution_count": 30,
     "metadata": {},
     "output_type": "execute_result"
    }
   ],
   "source": [
    "x_test.head()"
   ]
  },
  {
   "cell_type": "code",
   "execution_count": 36,
   "metadata": {},
   "outputs": [],
   "source": [
    "clf = tree.DecisionTreeClassifier() \n",
    "clf = clf.fit(x_train, y_train) \n",
    "y_predict = clf.predict(x_test)"
   ]
  },
  {
   "cell_type": "code",
   "execution_count": 37,
   "metadata": {},
   "outputs": [
    {
     "data": {
      "text/plain": [
       "0.20253164556962025"
      ]
     },
     "execution_count": 37,
     "metadata": {},
     "output_type": "execute_result"
    }
   ],
   "source": [
    "accuracy_score(y_predict, y_test)"
   ]
  }
 ],
 "metadata": {
  "kernelspec": {
   "display_name": "Python 3",
   "language": "python",
   "name": "python3"
  },
  "language_info": {
   "codemirror_mode": {
    "name": "ipython",
    "version": 3
   },
   "file_extension": ".py",
   "mimetype": "text/x-python",
   "name": "python",
   "nbconvert_exporter": "python",
   "pygments_lexer": "ipython3",
   "version": "3.7.0"
  }
 },
 "nbformat": 4,
 "nbformat_minor": 2
}
