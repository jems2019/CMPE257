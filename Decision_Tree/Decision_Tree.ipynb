{
 "cells": [
  {
   "cell_type": "code",
   "execution_count": 1,
   "metadata": {},
   "outputs": [],
   "source": [
    "import pandas as pd\n",
    "import numpy as np\n",
    "import pylab as pl\n",
    "\n",
    "from sklearn import tree\n",
    "from sklearn.cluster import KMeans\n",
    "from sklearn.model_selection import train_test_split\n",
    "from sklearn.metrics import accuracy_score\n",
    "\n",
    "import matplotlib.pyplot as plt\n",
    "from scipy.spatial.distance import cdist\n",
    "import warnings\n",
    "%matplotlib inline"
   ]
  },
  {
   "cell_type": "code",
   "execution_count": 2,
   "metadata": {},
   "outputs": [],
   "source": [
    "data = pd.read_csv('../data/California_merged_data.csv')"
   ]
  },
  {
   "cell_type": "code",
   "execution_count": 3,
   "metadata": {},
   "outputs": [
    {
     "data": {
      "text/html": [
       "<div>\n",
       "<style scoped>\n",
       "    .dataframe tbody tr th:only-of-type {\n",
       "        vertical-align: middle;\n",
       "    }\n",
       "\n",
       "    .dataframe tbody tr th {\n",
       "        vertical-align: top;\n",
       "    }\n",
       "\n",
       "    .dataframe thead th {\n",
       "        text-align: right;\n",
       "    }\n",
       "</style>\n",
       "<table border=\"1\" class=\"dataframe\">\n",
       "  <thead>\n",
       "    <tr style=\"text-align: right;\">\n",
       "      <th></th>\n",
       "      <th>Unnamed: 0</th>\n",
       "      <th>Unnamed: 0.1</th>\n",
       "      <th>Unnamed: 0.1.1</th>\n",
       "      <th>country</th>\n",
       "      <th>description</th>\n",
       "      <th>designation</th>\n",
       "      <th>points</th>\n",
       "      <th>price</th>\n",
       "      <th>province</th>\n",
       "      <th>region_1</th>\n",
       "      <th>...</th>\n",
       "      <th>variety</th>\n",
       "      <th>winery</th>\n",
       "      <th>province_id</th>\n",
       "      <th>variety_numerical</th>\n",
       "      <th>vintage</th>\n",
       "      <th>norm_vintage</th>\n",
       "      <th>norm_price</th>\n",
       "      <th>norm_points</th>\n",
       "      <th>total_fires</th>\n",
       "      <th>sum_fire_size</th>\n",
       "    </tr>\n",
       "  </thead>\n",
       "  <tbody>\n",
       "    <tr>\n",
       "      <th>0</th>\n",
       "      <td>0</td>\n",
       "      <td>10</td>\n",
       "      <td>10</td>\n",
       "      <td>US</td>\n",
       "      <td>Soft, supple plum envelopes an oaky structure ...</td>\n",
       "      <td>Mountain Cuvée</td>\n",
       "      <td>87</td>\n",
       "      <td>19.0</td>\n",
       "      <td>California</td>\n",
       "      <td>Napa Valley</td>\n",
       "      <td>...</td>\n",
       "      <td>Cabernet Sauvignon</td>\n",
       "      <td>Kirkland Signature</td>\n",
       "      <td>7</td>\n",
       "      <td>80</td>\n",
       "      <td>2011</td>\n",
       "      <td>0.009921</td>\n",
       "      <td>0.006955</td>\n",
       "      <td>0.070707</td>\n",
       "      <td>0</td>\n",
       "      <td>0.00</td>\n",
       "    </tr>\n",
       "    <tr>\n",
       "      <th>1</th>\n",
       "      <td>3</td>\n",
       "      <td>23</td>\n",
       "      <td>23</td>\n",
       "      <td>US</td>\n",
       "      <td>This wine from the Geneseo district offers aro...</td>\n",
       "      <td>Signature Selection</td>\n",
       "      <td>87</td>\n",
       "      <td>22.0</td>\n",
       "      <td>California</td>\n",
       "      <td>Paso Robles</td>\n",
       "      <td>...</td>\n",
       "      <td>Merlot</td>\n",
       "      <td>Bianchi</td>\n",
       "      <td>7</td>\n",
       "      <td>326</td>\n",
       "      <td>2011</td>\n",
       "      <td>0.009921</td>\n",
       "      <td>0.008445</td>\n",
       "      <td>0.070707</td>\n",
       "      <td>0</td>\n",
       "      <td>0.00</td>\n",
       "    </tr>\n",
       "    <tr>\n",
       "      <th>2</th>\n",
       "      <td>4</td>\n",
       "      <td>25</td>\n",
       "      <td>25</td>\n",
       "      <td>US</td>\n",
       "      <td>Oak and earth intermingle around robust aromas...</td>\n",
       "      <td>King Ridge Vineyard</td>\n",
       "      <td>87</td>\n",
       "      <td>69.0</td>\n",
       "      <td>California</td>\n",
       "      <td>Sonoma Coast</td>\n",
       "      <td>...</td>\n",
       "      <td>Pinot Noir</td>\n",
       "      <td>Castello di Amorosa</td>\n",
       "      <td>7</td>\n",
       "      <td>440</td>\n",
       "      <td>2011</td>\n",
       "      <td>0.009921</td>\n",
       "      <td>0.031793</td>\n",
       "      <td>0.070707</td>\n",
       "      <td>0</td>\n",
       "      <td>0.00</td>\n",
       "    </tr>\n",
       "    <tr>\n",
       "      <th>3</th>\n",
       "      <td>12</td>\n",
       "      <td>60</td>\n",
       "      <td>60</td>\n",
       "      <td>US</td>\n",
       "      <td>Syrupy and dense, this wine is jammy in plum a...</td>\n",
       "      <td>Estate</td>\n",
       "      <td>86</td>\n",
       "      <td>100.0</td>\n",
       "      <td>California</td>\n",
       "      <td>Napa Valley</td>\n",
       "      <td>...</td>\n",
       "      <td>Cabernet Sauvignon</td>\n",
       "      <td>Okapi</td>\n",
       "      <td>7</td>\n",
       "      <td>80</td>\n",
       "      <td>2013</td>\n",
       "      <td>0.010913</td>\n",
       "      <td>0.047193</td>\n",
       "      <td>0.060606</td>\n",
       "      <td>50</td>\n",
       "      <td>276.17</td>\n",
       "    </tr>\n",
       "    <tr>\n",
       "      <th>4</th>\n",
       "      <td>13</td>\n",
       "      <td>63</td>\n",
       "      <td>64</td>\n",
       "      <td>US</td>\n",
       "      <td>There are intriguing touches to the nose of th...</td>\n",
       "      <td>Golden Horn</td>\n",
       "      <td>86</td>\n",
       "      <td>26.0</td>\n",
       "      <td>California</td>\n",
       "      <td>Santa Ynez Valley</td>\n",
       "      <td>...</td>\n",
       "      <td>Sauvignon Blanc</td>\n",
       "      <td>Sevtap</td>\n",
       "      <td>7</td>\n",
       "      <td>514</td>\n",
       "      <td>2015</td>\n",
       "      <td>0.011905</td>\n",
       "      <td>0.010432</td>\n",
       "      <td>0.060606</td>\n",
       "      <td>0</td>\n",
       "      <td>0.00</td>\n",
       "    </tr>\n",
       "  </tbody>\n",
       "</table>\n",
       "<p>5 rows × 24 columns</p>\n",
       "</div>"
      ],
      "text/plain": [
       "   Unnamed: 0  Unnamed: 0.1  Unnamed: 0.1.1 country  \\\n",
       "0           0            10              10      US   \n",
       "1           3            23              23      US   \n",
       "2           4            25              25      US   \n",
       "3          12            60              60      US   \n",
       "4          13            63              64      US   \n",
       "\n",
       "                                         description          designation  \\\n",
       "0  Soft, supple plum envelopes an oaky structure ...       Mountain Cuvée   \n",
       "1  This wine from the Geneseo district offers aro...  Signature Selection   \n",
       "2  Oak and earth intermingle around robust aromas...  King Ridge Vineyard   \n",
       "3  Syrupy and dense, this wine is jammy in plum a...               Estate   \n",
       "4  There are intriguing touches to the nose of th...          Golden Horn   \n",
       "\n",
       "   points  price    province           region_1      ...        \\\n",
       "0      87   19.0  California        Napa Valley      ...         \n",
       "1      87   22.0  California        Paso Robles      ...         \n",
       "2      87   69.0  California       Sonoma Coast      ...         \n",
       "3      86  100.0  California        Napa Valley      ...         \n",
       "4      86   26.0  California  Santa Ynez Valley      ...         \n",
       "\n",
       "              variety               winery province_id variety_numerical  \\\n",
       "0  Cabernet Sauvignon   Kirkland Signature           7                80   \n",
       "1              Merlot              Bianchi           7               326   \n",
       "2          Pinot Noir  Castello di Amorosa           7               440   \n",
       "3  Cabernet Sauvignon                Okapi           7                80   \n",
       "4     Sauvignon Blanc               Sevtap           7               514   \n",
       "\n",
       "  vintage norm_vintage  norm_price  norm_points  total_fires  sum_fire_size  \n",
       "0    2011     0.009921    0.006955     0.070707            0           0.00  \n",
       "1    2011     0.009921    0.008445     0.070707            0           0.00  \n",
       "2    2011     0.009921    0.031793     0.070707            0           0.00  \n",
       "3    2013     0.010913    0.047193     0.060606           50         276.17  \n",
       "4    2015     0.011905    0.010432     0.060606            0           0.00  \n",
       "\n",
       "[5 rows x 24 columns]"
      ]
     },
     "execution_count": 3,
     "metadata": {},
     "output_type": "execute_result"
    }
   ],
   "source": [
    "data.head()"
   ]
  },
  {
   "cell_type": "code",
   "execution_count": 4,
   "metadata": {},
   "outputs": [
    {
     "data": {
      "text/plain": [
       "1858"
      ]
     },
     "execution_count": 4,
     "metadata": {},
     "output_type": "execute_result"
    }
   ],
   "source": [
    "len(pd.unique(data['winery']))"
   ]
  },
  {
   "cell_type": "code",
   "execution_count": 5,
   "metadata": {},
   "outputs": [],
   "source": [
    "l = [[data.sum_fire_size, data.total_fires, data.norm_price, data.norm_points, data.norm_vintage]]"
   ]
  },
  {
   "cell_type": "code",
   "execution_count": 6,
   "metadata": {},
   "outputs": [],
   "source": [
    "y = ['sum_fire_size', 'total_fires', 'norm_price', 'norm_points', 'norm_vintage']"
   ]
  },
  {
   "cell_type": "code",
   "execution_count": 7,
   "metadata": {},
   "outputs": [],
   "source": [
    "# Helper function to count the number of samples in each cluster\n",
    "\n",
    "def label_count(labels):\n",
    "\n",
    "\tlab_count = dict()\n",
    "\n",
    "\tfor x in labels:\n",
    "\t\tif x in lab_count:\n",
    "\t\t\tlab_count[x] += 1\n",
    "\t\telse:\n",
    "\t\t\tlab_count[x] = 1\n",
    "\n",
    "\tprint(lab_count)\n",
    "\n",
    "\treturn"
   ]
  },
  {
   "cell_type": "code",
   "execution_count": 8,
   "metadata": {},
   "outputs": [],
   "source": [
    "x = data.loc[:, ['variety_numerical', 'price', 'vintage']]\n",
    "y = data.loc[:, ['points']]\n",
    "\n",
    "x_train, x_test, y_train, y_test = train_test_split( x, y, test_size=0.20, random_state=0)"
   ]
  },
  {
   "cell_type": "code",
   "execution_count": 9,
   "metadata": {},
   "outputs": [],
   "source": [
    "clf = tree.DecisionTreeClassifier()\n",
    "clf = clf.fit(x_train, y_train)\n",
    "predict = clf.predict(x_test)"
   ]
  },
  {
   "cell_type": "code",
   "execution_count": 10,
   "metadata": {},
   "outputs": [
    {
     "name": "stdout",
     "output_type": "stream",
     "text": [
      "0.19580696202531644\n"
     ]
    }
   ],
   "source": [
    "matched = 0\n",
    "for i in range(len(predict)):\n",
    "    if(predict[i] == int(y_test.iloc[i])):\n",
    "        matched += 1;\n",
    "\n",
    "print(matched/len(predict))"
   ]
  },
  {
   "cell_type": "code",
   "execution_count": 11,
   "metadata": {},
   "outputs": [
    {
     "data": {
      "text/plain": [
       "0.19580696202531644"
      ]
     },
     "execution_count": 11,
     "metadata": {},
     "output_type": "execute_result"
    }
   ],
   "source": [
    "accuracy_score(y_test, predict)"
   ]
  },
  {
   "cell_type": "code",
   "execution_count": 12,
   "metadata": {},
   "outputs": [
    {
     "data": {
      "text/plain": [
       "(array([  20.,    0.,   19.,    0.,    0.,   70.,    0.,    0.,  118.,\n",
       "           0.,    0.,  235.,    0.,    0.,  417.,    0.,    0.,  735.,\n",
       "           0.,    0., 1032.,    0.,    0., 1560.,    0.,    0.,  962.,\n",
       "           0.,    0., 1990.,    0.,    0., 1720.,    0.,    0., 1518.,\n",
       "           0.,    0., 1234.,    0.,    0.,  700.,    0.,    0.,  222.,\n",
       "           0.,    0.,   55.,    0.,    0.,   17.,    0.,    0.,   12.,\n",
       "           0.,    2.]),\n",
       " array([80.        , 80.33928571, 80.67857143, 81.01785714, 81.35714286,\n",
       "        81.69642857, 82.03571429, 82.375     , 82.71428571, 83.05357143,\n",
       "        83.39285714, 83.73214286, 84.07142857, 84.41071429, 84.75      ,\n",
       "        85.08928571, 85.42857143, 85.76785714, 86.10714286, 86.44642857,\n",
       "        86.78571429, 87.125     , 87.46428571, 87.80357143, 88.14285714,\n",
       "        88.48214286, 88.82142857, 89.16071429, 89.5       , 89.83928571,\n",
       "        90.17857143, 90.51785714, 90.85714286, 91.19642857, 91.53571429,\n",
       "        91.875     , 92.21428571, 92.55357143, 92.89285714, 93.23214286,\n",
       "        93.57142857, 93.91071429, 94.25      , 94.58928571, 94.92857143,\n",
       "        95.26785714, 95.60714286, 95.94642857, 96.28571429, 96.625     ,\n",
       "        96.96428571, 97.30357143, 97.64285714, 97.98214286, 98.32142857,\n",
       "        98.66071429, 99.        ]),\n",
       " <a list of 56 Patch objects>)"
      ]
     },
     "execution_count": 12,
     "metadata": {},
     "output_type": "execute_result"
    },
    {
     "data": {
      "image/png": "[encoded data removed]",
      "text/plain": [
       "<Figure size 432x288 with 1 Axes>"
      ]
     },
     "metadata": {},
     "output_type": "display_data"
    }
   ],
   "source": [
    "plt.hist(data['points'], bins='auto') "
   ]
  },
  {
   "cell_type": "code",
   "execution_count": 13,
   "metadata": {},
   "outputs": [],
   "source": [
    "points = data.loc[:,'points']\n",
    "points = np.array(points, dtype=pd.Series)\n",
    "points = points.reshape(-1, 1)\n",
    "cluster = KMeans(n_clusters = 3, random_state = 0).fit(points)\n",
    "point_bins = cluster.labels_\n",
    "\n",
    "data['point_bin'] = point_bins"
   ]
  },
  {
   "cell_type": "code",
   "execution_count": 14,
   "metadata": {},
   "outputs": [
    {
     "name": "stdout",
     "output_type": "stream",
     "text": [
      "{0: 4206, 2: 4672, 1: 3760}\n"
     ]
    }
   ],
   "source": [
    "label_count(point_bins)"
   ]
  },
  {
   "cell_type": "code",
   "execution_count": 15,
   "metadata": {},
   "outputs": [
    {
     "data": {
      "text/plain": [
       "0.5075158227848101"
      ]
     },
     "execution_count": 15,
     "metadata": {},
     "output_type": "execute_result"
    }
   ],
   "source": [
    "x = data.loc[:, ['variety_numerical', 'price', 'vintage']]\n",
    "y = data.loc[:, ['point_bin']]\n",
    "\n",
    "x_train, x_test, y_train, y_test = train_test_split( x, y, test_size=0.20, random_state=0)\n",
    "\n",
    "clf = tree.DecisionTreeClassifier()\n",
    "clf = clf.fit(x_train, y_train)\n",
    "predict = clf.predict(x_test)\n",
    "\n",
    "accuracy_score(y_test, predict)"
   ]
  },
  {
   "cell_type": "code",
   "execution_count": null,
   "metadata": {},
   "outputs": [],
   "source": []
  }
 ],
 "metadata": {
  "kernelspec": {
   "display_name": "Python 3",
   "language": "python",
   "name": "python3"
  },
  "language_info": {
   "codemirror_mode": {
    "name": "ipython",
    "version": 3
   },
   "file_extension": ".py",
   "mimetype": "text/x-python",
   "name": "python",
   "nbconvert_exporter": "python",
   "pygments_lexer": "ipython3",
   "version": "3.6.5"
  }
 },
 "nbformat": 4,
 "nbformat_minor": 2
}
