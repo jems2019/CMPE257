{
 "cells": [
  {
   "cell_type": "code",
   "execution_count": 1,
   "metadata": {},
   "outputs": [],
   "source": [
    "import pandas as pd\n",
    "import numpy as np\n",
    "import pylab as pl\n",
    "\n",
    "from sklearn import tree\n",
    "from sklearn.cluster import KMeans\n",
    "from sklearn.model_selection import train_test_split\n",
    "from sklearn.metrics import accuracy_score\n",
    "\n",
    "import matplotlib.pyplot as plt\n",
    "from scipy.spatial.distance import cdist\n",
    "import warnings\n",
    "%matplotlib inline"
   ]
  },
  {
   "cell_type": "code",
   "execution_count": 2,
   "metadata": {},
   "outputs": [],
   "source": [
    "data = pd.read_csv(\"../data/California_latlng_merged.csv\")"
   ]
  },
  {
   "cell_type": "code",
   "execution_count": 3,
   "metadata": {},
   "outputs": [
    {
     "data": {
      "text/html": [
       "<div>\n",
       "<style scoped>\n",
       "    .dataframe tbody tr th:only-of-type {\n",
       "        vertical-align: middle;\n",
       "    }\n",
       "\n",
       "    .dataframe tbody tr th {\n",
       "        vertical-align: top;\n",
       "    }\n",
       "\n",
       "    .dataframe thead th {\n",
       "        text-align: right;\n",
       "    }\n",
       "</style>\n",
       "<table border=\"1\" class=\"dataframe\">\n",
       "  <thead>\n",
       "    <tr style=\"text-align: right;\">\n",
       "      <th></th>\n",
       "      <th>Unnamed: 0</th>\n",
       "      <th>Unnamed: 0.1</th>\n",
       "      <th>Unnamed: 0.1.1</th>\n",
       "      <th>Unnamed: 0.1.1.1</th>\n",
       "      <th>country</th>\n",
       "      <th>description</th>\n",
       "      <th>designation</th>\n",
       "      <th>points</th>\n",
       "      <th>price</th>\n",
       "      <th>province</th>\n",
       "      <th>...</th>\n",
       "      <th>title</th>\n",
       "      <th>variety</th>\n",
       "      <th>winery</th>\n",
       "      <th>province_id</th>\n",
       "      <th>variety_numerical</th>\n",
       "      <th>vintage</th>\n",
       "      <th>lat</th>\n",
       "      <th>lon</th>\n",
       "      <th>total_fires</th>\n",
       "      <th>sum_fire_size</th>\n",
       "    </tr>\n",
       "  </thead>\n",
       "  <tbody>\n",
       "    <tr>\n",
       "      <th>0</th>\n",
       "      <td>0</td>\n",
       "      <td>0</td>\n",
       "      <td>10</td>\n",
       "      <td>10</td>\n",
       "      <td>US</td>\n",
       "      <td>Soft, supple plum envelopes an oaky structure ...</td>\n",
       "      <td>Mountain Cuvée</td>\n",
       "      <td>87</td>\n",
       "      <td>19.0</td>\n",
       "      <td>California</td>\n",
       "      <td>...</td>\n",
       "      <td>Kirkland Signature 2011 Mountain Cuvée Caberne...</td>\n",
       "      <td>Cabernet Sauvignon</td>\n",
       "      <td>Kirkland Signature</td>\n",
       "      <td>7</td>\n",
       "      <td>80</td>\n",
       "      <td>2011</td>\n",
       "      <td>38.297137</td>\n",
       "      <td>-122.285529</td>\n",
       "      <td>0</td>\n",
       "      <td>0.00</td>\n",
       "    </tr>\n",
       "    <tr>\n",
       "      <th>1</th>\n",
       "      <td>3</td>\n",
       "      <td>3</td>\n",
       "      <td>23</td>\n",
       "      <td>23</td>\n",
       "      <td>US</td>\n",
       "      <td>This wine from the Geneseo district offers aro...</td>\n",
       "      <td>Signature Selection</td>\n",
       "      <td>87</td>\n",
       "      <td>22.0</td>\n",
       "      <td>California</td>\n",
       "      <td>...</td>\n",
       "      <td>Bianchi 2011 Signature Selection Merlot (Paso ...</td>\n",
       "      <td>Merlot</td>\n",
       "      <td>Bianchi</td>\n",
       "      <td>7</td>\n",
       "      <td>326</td>\n",
       "      <td>2011</td>\n",
       "      <td>37.050096</td>\n",
       "      <td>-121.990591</td>\n",
       "      <td>4</td>\n",
       "      <td>79.10</td>\n",
       "    </tr>\n",
       "    <tr>\n",
       "      <th>2</th>\n",
       "      <td>4</td>\n",
       "      <td>4</td>\n",
       "      <td>25</td>\n",
       "      <td>25</td>\n",
       "      <td>US</td>\n",
       "      <td>Oak and earth intermingle around robust aromas...</td>\n",
       "      <td>King Ridge Vineyard</td>\n",
       "      <td>87</td>\n",
       "      <td>69.0</td>\n",
       "      <td>California</td>\n",
       "      <td>...</td>\n",
       "      <td>Castello di Amorosa 2011 King Ridge Vineyard P...</td>\n",
       "      <td>Pinot Noir</td>\n",
       "      <td>Castello di Amorosa</td>\n",
       "      <td>7</td>\n",
       "      <td>440</td>\n",
       "      <td>2011</td>\n",
       "      <td>38.293313</td>\n",
       "      <td>-122.469386</td>\n",
       "      <td>0</td>\n",
       "      <td>0.00</td>\n",
       "    </tr>\n",
       "    <tr>\n",
       "      <th>3</th>\n",
       "      <td>12</td>\n",
       "      <td>12</td>\n",
       "      <td>60</td>\n",
       "      <td>60</td>\n",
       "      <td>US</td>\n",
       "      <td>Syrupy and dense, this wine is jammy in plum a...</td>\n",
       "      <td>Estate</td>\n",
       "      <td>86</td>\n",
       "      <td>100.0</td>\n",
       "      <td>California</td>\n",
       "      <td>...</td>\n",
       "      <td>Okapi 2013 Estate Cabernet Sauvignon (Napa Val...</td>\n",
       "      <td>Cabernet Sauvignon</td>\n",
       "      <td>Okapi</td>\n",
       "      <td>7</td>\n",
       "      <td>80</td>\n",
       "      <td>2013</td>\n",
       "      <td>38.297137</td>\n",
       "      <td>-122.285529</td>\n",
       "      <td>122</td>\n",
       "      <td>1339.78</td>\n",
       "    </tr>\n",
       "    <tr>\n",
       "      <th>4</th>\n",
       "      <td>13</td>\n",
       "      <td>13</td>\n",
       "      <td>63</td>\n",
       "      <td>64</td>\n",
       "      <td>US</td>\n",
       "      <td>There are intriguing touches to the nose of th...</td>\n",
       "      <td>Golden Horn</td>\n",
       "      <td>86</td>\n",
       "      <td>26.0</td>\n",
       "      <td>California</td>\n",
       "      <td>...</td>\n",
       "      <td>Sevtap 2015 Golden Horn Sauvignon Blanc (Santa...</td>\n",
       "      <td>Sauvignon Blanc</td>\n",
       "      <td>Sevtap</td>\n",
       "      <td>7</td>\n",
       "      <td>514</td>\n",
       "      <td>2015</td>\n",
       "      <td>35.282753</td>\n",
       "      <td>-120.659616</td>\n",
       "      <td>82</td>\n",
       "      <td>719.08</td>\n",
       "    </tr>\n",
       "  </tbody>\n",
       "</table>\n",
       "<p>5 rows × 24 columns</p>\n",
       "</div>"
      ],
      "text/plain": [
       "   Unnamed: 0  Unnamed: 0.1  Unnamed: 0.1.1  Unnamed: 0.1.1.1 country  \\\n",
       "0           0             0              10                10      US   \n",
       "1           3             3              23                23      US   \n",
       "2           4             4              25                25      US   \n",
       "3          12            12              60                60      US   \n",
       "4          13            13              63                64      US   \n",
       "\n",
       "                                         description          designation  \\\n",
       "0  Soft, supple plum envelopes an oaky structure ...       Mountain Cuvée   \n",
       "1  This wine from the Geneseo district offers aro...  Signature Selection   \n",
       "2  Oak and earth intermingle around robust aromas...  King Ridge Vineyard   \n",
       "3  Syrupy and dense, this wine is jammy in plum a...               Estate   \n",
       "4  There are intriguing touches to the nose of th...          Golden Horn   \n",
       "\n",
       "   points  price    province      ...        \\\n",
       "0      87   19.0  California      ...         \n",
       "1      87   22.0  California      ...         \n",
       "2      87   69.0  California      ...         \n",
       "3      86  100.0  California      ...         \n",
       "4      86   26.0  California      ...         \n",
       "\n",
       "                                               title             variety  \\\n",
       "0  Kirkland Signature 2011 Mountain Cuvée Caberne...  Cabernet Sauvignon   \n",
       "1  Bianchi 2011 Signature Selection Merlot (Paso ...              Merlot   \n",
       "2  Castello di Amorosa 2011 King Ridge Vineyard P...          Pinot Noir   \n",
       "3  Okapi 2013 Estate Cabernet Sauvignon (Napa Val...  Cabernet Sauvignon   \n",
       "4  Sevtap 2015 Golden Horn Sauvignon Blanc (Santa...     Sauvignon Blanc   \n",
       "\n",
       "                winery province_id variety_numerical vintage        lat  \\\n",
       "0   Kirkland Signature           7                80    2011  38.297137   \n",
       "1              Bianchi           7               326    2011  37.050096   \n",
       "2  Castello di Amorosa           7               440    2011  38.293313   \n",
       "3                Okapi           7                80    2013  38.297137   \n",
       "4               Sevtap           7               514    2015  35.282753   \n",
       "\n",
       "          lon  total_fires  sum_fire_size  \n",
       "0 -122.285529            0           0.00  \n",
       "1 -121.990591            4          79.10  \n",
       "2 -122.469386            0           0.00  \n",
       "3 -122.285529          122        1339.78  \n",
       "4 -120.659616           82         719.08  \n",
       "\n",
       "[5 rows x 24 columns]"
      ]
     },
     "execution_count": 3,
     "metadata": {},
     "output_type": "execute_result"
    }
   ],
   "source": [
    "data.head()"
   ]
  },
  {
   "cell_type": "code",
   "execution_count": 4,
   "metadata": {},
   "outputs": [
    {
     "data": {
      "text/plain": [
       "1559"
      ]
     },
     "execution_count": 4,
     "metadata": {},
     "output_type": "execute_result"
    }
   ],
   "source": [
    "len(pd.unique(data['winery']))"
   ]
  },
  {
   "cell_type": "code",
   "execution_count": 5,
   "metadata": {},
   "outputs": [],
   "source": [
    "# Helper function to count the number of samples in each cluster\n",
    "\n",
    "def label_count(labels):\n",
    "\n",
    "\tlab_count = dict()\n",
    "\n",
    "\tfor x in labels:\n",
    "\t\tif x in lab_count:\n",
    "\t\t\tlab_count[x] += 1\n",
    "\t\telse:\n",
    "\t\t\tlab_count[x] = 1\n",
    "\n",
    "\tprint(lab_count)\n",
    "\n",
    "\treturn"
   ]
  },
  {
   "cell_type": "code",
   "execution_count": 6,
   "metadata": {},
   "outputs": [],
   "source": [
    "x = data.loc[:, ['variety_numerical', 'price', 'vintage']]\n",
    "y = data.loc[:, ['points']]\n",
    "\n",
    "x_train, x_test, y_train, y_test = train_test_split( x, y, test_size=0.20, random_state=0)"
   ]
  },
  {
   "cell_type": "code",
   "execution_count": 7,
   "metadata": {},
   "outputs": [],
   "source": [
    "clf = tree.DecisionTreeClassifier()\n",
    "clf = clf.fit(x_train, y_train)\n",
    "predict = clf.predict(x_test)"
   ]
  },
  {
   "cell_type": "code",
   "execution_count": 8,
   "metadata": {},
   "outputs": [
    {
     "name": "stdout",
     "output_type": "stream",
     "text": [
      "0.20030737704918034\n"
     ]
    }
   ],
   "source": [
    "matched = 0\n",
    "for i in range(len(predict)):\n",
    "    if(predict[i] == int(y_test.iloc[i])):\n",
    "        matched += 1;\n",
    "\n",
    "print(matched/len(predict))"
   ]
  },
  {
   "cell_type": "code",
   "execution_count": 9,
   "metadata": {},
   "outputs": [
    {
     "data": {
      "text/plain": [
       "0.20030737704918034"
      ]
     },
     "execution_count": 9,
     "metadata": {},
     "output_type": "execute_result"
    }
   ],
   "source": [
    "accuracy_score(y_test, predict)"
   ]
  },
  {
   "cell_type": "code",
   "execution_count": 10,
   "metadata": {},
   "outputs": [
    {
     "data": {
      "text/plain": [
       "(array([5.000e+00, 0.000e+00, 6.000e+00, 0.000e+00, 0.000e+00, 3.800e+01,\n",
       "        0.000e+00, 0.000e+00, 7.100e+01, 0.000e+00, 1.550e+02, 0.000e+00,\n",
       "        0.000e+00, 2.890e+02, 0.000e+00, 0.000e+00, 5.410e+02, 0.000e+00,\n",
       "        7.540e+02, 0.000e+00, 0.000e+00, 1.204e+03, 0.000e+00, 0.000e+00,\n",
       "        6.690e+02, 0.000e+00, 1.595e+03, 0.000e+00, 0.000e+00, 1.370e+03,\n",
       "        0.000e+00, 0.000e+00, 1.200e+03, 0.000e+00, 1.024e+03, 0.000e+00,\n",
       "        0.000e+00, 5.830e+02, 0.000e+00, 0.000e+00, 1.920e+02, 0.000e+00,\n",
       "        4.000e+01, 0.000e+00, 0.000e+00, 1.300e+01, 0.000e+00, 0.000e+00,\n",
       "        7.000e+00, 0.000e+00, 1.000e+00]),\n",
       " array([80.        , 80.37254902, 80.74509804, 81.11764706, 81.49019608,\n",
       "        81.8627451 , 82.23529412, 82.60784314, 82.98039216, 83.35294118,\n",
       "        83.7254902 , 84.09803922, 84.47058824, 84.84313725, 85.21568627,\n",
       "        85.58823529, 85.96078431, 86.33333333, 86.70588235, 87.07843137,\n",
       "        87.45098039, 87.82352941, 88.19607843, 88.56862745, 88.94117647,\n",
       "        89.31372549, 89.68627451, 90.05882353, 90.43137255, 90.80392157,\n",
       "        91.17647059, 91.54901961, 91.92156863, 92.29411765, 92.66666667,\n",
       "        93.03921569, 93.41176471, 93.78431373, 94.15686275, 94.52941176,\n",
       "        94.90196078, 95.2745098 , 95.64705882, 96.01960784, 96.39215686,\n",
       "        96.76470588, 97.1372549 , 97.50980392, 97.88235294, 98.25490196,\n",
       "        98.62745098, 99.        ]),\n",
       " <a list of 51 Patch objects>)"
      ]
     },
     "execution_count": 10,
     "metadata": {},
     "output_type": "execute_result"
    },
    {
     "data": {
      "image/png": "[encoded data removed]",
      "text/plain": [
       "<Figure size 432x288 with 1 Axes>"
      ]
     },
     "metadata": {},
     "output_type": "display_data"
    }
   ],
   "source": [
    "plt.hist(data['points'], bins='auto') "
   ]
  },
  {
   "cell_type": "code",
   "execution_count": 11,
   "metadata": {},
   "outputs": [],
   "source": [
    "points = data.loc[:,'points']\n",
    "points = np.array(points, dtype=pd.Series)\n",
    "points = points.reshape(-1, 1)\n",
    "cluster = KMeans(n_clusters = 3, random_state = 0).fit(points)\n",
    "point_bins = cluster.labels_\n",
    "\n",
    "data['point_bin'] = point_bins"
   ]
  },
  {
   "cell_type": "code",
   "execution_count": 17,
   "metadata": {},
   "outputs": [],
   "source": [
    "# Helper function to get the top x in col from data from each cluster\n",
    "\n",
    "# example usage: get_top_x_per_cluster(x, 'points', data, labels, n)\n",
    "# x = the top number 'x' from each cluster\n",
    "# col = the column with an attribute about the dataset\n",
    "# data = the dataframe with the entire datset\n",
    "# clusters = the clusters of each point\n",
    "# n = the number of clusters formed using for k-means\n",
    "\n",
    "def get_top_x_per_cluster(x, col, data, clusters, n):\n",
    "    top_lists = [dict() for i in range(n)]\n",
    "    c = 0\n",
    "    \n",
    "    for index, row in data.iterrows():\n",
    "        i = clusters[c]\n",
    "        c += 1\n",
    "        if row[col] in top_lists[i]:\n",
    "            top_lists[i][row[col]] += 1\n",
    "        else:\n",
    "             top_lists[i][row[col]] = 1\n",
    "    \n",
    "    print(\"\\nTop\", x, col, 'in each cluster')\n",
    "    for i in range(n):\n",
    "        print(\"\\nCluster \", i)\n",
    "        sorted_list = sorted(top_lists[i].items(), key=lambda kv: kv[1])\n",
    "        sorted_list = list(reversed(sorted_list))\n",
    "        for y in range(x):\n",
    "            if(y < len(sorted_list)):\n",
    "                print(sorted_list[y])\n",
    "    return\n",
    "    "
   ]
  },
  {
   "cell_type": "code",
   "execution_count": 19,
   "metadata": {},
   "outputs": [
    {
     "name": "stdout",
     "output_type": "stream",
     "text": [
      "{1: 3063, 2: 3634, 0: 3060}\n",
      "\n",
      "Top 10 points in each cluster\n",
      "\n",
      "Cluster  0\n",
      "(92, 1200)\n",
      "(93, 1024)\n",
      "(94, 583)\n",
      "(95, 192)\n",
      "(96, 40)\n",
      "(97, 13)\n",
      "(98, 7)\n",
      "(99, 1)\n",
      "\n",
      "Cluster  1\n",
      "(88, 1204)\n",
      "(87, 754)\n",
      "(86, 541)\n",
      "(85, 289)\n",
      "(84, 155)\n",
      "(83, 71)\n",
      "(82, 38)\n",
      "(81, 6)\n",
      "(80, 5)\n",
      "\n",
      "Cluster  2\n",
      "(90, 1595)\n",
      "(91, 1370)\n",
      "(89, 669)\n"
     ]
    }
   ],
   "source": [
    "label_count(point_bins)\n",
    "get_top_x_per_cluster(10,'points',data,point_bins,3)"
   ]
  },
  {
   "cell_type": "code",
   "execution_count": 13,
   "metadata": {},
   "outputs": [
    {
     "data": {
      "text/plain": [
       "0.4994877049180328"
      ]
     },
     "execution_count": 13,
     "metadata": {},
     "output_type": "execute_result"
    }
   ],
   "source": [
    "x = data.loc[:, ['variety_numerical', 'price', 'vintage']]\n",
    "y = data.loc[:, ['point_bin']]\n",
    "\n",
    "x_train, x_test, y_train, y_test = train_test_split( x, y, test_size=0.20, random_state=0)\n",
    "\n",
    "clf = tree.DecisionTreeClassifier()\n",
    "clf = clf.fit(x_train, y_train)\n",
    "predict = clf.predict(x_test)\n",
    "\n",
    "accuracy_score(y_test, predict)"
   ]
  },
  {
   "cell_type": "code",
   "execution_count": 14,
   "metadata": {},
   "outputs": [
    {
     "data": {
      "text/plain": [
       "0.5158811475409836"
      ]
     },
     "execution_count": 14,
     "metadata": {},
     "output_type": "execute_result"
    }
   ],
   "source": [
    "x = data.loc[:, ['variety_numerical', 'price', 'vintage', 'total_fires', 'sum_fire_size']]\n",
    "y = data.loc[:, ['point_bin']]\n",
    "\n",
    "x_train, x_test, y_train, y_test = train_test_split( x, y, test_size=0.20, random_state=0)\n",
    "\n",
    "clf = tree.DecisionTreeClassifier()\n",
    "clf = clf.fit(x_train, y_train)\n",
    "predict = clf.predict(x_test)\n",
    "\n",
    "accuracy_score(y_test, predict)"
   ]
  },
  {
   "cell_type": "code",
   "execution_count": 15,
   "metadata": {},
   "outputs": [
    {
     "data": {
      "text/plain": [
       "0.45389344262295084"
      ]
     },
     "execution_count": 15,
     "metadata": {},
     "output_type": "execute_result"
    }
   ],
   "source": [
    "x = data.loc[:, ['total_fires', 'sum_fire_size']]\n",
    "y = data.loc[:, ['point_bin']]\n",
    "\n",
    "x_train, x_test, y_train, y_test = train_test_split( x, y, test_size=0.20, random_state=0)\n",
    "\n",
    "clf = tree.DecisionTreeClassifier()\n",
    "clf = clf.fit(x_train, y_train)\n",
    "predict = clf.predict(x_test)\n",
    "\n",
    "accuracy_score(y_test, predict)"
   ]
  },
  {
   "cell_type": "code",
   "execution_count": null,
   "metadata": {},
   "outputs": [],
   "source": []
  }
 ],
 "metadata": {
  "kernelspec": {
   "display_name": "Python 3",
   "language": "python",
   "name": "python3"
  },
  "language_info": {
   "codemirror_mode": {
    "name": "ipython",
    "version": 3
   },
   "file_extension": ".py",
   "mimetype": "text/x-python",
   "name": "python",
   "nbconvert_exporter": "python",
   "pygments_lexer": "ipython3",
   "version": "3.6.5"
  }
 },
 "nbformat": 4,
 "nbformat_minor": 2
}
