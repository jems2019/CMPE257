{
 "cells": [
  {
   "cell_type": "markdown",
   "metadata": {},
   "source": [
    "# Enriching Wine Data with Fire Data and Using Linear Regression"
   ]
  },
  {
   "cell_type": "markdown",
   "metadata": {},
   "source": [
    "As a consumer, we want to find high quality wines from California. We would like to see if there are specific factors that impact the ratings of these wines. By running linear regression on our dataset, we can find out if there is a correlation between features of the wine and its rating. \n",
    "\n",
    "Within our dataset, we can only run linear regression on the vintage and price of the wines, so we plan to enrich our data with potential latent variables. Since one of California's major natural disasters are wildfires, we plan to see if these fires effect the ratings of the wines. To join these datasets, we will join by the county and the year the fire happened and the vintage of the wine. \n"
   ]
  },
  {
   "cell_type": "code",
   "execution_count": 1,
   "metadata": {},
   "outputs": [],
   "source": [
    "import pandas as pd\n",
    "import numpy as np\n",
    "import pylab as pl\n",
    "\n",
    "from sklearn.linear_model import LinearRegression\n",
    "\n",
    "import matplotlib.pyplot as plt\n",
    "from scipy.spatial.distance import cdist\n",
    "import warnings\n",
    "%matplotlib inline"
   ]
  },
  {
   "cell_type": "code",
   "execution_count": 19,
   "metadata": {},
   "outputs": [
    {
     "name": "stdout",
     "output_type": "stream",
     "text": [
      "(12638, 18)\n"
     ]
    },
    {
     "data": {
      "text/html": [
       "<div>\n",
       "<style scoped>\n",
       "    .dataframe tbody tr th:only-of-type {\n",
       "        vertical-align: middle;\n",
       "    }\n",
       "\n",
       "    .dataframe tbody tr th {\n",
       "        vertical-align: top;\n",
       "    }\n",
       "\n",
       "    .dataframe thead th {\n",
       "        text-align: right;\n",
       "    }\n",
       "</style>\n",
       "<table border=\"1\" class=\"dataframe\">\n",
       "  <thead>\n",
       "    <tr style=\"text-align: right;\">\n",
       "      <th></th>\n",
       "      <th>Unnamed: 0</th>\n",
       "      <th>Unnamed: 0.1</th>\n",
       "      <th>country</th>\n",
       "      <th>description</th>\n",
       "      <th>designation</th>\n",
       "      <th>points</th>\n",
       "      <th>price</th>\n",
       "      <th>province</th>\n",
       "      <th>region_1</th>\n",
       "      <th>region_2</th>\n",
       "      <th>taster_name</th>\n",
       "      <th>taster_twitter_handle</th>\n",
       "      <th>title</th>\n",
       "      <th>variety</th>\n",
       "      <th>winery</th>\n",
       "      <th>province_id</th>\n",
       "      <th>variety_numerical</th>\n",
       "      <th>vintage</th>\n",
       "    </tr>\n",
       "  </thead>\n",
       "  <tbody>\n",
       "    <tr>\n",
       "      <th>0</th>\n",
       "      <td>10</td>\n",
       "      <td>10</td>\n",
       "      <td>US</td>\n",
       "      <td>Soft, supple plum envelopes an oaky structure ...</td>\n",
       "      <td>Mountain Cuvée</td>\n",
       "      <td>87</td>\n",
       "      <td>19.0</td>\n",
       "      <td>California</td>\n",
       "      <td>Napa Valley</td>\n",
       "      <td>Napa</td>\n",
       "      <td>Virginie Boone</td>\n",
       "      <td>@vboone</td>\n",
       "      <td>Kirkland Signature 2011 Mountain Cuvée Caberne...</td>\n",
       "      <td>Cabernet Sauvignon</td>\n",
       "      <td>Kirkland Signature</td>\n",
       "      <td>7</td>\n",
       "      <td>80</td>\n",
       "      <td>2011</td>\n",
       "    </tr>\n",
       "    <tr>\n",
       "      <th>3</th>\n",
       "      <td>23</td>\n",
       "      <td>23</td>\n",
       "      <td>US</td>\n",
       "      <td>This wine from the Geneseo district offers aro...</td>\n",
       "      <td>Signature Selection</td>\n",
       "      <td>87</td>\n",
       "      <td>22.0</td>\n",
       "      <td>California</td>\n",
       "      <td>Paso Robles</td>\n",
       "      <td>Central Coast</td>\n",
       "      <td>Matt Kettmann</td>\n",
       "      <td>@mattkettmann</td>\n",
       "      <td>Bianchi 2011 Signature Selection Merlot (Paso ...</td>\n",
       "      <td>Merlot</td>\n",
       "      <td>Bianchi</td>\n",
       "      <td>7</td>\n",
       "      <td>326</td>\n",
       "      <td>2011</td>\n",
       "    </tr>\n",
       "    <tr>\n",
       "      <th>4</th>\n",
       "      <td>25</td>\n",
       "      <td>25</td>\n",
       "      <td>US</td>\n",
       "      <td>Oak and earth intermingle around robust aromas...</td>\n",
       "      <td>King Ridge Vineyard</td>\n",
       "      <td>87</td>\n",
       "      <td>69.0</td>\n",
       "      <td>California</td>\n",
       "      <td>Sonoma Coast</td>\n",
       "      <td>Sonoma</td>\n",
       "      <td>Virginie Boone</td>\n",
       "      <td>@vboone</td>\n",
       "      <td>Castello di Amorosa 2011 King Ridge Vineyard P...</td>\n",
       "      <td>Pinot Noir</td>\n",
       "      <td>Castello di Amorosa</td>\n",
       "      <td>7</td>\n",
       "      <td>440</td>\n",
       "      <td>2011</td>\n",
       "    </tr>\n",
       "    <tr>\n",
       "      <th>12</th>\n",
       "      <td>60</td>\n",
       "      <td>60</td>\n",
       "      <td>US</td>\n",
       "      <td>Syrupy and dense, this wine is jammy in plum a...</td>\n",
       "      <td>Estate</td>\n",
       "      <td>86</td>\n",
       "      <td>100.0</td>\n",
       "      <td>California</td>\n",
       "      <td>Napa Valley</td>\n",
       "      <td>Napa</td>\n",
       "      <td>Virginie Boone</td>\n",
       "      <td>@vboone</td>\n",
       "      <td>Okapi 2013 Estate Cabernet Sauvignon (Napa Val...</td>\n",
       "      <td>Cabernet Sauvignon</td>\n",
       "      <td>Okapi</td>\n",
       "      <td>7</td>\n",
       "      <td>80</td>\n",
       "      <td>2013</td>\n",
       "    </tr>\n",
       "    <tr>\n",
       "      <th>13</th>\n",
       "      <td>63</td>\n",
       "      <td>64</td>\n",
       "      <td>US</td>\n",
       "      <td>There are intriguing touches to the nose of th...</td>\n",
       "      <td>Golden Horn</td>\n",
       "      <td>86</td>\n",
       "      <td>26.0</td>\n",
       "      <td>California</td>\n",
       "      <td>Santa Ynez Valley</td>\n",
       "      <td>Central Coast</td>\n",
       "      <td>Matt Kettmann</td>\n",
       "      <td>@mattkettmann</td>\n",
       "      <td>Sevtap 2015 Golden Horn Sauvignon Blanc (Santa...</td>\n",
       "      <td>Sauvignon Blanc</td>\n",
       "      <td>Sevtap</td>\n",
       "      <td>7</td>\n",
       "      <td>514</td>\n",
       "      <td>2015</td>\n",
       "    </tr>\n",
       "  </tbody>\n",
       "</table>\n",
       "</div>"
      ],
      "text/plain": [
       "    Unnamed: 0  Unnamed: 0.1 country  \\\n",
       "0           10            10      US   \n",
       "3           23            23      US   \n",
       "4           25            25      US   \n",
       "12          60            60      US   \n",
       "13          63            64      US   \n",
       "\n",
       "                                          description          designation  \\\n",
       "0   Soft, supple plum envelopes an oaky structure ...       Mountain Cuvée   \n",
       "3   This wine from the Geneseo district offers aro...  Signature Selection   \n",
       "4   Oak and earth intermingle around robust aromas...  King Ridge Vineyard   \n",
       "12  Syrupy and dense, this wine is jammy in plum a...               Estate   \n",
       "13  There are intriguing touches to the nose of th...          Golden Horn   \n",
       "\n",
       "    points  price    province           region_1       region_2  \\\n",
       "0       87   19.0  California        Napa Valley           Napa   \n",
       "3       87   22.0  California        Paso Robles  Central Coast   \n",
       "4       87   69.0  California       Sonoma Coast         Sonoma   \n",
       "12      86  100.0  California        Napa Valley           Napa   \n",
       "13      86   26.0  California  Santa Ynez Valley  Central Coast   \n",
       "\n",
       "       taster_name taster_twitter_handle  \\\n",
       "0   Virginie Boone               @vboone   \n",
       "3    Matt Kettmann         @mattkettmann   \n",
       "4   Virginie Boone               @vboone   \n",
       "12  Virginie Boone               @vboone   \n",
       "13   Matt Kettmann         @mattkettmann   \n",
       "\n",
       "                                                title             variety  \\\n",
       "0   Kirkland Signature 2011 Mountain Cuvée Caberne...  Cabernet Sauvignon   \n",
       "3   Bianchi 2011 Signature Selection Merlot (Paso ...              Merlot   \n",
       "4   Castello di Amorosa 2011 King Ridge Vineyard P...          Pinot Noir   \n",
       "12  Okapi 2013 Estate Cabernet Sauvignon (Napa Val...  Cabernet Sauvignon   \n",
       "13  Sevtap 2015 Golden Horn Sauvignon Blanc (Santa...     Sauvignon Blanc   \n",
       "\n",
       "                 winery  province_id  variety_numerical  vintage  \n",
       "0    Kirkland Signature            7                 80     2011  \n",
       "3               Bianchi            7                326     2011  \n",
       "4   Castello di Amorosa            7                440     2011  \n",
       "12                Okapi            7                 80     2013  \n",
       "13               Sevtap            7                514     2015  "
      ]
     },
     "execution_count": 19,
     "metadata": {},
     "output_type": "execute_result"
    }
   ],
   "source": [
    "# Load the cleaned data into dataframe\n",
    "\n",
    "\"\"\" \n",
    "    Information of cleaned dataset:\n",
    "    \n",
    "    - Province and Variety of wine is transfomed from a categorical attribute to numerical attribute\n",
    "    - Vintage of wine is extracted from the title of each wine\n",
    "    - Rows were removed if there were null values present within each of the three attributes (Province, Variety, Vintage)\n",
    "    \n",
    "\"\"\"\n",
    "warnings.simplefilter('ignore')\n",
    "data = pd.read_csv(\"../data/California_Wines.csv\")\n",
    "data.dropna(inplace = True)\n",
    "print(data.shape)\n",
    "data.head()"
   ]
  },
  {
   "cell_type": "code",
   "execution_count": 15,
   "metadata": {},
   "outputs": [
    {
     "data": {
      "text/plain": [
       "2079"
      ]
     },
     "execution_count": 15,
     "metadata": {},
     "output_type": "execute_result"
    }
   ],
   "source": [
    "data.region_2.isna().sum()"
   ]
  },
  {
   "cell_type": "markdown",
   "metadata": {},
   "source": [
    "Run linear regression on the wine's points to price to see if there is any correlation"
   ]
  },
  {
   "cell_type": "code",
   "execution_count": 3,
   "metadata": {},
   "outputs": [
    {
     "name": "stdout",
     "output_type": "stream",
     "text": [
      "0.19298961136454473\n"
     ]
    }
   ],
   "source": [
    "x = data.loc[:, ['points']]\n",
    "\n",
    "y = data.loc[:, ['price']]\n",
    "\n",
    "reg = LinearRegression().fit(x, y)\n",
    "print(reg.score(x,y))\n",
    "\n",
    "predict = reg.predict(x)"
   ]
  },
  {
   "cell_type": "code",
   "execution_count": 4,
   "metadata": {},
   "outputs": [
    {
     "data": {
      "image/png": "[encoded data removed]",
      "text/plain": [
       "<Figure size 432x288 with 1 Axes>"
      ]
     },
     "metadata": {},
     "output_type": "display_data"
    }
   ],
   "source": [
    "plt.scatter(x, y)  \n",
    "plt.plot(x,predict,color = 'red')\n",
    "plt.show()"
   ]
  },
  {
   "cell_type": "markdown",
   "metadata": {},
   "source": [
    "From this linear regression, we can see that there is a slight correlation between the price of the wine and its rating. The low R^2 value shows that this linear regression is not so good though. "
   ]
  },
  {
   "cell_type": "markdown",
   "metadata": {},
   "source": [
    "Run linear regression on the wine's vintage to price to see if there is any correlation"
   ]
  },
  {
   "cell_type": "code",
   "execution_count": 5,
   "metadata": {},
   "outputs": [
    {
     "name": "stdout",
     "output_type": "stream",
     "text": [
      "0.0002509334927570661\n"
     ]
    },
    {
     "data": {
      "image/png": "[encoded data removed]",
      "text/plain": [
       "<Figure size 432x288 with 1 Axes>"
      ]
     },
     "metadata": {},
     "output_type": "display_data"
    }
   ],
   "source": [
    "x = data.loc[:, ['vintage']]\n",
    "y = data.loc[:, ['price']]\n",
    "\n",
    "reg = LinearRegression().fit(x, y)\n",
    "print(reg.score(x,y))\n",
    "\n",
    "predict = reg.predict(x)\n",
    "\n",
    "plt.scatter(x, y)  \n",
    "plt.plot(x,predict,color = 'red')\n",
    "plt.show()"
   ]
  },
  {
   "cell_type": "code",
   "execution_count": 8,
   "metadata": {},
   "outputs": [
    {
     "name": "stdout",
     "output_type": "stream",
     "text": [
      "0.031022698407894955\n"
     ]
    },
    {
     "data": {
      "image/png": "[encoded data removed]",
      "text/plain": [
       "<Figure size 432x288 with 1 Axes>"
      ]
     },
     "metadata": {},
     "output_type": "display_data"
    }
   ],
   "source": [
    "x = data.loc[:, ['vintage']]\n",
    "y = data.loc[:, ['points']]\n",
    "\n",
    "reg = LinearRegression().fit(x, y)\n",
    "print(reg.score(x,y))\n",
    "\n",
    "predict = reg.predict(x)\n",
    "\n",
    "plt.scatter(x, y)  \n",
    "plt.plot(x,predict,color = 'red')\n",
    "plt.show()"
   ]
  },
  {
   "cell_type": "markdown",
   "metadata": {},
   "source": [
    "Here, the linear regressions between the vintage and the price of the wine and vintage and the rating of the wine show no correlation."
   ]
  },
  {
   "cell_type": "code",
   "execution_count": 14,
   "metadata": {},
   "outputs": [
    {
     "name": "stdout",
     "output_type": "stream",
     "text": [
      "0.22652056198505477\n"
     ]
    },
    {
     "data": {
      "image/png": "[encoded data removed]",
      "text/plain": [
       "<Figure size 432x288 with 1 Axes>"
      ]
     },
     "metadata": {},
     "output_type": "display_data"
    }
   ],
   "source": [
    "x = data.loc[:, ['vintage', 'price']]\n",
    "y = data.loc[:, ['points']]\n",
    "\n",
    "reg = LinearRegression().fit(x, y)\n",
    "print(reg.score(x,y))\n",
    "\n",
    "predict = reg.predict(x)\n",
    "\n",
    "plt.scatter(x.iloc[:,1], y)  \n",
    "plt.plot(x.iloc[:,1],predict,color = 'red')\n",
    "plt.show()"
   ]
  },
  {
   "cell_type": "markdown",
   "metadata": {},
   "source": [
    "Here, we try to run linear regression on 2 input features, and get a decent correlation between the vintage and price  to the ratings of the wine."
   ]
  },
  {
   "cell_type": "markdown",
   "metadata": {},
   "source": [
    "run linear regression on normalized values"
   ]
  },
  {
   "cell_type": "code",
   "execution_count": 6,
   "metadata": {},
   "outputs": [],
   "source": [
    "# Normalizing province id between 1 and 0 \n",
    "data['norm_vintage'] = abs((data.vintage - data.vintage.min()) / (data.vintage.max()))\n",
    "# Normalizing price between 1 and 0 \n",
    "data['norm_price'] = abs((data.price - data.price.min()) / (data.price.max()))\n",
    "# Normalizing points(rating) between 1 and 0 \n",
    "data['norm_points'] = abs((data.points - data.points.min()) / (data.points.max()))"
   ]
  },
  {
   "cell_type": "code",
   "execution_count": 7,
   "metadata": {},
   "outputs": [
    {
     "name": "stdout",
     "output_type": "stream",
     "text": [
      "0.0002509334927570661\n"
     ]
    },
    {
     "data": {
      "image/png": "[encoded data removed]",
      "text/plain": [
       "<Figure size 432x288 with 1 Axes>"
      ]
     },
     "metadata": {},
     "output_type": "display_data"
    }
   ],
   "source": [
    "x = data.loc[:, ['norm_vintage']]\n",
    "y = data.loc[:, ['norm_price']]\n",
    "\n",
    "reg = LinearRegression().fit(x, y)\n",
    "print(reg.score(x,y))\n",
    "\n",
    "predict = reg.predict(x)\n",
    "\n",
    "plt.scatter(x, y)  \n",
    "plt.plot(x,predict,color = 'red')\n",
    "plt.show()"
   ]
  },
  {
   "cell_type": "code",
   "execution_count": 19,
   "metadata": {},
   "outputs": [],
   "source": [
    "import pandas as pd\n",
    "df_fire = pd.read_csv('../data/filtered_fire_data.csv', sep=',')"
   ]
  },
  {
   "cell_type": "code",
   "execution_count": 38,
   "metadata": {},
   "outputs": [
    {
     "data": {
      "text/plain": [
       "0"
      ]
     },
     "execution_count": 38,
     "metadata": {},
     "output_type": "execute_result"
    }
   ],
   "source": [
    "# Data cleaning for fire data set\n",
    "df_fire.LATITUDE.dropna(inplace=True)\n",
    "df_fire.LONGITUDE.dropna(inplace=True)\n",
    "df_fire.FIRE_SIZE.dropna(inplace=True)\n",
    "df_fire.FIRE_YEAR.dropna(inplace=True)\n",
    "\n",
    "df_fire.LATITUDE.isna().sum()\n",
    "df_fire.LONGITUDE.isna().sum()\n",
    "df_fire.FIRE_SIZE.isna().sum()\n",
    "df_fire.FIRE_YEAR.isna().sum()\n"
   ]
  },
  {
   "cell_type": "code",
   "execution_count": 64,
   "metadata": {},
   "outputs": [],
   "source": [
    "df_fire.to_csv('../data/clean_fire.csv')"
   ]
  },
  {
   "cell_type": "code",
   "execution_count": 63,
   "metadata": {},
   "outputs": [
    {
     "data": {
      "text/plain": [
       "189550"
      ]
     },
     "execution_count": 63,
     "metadata": {},
     "output_type": "execute_result"
    }
   ],
   "source": [
    "len(df_fire.LATITUDE[1]\n"
   ]
  },
  {
   "cell_type": "code",
   "execution_count": null,
   "metadata": {},
   "outputs": [],
   "source": [
    "lat"
   ]
  },
  {
   "cell_type": "code",
   "execution_count": null,
   "metadata": {},
   "outputs": [],
   "source": []
  }
 ],
 "metadata": {
  "kernelspec": {
   "display_name": "Python 3",
   "language": "python",
   "name": "python3"
  },
  "language_info": {
   "codemirror_mode": {
    "name": "ipython",
    "version": 3
   },
   "file_extension": ".py",
   "mimetype": "text/x-python",
   "name": "python",
   "nbconvert_exporter": "python",
   "pygments_lexer": "ipython3",
   "version": "3.6.5"
  }
 },
 "nbformat": 4,
 "nbformat_minor": 2
}
