{
 "cells": [
  {
   "cell_type": "markdown",
   "metadata": {},
   "source": [
    "# Wine Clustering"
   ]
  },
  {
   "cell_type": "markdown",
   "metadata": {},
   "source": [
    "As a new business, we only have a certain amount of grapes to produce new wine. Using this data set, we would like to know what types of wines were rated best (and with a good price) in specific areas. From the new information we gather, we want to predict the cost of the new wine that would be on the market based on the price of similar types of wine.\n",
    "\n",
    "\n",
    "As a consumer new to drinking wine, we want to know what types of wine were rated best for a given province and year. That way, when we are looking at bottles of wines in stores, we would know whether a specific bottle had high ratings. \n"
   ]
  },
  {
   "cell_type": "code",
   "execution_count": 1,
   "metadata": {},
   "outputs": [],
   "source": [
    "import pandas as pd\n",
    "import numpy as np\n",
    "import pylab as pl\n",
    "\n",
    "from sklearn.cluster import KMeans\n",
    "from sklearn.cluster import AgglomerativeClustering\n",
    "from sklearn import mixture\n",
    "\n",
    "import matplotlib.pyplot as plt\n",
    "from scipy.spatial.distance import cdist\n",
    "import warnings\n",
    "%matplotlib inline"
   ]
  },
  {
   "cell_type": "code",
   "execution_count": 2,
   "metadata": {},
   "outputs": [
    {
     "name": "stdout",
     "output_type": "stream",
     "text": [
      "(116591, 17)\n"
     ]
    },
    {
     "data": {
      "text/html": [
       "<div>\n",
       "<style scoped>\n",
       "    .dataframe tbody tr th:only-of-type {\n",
       "        vertical-align: middle;\n",
       "    }\n",
       "\n",
       "    .dataframe tbody tr th {\n",
       "        vertical-align: top;\n",
       "    }\n",
       "\n",
       "    .dataframe thead th {\n",
       "        text-align: right;\n",
       "    }\n",
       "</style>\n",
       "<table border=\"1\" class=\"dataframe\">\n",
       "  <thead>\n",
       "    <tr style=\"text-align: right;\">\n",
       "      <th></th>\n",
       "      <th>Unnamed: 0</th>\n",
       "      <th>country</th>\n",
       "      <th>description</th>\n",
       "      <th>designation</th>\n",
       "      <th>points</th>\n",
       "      <th>price</th>\n",
       "      <th>province</th>\n",
       "      <th>region_1</th>\n",
       "      <th>region_2</th>\n",
       "      <th>taster_name</th>\n",
       "      <th>taster_twitter_handle</th>\n",
       "      <th>title</th>\n",
       "      <th>variety</th>\n",
       "      <th>winery</th>\n",
       "      <th>province_id</th>\n",
       "      <th>variety_numerical</th>\n",
       "      <th>vintage</th>\n",
       "    </tr>\n",
       "  </thead>\n",
       "  <tbody>\n",
       "    <tr>\n",
       "      <th>1</th>\n",
       "      <td>1</td>\n",
       "      <td>Portugal</td>\n",
       "      <td>This is ripe and fruity, a wine that is smooth...</td>\n",
       "      <td>Avidagos</td>\n",
       "      <td>87</td>\n",
       "      <td>15.0</td>\n",
       "      <td>Douro</td>\n",
       "      <td>NaN</td>\n",
       "      <td>NaN</td>\n",
       "      <td>Roger Voss</td>\n",
       "      <td>@vossroger</td>\n",
       "      <td>Quinta dos Avidagos 2011 Avidagos Red (Douro)</td>\n",
       "      <td>Portuguese Red</td>\n",
       "      <td>Quinta dos Avidagos</td>\n",
       "      <td>1</td>\n",
       "      <td>450</td>\n",
       "      <td>2011</td>\n",
       "    </tr>\n",
       "    <tr>\n",
       "      <th>2</th>\n",
       "      <td>2</td>\n",
       "      <td>US</td>\n",
       "      <td>Tart and snappy, the flavors of lime flesh and...</td>\n",
       "      <td>NaN</td>\n",
       "      <td>87</td>\n",
       "      <td>14.0</td>\n",
       "      <td>Oregon</td>\n",
       "      <td>Willamette Valley</td>\n",
       "      <td>Willamette Valley</td>\n",
       "      <td>Paul Gregutt</td>\n",
       "      <td>@paulgwine</td>\n",
       "      <td>Rainstorm 2013 Pinot Gris (Willamette Valley)</td>\n",
       "      <td>Pinot Gris</td>\n",
       "      <td>Rainstorm</td>\n",
       "      <td>2</td>\n",
       "      <td>436</td>\n",
       "      <td>2013</td>\n",
       "    </tr>\n",
       "    <tr>\n",
       "      <th>3</th>\n",
       "      <td>3</td>\n",
       "      <td>US</td>\n",
       "      <td>Pineapple rind, lemon pith and orange blossom ...</td>\n",
       "      <td>Reserve Late Harvest</td>\n",
       "      <td>87</td>\n",
       "      <td>13.0</td>\n",
       "      <td>Michigan</td>\n",
       "      <td>Lake Michigan Shore</td>\n",
       "      <td>NaN</td>\n",
       "      <td>Alexander Peartree</td>\n",
       "      <td>NaN</td>\n",
       "      <td>St. Julian 2013 Reserve Late Harvest Riesling ...</td>\n",
       "      <td>Riesling</td>\n",
       "      <td>St. Julian</td>\n",
       "      <td>3</td>\n",
       "      <td>479</td>\n",
       "      <td>2013</td>\n",
       "    </tr>\n",
       "    <tr>\n",
       "      <th>4</th>\n",
       "      <td>4</td>\n",
       "      <td>US</td>\n",
       "      <td>Much like the regular bottling from 2012, this...</td>\n",
       "      <td>Vintner's Reserve Wild Child Block</td>\n",
       "      <td>87</td>\n",
       "      <td>65.0</td>\n",
       "      <td>Oregon</td>\n",
       "      <td>Willamette Valley</td>\n",
       "      <td>Willamette Valley</td>\n",
       "      <td>Paul Gregutt</td>\n",
       "      <td>@paulgwine</td>\n",
       "      <td>Sweet Cheeks 2012 Vintner's Reserve Wild Child...</td>\n",
       "      <td>Pinot Noir</td>\n",
       "      <td>Sweet Cheeks</td>\n",
       "      <td>2</td>\n",
       "      <td>440</td>\n",
       "      <td>2012</td>\n",
       "    </tr>\n",
       "    <tr>\n",
       "      <th>5</th>\n",
       "      <td>5</td>\n",
       "      <td>Spain</td>\n",
       "      <td>Blackberry and raspberry aromas show a typical...</td>\n",
       "      <td>Ars In Vitro</td>\n",
       "      <td>87</td>\n",
       "      <td>15.0</td>\n",
       "      <td>Northern Spain</td>\n",
       "      <td>Navarra</td>\n",
       "      <td>NaN</td>\n",
       "      <td>Michael Schachner</td>\n",
       "      <td>@wineschach</td>\n",
       "      <td>Tandem 2011 Ars In Vitro Tempranillo-Merlot (N...</td>\n",
       "      <td>Tempranillo-Merlot</td>\n",
       "      <td>Tandem</td>\n",
       "      <td>4</td>\n",
       "      <td>590</td>\n",
       "      <td>2011</td>\n",
       "    </tr>\n",
       "  </tbody>\n",
       "</table>\n",
       "</div>"
      ],
      "text/plain": [
       "   Unnamed: 0   country                                        description  \\\n",
       "1           1  Portugal  This is ripe and fruity, a wine that is smooth...   \n",
       "2           2        US  Tart and snappy, the flavors of lime flesh and...   \n",
       "3           3        US  Pineapple rind, lemon pith and orange blossom ...   \n",
       "4           4        US  Much like the regular bottling from 2012, this...   \n",
       "5           5     Spain  Blackberry and raspberry aromas show a typical...   \n",
       "\n",
       "                          designation  points  price        province  \\\n",
       "1                            Avidagos      87   15.0           Douro   \n",
       "2                                 NaN      87   14.0          Oregon   \n",
       "3                Reserve Late Harvest      87   13.0        Michigan   \n",
       "4  Vintner's Reserve Wild Child Block      87   65.0          Oregon   \n",
       "5                        Ars In Vitro      87   15.0  Northern Spain   \n",
       "\n",
       "              region_1           region_2         taster_name  \\\n",
       "1                  NaN                NaN          Roger Voss   \n",
       "2    Willamette Valley  Willamette Valley        Paul Gregutt   \n",
       "3  Lake Michigan Shore                NaN  Alexander Peartree   \n",
       "4    Willamette Valley  Willamette Valley        Paul Gregutt   \n",
       "5              Navarra                NaN   Michael Schachner   \n",
       "\n",
       "  taster_twitter_handle                                              title  \\\n",
       "1            @vossroger      Quinta dos Avidagos 2011 Avidagos Red (Douro)   \n",
       "2           @paulgwine       Rainstorm 2013 Pinot Gris (Willamette Valley)   \n",
       "3                   NaN  St. Julian 2013 Reserve Late Harvest Riesling ...   \n",
       "4           @paulgwine   Sweet Cheeks 2012 Vintner's Reserve Wild Child...   \n",
       "5           @wineschach  Tandem 2011 Ars In Vitro Tempranillo-Merlot (N...   \n",
       "\n",
       "              variety               winery  province_id  variety_numerical  \\\n",
       "1      Portuguese Red  Quinta dos Avidagos            1                450   \n",
       "2          Pinot Gris            Rainstorm            2                436   \n",
       "3            Riesling           St. Julian            3                479   \n",
       "4          Pinot Noir         Sweet Cheeks            2                440   \n",
       "5  Tempranillo-Merlot               Tandem            4                590   \n",
       "\n",
       "   vintage  \n",
       "1     2011  \n",
       "2     2013  \n",
       "3     2013  \n",
       "4     2012  \n",
       "5     2011  "
      ]
     },
     "execution_count": 2,
     "metadata": {},
     "output_type": "execute_result"
    }
   ],
   "source": [
    "# Load the cleaned data into dataframe\n",
    "\n",
    "\"\"\" \n",
    "    Information of cleaned dataset:\n",
    "    \n",
    "    - Province and Variety of wine is transfomed from a categorical attribute to numerical attribute\n",
    "    - Vintage of wine is extracted from the title of each wine\n",
    "    - Rows were removed if there were null values present within each of the three attributes (Province, Variety, Vintage)\n",
    "    - Dataset size was reduced from 125,000 rows to 22,000 rows\n",
    "    \n",
    "\"\"\"\n",
    "warnings.simplefilter('ignore')\n",
    "data = pd.read_csv(\"../data/3column_clean.csv\")\n",
    "data.dropna(subset = ['points', 'price'], inplace = True)\n",
    "print(data.shape)\n",
    "data.head()"
   ]
  },
  {
   "cell_type": "code",
   "execution_count": 3,
   "metadata": {},
   "outputs": [],
   "source": [
    "variety_dict = dict()\n",
    "\n",
    "for index, row in data.iterrows():\n",
    "    if row['variety_numerical'] not in variety_dict:\n",
    "        variety_dict[row['variety_numerical']] = row['variety']       "
   ]
  },
  {
   "cell_type": "code",
   "execution_count": 4,
   "metadata": {},
   "outputs": [],
   "source": [
    "province_dict = dict()\n",
    "\n",
    "for index, row in data.iterrows():\n",
    "    if row['province_id'] not in province_dict:\n",
    "        province_dict[row['province_id']] = row['province'] "
   ]
  },
  {
   "cell_type": "code",
   "execution_count": 5,
   "metadata": {},
   "outputs": [],
   "source": [
    "# Helper function to count the number of samples in each cluster\n",
    "\n",
    "def label_count(labels):\n",
    "\n",
    "\tlab_count = dict()\n",
    "\n",
    "\tfor x in labels:\n",
    "\t\tif x in lab_count:\n",
    "\t\t\tlab_count[x] += 1\n",
    "\t\telse:\n",
    "\t\t\tlab_count[x] = 1\n",
    "\n",
    "\tprint(lab_count)\n",
    "\n",
    "\treturn"
   ]
  },
  {
   "cell_type": "code",
   "execution_count": 6,
   "metadata": {},
   "outputs": [],
   "source": [
    "# Helper function to get the top x in col from data from each cluster\n",
    "\n",
    "# example usage: get_top_x_per_cluster(x, 'points', data, labels, n)\n",
    "# x = the top number 'x' from each cluster\n",
    "# col = the column with an attribute about the dataset\n",
    "# data = the dataframe with the entire datset\n",
    "# clusters = the clusters of each point\n",
    "# n = the number of clusters formed using for k-means\n",
    "\n",
    "def get_top_x_per_cluster(x, col, data, clusters, n):\n",
    "    top_lists = [dict() for i in range(n)]\n",
    "    c = 0\n",
    "    \n",
    "    for index, row in data.iterrows():\n",
    "        i = clusters[c]\n",
    "        c += 1\n",
    "        if row[col] in top_lists[i]:\n",
    "            top_lists[i][row[col]] += 1\n",
    "        else:\n",
    "             top_lists[i][row[col]] = 1\n",
    "    \n",
    "    print('\\nTop', x, col, 'in each cluster')\n",
    "    for i in range(n):\n",
    "        print('\\nCluster ', i)\n",
    "        sorted_list = sorted(top_lists[i].items(), key=lambda kv: kv[1])\n",
    "        sorted_list = list(reversed(sorted_list))\n",
    "        for y in range(x):\n",
    "            if(y < len(sorted_list)):\n",
    "                print(sorted_list[y])\n",
    "    return\n",
    "    "
   ]
  },
  {
   "cell_type": "code",
   "execution_count": 7,
   "metadata": {},
   "outputs": [],
   "source": [
    "#helper function to find values after being normalized\n",
    "def unnormalize(x, col, data):\n",
    "    return int(x * data.loc[:,col].max() + data.loc[:,col].min())"
   ]
  },
  {
   "cell_type": "code",
   "execution_count": 8,
   "metadata": {},
   "outputs": [
    {
     "data": {
      "text/html": [
       "<div>\n",
       "<style scoped>\n",
       "    .dataframe tbody tr th:only-of-type {\n",
       "        vertical-align: middle;\n",
       "    }\n",
       "\n",
       "    .dataframe tbody tr th {\n",
       "        vertical-align: top;\n",
       "    }\n",
       "\n",
       "    .dataframe thead th {\n",
       "        text-align: right;\n",
       "    }\n",
       "</style>\n",
       "<table border=\"1\" class=\"dataframe\">\n",
       "  <thead>\n",
       "    <tr style=\"text-align: right;\">\n",
       "      <th></th>\n",
       "      <th>province_id</th>\n",
       "      <th>variety_numerical</th>\n",
       "      <th>vintage</th>\n",
       "    </tr>\n",
       "  </thead>\n",
       "  <tbody>\n",
       "    <tr>\n",
       "      <th>1</th>\n",
       "      <td>1</td>\n",
       "      <td>450</td>\n",
       "      <td>2011</td>\n",
       "    </tr>\n",
       "    <tr>\n",
       "      <th>2</th>\n",
       "      <td>2</td>\n",
       "      <td>436</td>\n",
       "      <td>2013</td>\n",
       "    </tr>\n",
       "    <tr>\n",
       "      <th>3</th>\n",
       "      <td>3</td>\n",
       "      <td>479</td>\n",
       "      <td>2013</td>\n",
       "    </tr>\n",
       "    <tr>\n",
       "      <th>4</th>\n",
       "      <td>2</td>\n",
       "      <td>440</td>\n",
       "      <td>2012</td>\n",
       "    </tr>\n",
       "    <tr>\n",
       "      <th>5</th>\n",
       "      <td>4</td>\n",
       "      <td>590</td>\n",
       "      <td>2011</td>\n",
       "    </tr>\n",
       "  </tbody>\n",
       "</table>\n",
       "</div>"
      ],
      "text/plain": [
       "   province_id  variety_numerical  vintage\n",
       "1            1                450     2011\n",
       "2            2                436     2013\n",
       "3            3                479     2013\n",
       "4            2                440     2012\n",
       "5            4                590     2011"
      ]
     },
     "execution_count": 8,
     "metadata": {},
     "output_type": "execute_result"
    }
   ],
   "source": [
    "# Extract data for clustering and analysis \n",
    "\n",
    "clustering_data = data.loc[:,['province_id','variety_numerical','vintage']]\n",
    "clustering_data.head()"
   ]
  },
  {
   "cell_type": "code",
   "execution_count": 9,
   "metadata": {},
   "outputs": [
    {
     "name": "stdout",
     "output_type": "stream",
     "text": [
      "\n",
      "\n",
      "Clusters:\n",
      "{0: 9998, 1: 28094, 2: 10, 3: 5899, 4: 175, 5: 21055, 6: 28076, 7: 23284}\n"
     ]
    }
   ],
   "source": [
    "# Set n=8 for GMM\n",
    "# n is taken from elbow method when applying k-means clustering\n",
    "n = 8\n",
    "\n",
    "gmm = mixture.GaussianMixture(n_components=n, random_state = 0).fit(clustering_data)\n",
    "labels = gmm.predict(clustering_data)\n",
    "\n",
    "print(\"\\n\\nClusters:\")\n",
    "label_count(labels)\n",
    "#data.loc[:,['province_id','variety_numerical','vintage']]\n"
   ]
  },
  {
   "cell_type": "code",
   "execution_count": 10,
   "metadata": {},
   "outputs": [
    {
     "data": {
      "image/png": "[encoded data removed]",
      "text/plain": [
       "<Figure size 432x288 with 1 Axes>"
      ]
     },
     "metadata": {
      "needs_background": "light"
     },
     "output_type": "display_data"
    }
   ],
   "source": [
    "# Plot for the original 1st pass of GMM clustering using raw data\n",
    "\n",
    "plt.scatter(data.loc[:,'province_id'], data.loc[:,'variety_numerical'], c=labels, cmap='rainbow')    \n",
    "plt.show()"
   ]
  },
  {
   "cell_type": "code",
   "execution_count": 11,
   "metadata": {},
   "outputs": [
    {
     "name": "stdout",
     "output_type": "stream",
     "text": [
      "('\\nTop', 3, 'province', 'in each cluster')\n",
      "('\\nCluster ', 0)\n",
      "('Loire Valley', 639)\n",
      "('Nieder\\xc3\\xb6sterreich', 327)\n",
      "('Levante', 305)\n",
      "('\\nCluster ', 1)\n",
      "('California', 4197)\n",
      "('Piedmont', 2959)\n",
      "('Burgundy', 2506)\n",
      "('\\nCluster ', 2)\n",
      "('California', 10)\n",
      "('\\nCluster ', 3)\n",
      "('California', 3253)\n",
      "('Northern Spain', 393)\n",
      "('Washington', 334)\n",
      "('\\nCluster ', 4)\n",
      "('Port', 24)\n",
      "('Tuscany', 22)\n",
      "('California', 17)\n",
      "('\\nCluster ', 5)\n",
      "('California', 12718)\n",
      "('Oregon', 3659)\n",
      "('Alsace', 1285)\n",
      "('\\nCluster ', 6)\n",
      "('Tuscany', 3952)\n",
      "('Washington', 2882)\n",
      "('California', 2664)\n",
      "('\\nCluster ', 7)\n",
      "('California', 12576)\n",
      "('Bordeaux', 3677)\n",
      "('Washington', 3057)\n",
      "('\\nTop', 3, 'variety', 'in each cluster')\n",
      "('\\nCluster ', 0)\n",
      "('Gr\\xc3\\xbcner Veltliner', 992)\n",
      "('Chardonnay', 869)\n",
      "('Cabernet Sauvignon', 527)\n",
      "('\\nCluster ', 1)\n",
      "('Chardonnay', 3064)\n",
      "('Merlot', 2810)\n",
      "('Malbec', 2521)\n",
      "('\\nCluster ', 2)\n",
      "('Cabernet Sauvignon', 6)\n",
      "('Bordeaux-style Red Blend', 3)\n",
      "('Sauvignon Blanc', 1)\n",
      "('\\nCluster ', 3)\n",
      "('Zinfandel', 2507)\n",
      "('White Blend', 1586)\n",
      "('Viognier', 830)\n",
      "('\\nCluster ', 4)\n",
      "('Port', 24)\n",
      "('Champagne Blend', 17)\n",
      "('Red Blend', 15)\n",
      "('\\nCluster ', 5)\n",
      "('Pinot Noir', 9586)\n",
      "('Red Blend', 2407)\n",
      "('Riesling', 2320)\n",
      "('\\nCluster ', 6)\n",
      "('Red Blend', 4446)\n",
      "('Syrah', 3474)\n",
      "('Sauvignon Blanc', 2942)\n",
      "('\\nCluster ', 7)\n",
      "('Cabernet Sauvignon', 8318)\n",
      "('Chardonnay', 6873)\n",
      "('Bordeaux-style Red Blend', 4898)\n",
      "('\\nTop', 3, 'vintage', 'in each cluster')\n",
      "('\\nCluster ', 0)\n",
      "(2013, 1210)\n",
      "(2014, 1198)\n",
      "(2015, 1059)\n",
      "('\\nCluster ', 1)\n",
      "(2012, 2929)\n",
      "(2013, 2747)\n",
      "(2011, 2600)\n",
      "('\\nCluster ', 2)\n",
      "(7200, 10)\n",
      "('\\nCluster ', 3)\n",
      "(2013, 856)\n",
      "(2014, 779)\n",
      "(2012, 737)\n",
      "('\\nCluster ', 4)\n",
      "(1898, 19)\n",
      "(1996, 11)\n",
      "(1992, 8)\n",
      "('\\nCluster ', 5)\n",
      "(2014, 3651)\n",
      "(2013, 3501)\n",
      "(2012, 3228)\n",
      "('\\nCluster ', 6)\n",
      "(2014, 3646)\n",
      "(2013, 3593)\n",
      "(2012, 3591)\n",
      "('\\nCluster ', 7)\n",
      "(2013, 3239)\n",
      "(2012, 3196)\n",
      "(2014, 3031)\n"
     ]
    }
   ],
   "source": [
    "# Get top 3 province ids from each cluster formed\n",
    "get_top_x_per_cluster(3, 'province', data, labels, n)\n",
    "\n",
    "# Get top 3 varieties from each cluster formed\n",
    "get_top_x_per_cluster(3, 'variety', data, labels, n)\n",
    "\n",
    "# Get top 3 vintage from each cluster formed\n",
    "get_top_x_per_cluster(3, 'vintage', data, labels, n)"
   ]
  },
  {
   "cell_type": "markdown",
   "metadata": {},
   "source": [
    "# Analysis - Applying GMM without Data Normalization"
   ]
  },
  {
   "cell_type": "markdown",
   "metadata": {},
   "source": [
    "We applied the GMM algorithm based on the province, variety and vintage of each wine without normalizing the dataset (province, variety, vintage). Within the top clusters for province, the resulting clusters returned California in 7 out of 8 of these clusters. This is because California is the most popular province in this dataset with 36247 entries, approximately 28% of our dataset. In addition, we also see that several vintages were spread across different clusters because there was only a few different vintages compared to the amount of samples. For example, wines with vintage of 2013 were in 6 out of 8 of the clusters. The clusters formed based on the top varieties did have different types of wines within each of the clusters. \n",
    "\n",
    "The scatter plot with n=8 using the GMM algorithm shows that there are some provinces with many different types of wines. It also showed that outside some of the smaller clusters formed, the biggest cluster had all different types of wines coming from many different provinces. This is representative of what is seen from the clusters because the dataset had more data than other provinces."
   ]
  },
  {
   "cell_type": "code",
   "execution_count": 12,
   "metadata": {},
   "outputs": [],
   "source": [
    "# Normalizing province id between 1 and 0 \n",
    "data['norm_province_id'] = abs((data.province_id - data.province_id.min()) / (data.province_id.max()))"
   ]
  },
  {
   "cell_type": "code",
   "execution_count": 13,
   "metadata": {},
   "outputs": [],
   "source": [
    "# Normalizing variety (numerical) between 1 and 0 \n",
    "data['norm_variety_numerical'] = abs((data.variety_numerical - data.variety_numerical.min()) / (data.variety_numerical.max()))"
   ]
  },
  {
   "cell_type": "code",
   "execution_count": 14,
   "metadata": {},
   "outputs": [],
   "source": [
    "# Normalizing province id between 1 and 0 \n",
    "data['norm_vintage'] = abs((data.vintage - data.vintage.min()) / (data.vintage.max()))"
   ]
  },
  {
   "cell_type": "code",
   "execution_count": 15,
   "metadata": {},
   "outputs": [],
   "source": [
    "# Normalizing price between 1 and 0 \n",
    "data['norm_price'] = abs((data.price - data.price.min()) / (data.price.max()))"
   ]
  },
  {
   "cell_type": "code",
   "execution_count": 16,
   "metadata": {},
   "outputs": [],
   "source": [
    "# Normalizing points(rating) between 1 and 0 \n",
    "data['norm_points'] = abs((data.points - data.points.min()) / (data.points.max()))"
   ]
  },
  {
   "cell_type": "code",
   "execution_count": 17,
   "metadata": {},
   "outputs": [
    {
     "data": {
      "text/html": [
       "<div>\n",
       "<style scoped>\n",
       "    .dataframe tbody tr th:only-of-type {\n",
       "        vertical-align: middle;\n",
       "    }\n",
       "\n",
       "    .dataframe tbody tr th {\n",
       "        vertical-align: top;\n",
       "    }\n",
       "\n",
       "    .dataframe thead th {\n",
       "        text-align: right;\n",
       "    }\n",
       "</style>\n",
       "<table border=\"1\" class=\"dataframe\">\n",
       "  <thead>\n",
       "    <tr style=\"text-align: right;\">\n",
       "      <th></th>\n",
       "      <th>norm_province_id</th>\n",
       "      <th>norm_variety_numerical</th>\n",
       "    </tr>\n",
       "  </thead>\n",
       "  <tbody>\n",
       "    <tr>\n",
       "      <th>1</th>\n",
       "      <td>0.002353</td>\n",
       "      <td>0.638810</td>\n",
       "    </tr>\n",
       "    <tr>\n",
       "      <th>2</th>\n",
       "      <td>0.004706</td>\n",
       "      <td>0.618980</td>\n",
       "    </tr>\n",
       "    <tr>\n",
       "      <th>3</th>\n",
       "      <td>0.007059</td>\n",
       "      <td>0.679887</td>\n",
       "    </tr>\n",
       "    <tr>\n",
       "      <th>4</th>\n",
       "      <td>0.004706</td>\n",
       "      <td>0.624646</td>\n",
       "    </tr>\n",
       "    <tr>\n",
       "      <th>5</th>\n",
       "      <td>0.009412</td>\n",
       "      <td>0.837110</td>\n",
       "    </tr>\n",
       "  </tbody>\n",
       "</table>\n",
       "</div>"
      ],
      "text/plain": [
       "   norm_province_id  norm_variety_numerical\n",
       "1          0.002353                0.638810\n",
       "2          0.004706                0.618980\n",
       "3          0.007059                0.679887\n",
       "4          0.004706                0.624646\n",
       "5          0.009412                0.837110"
      ]
     },
     "execution_count": 17,
     "metadata": {},
     "output_type": "execute_result"
    }
   ],
   "source": [
    "# Gathering normalized data to prepare for clustering\n",
    "# 2nd pass at GMM clustering using the normalized data instead of non normalized data to help with outliers\n",
    "clustering_norm_data = data.loc[:,['norm_province_id','norm_variety_numerical']]\n",
    "clustering_norm_data.head()"
   ]
  },
  {
   "cell_type": "code",
   "execution_count": 18,
   "metadata": {},
   "outputs": [
    {
     "name": "stdout",
     "output_type": "stream",
     "text": [
      "\n",
      "\n",
      "Clusters:\n",
      "{0: 31852, 1: 29715, 2: 33075, 3: 21949}\n"
     ]
    }
   ],
   "source": [
    "# generating the GMM clusters and setting n = 4 based on elbow method from K-means\n",
    "n = 4\n",
    "\n",
    "gmm = mixture.GaussianMixture(n_components=n, random_state = 0).fit(clustering_norm_data)\n",
    "labels = gmm.predict(clustering_norm_data)\n",
    "\n",
    "print(\"\\n\\nClusters:\")\n",
    "label_count(labels)\n",
    "#data.loc[:,['province_id','variety_numerical','vintage']]"
   ]
  },
  {
   "cell_type": "code",
   "execution_count": 19,
   "metadata": {
    "scrolled": true
   },
   "outputs": [
    {
     "data": {
      "image/png": "[encoded data removed]",
      "text/plain": [
       "<Figure size 432x288 with 1 Axes>"
      ]
     },
     "metadata": {
      "needs_background": "light"
     },
     "output_type": "display_data"
    }
   ],
   "source": [
    "# Scatter plot of the normalized k-means clustering of points and price\n",
    "plt.scatter(data.loc[:,'norm_province_id'], data.loc[:,'norm_variety_numerical'], c=labels, cmap='rainbow')    \n",
    "plt.show()"
   ]
  },
  {
   "cell_type": "code",
   "execution_count": 20,
   "metadata": {
    "scrolled": true
   },
   "outputs": [
    {
     "name": "stdout",
     "output_type": "stream",
     "text": [
      "('\\nTop', 3, 'province', 'in each cluster')\n",
      "('\\nCluster ', 0)\n",
      "('Tuscany', 4584)\n",
      "('Oregon', 3833)\n",
      "('Washington', 3731)\n",
      "('\\nCluster ', 1)\n",
      "('California', 12752)\n",
      "('Bordeaux', 3678)\n",
      "('Washington', 3168)\n",
      "('\\nCluster ', 2)\n",
      "('California', 22683)\n",
      "('Northern Spain', 3700)\n",
      "('Mendoza Province', 1919)\n",
      "('\\nCluster ', 3)\n",
      "('Washington', 1610)\n",
      "('Loire Valley', 1536)\n",
      "('Veneto', 1126)\n",
      "('\\nTop', 3, 'variety', 'in each cluster')\n",
      "('\\nCluster ', 0)\n",
      "('Red Blend', 5634)\n",
      "('Pinot Noir', 4790)\n",
      "('Ros\\xc3\\xa9', 2231)\n",
      "('\\nCluster ', 1)\n",
      "('Chardonnay', 9490)\n",
      "('Cabernet Sauvignon', 8641)\n",
      "('Bordeaux-style Red Blend', 5041)\n",
      "('\\nCluster ', 2)\n",
      "('Pinot Noir', 7079)\n",
      "('Zinfandel', 2623)\n",
      "('Syrah', 2109)\n",
      "('\\nCluster ', 3)\n",
      "('Merlot', 1506)\n",
      "('Chardonnay', 1319)\n",
      "('White Blend', 1316)\n",
      "('\\nTop', 3, 'vintage', 'in each cluster')\n",
      "('\\nCluster ', 0)\n",
      "(2012, 4068)\n",
      "(2014, 3867)\n",
      "(2013, 3844)\n",
      "('\\nCluster ', 1)\n",
      "(2014, 3991)\n",
      "(2013, 3952)\n",
      "(2012, 3770)\n",
      "('\\nCluster ', 2)\n",
      "(2013, 4862)\n",
      "(2012, 4475)\n",
      "(2014, 4194)\n",
      "('\\nCluster ', 3)\n",
      "(2014, 2794)\n",
      "(2013, 2488)\n",
      "(2015, 2396)\n"
     ]
    }
   ],
   "source": [
    "# Get top 3 province ids from each cluster formed\n",
    "get_top_x_per_cluster(3, 'province', data, labels, n)\n",
    "\n",
    "# Get top 3 varieties from each cluster formed\n",
    "get_top_x_per_cluster(3, 'variety', data, labels, n)\n",
    "\n",
    "# Get top 3 vintage from each cluster formed\n",
    "get_top_x_per_cluster(3, 'vintage', data, labels, n)"
   ]
  },
  {
   "cell_type": "markdown",
   "metadata": {},
   "source": [
    "# Analysis - GMM with Normalized Data"
   ]
  },
  {
   "cell_type": "markdown",
   "metadata": {},
   "source": [
    "After applying the GMM algorithm with k=4 (from the elbow method with k-means) and our normalized dataset, the scatter plot shows that more distinct clusters were formed. It shows that certain provinces countained more specific varieties of wine. Similar to the scatter plot utilizing GMM on our unnormalized data, the plot also shows that there are still some specific provinces producing a larger varitety of wine. Even after using the normalized dataset to apply GMM, the cluster analysis still shows the same provinces in different clusters and the same vintages spread across different clusters. Although the data has been normalized, the volume of specific provinces (such as Washington and California) do not change."
   ]
  },
  {
   "cell_type": "code",
   "execution_count": 21,
   "metadata": {},
   "outputs": [
    {
     "name": "stdout",
     "output_type": "stream",
     "text": [
      "(10808, 22)\n"
     ]
    },
    {
     "data": {
      "text/html": [
       "<div>\n",
       "<style scoped>\n",
       "    .dataframe tbody tr th:only-of-type {\n",
       "        vertical-align: middle;\n",
       "    }\n",
       "\n",
       "    .dataframe tbody tr th {\n",
       "        vertical-align: top;\n",
       "    }\n",
       "\n",
       "    .dataframe thead th {\n",
       "        text-align: right;\n",
       "    }\n",
       "</style>\n",
       "<table border=\"1\" class=\"dataframe\">\n",
       "  <thead>\n",
       "    <tr style=\"text-align: right;\">\n",
       "      <th></th>\n",
       "      <th>norm_vintage</th>\n",
       "      <th>norm_points</th>\n",
       "      <th>norm_price</th>\n",
       "    </tr>\n",
       "  </thead>\n",
       "  <tbody>\n",
       "    <tr>\n",
       "      <th>14</th>\n",
       "      <td>0.119722</td>\n",
       "      <td>0.07</td>\n",
       "      <td>0.002424</td>\n",
       "    </tr>\n",
       "    <tr>\n",
       "      <th>55</th>\n",
       "      <td>0.119444</td>\n",
       "      <td>0.05</td>\n",
       "      <td>0.007879</td>\n",
       "    </tr>\n",
       "    <tr>\n",
       "      <th>56</th>\n",
       "      <td>0.119444</td>\n",
       "      <td>0.05</td>\n",
       "      <td>0.003030</td>\n",
       "    </tr>\n",
       "    <tr>\n",
       "      <th>64</th>\n",
       "      <td>0.120139</td>\n",
       "      <td>0.06</td>\n",
       "      <td>0.006061</td>\n",
       "    </tr>\n",
       "    <tr>\n",
       "      <th>65</th>\n",
       "      <td>0.120139</td>\n",
       "      <td>0.06</td>\n",
       "      <td>0.003333</td>\n",
       "    </tr>\n",
       "  </tbody>\n",
       "</table>\n",
       "</div>"
      ],
      "text/plain": [
       "    norm_vintage  norm_points  norm_price\n",
       "14      0.119722         0.07    0.002424\n",
       "55      0.119444         0.05    0.007879\n",
       "56      0.119444         0.05    0.003030\n",
       "64      0.120139         0.06    0.006061\n",
       "65      0.120139         0.06    0.003333"
      ]
     },
     "execution_count": 21,
     "metadata": {},
     "output_type": "execute_result"
    }
   ],
   "source": [
    "filtered_data = data.query('variety == \"Chardonnay\"')\n",
    "filtered_data = filtered_data.query('vintage <= 2018 and vintage >= 1900')\n",
    "\n",
    "\n",
    "\n",
    "clustering_norm_data = filtered_data.loc[:,['norm_vintage', 'norm_points', 'norm_price']]\n",
    "print(filtered_data.shape)\n",
    "clustering_norm_data.head()"
   ]
  },
  {
   "cell_type": "code",
   "execution_count": 22,
   "metadata": {},
   "outputs": [
    {
     "name": "stdout",
     "output_type": "stream",
     "text": [
      "\n",
      "\n",
      "Clusters:\n",
      "{0: 3421, 1: 4818, 2: 272, 3: 440, 4: 1857}\n"
     ]
    }
   ],
   "source": [
    "# generating the GMM clusters and setting n = 4 based on elbow method from K-means\n",
    "n = 5\n",
    "\n",
    "gmm = mixture.GaussianMixture(n_components=n, random_state = 0).fit(clustering_norm_data)\n",
    "labels = gmm.predict(clustering_norm_data)\n",
    "\n",
    "print(\"\\n\\nClusters:\")\n",
    "label_count(labels)"
   ]
  },
  {
   "cell_type": "code",
   "execution_count": 23,
   "metadata": {},
   "outputs": [
    {
     "data": {
      "image/png": "[encoded data removed]",
      "text/plain": [
       "<Figure size 432x288 with 1 Axes>"
      ]
     },
     "metadata": {
      "needs_background": "light"
     },
     "output_type": "display_data"
    }
   ],
   "source": [
    "# Scatter plot of the normalized k-means clustering of points and price\n",
    "plt.scatter(filtered_data.loc[:,'norm_province_id'], filtered_data.loc[:,'norm_price'], c=labels, cmap='rainbow')    \n",
    "plt.show()"
   ]
  },
  {
   "cell_type": "code",
   "execution_count": 24,
   "metadata": {},
   "outputs": [
    {
     "name": "stdout",
     "output_type": "stream",
     "text": [
      "('\\nTop', 3, 'price', 'in each cluster')\n",
      "('\\nCluster ', 0)\n",
      "(15.0, 382)\n",
      "(12.0, 308)\n",
      "(10.0, 306)\n",
      "('\\nCluster ', 1)\n",
      "(45.0, 313)\n",
      "(40.0, 306)\n",
      "(30.0, 287)\n",
      "('\\nCluster ', 2)\n",
      "(100.0, 19)\n",
      "(125.0, 14)\n",
      "(115.0, 12)\n",
      "('\\nCluster ', 3)\n",
      "(35.0, 64)\n",
      "(45.0, 53)\n",
      "(30.0, 49)\n",
      "('\\nCluster ', 4)\n",
      "(20.0, 221)\n",
      "(30.0, 203)\n",
      "(25.0, 180)\n",
      "('\\nTop', 3, 'province', 'in each cluster')\n",
      "('\\nCluster ', 0)\n",
      "('California', 1318)\n",
      "('Burgundy', 304)\n",
      "('Washington', 205)\n",
      "('\\nCluster ', 1)\n",
      "('California', 2652)\n",
      "('Burgundy', 877)\n",
      "('Oregon', 316)\n",
      "('\\nCluster ', 2)\n",
      "('Burgundy', 195)\n",
      "('Champagne', 39)\n",
      "('California', 16)\n",
      "('\\nCluster ', 3)\n",
      "('California', 307)\n",
      "('Burgundy', 70)\n",
      "('Oregon', 8)\n",
      "('\\nCluster ', 4)\n",
      "('California', 840)\n",
      "('Burgundy', 338)\n",
      "('Washington', 139)\n"
     ]
    }
   ],
   "source": [
    "# Get top 3 varieties from each cluster formed\n",
    "get_top_x_per_cluster(3, 'price', filtered_data, labels, n)\n",
    "\n",
    "# Get top 3 vintage from each cluster formed\n",
    "get_top_x_per_cluster(3, 'province', filtered_data, labels, n)"
   ]
  },
  {
   "cell_type": "code",
   "execution_count": 25,
   "metadata": {},
   "outputs": [
    {
     "name": "stdout",
     "output_type": "stream",
     "text": [
      "(3043, 22)\n",
      "\n",
      "\n",
      "Clusters:\n",
      "{0: 1189, 1: 811, 2: 194, 3: 820, 4: 29}\n"
     ]
    },
    {
     "data": {
      "image/png": "[encoded data removed]",
      "text/plain": [
       "<Figure size 432x288 with 1 Axes>"
      ]
     },
     "metadata": {
      "needs_background": "light"
     },
     "output_type": "display_data"
    }
   ],
   "source": [
    "filtered_data = data.query('variety == \"Merlot\"')\n",
    "filtered_data = filtered_data.query('vintage <= 2018 and vintage >= 1900')\n",
    "\n",
    "\n",
    "\n",
    "clustering_norm_data = filtered_data.loc[:,['norm_vintage', 'norm_points', 'norm_price']]\n",
    "print(filtered_data.shape)\n",
    "clustering_norm_data.head()\n",
    "\n",
    "# generating the GMM clusters and setting n = 4 based on elbow method from K-means\n",
    "n = 5\n",
    "\n",
    "gmm = mixture.GaussianMixture(n_components=n, random_state = 0).fit(clustering_norm_data)\n",
    "labels = gmm.predict(clustering_norm_data)\n",
    "\n",
    "print(\"\\n\\nClusters:\")\n",
    "label_count(labels)\n",
    "\n",
    "# Scatter plot of the normalized k-means clustering of points and price\n",
    "plt.scatter(filtered_data.loc[:,'norm_province_id'], filtered_data.loc[:,'norm_price'], c=labels, cmap='rainbow')    \n",
    "plt.show()\n"
   ]
  },
  {
   "cell_type": "code",
   "execution_count": 26,
   "metadata": {},
   "outputs": [
    {
     "name": "stdout",
     "output_type": "stream",
     "text": [
      "('\\nTop', 3, 'price', 'in each cluster')\n",
      "('\\nCluster ', 0)\n",
      "(25.0, 111)\n",
      "(30.0, 103)\n",
      "(20.0, 85)\n",
      "('\\nCluster ', 1)\n",
      "(35.0, 85)\n",
      "(30.0, 56)\n",
      "(40.0, 54)\n",
      "('\\nCluster ', 2)\n",
      "(75.0, 37)\n",
      "(65.0, 24)\n",
      "(50.0, 20)\n",
      "('\\nCluster ', 3)\n",
      "(10.0, 148)\n",
      "(12.0, 113)\n",
      "(15.0, 98)\n",
      "('\\nCluster ', 4)\n",
      "(460.0, 4)\n",
      "(250.0, 2)\n",
      "(120.0, 2)\n",
      "('\\nTop', 3, 'province', 'in each cluster')\n",
      "('\\nCluster ', 0)\n",
      "('California', 550)\n",
      "('Washington', 274)\n",
      "('New York', 71)\n",
      "('\\nCluster ', 1)\n",
      "('California', 349)\n",
      "('Washington', 291)\n",
      "('New York', 38)\n",
      "('\\nCluster ', 2)\n",
      "('California', 118)\n",
      "('Tuscany', 28)\n",
      "('Washington', 24)\n",
      "('\\nCluster ', 3)\n",
      "('California', 361)\n",
      "('Washington', 68)\n",
      "('Maipo Valley', 38)\n",
      "('\\nCluster ', 4)\n",
      "('Tuscany', 23)\n",
      "('Bordeaux', 2)\n",
      "('Southern Italy', 1)\n"
     ]
    }
   ],
   "source": [
    "# Get top 3 varieties from each cluster formed\n",
    "get_top_x_per_cluster(3, 'price', filtered_data, labels, n)\n",
    "\n",
    "# Get top 3 vintage from each cluster formed\n",
    "get_top_x_per_cluster(3, 'province', filtered_data, labels, n)"
   ]
  },
  {
   "cell_type": "markdown",
   "metadata": {},
   "source": [
    "# Analysis - GMM with Filtered Wine Variety "
   ]
  },
  {
   "cell_type": "markdown",
   "metadata": {},
   "source": [
    "We filtered our dataset and applied GMM on both of the datasets separately. We first filtered it by retrieving all the wine review data for Chardonnays (a common white wine) and another to retrieve all the wine review data for Merlots (a common red wine). Both scatter plots representing the data based on province and price showed that there was one particular province that had wine prices ranging from low to high cost. The top 3 provinces in each cluster had California in it, verifying the scatter plot representation of one province having a large range of wine prices."
   ]
  },
  {
   "cell_type": "code",
   "execution_count": 27,
   "metadata": {},
   "outputs": [
    {
     "name": "stdout",
     "output_type": "stream",
     "text": [
      "(81084, 22)\n"
     ]
    },
    {
     "data": {
      "text/html": [
       "<div>\n",
       "<style scoped>\n",
       "    .dataframe tbody tr th:only-of-type {\n",
       "        vertical-align: middle;\n",
       "    }\n",
       "\n",
       "    .dataframe tbody tr th {\n",
       "        vertical-align: top;\n",
       "    }\n",
       "\n",
       "    .dataframe thead th {\n",
       "        text-align: right;\n",
       "    }\n",
       "</style>\n",
       "<table border=\"1\" class=\"dataframe\">\n",
       "  <thead>\n",
       "    <tr style=\"text-align: right;\">\n",
       "      <th></th>\n",
       "      <th>norm_vintage</th>\n",
       "      <th>norm_points</th>\n",
       "      <th>norm_price</th>\n",
       "      <th>norm_province_id</th>\n",
       "    </tr>\n",
       "  </thead>\n",
       "  <tbody>\n",
       "    <tr>\n",
       "      <th>1</th>\n",
       "      <td>0.119583</td>\n",
       "      <td>0.07</td>\n",
       "      <td>0.003333</td>\n",
       "      <td>0.002353</td>\n",
       "    </tr>\n",
       "    <tr>\n",
       "      <th>2</th>\n",
       "      <td>0.119861</td>\n",
       "      <td>0.07</td>\n",
       "      <td>0.003030</td>\n",
       "      <td>0.004706</td>\n",
       "    </tr>\n",
       "    <tr>\n",
       "      <th>3</th>\n",
       "      <td>0.119861</td>\n",
       "      <td>0.07</td>\n",
       "      <td>0.002727</td>\n",
       "      <td>0.007059</td>\n",
       "    </tr>\n",
       "    <tr>\n",
       "      <th>4</th>\n",
       "      <td>0.119722</td>\n",
       "      <td>0.07</td>\n",
       "      <td>0.018485</td>\n",
       "      <td>0.004706</td>\n",
       "    </tr>\n",
       "    <tr>\n",
       "      <th>5</th>\n",
       "      <td>0.119583</td>\n",
       "      <td>0.07</td>\n",
       "      <td>0.003333</td>\n",
       "      <td>0.009412</td>\n",
       "    </tr>\n",
       "  </tbody>\n",
       "</table>\n",
       "</div>"
      ],
      "text/plain": [
       "   norm_vintage  norm_points  norm_price  norm_province_id\n",
       "1      0.119583         0.07    0.003333          0.002353\n",
       "2      0.119861         0.07    0.003030          0.004706\n",
       "3      0.119861         0.07    0.002727          0.007059\n",
       "4      0.119722         0.07    0.018485          0.004706\n",
       "5      0.119583         0.07    0.003333          0.009412"
      ]
     },
     "execution_count": 27,
     "metadata": {},
     "output_type": "execute_result"
    }
   ],
   "source": [
    "filtered_data = data.query('not province == \"California\"')\n",
    "filtered_data = filtered_data.query('vintage <= 2018 and vintage >= 1900')\n",
    "\n",
    "\n",
    "\n",
    "clustering_norm_data = filtered_data.loc[:,['norm_vintage', 'norm_points', 'norm_price', 'norm_province_id']]\n",
    "print(filtered_data.shape)\n",
    "clustering_norm_data.head()\n"
   ]
  },
  {
   "cell_type": "code",
   "execution_count": 28,
   "metadata": {},
   "outputs": [
    {
     "name": "stdout",
     "output_type": "stream",
     "text": [
      "\n",
      "\n",
      "Clusters:\n",
      "{0: 24589, 1: 899, 2: 1866, 3: 48387, 4: 5343}\n"
     ]
    }
   ],
   "source": [
    "# generating the GMM clusters and setting n = 4 based on elbow method from K-means\n",
    "n = 5\n",
    "\n",
    "gmm = mixture.GaussianMixture(n_components=n, random_state = 0).fit(clustering_norm_data)\n",
    "labels = gmm.predict(clustering_norm_data)\n",
    "\n",
    "print(\"\\n\\nClusters:\")\n",
    "label_count(labels)"
   ]
  },
  {
   "cell_type": "code",
   "execution_count": 29,
   "metadata": {},
   "outputs": [
    {
     "data": {
      "image/png": "[encoded data removed]",
      "text/plain": [
       "<Figure size 432x288 with 1 Axes>"
      ]
     },
     "metadata": {
      "needs_background": "light"
     },
     "output_type": "display_data"
    }
   ],
   "source": [
    "# Scatter plot of the normalized k-means clustering of points and price\n",
    "plt.scatter(filtered_data.loc[:,'norm_province_id'], filtered_data.loc[:,'norm_price'], c=labels, cmap='rainbow')    \n",
    "plt.show()"
   ]
  },
  {
   "cell_type": "code",
   "execution_count": 30,
   "metadata": {},
   "outputs": [
    {
     "name": "stdout",
     "output_type": "stream",
     "text": [
      "('\\nTop', 3, 'price', 'in each cluster')\n",
      "('\\nCluster ', 0)\n",
      "(50.0, 1831)\n",
      "(60.0, 1246)\n",
      "(45.0, 1151)\n",
      "('\\nCluster ', 1)\n",
      "(60.0, 67)\n",
      "(70.0, 49)\n",
      "(80.0, 43)\n",
      "('\\nCluster ', 2)\n",
      "(120.0, 166)\n",
      "(150.0, 107)\n",
      "(125.0, 96)\n",
      "('\\nCluster ', 3)\n",
      "(20.0, 3912)\n",
      "(15.0, 3772)\n",
      "(25.0, 3045)\n",
      "('\\nCluster ', 4)\n",
      "(20.0, 439)\n",
      "(15.0, 343)\n",
      "(25.0, 328)\n",
      "('\\nTop', 3, 'province', 'in each cluster')\n",
      "('\\nCluster ', 0)\n",
      "('Tuscany', 1894)\n",
      "('Piedmont', 1726)\n",
      "('Washington', 1656)\n",
      "('\\nCluster ', 1)\n",
      "('Port', 125)\n",
      "('Wachau', 89)\n",
      "('Rh\\xc3\\xb4ne Valley', 48)\n",
      "('\\nCluster ', 2)\n",
      "('Burgundy', 441)\n",
      "('Tuscany', 311)\n",
      "('Piedmont', 227)\n",
      "('\\nCluster ', 3)\n",
      "('Washington', 6804)\n",
      "('Oregon', 3854)\n",
      "('Bordeaux', 3381)\n",
      "('\\nCluster ', 4)\n",
      "('D\\xc3\\xa3o', 275)\n",
      "('Wachau', 215)\n",
      "('Cachapoal Valley', 180)\n"
     ]
    }
   ],
   "source": [
    "# Get top 3 varieties from each cluster formed\n",
    "get_top_x_per_cluster(3, 'price', filtered_data, labels, n)\n",
    "\n",
    "# Get top 3 vintage from each cluster formed\n",
    "get_top_x_per_cluster(3, 'province', filtered_data, labels, n)"
   ]
  },
  {
   "cell_type": "markdown",
   "metadata": {},
   "source": [
    "# Analysis - GMM with Filtered Data without California Wines "
   ]
  },
  {
   "cell_type": "markdown",
   "metadata": {},
   "source": [
    "After applying GMM on a filtered dataset based on specific wine variety, we found that the California wine reviews skewed the data because there are a lot more reviews for California wines than those from other provinces. Therefore, we filtered our dataset to apply GMM on all reviews that were not California wines on the normalized vintage, normalized wine review points, normalized price, and normalized province id. \n",
    "\n",
    "The clusters showed that there is a relationship between price and province. For example, it showed that provinces such as Burgundy, Tuscany, and Piedmont had higher wine prices than some of the other provinces. Without the data of California wines impacting the clusters from the dataset, we gain insight about the relationship between price and province from the rest of our dataset."
   ]
  },
  {
   "cell_type": "code",
   "execution_count": 31,
   "metadata": {},
   "outputs": [
    {
     "data": {
      "text/html": [
       "<div>\n",
       "<style scoped>\n",
       "    .dataframe tbody tr th:only-of-type {\n",
       "        vertical-align: middle;\n",
       "    }\n",
       "\n",
       "    .dataframe tbody tr th {\n",
       "        vertical-align: top;\n",
       "    }\n",
       "\n",
       "    .dataframe thead th {\n",
       "        text-align: right;\n",
       "    }\n",
       "</style>\n",
       "<table border=\"1\" class=\"dataframe\">\n",
       "  <thead>\n",
       "    <tr style=\"text-align: right;\">\n",
       "      <th></th>\n",
       "      <th>points</th>\n",
       "      <th>price</th>\n",
       "    </tr>\n",
       "  </thead>\n",
       "  <tbody>\n",
       "    <tr>\n",
       "      <th>1</th>\n",
       "      <td>87</td>\n",
       "      <td>15.0</td>\n",
       "    </tr>\n",
       "    <tr>\n",
       "      <th>2</th>\n",
       "      <td>87</td>\n",
       "      <td>14.0</td>\n",
       "    </tr>\n",
       "    <tr>\n",
       "      <th>3</th>\n",
       "      <td>87</td>\n",
       "      <td>13.0</td>\n",
       "    </tr>\n",
       "    <tr>\n",
       "      <th>4</th>\n",
       "      <td>87</td>\n",
       "      <td>65.0</td>\n",
       "    </tr>\n",
       "    <tr>\n",
       "      <th>5</th>\n",
       "      <td>87</td>\n",
       "      <td>15.0</td>\n",
       "    </tr>\n",
       "  </tbody>\n",
       "</table>\n",
       "</div>"
      ],
      "text/plain": [
       "   points  price\n",
       "1      87   15.0\n",
       "2      87   14.0\n",
       "3      87   13.0\n",
       "4      87   65.0\n",
       "5      87   15.0"
      ]
     },
     "execution_count": 31,
     "metadata": {},
     "output_type": "execute_result"
    }
   ],
   "source": [
    "# Retrieve Wine Enthusiast Point Rating and Price column from dataset\n",
    "\n",
    "data.dropna(subset=['points','price'],inplace=True)\n",
    "clustering_data = data.loc[:,['points','price']]\n",
    "clustering_data.head()"
   ]
  },
  {
   "cell_type": "code",
   "execution_count": 32,
   "metadata": {},
   "outputs": [
    {
     "data": {
      "text/html": [
       "<div>\n",
       "<style scoped>\n",
       "    .dataframe tbody tr th:only-of-type {\n",
       "        vertical-align: middle;\n",
       "    }\n",
       "\n",
       "    .dataframe tbody tr th {\n",
       "        vertical-align: top;\n",
       "    }\n",
       "\n",
       "    .dataframe thead th {\n",
       "        text-align: right;\n",
       "    }\n",
       "</style>\n",
       "<table border=\"1\" class=\"dataframe\">\n",
       "  <thead>\n",
       "    <tr style=\"text-align: right;\">\n",
       "      <th></th>\n",
       "      <th>norm_price</th>\n",
       "      <th>norm_points</th>\n",
       "    </tr>\n",
       "  </thead>\n",
       "  <tbody>\n",
       "    <tr>\n",
       "      <th>1</th>\n",
       "      <td>0.003333</td>\n",
       "      <td>0.07</td>\n",
       "    </tr>\n",
       "    <tr>\n",
       "      <th>2</th>\n",
       "      <td>0.003030</td>\n",
       "      <td>0.07</td>\n",
       "    </tr>\n",
       "    <tr>\n",
       "      <th>3</th>\n",
       "      <td>0.002727</td>\n",
       "      <td>0.07</td>\n",
       "    </tr>\n",
       "    <tr>\n",
       "      <th>4</th>\n",
       "      <td>0.018485</td>\n",
       "      <td>0.07</td>\n",
       "    </tr>\n",
       "    <tr>\n",
       "      <th>5</th>\n",
       "      <td>0.003333</td>\n",
       "      <td>0.07</td>\n",
       "    </tr>\n",
       "  </tbody>\n",
       "</table>\n",
       "</div>"
      ],
      "text/plain": [
       "   norm_price  norm_points\n",
       "1    0.003333         0.07\n",
       "2    0.003030         0.07\n",
       "3    0.002727         0.07\n",
       "4    0.018485         0.07\n",
       "5    0.003333         0.07"
      ]
     },
     "execution_count": 32,
     "metadata": {},
     "output_type": "execute_result"
    }
   ],
   "source": [
    "# Gathering normalized data to prepare for clustering\n",
    "clustering_norm_data = data.loc[:,['norm_price','norm_points']]\n",
    "clustering_norm_data.head()"
   ]
  },
  {
   "cell_type": "code",
   "execution_count": 33,
   "metadata": {},
   "outputs": [
    {
     "name": "stdout",
     "output_type": "stream",
     "text": [
      "\n",
      "\n",
      "Clusters:\n",
      "{0: 14687, 1: 13323, 2: 25809, 3: 12202, 4: 1130, 5: 24312, 6: 20090, 7: 5038}\n"
     ]
    }
   ],
   "source": [
    "# Through both graphs from the elbow curve, k=5 appears to be the elbow of the curve from our K-means analysis\n",
    "# Using GMM clustering on dataset based on points and price for each wine.\n",
    "\n",
    "n = 8\n",
    "\n",
    "gmm = mixture.GaussianMixture(n_components=n, random_state = 0).fit(clustering_norm_data)\n",
    "labels = gmm.predict(clustering_norm_data)\n",
    "\n",
    "print(\"\\n\\nClusters:\")\n",
    "label_count(labels)"
   ]
  },
  {
   "cell_type": "code",
   "execution_count": 34,
   "metadata": {},
   "outputs": [
    {
     "data": {
      "image/png": "[encoded data removed]",
      "text/plain": [
       "<Figure size 432x288 with 1 Axes>"
      ]
     },
     "metadata": {
      "needs_background": "light"
     },
     "output_type": "display_data"
    }
   ],
   "source": [
    "# Plotting results from k-means clustering based on points and price\n",
    "\n",
    "plt.scatter(data.loc[:,'norm_points'], data.loc[:,'norm_price'], c=labels, cmap='rainbow')    \n",
    "plt.show()"
   ]
  },
  {
   "cell_type": "code",
   "execution_count": 35,
   "metadata": {},
   "outputs": [
    {
     "name": "stdout",
     "output_type": "stream",
     "text": [
      "('\\nTop', 3, 'points', 'in each cluster')\n",
      "('\\nCluster ', 0)\n",
      "(88, 14687)\n",
      "('\\nCluster ', 1)\n",
      "(85, 7889)\n",
      "(84, 5434)\n",
      "('\\nCluster ', 2)\n",
      "(91, 9151)\n",
      "(92, 7337)\n",
      "(93, 4557)\n",
      "('\\nCluster ', 3)\n",
      "(89, 1484)\n",
      "(90, 1374)\n",
      "(92, 1257)\n",
      "('\\nCluster ', 4)\n",
      "(94, 230)\n",
      "(95, 216)\n",
      "(93, 154)\n",
      "('\\nCluster ', 5)\n",
      "(87, 13896)\n",
      "(86, 10416)\n",
      "('\\nCluster ', 6)\n",
      "(90, 10716)\n",
      "(89, 9374)\n",
      "('\\nCluster ', 7)\n",
      "(83, 2537)\n",
      "(82, 1555)\n",
      "(81, 601)\n",
      "('\\nTop', 3, 'price', 'in each cluster')\n",
      "('\\nCluster ', 0)\n",
      "(20.0, 1224)\n",
      "(25.0, 989)\n",
      "(15.0, 948)\n",
      "('\\nCluster ', 1)\n",
      "(10.0, 1279)\n",
      "(15.0, 1175)\n",
      "(12.0, 1124)\n",
      "('\\nCluster ', 2)\n",
      "(50.0, 2120)\n",
      "(60.0, 1597)\n",
      "(40.0, 1459)\n",
      "('\\nCluster ', 3)\n",
      "(75.0, 1005)\n",
      "(80.0, 841)\n",
      "(50.0, 763)\n",
      "('\\nCluster ', 4)\n",
      "(200.0, 93)\n",
      "(175.0, 79)\n",
      "(250.0, 51)\n",
      "('\\nCluster ', 5)\n",
      "(15.0, 2147)\n",
      "(20.0, 1881)\n",
      "(18.0, 1488)\n",
      "('\\nCluster ', 6)\n",
      "(20.0, 1664)\n",
      "(25.0, 1557)\n",
      "(30.0, 1290)\n",
      "('\\nCluster ', 7)\n",
      "(10.0, 543)\n",
      "(12.0, 442)\n",
      "(15.0, 424)\n"
     ]
    }
   ],
   "source": [
    "# Get top 3 points from each cluster formed\n",
    "get_top_x_per_cluster(3, 'points', data, labels, n)\n",
    "\n",
    "# Get top 3 price from each cluster formed\n",
    "get_top_x_per_cluster(3, 'price', data, labels, n)"
   ]
  },
  {
   "cell_type": "markdown",
   "metadata": {},
   "source": [
    "# Analysis - GMM with Normalized points and price\n",
    "Here, we cluster based on the normalized points and price of the wine for all type of wine from any location. Here the clusters are relatively well defined. They all have prices and points that seem to be in a similar range. There is a relationship between the price of the wine and the rating, as shown by the clusters. We can observe here that more expensive wines generally have a higher rating than the cheaper wines. There seem to be a few outliers where some cheap wines have higher ratings and vice versa."
   ]
  },
  {
   "cell_type": "markdown",
   "metadata": {},
   "source": [
    "# Conclusion"
   ]
  },
  {
   "cell_type": "markdown",
   "metadata": {},
   "source": [
    "In conclusion at this point in the project,We ran our dataset using the GMM algorithm on various subsets and features of the data to observe which clusters made the most sense. After running GMM on the entire dataset we realized that California made up a lot of the data data so when we clustered based on province, variety, and vintage we found that 6/8 clusters all had California. Then we ran it again on the normalized data for province, variety, and variety similarily here again we noticed that the clusters all contain California and Washington because the dataset has high volume for these two provinces. After multiple attempts, we realized we get more meaning out of the the data when we use every Province except California as California was skewing the data. When we ran GMM on the normalized province, vintage, price, and points we got well defined clusters. These clusters showed that there is a realtionship between price and province. ",
    "\n","we have run our data set through data cleaning, normalization, to allow us to run K_Means, Agglomerative, and GMM clustering techniques. Do to the size of the dataset we were un able to run agglomerative clustering. However, looking at the clusters from K_Means and GMM we have gained some valuable insites about our data that helped us refine our perception of the data and what the data is able to tell us. Especially using GMM we relized that our data was heavily biased. Our dataset has about 28% of all data from Califorina. We were hoping to build a recommendation system that could help recommend a new upstart wine maker, what to set the sale price of thier new wine. We were hoping that based on number of different factors such as vintage, type of grape, location we could reliabily recommend what price to set the wine. We realized that becomes an issue because of the bias of the dataset to California. Using clusers majority of our data shows up in a cluser associated with California. Do to this, we relized that is order to get a reliable recommendation for locations that do not have such a large collection of data points, we needed to minimize the amount of data we have from California. By doing this we were able to get a better clustering from locations with less datapoints. We also noticed that while trying to look for correlations in the dataset, we need to start looking for latent variables that are not explicity called out in our dataset. We are currently working on looking for a second dataset that we can use to enrich our current dataset to try and optimize and improve the clusters. Overall, using GMM clustering looking at normalized price and points, we have nice correlation between price and location, which is important for the recommendation system."
   ]
  },
  {
   "cell_type": "code",
   "execution_count": null,
   "metadata": {},
   "outputs": [],
   "source": []
  }
 ],
 "metadata": {
  "kernelspec": {
   "display_name": "Python 2",
   "language": "python",
   "name": "python2"
  },
  "language_info": {
   "codemirror_mode": {
    "name": "ipython",
    "version": 2
   },
   "file_extension": ".py",
   "mimetype": "text/x-python",
   "name": "python",
   "nbconvert_exporter": "python",
   "pygments_lexer": "ipython2",
   "version": "2.7.10"
  }
 },
 "nbformat": 4,
 "nbformat_minor": 2
}
