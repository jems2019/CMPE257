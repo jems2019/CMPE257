{
 "cells": [
  {
   "cell_type": "code",
   "execution_count": 1,
   "metadata": {
    "collapsed": true
   },
   "outputs": [],
   "source": [
    "import pandas as pd\n",
    "import re"
   ]
  },
  {
   "cell_type": "code",
   "execution_count": 2,
   "metadata": {},
   "outputs": [],
   "source": [
    "df = pd.read_csv('/Users/matt/Downloads/wine-reviews/winemag-data-130k-v2.csv', sep=',')"
   ]
  },
  {
   "cell_type": "code",
   "execution_count": 3,
   "metadata": {},
   "outputs": [
    {
     "data": {
      "text/plain": [
       "0                         Nicosia 2013 Vulkà Bianco  (Etna)\n1             Quinta dos Avidagos 2011 Avidagos Red (Douro)\n2             Rainstorm 2013 Pinot Gris (Willamette Valley)\n3         St. Julian 2013 Reserve Late Harvest Riesling ...\n4         Sweet Cheeks 2012 Vintner's Reserve Wild Child...\n5         Tandem 2011 Ars In Vitro Tempranillo-Merlot (N...\n6          Terre di Giurfo 2013 Belsito Frappato (Vittoria)\n7                     Trimbach 2012 Gewurztraminer (Alsace)\n8         Heinz Eifel 2013 Shine Gewürztraminer (Rheinhe...\n9         Jean-Baptiste Adam 2012 Les Natures Pinot Gris...\n10        Kirkland Signature 2011 Mountain Cuvée Caberne...\n11                  Leon Beyer 2012 Gewurztraminer (Alsace)\n12        Louis M. Martini 2012 Cabernet Sauvignon (Alex...\n13                   Masseria Setteporte 2012 Rosso  (Etna)\n14                 Mirassou 2012 Chardonnay (Central Coast)\n15              Richard Böcking 2013 Devon Riesling (Mosel)\n16               Felix Lavaque 2010 Felix Malbec (Cafayate)\n17        Gaucho Andino 2011 Winemaker Selection Malbec ...\n18        Pradorey 2010 Vendimia Seleccionada Finca Vald...\n19                     Quiévremont 2012 Meritage (Virginia)\n20            Quiévremont 2012 Vin de Maison Red (Virginia)\n21                         Acrobat 2013 Pinot Noir (Oregon)\n22        Baglio di Pianetto 2007 Ficiligno White (Sicilia)\n23        Bianchi 2011 Signature Selection Merlot (Paso ...\n24              Canicattì 2009 Aynat Nero d'Avola (Sicilia)\n25        Castello di Amorosa 2011 King Ridge Vineyard P...\n26             Stemmari 2013 Dalila White (Terre Siciliane)\n27             Stemmari 2013 Nero d'Avola (Terre Siciliane)\n28        Terre di Giurfo 2011 Mascaria Barricato  (Cera...\n29        Clarksburg Wine Company 2010 Chenin Blanc (Cla...\n                                ...                        \n129941           Apriori 2013 Chardonnay (Mendocino County)\n129942     Arrowood 2010 Cabernet Sauvignon (Sonoma County)\n129943    Baglio del Cristo di Campobello 2012 Adènzia R...\n129944    Barkan 2011 Special Reserve Winemakers' Choice...\n129945    Birichino 2013 Jurassic Park Vineyard Old Vine...\n129946    Bischöfliche Weingüter Trier 2013 Dom Riesling...\n129947    Feudo Principi di Butera 2012 Symposio Red (Te...\n129948      Finca Las Moras 2010 Pedernal Malbec (San Juan)\n129949    Flora Springs 2013 Barrel Fermented Chardonnay...\n129950    Hendry 2012 Blocks 7 & 22 Zinfandel (Napa Valley)\n129951    Henri Schoenheitz 2012 Holder Gewurztraminer (...\n129952               Houdini 2011 Zinfandel (Chiles Valley)\n129953    Mills Reef 2011 Elspeth Cabernet Merlot (Hawke...\n129954      Ara 2013 Single Estate Pinot Gris (Marlborough)\n129955              Dog Point 2012 Chardonnay (Marlborough)\n129956    Esk Valley 2011 Gimblett Gravels Merlot-Cabern...\n129957             Viñedos Real Rubio 2010 Crianza  (Rioja)\n129958               Babich 2010 Irongate Red (Hawke's Bay)\n129959    Cave de Turckheim 2010 Brand Grand Cru Pinot G...\n129960    Caves Transmontanas 2006 Vértice Pinot Noir (D...\n129961                          COS 2013 Frappato (Sicilia)\n129962    Cusumano 2012 Sàgana Tenuta San Giacomo Nero d...\n129963    Dalton 2012 Oak Aged Cabernet Sauvignon (Galilee)\n129964    Domaine Ehrhart 2013 Domaine Saint-Rémy Herren...\n129965    Domaine Rieflé-Landmann 2013 Seppi Landmann Va...\n129966    Dr. H. Thanisch (Erben Müller-Burggraef) 2013 ...\n129967                    Citation 2004 Pinot Noir (Oregon)\n129968    Domaine Gresser 2013 Kritt Gewurztraminer (Als...\n129969        Domaine Marcel Deiss 2012 Pinot Gris (Alsace)\n129970    Domaine Schoffit 2012 Lieu-dit Harth Cuvée Car...\nName: title, Length: 129971, dtype: object"
      ]
     },
     "execution_count": 3,
     "metadata": {},
     "output_type": "execute_result"
    }
   ],
   "source": [
    "df['title']"
   ]
  },
  {
   "cell_type": "code",
   "execution_count": 4,
   "metadata": {},
   "outputs": [
    {
     "data": {
      "text/plain": [
       "array(['Sicily & Sardinia', 'Douro', 'Oregon', 'Michigan',\n       'Northern Spain', 'Alsace', 'Rheinhessen', 'California', 'Mosel',\n       'Other', 'Mendoza Province', 'Virginia', 'Beaujolais',\n       'Colchagua Valley', 'Southern Italy', 'Maule Valley', 'Bordeaux',\n       'Maipo Valley', 'Washington', 'Central Italy', 'Champagne',\n       'Burgundy', 'South Australia', 'Tejo', 'Rapel Valley', 'Galicia',\n       'France Other', 'Tuscany', 'Burgenland', 'New York',\n       'Leyda Valley', 'Piedmont', 'Stellenbosch',\n       'Simonsberg-Stellenbosch', 'Walker Bay', 'Alentejano',\n       'Central Spain', 'Southwest France', 'Aconcagua Valley',\n       'Loncomilla Valley', 'Marlborough', 'Northeastern Italy',\n       'Casablanca Valley', 'Veneto', 'Western Cape', 'Judean Hills',\n       'Alentejo', 'Coastal Region', 'Rh\\xc3\\xb4ne Valley', 'Galilee',\n       'Beira Atlantico', 'Tokaj', 'Leithaberg', 'Santorini', 'Kremstal',\n       'Catalonia', 'Recas', \"Hawke's Bay\", 'Curic\\xc3\\xb3 Valley',\n       'Limar\\xc3\\xad Valley', 'Colchagua Costa', 'Languedoc-Roussillon',\n       'Provence', 'Victoria', 'Rheingau', 'Tokaji', 'Naoussa',\n       'Valle de Guadalupe', 'Central Valley', 'Lontu\\xc3\\xa9 Valley',\n       'Italy Other', 'Weinviertel', 'Thermenregion',\n       'Nieder\\xc3\\xb6sterreich', 'Wagram', 'Loire Valley', 'Lombardy',\n       'Ontario', '\\xc3\\x96sterreichischer Sekt', 'Kamptal', 'Steiermark',\n       'S\\xc3\\xbcdsteiermark', 'Crete', 'Vinho Verde', 'Idaho',\n       'Western Australia', 'Levante', 'Martinborough', 'Central Otago',\n       'Lisboa', 'Texas', 'Pen\\xc3\\xadnsula de Set\\xc3\\xbabal',\n       'Australia Other', 'Tasmania', 'Franken', 'Ahr', 'Nahe', nan,\n       'Dealu Mare', 'Port', 'Darling', 'Chile',\n       'S\\xc3\\xbcdoststeiermark', 'Corinth', 'Halkidiki', 'Thrace',\n       'Pfalz', 'Robertson', 'Dan', 'Northwestern Italy', 'Andalucia',\n       'Awatere Valley', 'Wiener Gemischter Satz', 'Wachau',\n       'Pennsylvania', 'Swartland', 'D\\xc3\\xa3o', 'Wagram-Donauland',\n       'Rio Claro', 'Vill\\xc3\\xa1ny', 'Cachapoal Valley', 'Jidvei',\n       'America', 'Traisental', 'Bairrada', 'Negev Hills', 'Ribatejano',\n       'Duriense', 'New Jersey', 'Beiras', 'Spanish Islands',\n       'Upper Galilee', 'Vinho Espumante', 'Epanomi', 'Nemea',\n       'Peloponnese', 'Aconcagua Costa', 'Moravia', 'Slovenia',\n       'Terras do D\\xc3\\xa3o', 'Beira Interior', 'Panciu',\n       'B\\xc3\\xado B\\xc3\\xado Valley', 'Romania', 'Portuguese Table Wine',\n       'Minho', 'Missouri', 'New Mexico', 'Nevada', 'Bucelas', 'Peumo',\n       'San Antonio', 'Carnuntum', 'Estremadura', 'Canterbury',\n       'Spain Other', 'Drama', 'Ella Valley', 'Moselle Luxembourgeoise',\n       'W\\xc3\\xbcrttemberg', 'Baden', 'Pangeon', 'Elqui Valley',\n       'Wairau Valley', 'Istria', 'Peljesac', 'Kakheti', 'Canelones',\n       'England', 'Marchigue', 'Paarl', 'Durbanville',\n       'Weinland \\xc3\\x96sterreich', 'Mantinia', 'Chalkidiki', 'Lebanon',\n       'Setubal', 'Mosel-Saar-Ruwer', 'Colorado', 'Pocerina',\n       'British Columbia', 'Puente Alto', 'Kumeu',\n       'Tr\\xc3\\xa1s-os-Montes', 'Shomron', 'Rapsani', 'Vienna',\n       'New South Wales', 'Nelson', 'Waipara Valley', 'Constantia',\n       'Arizona', 'Pinto Bandeira', 'Primorska', 'Moldova', 'Uruguay',\n       'Zenata', 'South Africa', 'Massachusetts', 'Ohio', 'Ica',\n       'San Vicente', 'Nashik', 'Franschhoek', 'South Island',\n       'Atlantida', 'Thracian Valley', 'Tarnave', 'Vipavska Dolina',\n       'Bekaa Valley', 'Elgin', 'Itata Valley', 'Table wine', 'Samson',\n       'Madeira', 'Cyprus', 'Pageon', 'Vinho Espumante de Qualidade',\n       'Wellington', 'Danube River Plains', 'Gisborne', 'Obidos',\n       'Wairarapa', 'Armenia', 'Santa Cruz', 'Kor\\xc4\\x8dula',\n       'Viile Timisului', 'Illinois', 'Aegean', 'Simonsberg-Paarl',\n       'Juanico', 'Black Sea Coastal', 'Santa Catarina', 'Overberg',\n       'Atalanti Valley', 'Sebes', 'Moscatel de Set\\xc3\\xbabal',\n       'Macedonia', 'Ribatejo', 'Germany', 'Palmela', 'Galil', 'Kras',\n       'Croatia', 'Waipara', 'Olifants River', 'Montevideo', 'Campanha',\n       'Israel', 'Neusiedlersee', 'Hungary', 'Lolol Valley',\n       'Cauquenes Valley', 'Groenekloof', 'Alenquer', 'Goriska Brda',\n       'Murfatlar', 'Moscatel do Douro', 'Washington-Oregon',\n       'New Zealand', 'Serra Ga\\xc3\\xbacha', 'San Jose',\n       'Vale dos Vinhedos', 'Mittelburgenland', 'Lutzville Valley',\n       'North Carolina', 'Apalta', 'Malleco', 'Guerrouane', 'Valais',\n       'Choapa Valley', 'Georgia', 'Ankara', 'Samos', 'Mittelrhein',\n       'Eisenberg', 'Sagrada Familia', 'Austria', 'Mostar', 'Iowa',\n       'Tulbagh', 'Cederberg', 'Hemel en Aarde', 'Ceres Plateau',\n       'Bot River', 'Patras', 'Korinthia', 'Greece', 'San Clemente',\n       'Podunavlje', 'Florina', 'Buin', 'Haut-Jude\\xc3\\xa9', 'Ukraine',\n       'Terras do Sado', 'Maipo Valley-Colchagua Valley', 'Brazil',\n       'Breedekloof', 'Leyda Valley-Maipo Valley', 'Vermont',\n       'Switzerland', 'Waitaki Valley', 'Eger', 'Golan Heights',\n       'Fru\\xc5\\xa1ka Gora', 'Philadelphia', 'Muzla', 'M\\xc3\\xa1tra',\n       'Pirque', 'Negev', 'Pitsilia Mountains', 'East Coast',\n       'Mavrodaphne of Patras', 'Attica', 'Progreso',\n       'Elaz\\xc4\\xb1\\xc4\\x9f-Diyarbakir', 'Jonkershoek Valley', 'Tikves',\n       'Vale Trentino', 'Turkey', 'Waiheke Island', 'Molina',\n       'Serra do Sudeste', 'Dalmatian Coast', 'Eilandia',\n       'Dealurile Munteniei', 'Thraki', 'Curic\\xc3\\xb3 and Maipo Valleys',\n       '\\xc5\\xa0tajerska', 'Middle and South Dalmatia', 'Kentucky',\n       '\\xc5\\xbdupa', 'Pafos', 'Monemvasia', 'Szeksz\\xc3\\xa1rd',\n       'Elaz\\xc4\\xb1\\xc4\\x9f', 'Cappadocia', 'Kutjevo', 'Ismarikos',\n       'Connecticut', 'Sithonia', 'Curic\\xc3\\xb3 and Leyda Valleys',\n       'Agioritikos', 'Casablanca-Curic\\xc3\\xb3 Valley',\n       'Piekenierskloof', 'Elim', 'Malgas', 'Beotia', 'Algarve',\n       'Retsina', 'Amindeo', 'Coelemu', 'Cape South Coast', 'Sopron',\n       'Bulgaria', 'North Dalmatia', 'Northern Cape', 'Vinho da Mesa',\n       'Hvar', 'Cephalonia', 'Lemesos', 'Cahul', 'Cyclades',\n       'Breede River Valley', 'Ticino', 'Vlootenburg', 'Brda',\n       'Dinga\\xc4\\x8d', 'Morocco', 'Achaia', 'Polkadraai Hills',\n       'Rhode Island', 'Amyndeon', 'V\\xc3\\xa2nju Mare',\n       'Hrvatsko Primorje', 'Central Greece', 'Dolenjska',\n       '\\xc3\\x96sterreichischer Perlwein', 'Requinoa',\n       'Mavrodaphne de Cephalonie', 'Goumenissa', 'Portugal', 'Messinia',\n       'Lakonia', 'Markopoulo', 'Vinho Licoroso', 'Paardeberg',\n       'San Antonio de las Minas Valley', 'Krania Olympus', 'Corinthia',\n       'Slovenska Istra', 'Commandaria', 'Gladstone', 'Jerusalem Hills',\n       'Mount Athos', 'Colares', 'Helderberg',\n       'Casablanca & Leyda Valleys', 'Dealurile Hu\\xc8\\x99ilor',\n       'Urla-Thrace', 'S\\xc3\\xbcdburgenland', 'Cape Peninsula',\n       'Codru Region', 'Sterea Ellada', 'Muscat of Patras', 'Imathia',\n       'Alenteo', 'Canada Other', 'Letrinon', 'Muscat of Kefallonian',\n       'Thessalikos', 'Hawaii', 'China', 'Limnos', 'Egypt', 'Viile Timis',\n       'Devon Valley', 'Krk', 'Arcadia', 'Cape Agulhas', 'Kathikas',\n       'Vin de Pays de Velvendo', 'Landwein Rhein', 'Lesbos',\n       'T\\xc3\\xa1vora-Varosa', 'Neuch\\xc3\\xa2tel'], dtype=object)"
      ]
     },
     "execution_count": 4,
     "metadata": {},
     "output_type": "execute_result"
    }
   ],
   "source": [
    "df.province.unique()"
   ]
  },
  {
   "cell_type": "code",
   "execution_count": 5,
   "metadata": {},
   "outputs": [
    {
     "data": {
      "text/plain": [
       "426"
      ]
     },
     "execution_count": 5,
     "metadata": {},
     "output_type": "execute_result"
    }
   ],
   "source": [
    "len(df.province.unique())"
   ]
  },
  {
   "cell_type": "code",
   "execution_count": 6,
   "metadata": {},
   "outputs": [
    {
     "data": {
      "text/plain": [
       "63"
      ]
     },
     "execution_count": 6,
     "metadata": {},
     "output_type": "execute_result"
    }
   ],
   "source": [
    "df.province.isna().sum()\n",
    "df.province.isnull().sum()"
   ]
  },
  {
   "cell_type": "code",
   "execution_count": 7,
   "metadata": {},
   "outputs": [
    {
     "data": {
      "text/plain": [
       "array(['Sicily & Sardinia', 'Douro', 'Oregon', 'Michigan',\n       'Northern Spain', 'Alsace', 'Rheinhessen', 'California', 'Mosel',\n       'Other', 'Mendoza Province', 'Virginia', 'Beaujolais',\n       'Colchagua Valley', 'Southern Italy', 'Maule Valley', 'Bordeaux',\n       'Maipo Valley', 'Washington', 'Central Italy', 'Champagne',\n       'Burgundy', 'South Australia', 'Tejo', 'Rapel Valley', 'Galicia',\n       'France Other', 'Tuscany', 'Burgenland', 'New York',\n       'Leyda Valley', 'Piedmont', 'Stellenbosch',\n       'Simonsberg-Stellenbosch', 'Walker Bay', 'Alentejano',\n       'Central Spain', 'Southwest France', 'Aconcagua Valley',\n       'Loncomilla Valley', 'Marlborough', 'Northeastern Italy',\n       'Casablanca Valley', 'Veneto', 'Western Cape', 'Judean Hills',\n       'Alentejo', 'Coastal Region', 'Rh\\xc3\\xb4ne Valley', 'Galilee',\n       'Beira Atlantico', 'Tokaj', 'Leithaberg', 'Santorini', 'Kremstal',\n       'Catalonia', 'Recas', \"Hawke's Bay\", 'Curic\\xc3\\xb3 Valley',\n       'Limar\\xc3\\xad Valley', 'Colchagua Costa', 'Languedoc-Roussillon',\n       'Provence', 'Victoria', 'Rheingau', 'Tokaji', 'Naoussa',\n       'Valle de Guadalupe', 'Central Valley', 'Lontu\\xc3\\xa9 Valley',\n       'Italy Other', 'Weinviertel', 'Thermenregion',\n       'Nieder\\xc3\\xb6sterreich', 'Wagram', 'Loire Valley', 'Lombardy',\n       'Ontario', '\\xc3\\x96sterreichischer Sekt', 'Kamptal', 'Steiermark',\n       'S\\xc3\\xbcdsteiermark', 'Crete', 'Vinho Verde', 'Idaho',\n       'Western Australia', 'Levante', 'Martinborough', 'Central Otago',\n       'Lisboa', 'Texas', 'Pen\\xc3\\xadnsula de Set\\xc3\\xbabal',\n       'Australia Other', 'Tasmania', 'Franken', 'Ahr', 'Nahe', nan,\n       'Dealu Mare', 'Port', 'Darling', 'Chile',\n       'S\\xc3\\xbcdoststeiermark', 'Corinth', 'Halkidiki', 'Thrace',\n       'Pfalz', 'Robertson', 'Dan', 'Northwestern Italy', 'Andalucia',\n       'Awatere Valley', 'Wiener Gemischter Satz', 'Wachau',\n       'Pennsylvania', 'Swartland', 'D\\xc3\\xa3o', 'Wagram-Donauland',\n       'Rio Claro', 'Vill\\xc3\\xa1ny', 'Cachapoal Valley', 'Jidvei',\n       'America', 'Traisental', 'Bairrada', 'Negev Hills', 'Ribatejano',\n       'Duriense', 'New Jersey', 'Beiras', 'Spanish Islands',\n       'Upper Galilee', 'Vinho Espumante', 'Epanomi', 'Nemea',\n       'Peloponnese', 'Aconcagua Costa', 'Moravia', 'Slovenia',\n       'Terras do D\\xc3\\xa3o', 'Beira Interior', 'Panciu',\n       'B\\xc3\\xado B\\xc3\\xado Valley', 'Romania', 'Portuguese Table Wine',\n       'Minho', 'Missouri', 'New Mexico', 'Nevada', 'Bucelas', 'Peumo',\n       'San Antonio', 'Carnuntum', 'Estremadura', 'Canterbury',\n       'Spain Other', 'Drama', 'Ella Valley', 'Moselle Luxembourgeoise',\n       'W\\xc3\\xbcrttemberg', 'Baden', 'Pangeon', 'Elqui Valley',\n       'Wairau Valley', 'Istria', 'Peljesac', 'Kakheti', 'Canelones',\n       'England', 'Marchigue', 'Paarl', 'Durbanville',\n       'Weinland \\xc3\\x96sterreich', 'Mantinia', 'Chalkidiki', 'Lebanon',\n       'Setubal', 'Mosel-Saar-Ruwer', 'Colorado', 'Pocerina',\n       'British Columbia', 'Puente Alto', 'Kumeu',\n       'Tr\\xc3\\xa1s-os-Montes', 'Shomron', 'Rapsani', 'Vienna',\n       'New South Wales', 'Nelson', 'Waipara Valley', 'Constantia',\n       'Arizona', 'Pinto Bandeira', 'Primorska', 'Moldova', 'Uruguay',\n       'Zenata', 'South Africa', 'Massachusetts', 'Ohio', 'Ica',\n       'San Vicente', 'Nashik', 'Franschhoek', 'South Island',\n       'Atlantida', 'Thracian Valley', 'Tarnave', 'Vipavska Dolina',\n       'Bekaa Valley', 'Elgin', 'Itata Valley', 'Table wine', 'Samson',\n       'Madeira', 'Cyprus', 'Pageon', 'Vinho Espumante de Qualidade',\n       'Wellington', 'Danube River Plains', 'Gisborne', 'Obidos',\n       'Wairarapa', 'Armenia', 'Santa Cruz', 'Kor\\xc4\\x8dula',\n       'Viile Timisului', 'Illinois', 'Aegean', 'Simonsberg-Paarl',\n       'Juanico', 'Black Sea Coastal', 'Santa Catarina', 'Overberg',\n       'Atalanti Valley', 'Sebes', 'Moscatel de Set\\xc3\\xbabal',\n       'Macedonia', 'Ribatejo', 'Germany', 'Palmela', 'Galil', 'Kras',\n       'Croatia', 'Waipara', 'Olifants River', 'Montevideo', 'Campanha',\n       'Israel', 'Neusiedlersee', 'Hungary', 'Lolol Valley',\n       'Cauquenes Valley', 'Groenekloof', 'Alenquer', 'Goriska Brda',\n       'Murfatlar', 'Moscatel do Douro', 'Washington-Oregon',\n       'New Zealand', 'Serra Ga\\xc3\\xbacha', 'San Jose',\n       'Vale dos Vinhedos', 'Mittelburgenland', 'Lutzville Valley',\n       'North Carolina', 'Apalta', 'Malleco', 'Guerrouane', 'Valais',\n       'Choapa Valley', 'Georgia', 'Ankara', 'Samos', 'Mittelrhein',\n       'Eisenberg', 'Sagrada Familia', 'Austria', 'Mostar', 'Iowa',\n       'Tulbagh', 'Cederberg', 'Hemel en Aarde', 'Ceres Plateau',\n       'Bot River', 'Patras', 'Korinthia', 'Greece', 'San Clemente',\n       'Podunavlje', 'Florina', 'Buin', 'Haut-Jude\\xc3\\xa9', 'Ukraine',\n       'Terras do Sado', 'Maipo Valley-Colchagua Valley', 'Brazil',\n       'Breedekloof', 'Leyda Valley-Maipo Valley', 'Vermont',\n       'Switzerland', 'Waitaki Valley', 'Eger', 'Golan Heights',\n       'Fru\\xc5\\xa1ka Gora', 'Philadelphia', 'Muzla', 'M\\xc3\\xa1tra',\n       'Pirque', 'Negev', 'Pitsilia Mountains', 'East Coast',\n       'Mavrodaphne of Patras', 'Attica', 'Progreso',\n       'Elaz\\xc4\\xb1\\xc4\\x9f-Diyarbakir', 'Jonkershoek Valley', 'Tikves',\n       'Vale Trentino', 'Turkey', 'Waiheke Island', 'Molina',\n       'Serra do Sudeste', 'Dalmatian Coast', 'Eilandia',\n       'Dealurile Munteniei', 'Thraki', 'Curic\\xc3\\xb3 and Maipo Valleys',\n       '\\xc5\\xa0tajerska', 'Middle and South Dalmatia', 'Kentucky',\n       '\\xc5\\xbdupa', 'Pafos', 'Monemvasia', 'Szeksz\\xc3\\xa1rd',\n       'Elaz\\xc4\\xb1\\xc4\\x9f', 'Cappadocia', 'Kutjevo', 'Ismarikos',\n       'Connecticut', 'Sithonia', 'Curic\\xc3\\xb3 and Leyda Valleys',\n       'Agioritikos', 'Casablanca-Curic\\xc3\\xb3 Valley',\n       'Piekenierskloof', 'Elim', 'Malgas', 'Beotia', 'Algarve',\n       'Retsina', 'Amindeo', 'Coelemu', 'Cape South Coast', 'Sopron',\n       'Bulgaria', 'North Dalmatia', 'Northern Cape', 'Vinho da Mesa',\n       'Hvar', 'Cephalonia', 'Lemesos', 'Cahul', 'Cyclades',\n       'Breede River Valley', 'Ticino', 'Vlootenburg', 'Brda',\n       'Dinga\\xc4\\x8d', 'Morocco', 'Achaia', 'Polkadraai Hills',\n       'Rhode Island', 'Amyndeon', 'V\\xc3\\xa2nju Mare',\n       'Hrvatsko Primorje', 'Central Greece', 'Dolenjska',\n       '\\xc3\\x96sterreichischer Perlwein', 'Requinoa',\n       'Mavrodaphne de Cephalonie', 'Goumenissa', 'Portugal', 'Messinia',\n       'Lakonia', 'Markopoulo', 'Vinho Licoroso', 'Paardeberg',\n       'San Antonio de las Minas Valley', 'Krania Olympus', 'Corinthia',\n       'Slovenska Istra', 'Commandaria', 'Gladstone', 'Jerusalem Hills',\n       'Mount Athos', 'Colares', 'Helderberg',\n       'Casablanca & Leyda Valleys', 'Dealurile Hu\\xc8\\x99ilor',\n       'Urla-Thrace', 'S\\xc3\\xbcdburgenland', 'Cape Peninsula',\n       'Codru Region', 'Sterea Ellada', 'Muscat of Patras', 'Imathia',\n       'Alenteo', 'Canada Other', 'Letrinon', 'Muscat of Kefallonian',\n       'Thessalikos', 'Hawaii', 'China', 'Limnos', 'Egypt', 'Viile Timis',\n       'Devon Valley', 'Krk', 'Arcadia', 'Cape Agulhas', 'Kathikas',\n       'Vin de Pays de Velvendo', 'Landwein Rhein', 'Lesbos',\n       'T\\xc3\\xa1vora-Varosa', 'Neuch\\xc3\\xa2tel'], dtype=object)"
      ]
     },
     "execution_count": 7,
     "metadata": {},
     "output_type": "execute_result"
    }
   ],
   "source": [
    "df.province.unique()\n"
   ]
  },
  {
   "cell_type": "code",
   "execution_count": 8,
   "metadata": {},
   "outputs": [],
   "source": [
    "ref_dict = {}\n",
    "for i, x in enumerate(df.province.unique()):\n",
    "    ref_dict.update({x: i})"
   ]
  },
  {
   "cell_type": "code",
   "execution_count": 9,
   "metadata": {},
   "outputs": [],
   "source": [
    "# df['province'].dropna(inplace=True)\n",
    "df['province'].replace(to_replace=ref_dict,inplace=True,)"
   ]
  },
  {
   "cell_type": "code",
   "execution_count": 10,
   "metadata": {},
   "outputs": [
    {
     "data": {
      "text/plain": [
       "0          0\n1          1\n2          2\n3          3\n4          2\n5          4\n6          0\n7          5\n8          6\n9          5\n10         7\n11         5\n12         7\n13         0\n14         7\n15         8\n16         9\n17        10\n18         4\n19        11\n20        11\n21         2\n22         0\n23         7\n24         0\n25         7\n26         0\n27         0\n28         0\n29         7\n          ..\n129941     7\n129942     7\n129943     0\n129944    49\n129945     7\n129946     8\n129947     0\n129948     9\n129949     7\n129950     7\n129951     5\n129952     7\n129953    57\n129954    40\n129955    40\n129956    57\n129957     4\n129958    57\n129959     5\n129960     1\n129961     0\n129962     0\n129963    49\n129964     5\n129965     5\n129966     8\n129967     2\n129968     5\n129969     5\n129970     5\nName: province, Length: 129971, dtype: int64"
      ]
     },
     "execution_count": 10,
     "metadata": {},
     "output_type": "execute_result"
    }
   ],
   "source": [
    "df.province"
   ]
  },
  {
   "cell_type": "code",
   "execution_count": 11,
   "metadata": {},
   "outputs": [
    {
     "data": {
      "text/plain": [
       "{nan: 97,\n 'Achaia': 369,\n 'Aconcagua Costa': 136,\n 'Aconcagua Valley': 38,\n 'Aegean': 228,\n 'Agioritikos': 342,\n 'Ahr': 95,\n 'Alenquer': 254,\n 'Alentejano': 35,\n 'Alentejo': 46,\n 'Alenteo': 406,\n 'Algarve': 348,\n 'Alsace': 5,\n 'America': 122,\n 'Amindeo': 350,\n 'Amyndeon': 372,\n 'Andalucia': 110,\n 'Ankara': 272,\n 'Apalta': 266,\n 'Arcadia': 418,\n 'Arizona': 191,\n 'Armenia': 223,\n 'Atalanti Valley': 234,\n 'Atlantida': 205,\n 'Attica': 313,\n 'Australia Other': 92,\n 'Austria': 277,\n 'Awatere Valley': 111,\n 'Baden': 160,\n 'Bairrada': 124,\n 'Beaujolais': 12,\n 'Beira Atlantico': 50,\n 'Beira Interior': 140,\n 'Beiras': 129,\n 'Bekaa Valley': 209,\n 'Beotia': 347,\n 'Black Sea Coastal': 231,\n 'Bordeaux': 16,\n 'Bot River': 284,\n 'Brazil': 296,\n 'Brda': 366,\n 'Breede River Valley': 363,\n 'Breedekloof': 297,\n 'British Columbia': 180,\n 'Bucelas': 149,\n 'Buin': 291,\n 'Bulgaria': 354,\n 'Burgenland': 28,\n 'Burgundy': 21,\n 'B\\xc3\\xado B\\xc3\\xado Valley': 142,\n 'Cachapoal Valley': 120,\n 'Cahul': 361,\n 'California': 7,\n 'Campanha': 247,\n 'Canada Other': 407,\n 'Canelones': 167,\n 'Canterbury': 154,\n 'Cape Agulhas': 419,\n 'Cape Peninsula': 401,\n 'Cape South Coast': 352,\n 'Cappadocia': 336,\n 'Carnuntum': 152,\n 'Casablanca & Leyda Valleys': 397,\n 'Casablanca Valley': 42,\n 'Casablanca-Curic\\xc3\\xb3 Valley': 343,\n 'Catalonia': 55,\n 'Cauquenes Valley': 252,\n 'Cederberg': 281,\n 'Central Greece': 375,\n 'Central Italy': 19,\n 'Central Otago': 88,\n 'Central Spain': 36,\n 'Central Valley': 68,\n 'Cephalonia': 359,\n 'Ceres Plateau': 283,\n 'Chalkidiki': 174,\n 'Champagne': 20,\n 'Chile': 101,\n 'China': 412,\n 'Choapa Valley': 270,\n 'Coastal Region': 47,\n 'Codru Region': 402,\n 'Coelemu': 351,\n 'Colares': 395,\n 'Colchagua Costa': 60,\n 'Colchagua Valley': 13,\n 'Colorado': 178,\n 'Commandaria': 391,\n 'Connecticut': 339,\n 'Constantia': 190,\n 'Corinth': 103,\n 'Corinthia': 389,\n 'Crete': 82,\n 'Croatia': 243,\n 'Curic\\xc3\\xb3 Valley': 58,\n 'Curic\\xc3\\xb3 and Leyda Valleys': 341,\n 'Curic\\xc3\\xb3 and Maipo Valleys': 327,\n 'Cyclades': 362,\n 'Cyprus': 215,\n 'Dalmatian Coast': 323,\n 'Dan': 108,\n 'Danube River Plains': 219,\n 'Darling': 100,\n 'Dealu Mare': 98,\n 'Dealurile Hu\\xc8\\x99ilor': 398,\n 'Dealurile Munteniei': 325,\n 'Devon Valley': 416,\n 'Dinga\\xc4\\x8d': 367,\n 'Dolenjska': 376,\n 'Douro': 1,\n 'Drama': 156,\n 'Durbanville': 171,\n 'Duriense': 127,\n 'D\\xc3\\xa3o': 116,\n 'East Coast': 311,\n 'Eger': 302,\n 'Egypt': 414,\n 'Eilandia': 324,\n 'Eisenberg': 275,\n 'Elaz\\xc4\\xb1\\xc4\\x9f': 335,\n 'Elaz\\xc4\\xb1\\xc4\\x9f-Diyarbakir': 315,\n 'Elgin': 210,\n 'Elim': 345,\n 'Ella Valley': 157,\n 'Elqui Valley': 162,\n 'England': 168,\n 'Epanomi': 133,\n 'Estremadura': 153,\n 'Florina': 290,\n 'France Other': 26,\n 'Franken': 94,\n 'Franschhoek': 203,\n 'Fru\\xc5\\xa1ka Gora': 304,\n 'Galicia': 25,\n 'Galil': 241,\n 'Galilee': 49,\n 'Georgia': 271,\n 'Germany': 239,\n 'Gisborne': 220,\n 'Gladstone': 392,\n 'Golan Heights': 303,\n 'Goriska Brda': 255,\n 'Goumenissa': 380,\n 'Greece': 287,\n 'Groenekloof': 253,\n 'Guerrouane': 268,\n 'Halkidiki': 104,\n 'Haut-Jude\\xc3\\xa9': 292,\n 'Hawaii': 411,\n \"Hawke's Bay\": 57,\n 'Helderberg': 396,\n 'Hemel en Aarde': 282,\n 'Hrvatsko Primorje': 374,\n 'Hungary': 250,\n 'Hvar': 358,\n 'Ica': 200,\n 'Idaho': 84,\n 'Illinois': 227,\n 'Imathia': 405,\n 'Iowa': 279,\n 'Ismarikos': 338,\n 'Israel': 248,\n 'Istria': 164,\n 'Italy Other': 70,\n 'Itata Valley': 211,\n 'Jerusalem Hills': 393,\n 'Jidvei': 121,\n 'Jonkershoek Valley': 316,\n 'Juanico': 230,\n 'Judean Hills': 45,\n 'Kakheti': 166,\n 'Kamptal': 79,\n 'Kathikas': 420,\n 'Kentucky': 330,\n 'Korinthia': 286,\n 'Kor\\xc4\\x8dula': 225,\n 'Krania Olympus': 388,\n 'Kras': 242,\n 'Kremstal': 54,\n 'Krk': 417,\n 'Kumeu': 182,\n 'Kutjevo': 337,\n 'Lakonia': 383,\n 'Landwein Rhein': 422,\n 'Languedoc-Roussillon': 61,\n 'Lebanon': 175,\n 'Leithaberg': 52,\n 'Lemesos': 360,\n 'Lesbos': 423,\n 'Letrinon': 408,\n 'Levante': 86,\n 'Leyda Valley': 30,\n 'Leyda Valley-Maipo Valley': 298,\n 'Limar\\xc3\\xad Valley': 59,\n 'Limnos': 413,\n 'Lisboa': 89,\n 'Loire Valley': 75,\n 'Lolol Valley': 251,\n 'Lombardy': 76,\n 'Loncomilla Valley': 39,\n 'Lontu\\xc3\\xa9 Valley': 69,\n 'Lutzville Valley': 264,\n 'Macedonia': 237,\n 'Madeira': 214,\n 'Maipo Valley': 17,\n 'Maipo Valley-Colchagua Valley': 295,\n 'Malgas': 346,\n 'Malleco': 267,\n 'Mantinia': 173,\n 'Marchigue': 169,\n 'Markopoulo': 384,\n 'Marlborough': 40,\n 'Martinborough': 87,\n 'Massachusetts': 198,\n 'Maule Valley': 15,\n 'Mavrodaphne de Cephalonie': 379,\n 'Mavrodaphne of Patras': 312,\n 'Mendoza Province': 10,\n 'Messinia': 382,\n 'Michigan': 3,\n 'Middle and South Dalmatia': 329,\n 'Minho': 145,\n 'Missouri': 146,\n 'Mittelburgenland': 263,\n 'Mittelrhein': 274,\n 'Moldova': 194,\n 'Molina': 321,\n 'Monemvasia': 333,\n 'Montevideo': 246,\n 'Moravia': 137,\n 'Morocco': 368,\n 'Moscatel de Set\\xc3\\xbabal': 236,\n 'Moscatel do Douro': 257,\n 'Mosel': 8,\n 'Mosel-Saar-Ruwer': 177,\n 'Moselle Luxembourgeoise': 158,\n 'Mostar': 278,\n 'Mount Athos': 394,\n 'Murfatlar': 256,\n 'Muscat of Kefallonian': 409,\n 'Muscat of Patras': 404,\n 'Muzla': 306,\n 'M\\xc3\\xa1tra': 307,\n 'Nahe': 96,\n 'Naoussa': 66,\n 'Nashik': 202,\n 'Negev': 309,\n 'Negev Hills': 125,\n 'Nelson': 188,\n 'Nemea': 134,\n 'Neuch\\xc3\\xa2tel': 425,\n 'Neusiedlersee': 249,\n 'Nevada': 148,\n 'New Jersey': 128,\n 'New Mexico': 147,\n 'New South Wales': 187,\n 'New York': 29,\n 'New Zealand': 259,\n 'Nieder\\xc3\\xb6sterreich': 73,\n 'North Carolina': 265,\n 'North Dalmatia': 355,\n 'Northeastern Italy': 41,\n 'Northern Cape': 356,\n 'Northern Spain': 4,\n 'Northwestern Italy': 109,\n 'Obidos': 221,\n 'Ohio': 199,\n 'Olifants River': 245,\n 'Ontario': 77,\n 'Oregon': 2,\n 'Other': 9,\n 'Overberg': 233,\n 'Paardeberg': 386,\n 'Paarl': 170,\n 'Pafos': 332,\n 'Pageon': 216,\n 'Palmela': 240,\n 'Panciu': 141,\n 'Pangeon': 161,\n 'Patras': 285,\n 'Peljesac': 165,\n 'Peloponnese': 135,\n 'Pennsylvania': 114,\n 'Pen\\xc3\\xadnsula de Set\\xc3\\xbabal': 91,\n 'Peumo': 150,\n 'Pfalz': 106,\n 'Philadelphia': 305,\n 'Piedmont': 31,\n 'Piekenierskloof': 344,\n 'Pinto Bandeira': 192,\n 'Pirque': 308,\n 'Pitsilia Mountains': 310,\n 'Pocerina': 179,\n 'Podunavlje': 289,\n 'Polkadraai Hills': 370,\n 'Port': 99,\n 'Portugal': 381,\n 'Portuguese Table Wine': 144,\n 'Primorska': 193,\n 'Progreso': 314,\n 'Provence': 62,\n 'Puente Alto': 181,\n 'Rapel Valley': 24,\n 'Rapsani': 185,\n 'Recas': 56,\n 'Requinoa': 378,\n 'Retsina': 349,\n 'Rheingau': 64,\n 'Rheinhessen': 6,\n 'Rhode Island': 371,\n 'Rh\\xc3\\xb4ne Valley': 48,\n 'Ribatejano': 126,\n 'Ribatejo': 238,\n 'Rio Claro': 118,\n 'Robertson': 107,\n 'Romania': 143,\n 'Sagrada Familia': 276,\n 'Samos': 273,\n 'Samson': 213,\n 'San Antonio': 151,\n 'San Antonio de las Minas Valley': 387,\n 'San Clemente': 288,\n 'San Jose': 261,\n 'San Vicente': 201,\n 'Santa Catarina': 232,\n 'Santa Cruz': 224,\n 'Santorini': 53,\n 'Sebes': 235,\n 'Serra Ga\\xc3\\xbacha': 260,\n 'Serra do Sudeste': 322,\n 'Setubal': 176,\n 'Shomron': 184,\n 'Sicily & Sardinia': 0,\n 'Simonsberg-Paarl': 229,\n 'Simonsberg-Stellenbosch': 33,\n 'Sithonia': 340,\n 'Slovenia': 138,\n 'Slovenska Istra': 390,\n 'Sopron': 353,\n 'South Africa': 197,\n 'South Australia': 22,\n 'South Island': 204,\n 'Southern Italy': 14,\n 'Southwest France': 37,\n 'Spain Other': 155,\n 'Spanish Islands': 130,\n 'Steiermark': 80,\n 'Stellenbosch': 32,\n 'Sterea Ellada': 403,\n 'Swartland': 115,\n 'Switzerland': 300,\n 'Szeksz\\xc3\\xa1rd': 334,\n 'S\\xc3\\xbcdburgenland': 400,\n 'S\\xc3\\xbcdoststeiermark': 102,\n 'S\\xc3\\xbcdsteiermark': 81,\n 'Table wine': 212,\n 'Tarnave': 207,\n 'Tasmania': 93,\n 'Tejo': 23,\n 'Terras do D\\xc3\\xa3o': 139,\n 'Terras do Sado': 294,\n 'Texas': 90,\n 'Thermenregion': 72,\n 'Thessalikos': 410,\n 'Thrace': 105,\n 'Thracian Valley': 206,\n 'Thraki': 326,\n 'Ticino': 364,\n 'Tikves': 317,\n 'Tokaj': 51,\n 'Tokaji': 65,\n 'Traisental': 123,\n 'Tr\\xc3\\xa1s-os-Montes': 183,\n 'Tulbagh': 280,\n 'Turkey': 319,\n 'Tuscany': 27,\n 'T\\xc3\\xa1vora-Varosa': 424,\n 'Ukraine': 293,\n 'Upper Galilee': 131,\n 'Urla-Thrace': 399,\n 'Uruguay': 195,\n 'Valais': 269,\n 'Vale Trentino': 318,\n 'Vale dos Vinhedos': 262,\n 'Valle de Guadalupe': 67,\n 'Veneto': 43,\n 'Vermont': 299,\n 'Victoria': 63,\n 'Vienna': 186,\n 'Viile Timis': 415,\n 'Viile Timisului': 226,\n 'Vill\\xc3\\xa1ny': 119,\n 'Vin de Pays de Velvendo': 421,\n 'Vinho Espumante': 132,\n 'Vinho Espumante de Qualidade': 217,\n 'Vinho Licoroso': 385,\n 'Vinho Verde': 83,\n 'Vinho da Mesa': 357,\n 'Vipavska Dolina': 208,\n 'Virginia': 11,\n 'Vlootenburg': 365,\n 'V\\xc3\\xa2nju Mare': 373,\n 'Wachau': 113,\n 'Wagram': 74,\n 'Wagram-Donauland': 117,\n 'Waiheke Island': 320,\n 'Waipara': 244,\n 'Waipara Valley': 189,\n 'Wairarapa': 222,\n 'Wairau Valley': 163,\n 'Waitaki Valley': 301,\n 'Walker Bay': 34,\n 'Washington': 18,\n 'Washington-Oregon': 258,\n 'Weinland \\xc3\\x96sterreich': 172,\n 'Weinviertel': 71,\n 'Wellington': 218,\n 'Western Australia': 85,\n 'Western Cape': 44,\n 'Wiener Gemischter Satz': 112,\n 'W\\xc3\\xbcrttemberg': 159,\n 'Zenata': 196,\n '\\xc3\\x96sterreichischer Perlwein': 377,\n '\\xc3\\x96sterreichischer Sekt': 78,\n '\\xc5\\xa0tajerska': 328,\n '\\xc5\\xbdupa': 331}"
      ]
     },
     "execution_count": 11,
     "metadata": {},
     "output_type": "execute_result"
    }
   ],
   "source": [
    "ref_dict"
   ]
  },
  {
   "cell_type": "code",
   "execution_count": 12,
   "metadata": {},
   "outputs": [],
   "source": [
    "df['province'].to_csv('/Users/matt/Desktop/province_id.csv')"
   ]
  },
  {
   "cell_type": "code",
   "execution_count": null,
   "metadata": {},
   "outputs": [],
   "source": []
  }
 ],
 "metadata": {
  "kernelspec": {
   "display_name": "Python 2",
   "language": "python",
   "name": "python2"
  },
  "language_info": {
   "codemirror_mode": {
    "name": "ipython",
    "version": 2
   },
   "file_extension": ".py",
   "mimetype": "text/x-python",
   "name": "python",
   "nbconvert_exporter": "python",
   "pygments_lexer": "ipython2",
   "version": "2.7.6"
  }
 },
 "nbformat": 4,
 "nbformat_minor": 0
}
